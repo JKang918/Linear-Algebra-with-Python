{
 "cells": [
  {
   "cell_type": "markdown",
   "id": "59b03308-7646-4ada-9f4f-f579d0d7cbd9",
   "metadata": {},
   "source": [
    "# 0. Data Accuracy"
   ]
  },
  {
   "cell_type": "markdown",
   "id": "6d89955a-3a44-4b33-afc4-b2a9c29ede4d",
   "metadata": {},
   "source": [
    "For real numbers, float 64\n",
    "\n",
    "* ex) 0.1453e-15\n",
    "* $10^{-308}$ ~ $10^{308}$"
   ]
  },
  {
   "cell_type": "markdown",
   "id": "2c120274-6370-4d33-b0bd-6d8c5ef720e9",
   "metadata": {},
   "source": [
    "For complex numbers, complex128"
   ]
  },
  {
   "cell_type": "markdown",
   "id": "65251d1f-0b9f-4934-8d75-c32802ee8380",
   "metadata": {},
   "source": [
    "# 1. Vector and Matrix Representations"
   ]
  },
  {
   "cell_type": "code",
   "execution_count": 1,
   "id": "052656d9-c407-4312-aff2-22ffc8ab0142",
   "metadata": {},
   "outputs": [],
   "source": [
    "import numpy as np"
   ]
  },
  {
   "cell_type": "code",
   "execution_count": 2,
   "id": "5b6bdb15-b1c6-4910-affe-03ba236de0f5",
   "metadata": {},
   "outputs": [],
   "source": [
    "a = np.array([[1, 2, 5.3], [-1, -2, -1.5], [4, 5.5, 6]])"
   ]
  },
  {
   "cell_type": "code",
   "execution_count": 3,
   "id": "e38bf4b5-7859-4512-8d9e-1e16cf50d745",
   "metadata": {},
   "outputs": [
    {
     "name": "stdout",
     "output_type": "stream",
     "text": [
      "[[ 1.   2.   5.3]\n",
      " [-1.  -2.  -1.5]\n",
      " [ 4.   5.5  6. ]]\n"
     ]
    }
   ],
   "source": [
    "print(a)"
   ]
  },
  {
   "cell_type": "markdown",
   "id": "aceea013-55a8-4aa4-a19a-c5594b0bdeb5",
   "metadata": {},
   "source": [
    "$$\\mathbf{a} = \\begin{bmatrix} \n",
    "1 & 2 & 5.3 \\\\\n",
    "-1 & -2 & -1.5 \\\\\n",
    "4 & 5.5 & 6\n",
    "\\end{bmatrix}$$"
   ]
  },
  {
   "cell_type": "code",
   "execution_count": 4,
   "id": "d0f50951-4cfa-4c45-9fed-5795230c7e94",
   "metadata": {},
   "outputs": [],
   "source": [
    "b = np.array([4, 5, 6])"
   ]
  },
  {
   "cell_type": "code",
   "execution_count": 5,
   "id": "f087b8ad-5ce9-4511-80c4-af490be94521",
   "metadata": {},
   "outputs": [
    {
     "name": "stdout",
     "output_type": "stream",
     "text": [
      "[4 5 6]\n"
     ]
    }
   ],
   "source": [
    "print(b)"
   ]
  },
  {
   "cell_type": "markdown",
   "id": "682f40fc-2d05-47bd-8445-91979d6e5936",
   "metadata": {},
   "source": [
    "$$\\mathbf{b} = \n",
    "\\begin{bmatrix}\n",
    "4 \\\\\n",
    "5 \\\\\n",
    "6\n",
    "\\end{bmatrix}$$"
   ]
  },
  {
   "cell_type": "markdown",
   "id": "2ab99b22-4ab5-45d7-8fed-7d4b8136182e",
   "metadata": {},
   "source": [
    "# 2. Checking Sizes"
   ]
  },
  {
   "cell_type": "markdown",
   "id": "10712dc8-c778-412a-882c-f0559daef046",
   "metadata": {},
   "source": [
    "$\\mathbf{a}$ is a $3 \\times 3$ matrix."
   ]
  },
  {
   "cell_type": "code",
   "execution_count": 6,
   "id": "93f95b8e-e5d3-4a7d-befe-4246c8bb39f3",
   "metadata": {},
   "outputs": [
    {
     "name": "stdout",
     "output_type": "stream",
     "text": [
      "(3, 3) --> this is a tuple data type\n"
     ]
    }
   ],
   "source": [
    "print(a.shape, \"--> this is a tuple data type\")"
   ]
  },
  {
   "cell_type": "markdown",
   "id": "8abf3e7f-63d2-4854-a98e-c1db0a0b4f0c",
   "metadata": {},
   "source": [
    "$\\mathbf{a}$ has 3 rows."
   ]
  },
  {
   "cell_type": "code",
   "execution_count": 7,
   "id": "3c5a8874-0818-4fb8-b1d0-3d9ba251cc6c",
   "metadata": {},
   "outputs": [
    {
     "name": "stdout",
     "output_type": "stream",
     "text": [
      "3\n"
     ]
    }
   ],
   "source": [
    "print(a.shape[0])"
   ]
  },
  {
   "cell_type": "markdown",
   "id": "5bdb294d-bf41-4c85-a9ed-b99c5561c998",
   "metadata": {},
   "source": [
    "$\\mathbf{a}$ has 3 columns."
   ]
  },
  {
   "cell_type": "code",
   "execution_count": 8,
   "id": "0feffbb6-dbe5-46a8-a46b-8bb1e498c2ed",
   "metadata": {},
   "outputs": [
    {
     "name": "stdout",
     "output_type": "stream",
     "text": [
      "3\n"
     ]
    }
   ],
   "source": [
    "print(a.shape[1])"
   ]
  },
  {
   "cell_type": "markdown",
   "id": "6adcaaf2-8b9a-440d-9b73-96b93bd78669",
   "metadata": {},
   "source": [
    "$\\mathbf{b}$ is a vector of size 3."
   ]
  },
  {
   "cell_type": "code",
   "execution_count": 9,
   "id": "c2c456fe-7162-42f1-a9d4-a8800562027c",
   "metadata": {},
   "outputs": [
    {
     "name": "stdout",
     "output_type": "stream",
     "text": [
      "(3,)\n"
     ]
    }
   ],
   "source": [
    "print(b.shape)"
   ]
  },
  {
   "cell_type": "code",
   "execution_count": 10,
   "id": "39d7b767-3739-4e8b-949a-7235dd8a55fd",
   "metadata": {},
   "outputs": [
    {
     "name": "stdout",
     "output_type": "stream",
     "text": [
      "3\n"
     ]
    }
   ],
   "source": [
    "print(b.shape[0])"
   ]
  },
  {
   "cell_type": "code",
   "execution_count": 11,
   "id": "a275ff02-18c2-446b-a817-ad224ffc572d",
   "metadata": {},
   "outputs": [
    {
     "ename": "IndexError",
     "evalue": "tuple index out of range",
     "output_type": "error",
     "traceback": [
      "\u001b[1;31m---------------------------------------------------------------------------\u001b[0m",
      "\u001b[1;31mIndexError\u001b[0m                                Traceback (most recent call last)",
      "Cell \u001b[1;32mIn[11], line 1\u001b[0m\n\u001b[1;32m----> 1\u001b[0m \u001b[38;5;28mprint\u001b[39m(b\u001b[38;5;241m.\u001b[39mshape[\u001b[38;5;241m1\u001b[39m])\n",
      "\u001b[1;31mIndexError\u001b[0m: tuple index out of range"
     ]
    }
   ],
   "source": [
    "print(b.shape[1]) # index error"
   ]
  },
  {
   "cell_type": "markdown",
   "id": "58cbe2ef-3103-4564-b569-8728fc2c4564",
   "metadata": {},
   "source": [
    "# 3. Vector and Matrix Representations (complex)"
   ]
  },
  {
   "cell_type": "code",
   "execution_count": 12,
   "id": "8ad6defc-c437-4c6e-b5d5-2f60cf70094b",
   "metadata": {},
   "outputs": [],
   "source": [
    "a = np.array([[1-2j, 3+1j,1], [1+2j, 2-1j, 7 + 0j]])"
   ]
  },
  {
   "cell_type": "code",
   "execution_count": 13,
   "id": "7d8dfe31-e9c4-4c54-add1-1a216dc4c3dc",
   "metadata": {},
   "outputs": [],
   "source": [
    "b = np.array([1+8j, -2j])"
   ]
  },
  {
   "cell_type": "markdown",
   "id": "a4c7e376-2f18-49cb-adb1-0c1a3be1b9d5",
   "metadata": {},
   "source": [
    "$\n",
    "\\mathbf{a} = \n",
    "\\begin{bmatrix}\n",
    "1 - 2j & 3 + 1j & 1 \\\\\n",
    "1 + 2j & 2 - 1j & 7\n",
    "\\end{bmatrix},\n",
    "\\quad\n",
    "\\mathbf{b} = \n",
    "\\begin{bmatrix}\n",
    "1 + 8j \\\\\n",
    "-2j\n",
    "\\end{bmatrix}$"
   ]
  },
  {
   "cell_type": "markdown",
   "id": "fb03152e-4d25-4d01-9f6a-ce06769c2a11",
   "metadata": {},
   "source": [
    "# 4. Accessing Values"
   ]
  },
  {
   "cell_type": "code",
   "execution_count": 14,
   "id": "a415d933-de03-4271-bd9a-896f514fe965",
   "metadata": {},
   "outputs": [],
   "source": [
    "a = np.array([[1, 2, 5.3], [-1, -2, -1.5], [4, 5.5, 6]])"
   ]
  },
  {
   "cell_type": "code",
   "execution_count": 15,
   "id": "961ce625-0265-47b5-9fdf-6bd543cded6e",
   "metadata": {},
   "outputs": [],
   "source": [
    "b = np.array([4, 5, 6])"
   ]
  },
  {
   "cell_type": "markdown",
   "id": "d2259188-279a-4cb7-9abc-e250f8a1a5ed",
   "metadata": {},
   "source": [
    "$$\\mathbf{a} = \\begin{bmatrix} \n",
    "1 & 2 & 5.3 \\\\\n",
    "-1 & -2 & -1.5 \\\\\n",
    "4 & 5.5 & 6\n",
    "\\end{bmatrix} = \n",
    "\\begin{bmatrix} \n",
    "\\mathbf{a}[0, 0] & \\mathbf{a}[0, 1] & \\mathbf{a}[0, 2] \\\\\n",
    "\\mathbf{a}[1, 0] & \\mathbf{a}[1, 1] & \\mathbf{a}[1, 2] \\\\\n",
    "\\mathbf{a}[2, 0] & \\mathbf{a}[2, 1] & \\mathbf{a}[2, 2]\n",
    "\\end{bmatrix}$$"
   ]
  },
  {
   "cell_type": "markdown",
   "id": "6fcde859-be4c-40a2-8c09-1cd777249fec",
   "metadata": {},
   "source": [
    "$$\\mathbf{b} = \n",
    "\\begin{bmatrix}\n",
    "4 \\\\\n",
    "5 \\\\\n",
    "6\n",
    "\\end{bmatrix} = \n",
    "\\begin{bmatrix}\n",
    "\\mathbf{b}[0] \\\\\n",
    "\\mathbf{b}[1] \\\\\n",
    "\\mathbf{b}[2]\n",
    "\\end{bmatrix}$$"
   ]
  },
  {
   "cell_type": "markdown",
   "id": "81aa08b0-b572-4f6e-8133-cd0475151214",
   "metadata": {},
   "source": [
    "example: $\\mathbf{a}_{23}$"
   ]
  },
  {
   "cell_type": "code",
   "execution_count": 16,
   "id": "dbefd297-1c5f-4783-b501-e697acba7d25",
   "metadata": {},
   "outputs": [
    {
     "data": {
      "text/plain": [
       "np.float64(-1.5)"
      ]
     },
     "execution_count": 16,
     "metadata": {},
     "output_type": "execute_result"
    }
   ],
   "source": [
    "a[1, 2]"
   ]
  },
  {
   "cell_type": "code",
   "execution_count": 17,
   "id": "2c1de61a-47e6-4a32-989f-26df8917bbac",
   "metadata": {},
   "outputs": [
    {
     "data": {
      "text/plain": [
       "np.float64(-1.5)"
      ]
     },
     "execution_count": 17,
     "metadata": {},
     "output_type": "execute_result"
    }
   ],
   "source": [
    "a[1][2]"
   ]
  },
  {
   "cell_type": "markdown",
   "id": "8d87760f-7c1d-497e-b46e-f5b25c1dca9a",
   "metadata": {},
   "source": [
    "example: $\\mathbf{b}_3$"
   ]
  },
  {
   "cell_type": "code",
   "execution_count": 18,
   "id": "d811123f-a55b-4288-be58-10be7fab63df",
   "metadata": {},
   "outputs": [
    {
     "data": {
      "text/plain": [
       "np.int64(6)"
      ]
     },
     "execution_count": 18,
     "metadata": {},
     "output_type": "execute_result"
    }
   ],
   "source": [
    "b[2]"
   ]
  },
  {
   "cell_type": "markdown",
   "id": "133f9a89-1848-4a6c-8267-e8a106c6bd43",
   "metadata": {},
   "source": [
    "This way, we can also alter the values."
   ]
  },
  {
   "cell_type": "code",
   "execution_count": 19,
   "id": "745e2748-c71a-460b-8590-7feed99f958c",
   "metadata": {},
   "outputs": [
    {
     "name": "stdout",
     "output_type": "stream",
     "text": [
      "[[ 1.   2.   5.3]\n",
      " [-1.  -2.  -1.5]\n",
      " [ 4.   5.5  6. ]] original\n",
      "[[ 1.   2.   5.3]\n",
      " [-1.  -2.   0. ]\n",
      " [ 4.   5.5  6. ]] new\n"
     ]
    }
   ],
   "source": [
    "print(a, \"original\")\n",
    "a[1, 2] = 0\n",
    "print(a, \"new\")"
   ]
  },
  {
   "cell_type": "markdown",
   "id": "f0603057-2e6a-46f8-b36b-be4fc010e3af",
   "metadata": {},
   "source": [
    "However, when you try to change the value to a complex number, you will see an error message:"
   ]
  },
  {
   "cell_type": "code",
   "execution_count": 20,
   "id": "c920a4f0-ea50-4a3e-89d2-b749f61f0879",
   "metadata": {},
   "outputs": [
    {
     "ename": "TypeError",
     "evalue": "float() argument must be a string or a real number, not 'complex'",
     "output_type": "error",
     "traceback": [
      "\u001b[1;31m---------------------------------------------------------------------------\u001b[0m",
      "\u001b[1;31mTypeError\u001b[0m                                 Traceback (most recent call last)",
      "Cell \u001b[1;32mIn[20], line 1\u001b[0m\n\u001b[1;32m----> 1\u001b[0m a[\u001b[38;5;241m1\u001b[39m, \u001b[38;5;241m2\u001b[39m] \u001b[38;5;241m=\u001b[39m \u001b[38;5;241m3\u001b[39m \u001b[38;5;241m+\u001b[39m \u001b[38;5;241m7\u001b[39mj\n",
      "\u001b[1;31mTypeError\u001b[0m: float() argument must be a string or a real number, not 'complex'"
     ]
    }
   ],
   "source": [
    "a[1, 2] = 3 + 7j"
   ]
  },
  {
   "cell_type": "markdown",
   "id": "8a022254-c95e-44c4-800e-8be13c8e3c1e",
   "metadata": {},
   "source": [
    "When you first defined the matrix as below:\n",
    "```python\n",
    "a = np.array([[1, 2, 5.3], [-1, -2, -1.5], [4, 5.5, 6]])\n",
    "```\n",
    "actually, the data type argument was applied in the default setting as follows:\n",
    "\n",
    "```python\n",
    "a = np.array([[1, 2, 5.3], [-1, -2, -1.5], [4, 5.5, 6]], dtype = np.float64)\n",
    "```\n",
    "\n",
    "This means all entries' data types are designated as $np.float64$.\n",
    "\n",
    "In short, it is impossible to change the value to a complex number in this case.\n",
    "To avoid this issue, from the beginning set the data type as $np.complex128$ as follows:\n",
    "\n",
    "```python\n",
    "a = np.array([[1, 2, 5.3], [-1, -2, -1.5], [4, 5.5, 6]], dtype = np.complex128)\n",
    "```"
   ]
  },
  {
   "cell_type": "code",
   "execution_count": 21,
   "id": "afd189af-21ba-402f-adf5-57d6d58953c3",
   "metadata": {},
   "outputs": [
    {
     "name": "stdout",
     "output_type": "stream",
     "text": [
      "[[ 1. +0.j  2. +0.j  5.3+0.j]\n",
      " [-1. +0.j -2. +0.j -1.5+0.j]\n",
      " [ 4. +0.j  5.5+0.j  6. +0.j]]\n",
      "[[ 1. +0.j  2. +0.j  5.3+0.j]\n",
      " [-1. +0.j -2. +0.j  3. +7.j]\n",
      " [ 4. +0.j  5.5+0.j  6. +0.j]]\n"
     ]
    }
   ],
   "source": [
    "a = np.array([[1, 2, 5.3], [-1, -2, -1.5], [4, 5.5, 6]], dtype = np.complex128)\n",
    "print(a)\n",
    "a[1, 2] = 3 + 7j\n",
    "print(a)"
   ]
  },
  {
   "cell_type": "markdown",
   "id": "d6799ec9-ff97-4a22-81ec-eda3438c3bc4",
   "metadata": {},
   "source": [
    "**Key takeaway: make sure to set the data type as $np.complex128$ to avoid such errors!**"
   ]
  },
  {
   "cell_type": "markdown",
   "id": "d11eefbd-7060-41da-a03a-a70bfca9cee8",
   "metadata": {},
   "source": [
    "The data type can also be coverted after it is initialized.\n",
    "\n",
    "```python\n",
    "a = np.array([[1, 2, 5.3], [-1, -2, -1.5], [4, 5.5, 6]])\n",
    "a = a.astype(dtype = np.complex128)\n",
    "```\n",
    "\n",
    "An such error can be avoided."
   ]
  },
  {
   "cell_type": "code",
   "execution_count": 22,
   "id": "b79eae62-a18e-48da-bf72-d9935cfb53f8",
   "metadata": {},
   "outputs": [
    {
     "name": "stdout",
     "output_type": "stream",
     "text": [
      "[[ 1. +0.j  2. +0.j  5.3+0.j]\n",
      " [-1. +0.j -2. +0.j  3. +7.j]\n",
      " [ 4. +0.j  5.5+0.j  6. +0.j]]\n"
     ]
    }
   ],
   "source": [
    "a = np.array([[1, 2, 5.3], [-1, -2, -1.5], [4, 5.5, 6]], dtype = np.float64)\n",
    "a = a.astype(dtype = np.complex128)\n",
    "a[1, 2] = 3 + 7j\n",
    "print(a)"
   ]
  },
  {
   "cell_type": "markdown",
   "id": "fb5ba3d9-6931-4977-af8a-303c81fafe6b",
   "metadata": {},
   "source": [
    "In some cases, when you are certain you are handling real matrices only, you can convert the complex data type matrix into real data type matrix.\n",
    "In this case, you will see the warning message telling you the imaginary parts are discarded."
   ]
  },
  {
   "cell_type": "code",
   "execution_count": 23,
   "id": "20d378c9-3417-4a0a-98d1-8bab523d7b74",
   "metadata": {},
   "outputs": [
    {
     "name": "stderr",
     "output_type": "stream",
     "text": [
      "C:\\Users\\jhkan\\AppData\\Local\\Temp\\ipykernel_31868\\1437958182.py:2: ComplexWarning: Casting complex values to real discards the imaginary part\n",
      "  a = a.astype(dtype = np.float64)\n"
     ]
    }
   ],
   "source": [
    "a = np.array([[1, 2, 5.3], [-1, -2, -1.5], [4, 5.5, 6]], dtype = np.complex128)\n",
    "a = a.astype(dtype = np.float64)"
   ]
  },
  {
   "cell_type": "markdown",
   "id": "11ae01ba-12cc-4daa-a382-f1963da7c56e",
   "metadata": {},
   "source": [
    "$astype$ was a method for explicit data type conversion.\n",
    "There are cases the data types are coverted implicitly."
   ]
  },
  {
   "cell_type": "code",
   "execution_count": 24,
   "id": "a1242e19-0e85-4479-bf6f-c89e6a8cc94d",
   "metadata": {},
   "outputs": [
    {
     "data": {
      "text/plain": [
       "array([[ 1. +0.j,  3. +5.j,  8.3+2.j],\n",
       "       [-2. +0.j, -4. +0.j, -3. +0.j],\n",
       "       [ 8. +0.j, 11. +0.j, 12. +0.j]])"
      ]
     },
     "execution_count": 24,
     "metadata": {},
     "output_type": "execute_result"
    }
   ],
   "source": [
    "a = np.array([[1, 2, 5.3], [-1, -2, -1.5], [4, 5.5, 6]], dtype = np.float64)\n",
    "c = np.array([[0, 1+5j, 3+2j], [-1, -2, -1.5], [4, 5.5, 6]], dtype = np.complex128)\n",
    "a+c"
   ]
  },
  {
   "cell_type": "code",
   "execution_count": 25,
   "id": "48835a22-13a8-48dc-a517-b93fb4799a7b",
   "metadata": {},
   "outputs": [],
   "source": [
    "a = np.array([[1, 2, 5.3], [-1, -2, -1.5], [4, 5.5, 6]], dtype = np.float64)\n",
    "a = (1 + 3j) * a"
   ]
  },
  {
   "cell_type": "markdown",
   "id": "ec46b8a2-389f-44f9-ac25-487d8cf90131",
   "metadata": {},
   "source": [
    "However, it is advised against to rely on implicit data type conversion."
   ]
  },
  {
   "cell_type": "markdown",
   "id": "a746301c-2a58-4b9b-b999-096fbce5e68d",
   "metadata": {},
   "source": [
    "## Practice"
   ]
  },
  {
   "cell_type": "markdown",
   "id": "d112fd19-9664-48bd-b709-57dd0d5e0fd3",
   "metadata": {},
   "source": [
    "$\\begin{bmatrix} \n",
    "1 & 2 & 4 & 1 \\\\\n",
    "2 & 1 & 3 & 1\\\\\n",
    "5 & 2 & 1 & 4 \\\\\n",
    "\\end{bmatrix}$"
   ]
  },
  {
   "cell_type": "markdown",
   "id": "d318bfbb-2998-4f5e-946c-bd30b9b07c70",
   "metadata": {},
   "source": [
    "1. represent the matrix using 2D array\n",
    "2. check the dimesion of the matrix using shape method\n",
    "3. change the (1, 3) and (3, 2) entries to 1 + 2i (complex number)\n",
    "4. change the (1, 3) and (3, 2) entries to 0 "
   ]
  },
  {
   "cell_type": "markdown",
   "id": "58f39b3a-c5ac-42d5-a87b-7a399a1adbb7",
   "metadata": {},
   "source": [
    "1. represent the matrix using 2D array"
   ]
  },
  {
   "cell_type": "code",
   "execution_count": 26,
   "id": "b60d998c-44d6-4d4a-af4a-d1502fa6b468",
   "metadata": {},
   "outputs": [],
   "source": [
    "A = np.array([[1, 2, 4, 1], [2, 1, 3, 1], [5, 2, 1, 4]], dtype = np.float64) # real matrix"
   ]
  },
  {
   "cell_type": "code",
   "execution_count": 27,
   "id": "a3580900-a337-468e-b681-432975a78ef8",
   "metadata": {},
   "outputs": [
    {
     "name": "stdout",
     "output_type": "stream",
     "text": [
      "[[1. 2. 4. 1.]\n",
      " [2. 1. 3. 1.]\n",
      " [5. 2. 1. 4.]]\n"
     ]
    }
   ],
   "source": [
    "print(A)"
   ]
  },
  {
   "cell_type": "markdown",
   "id": "3da64ecd-a552-48fa-b6bb-65cecf2a6253",
   "metadata": {},
   "source": [
    "2. check the dimesion of the matrix using shape method"
   ]
  },
  {
   "cell_type": "code",
   "execution_count": 28,
   "id": "eb675b3b-93a4-4fdd-9320-07450b0be0eb",
   "metadata": {},
   "outputs": [
    {
     "name": "stdout",
     "output_type": "stream",
     "text": [
      "(3, 4)\n"
     ]
    }
   ],
   "source": [
    "print(A.shape) # 3 X 4 matrix"
   ]
  },
  {
   "cell_type": "markdown",
   "id": "efa7f3ef-3c6b-4ee2-84a1-470f2939eb2b",
   "metadata": {},
   "source": [
    "3. change the (1, 3) and (3, 2) entries to 1 + 2i (complex number)"
   ]
  },
  {
   "cell_type": "code",
   "execution_count": 29,
   "id": "96bcf255-175a-4ead-95d1-243ea9113b05",
   "metadata": {},
   "outputs": [],
   "source": [
    "A = A.astype(dtype = np.complex128) # explict data type conversion"
   ]
  },
  {
   "cell_type": "code",
   "execution_count": 30,
   "id": "8496e994-2625-477c-ac28-cc16e7e993e9",
   "metadata": {},
   "outputs": [],
   "source": [
    "A[0, 2] = 1 + 2j\n",
    "A[2, 1] = 1 + 2j"
   ]
  },
  {
   "cell_type": "code",
   "execution_count": 31,
   "id": "afdef348-9f5b-486b-a96c-72bd984b0185",
   "metadata": {},
   "outputs": [
    {
     "name": "stdout",
     "output_type": "stream",
     "text": [
      "[[1.+0.j 2.+0.j 1.+2.j 1.+0.j]\n",
      " [2.+0.j 1.+0.j 3.+0.j 1.+0.j]\n",
      " [5.+0.j 1.+2.j 1.+0.j 4.+0.j]]\n"
     ]
    }
   ],
   "source": [
    "print(A)"
   ]
  },
  {
   "cell_type": "markdown",
   "id": "62ae920b-36d9-452e-9c68-b9a4c7b91743",
   "metadata": {},
   "source": [
    "4. change the (1, 3) and (3, 2) entries to 0 "
   ]
  },
  {
   "cell_type": "code",
   "execution_count": 32,
   "id": "f2c70155-bcdf-4eec-a45d-6a09b81ddac7",
   "metadata": {},
   "outputs": [],
   "source": [
    "A[0, 2] = 0\n",
    "A[2, 1] = 0"
   ]
  },
  {
   "cell_type": "code",
   "execution_count": 33,
   "id": "187ef268-9d42-43b8-82ce-d46a75ca8ce4",
   "metadata": {},
   "outputs": [
    {
     "name": "stdout",
     "output_type": "stream",
     "text": [
      "[[1.+0.j 2.+0.j 0.+0.j 1.+0.j]\n",
      " [2.+0.j 1.+0.j 3.+0.j 1.+0.j]\n",
      " [5.+0.j 0.+0.j 1.+0.j 4.+0.j]]\n"
     ]
    }
   ],
   "source": [
    "print(A)"
   ]
  }
 ],
 "metadata": {
  "kernelspec": {
   "display_name": "Python 3 (ipykernel)",
   "language": "python",
   "name": "python3"
  },
  "language_info": {
   "codemirror_mode": {
    "name": "ipython",
    "version": 3
   },
   "file_extension": ".py",
   "mimetype": "text/x-python",
   "name": "python",
   "nbconvert_exporter": "python",
   "pygments_lexer": "ipython3",
   "version": "3.11.11"
  }
 },
 "nbformat": 4,
 "nbformat_minor": 5
}
