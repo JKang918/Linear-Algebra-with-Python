{
 "cells": [
  {
   "cell_type": "markdown",
   "id": "f700e5cf-a8af-430a-a287-636c2fb7d6b8",
   "metadata": {},
   "source": [
    "# Overview of QR Algorithm"
   ]
  },
  {
   "cell_type": "markdown",
   "id": "04b75904-c99b-4c37-97ff-759fda629671",
   "metadata": {},
   "source": [
    "This document covers basic overview of QR decomposition and QR algorithm used for computing eigenvalues. The purpose of this document is to establish a broad overview rather than examining each concept theoretically in detail."
   ]
  },
  {
   "cell_type": "markdown",
   "id": "35d471cc-511c-4e91-995b-54ed7241cb9a",
   "metadata": {},
   "source": [
    "#### Acknoledgement"
   ]
  },
  {
   "cell_type": "markdown",
   "id": "5f3eefb2-a2b0-42c1-9a4b-ec6ef85728e2",
   "metadata": {},
   "source": [
    "All content in this document is a summary of the lectures and course materials of Bumhee Cho. This applies not only to this document but also to all contents in the repository. However, I state here for emphasis. You can find the lecture here:\n",
    "\n",
    "[Linear Algebra with Python - Using NumPy and SciPy](https://www.inflearn.com/en/course/%EC%84%A0%ED%98%95%EB%8C%80%EC%88%98%ED%95%99?attributionToken=kwHwkgoLCL-Is7wGEM-t4ysQARokNjc5MGFiYjItMDAwMC0yODM0LTk4N2UtMjQwNTg4ODE0OTkwKgYxNDgzNDcyOJzWty3Fy_MXjr6dFdSynRXC8J4Vo4CXIra3jC2o5aotjpHJMOGr6zDkq-swmu7GMJ_Wty2Q97IwOg5kZWZhdWx0X3NlYXJjaEgBWAFgAWgBegJzaQ) "
   ]
  },
  {
   "cell_type": "markdown",
   "id": "024fc711-4f64-4d7b-af78-e0bc9c617d41",
   "metadata": {},
   "source": [
    "## General Idea of QR Algorithm"
   ]
  },
  {
   "cell_type": "markdown",
   "id": "6cdc7c86-00f5-4d07-a67a-3e0d9d359c57",
   "metadata": {},
   "source": [
    "The underlying concept of QR algorithm, the most commonly used algorithm to compute eigenvalues of a give matrix, is as follows:  \n",
    "Given a matrix $A$, we perform a QR decomposition such that  \n",
    "\n",
    "$$ A = Q_1 R_1 $$\n",
    "\n",
    "If we define  \n",
    "\n",
    "$$ A_1 = R_1 Q_1 $$\n",
    "\n",
    "then $A$ and $A_1$ are similar matrices. Repeating this process—performing QR decomposition on $A_1$, defining a similar matrix $A_2$, then decomposing $A_2$, and so on—leads to convergence of $A_k$ to an upper triangular matrix under certain conditions.  \n",
    "\n",
    "Since each $A_k$ is similar to $A$, they all share the same eigenvalues. Furthermore, because $A_k$ converges to a triangular matrix, its diagonal elements represent the eigenvalues of $A$.\n"
   ]
  },
  {
   "cell_type": "markdown",
   "id": "1037311c-3781-417e-a130-c92662716a21",
   "metadata": {},
   "source": [
    "**review: similarity**\n",
    "$$\n",
    "A = QR, \\quad R = Q^{-1}A\n",
    "$$\n",
    "$$\n",
    "\\text{Let, } A_1 = RQ, \\quad \\text{then, } A_1 = Q^{-1}AQ \\quad \\therefore A \\sim A_1\n",
    "$$"
   ]
  },
  {
   "cell_type": "markdown",
   "id": "0db50000-28c0-48f6-94af-fa6e1b82c5c3",
   "metadata": {},
   "source": [
    "Note. *There are other methods for eigenvalue computation, such as Jacobi method but QR Algorithm is the default in most cases.*"
   ]
  },
  {
   "cell_type": "markdown",
   "id": "dfa45ad4-264b-4ac8-bd90-3d8f49abf945",
   "metadata": {},
   "source": [
    "Of course, actual computation is not that simple.  \n",
    "In this document, we will carefully go through the details step by step.  \n",
    "\n",
    "Let's first explore how QR decomposition is performed on a computer."
   ]
  },
  {
   "cell_type": "markdown",
   "id": "c44d3b4e-bf2b-4a57-b9e4-7eaa255ac7f2",
   "metadata": {},
   "source": [
    "## QR Decomposition in Computers: Householder Method"
   ]
  },
  {
   "cell_type": "markdown",
   "id": "4b121bd5-ee4e-4004-a164-8fa225560190",
   "metadata": {},
   "source": [
    "In most undergraduate linear algebra courses, QR decomposition is typically performed using the **Gram-Schmidt process**.  \n",
    "However, this method is numerically unstable, and in practice, **Gram-Schmidt process** is not used for QR decomposition in actual computer computations.\n",
    "\n",
    "Instead, computers typically use a different method called the **Householder method**.  \n",
    "For more details, refer to *Numerical Recipes - The Art of Scientific Computing*, 3rd Edition by W. H. Press et al. (2007), Chapters 2 and 11.  \n",
    "\n",
    "In this document, we will briefly explore this method."
   ]
  },
  {
   "cell_type": "markdown",
   "id": "9248d0ee-4a2e-4acc-a9c9-4c9424dfc7ee",
   "metadata": {},
   "source": [
    "### Hoseholder Method: Overview"
   ]
  },
  {
   "attachments": {},
   "cell_type": "markdown",
   "id": "e37462fd-92ae-4e0e-935f-cc43579c68a6",
   "metadata": {},
   "source": [
    "$$\n",
    "A =\n",
    "\\begin{bmatrix}\n",
    "x & x & x & x & x \\\\\n",
    "x & x & x & x & x \\\\\n",
    "x & x & x & x & x \\\\\n",
    "x & x & x & x & x \\\\\n",
    "x & x & x & x & x\n",
    "\\end{bmatrix}\n",
    "\\quad\n",
    "\\xrightarrow{P_1}\n",
    "\\quad\n",
    "P_1 A =\n",
    "\\begin{bmatrix}\n",
    "x & x & x & x & x \\\\\n",
    "0 & x & x & x & x \\\\\n",
    "0 & x & x & x & x \\\\\n",
    "0 & x & x & x & x \\\\\n",
    "0 & x & x & x & x\n",
    "\\end{bmatrix}\n",
    "\\xrightarrow{P_2}\n",
    "\\quad\n",
    "P_2 P_1 A =\n",
    "\\begin{bmatrix}\n",
    "x & x & x & x & x \\\\\n",
    "0 & x & x & x & x \\\\\n",
    "0 & 0 & x & x & x \\\\\n",
    "0 & 0 & x & x & x \\\\\n",
    "0 & 0 & x & x & x\n",
    "\\end{bmatrix}\n",
    "\\xrightarrow{P_3}\n",
    "\\quad\n",
    "P_3 P_2 P_1 A =\n",
    "\\begin{bmatrix}\n",
    "x & x & x & x & x \\\\\n",
    "0 & x & x & x & x \\\\\n",
    "0 & 0 & x & x & x \\\\\n",
    "0 & 0 & 0 & x & x \\\\\n",
    "0 & 0 & 0 & 0 & x\n",
    "\\end{bmatrix} = R\n",
    "$$\n",
    "\n",
    "$$\n",
    "P_1, P_2, \\dots : \\textbf{\\textcolor{red}{Householder reflector (matrix)}}, \\quad Q = P_1 P_2 P_3\n",
    "$$"
   ]
  },
  {
   "cell_type": "markdown",
   "id": "414caa4d-6bec-4c8b-a5d8-b45e181aef78",
   "metadata": {},
   "source": [
    "When the matrices $P_k$, known as **Householder reflectors**, are multiplied successively, they produce $R$, and $Q$ is the product of these reflector matrices.  \n",
    "\n",
    "This is the conclusion of the **Householder method**.  \n",
    "\n",
    "Now, we need to examine the properties of $P_k$ and how they are defined in a way to produce such result."
   ]
  },
  {
   "cell_type": "markdown",
   "id": "9fec534f-87cd-4a9f-9cc8-391bdb7baa55",
   "metadata": {},
   "source": [
    "Note. *There are other methods for QR decomposition, such as Givens method.*"
   ]
  },
  {
   "cell_type": "markdown",
   "id": "62877aaf-ff94-44e1-8157-796c795e42ea",
   "metadata": {},
   "source": [
    "### Hoseholder Refelctor"
   ]
  },
  {
   "cell_type": "markdown",
   "id": "15039db2-9224-456a-aa7a-3b94d18bd64e",
   "metadata": {},
   "source": [
    "Householder reflector is defined as follows:"
   ]
  },
  {
   "cell_type": "markdown",
   "id": "832cfd44-953b-445b-946d-aeded3e2d054",
   "metadata": {},
   "source": [
    "$$\n",
    "P = I - \\mathbf{u}\\mathbf{u}^{\\top} \\quad \\mathbf{u}\\text{: unit vector}\n",
    "$$"
   ]
  },
  {
   "cell_type": "markdown",
   "id": "0e957661-bc1e-42ee-9073-d2f9852bb25e",
   "metadata": {},
   "source": [
    "![Alt Text](refelction.jpg)"
   ]
  },
  {
   "cell_type": "markdown",
   "id": "8c8d7f51-6e3e-4100-9f0a-a2e79161c407",
   "metadata": {},
   "source": [
    "<Figure 1. Geometry of Household Reflector> "
   ]
  },
  {
   "cell_type": "markdown",
   "id": "751998bc-4a47-4a00-8e23-a79dba3a2d4f",
   "metadata": {},
   "source": [
    "                                               Figure 1. Geometry of Household Reflector"
   ]
  },
  {
   "cell_type": "markdown",
   "id": "660c6ed6-8651-4dab-ab6c-2efc29cfb6fa",
   "metadata": {},
   "source": [
    "Householder reflector matrices are even more interesting when viewed from a geometric perspective.  \n",
    "Let's examine the figure above.  \n",
    "\n",
    "Since $\\text{proj}_{\\mathbf{u}}\\mathbf{x} = \\mathbf{u}\\mathbf{u}^{\\top}\\mathbf{x}$,  \n",
    "we know $P\\mathbf{x}$ is $P\\mathbf{x} = \\mathbf{x} - 2\\text{proj}_{\\mathbf{u}}\\mathbf{x}$.  \n",
    "\n",
    "This means that $P\\mathbf{x}$ is the reflection of $\\mathbf{x}$ across the **orthogonal plane** defined by $\\mathbf{u}$, which is denoted as $H$ above.  \n",
    "For this reason, $P$ is called a **\"reflector.\"**"
   ]
  },
  {
   "cell_type": "markdown",
   "id": "a5aa4eb8-92d4-4bde-ab9b-99941486a863",
   "metadata": {},
   "source": [
    "$P$ has another property to take note of;"
   ]
  },
  {
   "cell_type": "markdown",
   "id": "da1522af-05d9-4045-a6ce-59edce444395",
   "metadata": {},
   "source": [
    "$$\n",
    "P^{-1} = P^{\\top} = P\n",
    "$$"
   ]
  },
  {
   "cell_type": "markdown",
   "id": "ea8ded66-1aa0-4163-8a55-52c5e7840cc8",
   "metadata": {},
   "source": [
    "### Setting the right, $\\mathbf{u}$"
   ]
  },
  {
   "cell_type": "markdown",
   "id": "2cf15c98-9bb0-41e7-9079-aa68ede7da3c",
   "metadata": {},
   "source": [
    "$$\n",
    "A =\n",
    "\\begin{bmatrix}\n",
    "x & x & x & x & x \\\\\n",
    "x & x & x & x & x \\\\\n",
    "x & x & x & x & x \\\\\n",
    "x & x & x & x & x \\\\\n",
    "x & x & x & x & x\n",
    "\\end{bmatrix}\n",
    "\\quad\n",
    "\\xrightarrow{P}\n",
    "\\quad\n",
    "P A =\n",
    "\\begin{bmatrix}\n",
    "x & x & x & x & x \\\\\n",
    "0 & x & x & x & x \\\\\n",
    "0 & x & x & x & x \\\\\n",
    "0 & x & x & x & x \\\\\n",
    "0 & x & x & x & x\n",
    "\\end{bmatrix}\n",
    "$$"
   ]
  },
  {
   "cell_type": "markdown",
   "id": "93f289c1-a6e2-4241-9511-28d4b4f63df3",
   "metadata": {},
   "source": [
    "Now we understood the geometric interpretation of Household reflector, $P = I - \\mathbf{u}\\mathbf{u}^{\\top}$."
   ]
  },
  {
   "cell_type": "markdown",
   "id": "fdfc9662-16c7-4ff4-b70c-c3136de214ce",
   "metadata": {},
   "source": [
    "Here we are going to investigate how to define the unitvector, $\\mathbf{u}$, so that in the Householder algorithm of QR decomposition the result above is attained."
   ]
  },
  {
   "cell_type": "markdown",
   "id": "e4af6f15-9e89-4edb-a0a2-184a6be08db7",
   "metadata": {},
   "source": [
    "To put it simply, $\\mathbf{u}$ is defined as follows:"
   ]
  },
  {
   "cell_type": "markdown",
   "id": "c2c36505-edc6-4d7d-82fd-0f956bb74dce",
   "metadata": {},
   "source": [
    "$$\n",
    "\\mathbf{u} = \\frac{\\mathbf{z}}{||\\mathbf{z}||} = \\frac{\\mathbf{x} - \\alpha\\mathbf{e}_1}{||\\mathbf{x} - \\alpha\\mathbf{e}_1||} \\quad \\text{where}\n",
    "$$"
   ]
  },
  {
   "cell_type": "markdown",
   "id": "4f9e8c4d-bc86-4a6d-8c84-c07cd73fae54",
   "metadata": {},
   "source": [
    "\\begin{align*}\n",
    "\\mathbf{e}_1= \\begin{bmatrix}\n",
    "1 \\\\\n",
    "0 \\\\\n",
    "\\vdots \\\\\n",
    "0\n",
    "\\end{bmatrix}, \\quad \\mathbf{z} = \\begin{bmatrix}\n",
    "x_1 - \\rho \\|\\mathbf{x}\\| \\\\\n",
    "x_2 \\\\\n",
    "\\vdots \\\\\n",
    "x_n\n",
    "\\end{bmatrix}, \\quad \\alpha = \\rho||\\mathbf{x}||, \\quad \\rho = \\pm 1, \\quad \\mathbf{x} \\text{ is the first column vector of } A\n",
    "\\end{align*}"
   ]
  },
  {
   "cell_type": "markdown",
   "id": "20add3fd-65a4-40b1-bdef-e744efcb5d3d",
   "metadata": {},
   "source": [
    "If we define $\\mathbf{u}$ as such, the following can be shown;"
   ]
  },
  {
   "cell_type": "markdown",
   "id": "1379c0b8-e8b4-41e3-8a41-a9fbe6520f26",
   "metadata": {},
   "source": [
    "$$\n",
    "P\\mathbf{x} = \\alpha \\mathbf{e}_1\n",
    "$$"
   ]
  },
  {
   "cell_type": "markdown",
   "id": "1e99fe0f-7c05-46ef-9dec-e318c15357c4",
   "metadata": {},
   "source": [
    "and accordingly, $PA$ becomes such form as above."
   ]
  },
  {
   "cell_type": "markdown",
   "id": "36c8b527-c932-477a-a270-30d4e2bb281f",
   "metadata": {},
   "source": [
    "Now with that in mind, we can also expect in the further iterations we apply the same method as well."
   ]
  },
  {
   "cell_type": "markdown",
   "id": "a70f807d-718c-4aae-a36b-b4a2fd60bce8",
   "metadata": {},
   "source": [
    "\\begin{align*}\n",
    "A =\n",
    "\\begin{bmatrix}\n",
    "a_{11} & a_{12} & a_{13} & a_{14} \\\\\n",
    "a_{21} & a_{22} & a_{23} & a_{24} \\\\\n",
    "a_{31} & a_{32} & a_{33} & a_{34} \\\\\n",
    "a_{41} & a_{42} & a_{43} & a_{44}\n",
    "\\end{bmatrix}, \\quad P_1 = I - 2 \\mathbf{u}_1 \\mathbf{u}_1^T, \\quad P_1 \\mathbf{x} = \\alpha_1 \\mathbf{e}_1, \\quad \\mathbf{x} =\n",
    "\\begin{bmatrix}\n",
    "a_{11} \\\\\n",
    "a_{21} \\\\\n",
    "a_{31} \\\\\n",
    "a_{41}\n",
    "\\end{bmatrix}\n",
    "\\end{align*}"
   ]
  },
  {
   "cell_type": "markdown",
   "id": "9bc167a5-89eb-46f3-ad3c-a25cff2a7a03",
   "metadata": {},
   "source": [
    "\\begin{align*}\n",
    "& \\text{first iteration: } \\\\\n",
    "& P_1 A = P_1\n",
    "\\begin{bmatrix}\n",
    "A_{11} & A_{12}\n",
    "\\end{bmatrix}\n",
    "= P_1\n",
    "\\begin{bmatrix}\n",
    "\\mathbf{x} & A_{12}\n",
    "\\end{bmatrix}\n",
    "=\n",
    "\\begin{bmatrix}\n",
    "\\alpha_1 \\mathbf{e}_1 & P_1 A_{12}\n",
    "\\end{bmatrix} =\n",
    "\\begin{bmatrix}\n",
    "\\alpha_1 & x & x & x \\\\\n",
    "0 & x & x & x \\\\\n",
    "0 & x & x & x \\\\\n",
    "0 & x & x & x\n",
    "\\end{bmatrix}\n",
    "= A^{(1)} =\n",
    "\\begin{bmatrix}\n",
    "\\alpha_1 & a_{12}^{(1)} & a_{13}^{(1)} & a_{14}^{(1)} \\\\\n",
    "0 & a_{22}^{(1)} & a_{23}^{(1)} & a_{24}^{(1)} \\\\\n",
    "0 & a_{32}^{(1)} & a_{33}^{(1)} & a_{34}^{(1)} \\\\\n",
    "0 & a_{42}^{(1)} & a_{43}^{(1)} & a_{44}^{(1)}\n",
    "\\end{bmatrix}\n",
    "\\end{align*}"
   ]
  },
  {
   "cell_type": "markdown",
   "id": "8938ee5b-aa38-45ae-b2c3-ea65aa18e0a4",
   "metadata": {},
   "source": [
    "Now, with $A^{(1)}$, we perform something similar;"
   ]
  },
  {
   "cell_type": "markdown",
   "id": "47a3d517-f1a0-4e83-ae82-fc45dd147763",
   "metadata": {},
   "source": [
    "\\begin{align*}\n",
    "P_1 A = A^{(1)} =\n",
    "\\begin{bmatrix}\n",
    "\\alpha_1 & a_{12}^{(1)} & a_{13}^{(1)} & a_{14}^{(1)} \\\\\n",
    "0 & a_{22}^{(1)} & a_{23}^{(1)} & a_{24}^{(1)} \\\\\n",
    "0 & a_{32}^{(1)} & a_{33}^{(1)} & a_{34}^{(1)} \\\\\n",
    "0 & a_{42}^{(1)} & a_{43}^{(1)} & a_{44}^{(1)}\n",
    "\\end{bmatrix}, \\quad P_2 =\n",
    "\\begin{bmatrix}\n",
    "1 & 0 \\\\\n",
    "0 & I - 2\\mathbf{u}_2 \\mathbf{u}_2^T\n",
    "\\end{bmatrix}, \\quad \\mathbf{x} =\n",
    "\\begin{bmatrix}\n",
    "a_{22}^{(1)} \\\\\n",
    "a_{32}^{(1)} \\\\\n",
    "a_{42}^{(1)}\n",
    "\\end{bmatrix}\n",
    "\\end{align*}"
   ]
  },
  {
   "cell_type": "markdown",
   "id": "fd05797c-9fbc-4dd8-af04-38153633db3e",
   "metadata": {},
   "source": [
    "\\begin{align*}\n",
    "& \\text{second iteration: } \\\\\n",
    "& P_2 A^{(1)} =\n",
    "\\begin{bmatrix}\n",
    "1 & 0 \\\\\n",
    "0 & I - 2\\mathbf{u}_2 \\mathbf{u}_2^T\n",
    "\\end{bmatrix}\n",
    "\\begin{bmatrix}\n",
    "\\alpha_1 & A_{12}^{(1)} \\\\\n",
    "0 & A_{22}^{(1)}\n",
    "\\end{bmatrix}\n",
    "=\n",
    "\\begin{bmatrix}\n",
    "\\alpha_1 & A_{12}^{(1)} \\\\\n",
    "0 & (I - 2\\mathbf{u}_2 \\mathbf{u}_2^T) A_{22}^{(1)}\n",
    "\\end{bmatrix} =\n",
    "\\begin{bmatrix}\n",
    "\\alpha_1 & a_{12}^{(1)} & a_{13}^{(1)} & a_{14}^{(1)} \\\\\n",
    "0 & \\alpha_2 & a_{23}^{(2)} & a_{24}^{(2)} \\\\\n",
    "0 & 0 & a_{33}^{(2)} & a_{34}^{(2)} \\\\\n",
    "0 & 0 & a_{43}^{(2)} & a_{44}^{(2)}\n",
    "\\end{bmatrix}\n",
    "\\end{align*}"
   ]
  },
  {
   "cell_type": "markdown",
   "id": "261830fa-8336-4374-866a-dcc890aab01e",
   "metadata": {},
   "source": [
    "We iterate this same process continuously. At the end, we obtain $R = P_nP_{n-1} \\cdots P_{1}A$ and $Q =  (P_nP_{n-1} \\cdots P_1)^{-1} = P_1 \\cdots P_{n-1}P_n$"
   ]
  },
  {
   "cell_type": "markdown",
   "id": "cd1ac505-93f4-4ae6-a366-82f161b3ca53",
   "metadata": {},
   "source": [
    "## QR Algorithm"
   ]
  },
  {
   "cell_type": "markdown",
   "id": "fddf12cc-092f-47f1-ae4e-f238ebd128f2",
   "metadata": {},
   "source": [
    "Now we learned how QR decomposition is run on computers. We learned this as a building block for understanding QR algorithm. We move onto QR algorithm."
   ]
  },
  {
   "cell_type": "markdown",
   "id": "502ff115-aee9-4013-98ed-d3e4aa7dd9a6",
   "metadata": {},
   "source": [
    "### One-step approach (not used in practice)"
   ]
  },
  {
   "cell_type": "markdown",
   "id": "c0674b15-59c2-4c3f-ad41-a7b90621e8c2",
   "metadata": {},
   "source": [
    "Following the approach described at the beginning of this document, we first perform QR decomposition once,  \n",
    "then define a new similar matrix using \\( RQ \\),  \n",
    "and perform QR decomposition on that matrix again.  \n",
    "This process continues until the resulting matrix converges to an upper triangular matrix.\n",
    "\n",
    "However, this method is not used in practice due to its high computational cost.\n",
    "\n",
    "- **QR decomposition**: $O(n^3)$\n",
    "- **Typically requires more than $n$ iterations**, leading to a total complexity of $O(n^4)$"
   ]
  },
  {
   "cell_type": "markdown",
   "id": "b397eece-b887-49c3-a620-62abb479d51d",
   "metadata": {},
   "source": [
    "### Two-step approach"
   ]
  },
  {
   "cell_type": "markdown",
   "id": "4d28f858-5475-4e6e-abc3-5d1ede50e965",
   "metadata": {},
   "source": [
    "a) **symmetric (Hermitian) matrix**: *all eigenvalues are real*  \n",
    "   1) Reduction to **tridiagonal** matrix: Householder $O(n^3)$  \n",
    "   2) **QR algorithm**: QR decomposition per iteration ~\\( n \\)  + shift method  \n",
    "\n",
    "b) **non-symmetric matrix**  \n",
    "   1) Balancing: reduces matrix Euclidean norm $O(n^2)$  \n",
    "   2) Reduction to upper **Hessenberg** matrix: Householder $O(n^3)$  \n",
    "   3) **QR algorithm**: QR decomposition per iteration $O(n^2)$   + shift method  "
   ]
  },
  {
   "cell_type": "markdown",
   "id": "8e0376fa-cffd-4dde-8bcc-1b1b72e98191",
   "metadata": {},
   "source": [
    "A **real symmetric matrix** or **Hermitian matrix** is reduced to a **tridiagonal matrix** using the Householder method.  \n",
    "This reduction is performed only **once** and costs $~ n^3$.\n",
    "\n",
    "Since the resulting tridiagonal matrix is **similar** to the original matrix, we apply the **QR algorithm** to it, which incurs a computational cost of $n$ per iteration.  \n",
    "\n",
    "The details of the QR algorithm itself are beyond the scope of this document and will not be covered here.\n",
    "\n",
    "Overall, significant improvement can be seen compared with the one-step approach with computational cost of $O(n^4)$, which is prohibitively large.\n",
    "\n",
    "---\n",
    "\n",
    "For a **general (non-symmetric) matrix**, we first apply a **balancing process** to reduce the matrix **norm**, which helps minimize numerical errors.  \n",
    "It is well known that numerical errors are generally proportional to the norm.\n",
    "\n",
    "Next, we use the **Householder method** to reduce the **balanced matrix** to an **upper Hessenberg form**, which incurs a computational cost of **$ O(n^3)$**.\n",
    "\n",
    "Finally, we apply the **QR algorithm** iteratively, where in this case each iteration incurs a cost of **$O(n^2)$**.\n",
    "\n",
    "Overall, significant improvement can be seen compared with the one-step approach with computational cost of $O(n^4)$, which is prohibitively large."
   ]
  },
  {
   "cell_type": "markdown",
   "id": "a2436db3-ef6e-4283-93f8-2a236fae3145",
   "metadata": {},
   "source": [
    "#### upper Hessenberg form"
   ]
  },
  {
   "cell_type": "markdown",
   "id": "fa6e2d09-3062-47c0-b1eb-64cf5d844d3e",
   "metadata": {},
   "source": [
    "$$\n",
    "\\begin{bmatrix}\n",
    "x & x & x & x & x \\\\\n",
    "x & x & x & x & x \\\\\n",
    " & x & x & x & x \\\\\n",
    " &  & x & x & x \\\\\n",
    " & & & x & x\n",
    "\\end{bmatrix}\n",
    "$$"
   ]
  },
  {
   "cell_type": "markdown",
   "id": "5a0d5b43-779b-4272-ac2f-2d805a7a986f",
   "metadata": {},
   "source": [
    "- the entries in the lowest band vector do not have to be non-zero.\n",
    "- use Householder method to attain this, using previous example, skip the first iteration jump rigit into the second iteration and continue; then the form can be attained.\n",
    "- For symmetirc or Hermitian cases, this becomes a tridiagonal matrix, which is a special case of upper Hessenberg form."
   ]
  },
  {
   "cell_type": "markdown",
   "id": "dc80679e-215e-4a3e-bcd4-1de5603d72af",
   "metadata": {},
   "source": [
    "#### QR algorithm on upper Hessenberg form"
   ]
  },
  {
   "cell_type": "markdown",
   "id": "f720d845-9635-4cff-9b7e-b93f3a4c4d0f",
   "metadata": {},
   "source": [
    "$$ A = Q_1 R_1 $$"
   ]
  },
  {
   "cell_type": "markdown",
   "id": "2212ef40-5c18-4f12-9ebe-08476a206545",
   "metadata": {},
   "source": [
    "$$ A_1 = R_1 Q_1 $$"
   ]
  },
  {
   "cell_type": "markdown",
   "id": "e9ad219e-9a0e-4e0c-a244-6ffc83ec431d",
   "metadata": {},
   "source": [
    "$$ A_1 = Q_2 R_2 $$"
   ]
  },
  {
   "cell_type": "markdown",
   "id": "4f304f80-dd08-40f6-a729-2068c8ba1cc6",
   "metadata": {},
   "source": [
    "$$ A_2 = R_2 Q_2 $$"
   ]
  },
  {
   "cell_type": "markdown",
   "id": "0ffe7140-4632-4125-b0af-8e6d61fc8dff",
   "metadata": {},
   "source": [
    "$$\n",
    "\\vdots\n",
    "$$"
   ]
  },
  {
   "cell_type": "markdown",
   "id": "6db0fa56-a463-4f51-8571-b42751c40547",
   "metadata": {},
   "source": [
    "$$\n",
    "\\forall A_k \\: \\text{ they maintain Hessenberg form, and } A_k \\text{ converges to the reduced Hessenberg form}\n",
    "$$"
   ]
  },
  {
   "cell_type": "markdown",
   "id": "500013be-01eb-42f8-bf70-e20620cce3b5",
   "metadata": {},
   "source": [
    "$$\n",
    "\\begin{bmatrix}\n",
    "\\lambda_1 & 0 &  &  &  &  \\\\\n",
    "0 & \\lambda_2 & \\ddots &  &  &  \\\\\n",
    " & 0 & \\ddots &  &  &  \\\\\n",
    " &  &  & \\mathbf{d_r} & \\mathbf{u_r} &  \\\\\n",
    " &  &  & \\mathbf{l_{r+1}} & \\mathbf{d_{r+1}} &  \\\\\n",
    " &  &  &  & \\ddots & 0 \\\\\n",
    " &  &  &  &  & \\lambda_n\n",
    "\\end{bmatrix}\n",
    "$$"
   ]
  },
  {
   "cell_type": "markdown",
   "id": "43dfd40c-7358-4ec4-9d51-b13f59a15979",
   "metadata": {},
   "source": [
    "- The diagonal elements are either **eigenvalues** or appear in the form of **$2 \\times 2$ block matrices**.  \n",
    "- If a **$2 \\times 2$ block matrix** appears, its eigenvalues become the eigenvalues of the entire matrix.  \n",
    "- When the diagonal elements themselves are eigenvalues, they are always **real**.  \n",
    "- However, eigenvalues obtained as solutions to the **characteristic equation** of a $2 \\times 2$ block matrix may be **complex**."
   ]
  },
  {
   "cell_type": "markdown",
   "id": "bd3c06d7-d1a3-4324-add3-ca609ff8dce2",
   "metadata": {},
   "source": [
    "## Summary"
   ]
  },
  {
   "cell_type": "markdown",
   "id": "e14f951b-17fc-47d7-899a-aae5889c4c20",
   "metadata": {},
   "source": [
    "If **symmetric** or **Hermitian**,\n",
    "1. reduce to triagonal form with Householder method\n",
    "2. apply QR algorithm on the triagonal form (underlying QR decomposition is conducted following Householder method or Givens method)\n",
    "\n",
    "If **non-symmetric**,\n",
    "1. balancing to minimize numerical errors\n",
    "2. reduce to upper Hessenberg form with Householder method\n",
    "3. apply QR algorithm on the triagonal form (underlying QR decomposition is conducted following Householder method or Givens method)"
   ]
  }
 ],
 "metadata": {
  "kernelspec": {
   "display_name": "Python 3 (ipykernel)",
   "language": "python",
   "name": "python3"
  },
  "language_info": {
   "codemirror_mode": {
    "name": "ipython",
    "version": 3
   },
   "file_extension": ".py",
   "mimetype": "text/x-python",
   "name": "python",
   "nbconvert_exporter": "python",
   "pygments_lexer": "ipython3",
   "version": "3.11.11"
  }
 },
 "nbformat": 4,
 "nbformat_minor": 5
}
