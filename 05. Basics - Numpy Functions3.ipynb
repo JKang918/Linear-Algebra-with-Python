{
 "cells": [
  {
   "cell_type": "markdown",
   "id": "001683b1-ff82-4f7d-b206-74a44c6416a3",
   "metadata": {},
   "source": [
    "# Basic Numpy Functions (cont'd)"
   ]
  },
  {
   "cell_type": "code",
   "execution_count": 1,
   "id": "6215e1b8-4dfc-49dc-a23d-b5aaa41a44c3",
   "metadata": {},
   "outputs": [],
   "source": [
    "import numpy as np"
   ]
  },
  {
   "cell_type": "markdown",
   "id": "43d3e07b-8cae-43f3-a74e-d04667b6d171",
   "metadata": {},
   "source": [
    "# 1. np.hstack / np.vstack"
   ]
  },
  {
   "cell_type": "markdown",
   "id": "aff8c005-bbf0-4dd2-acc4-6cc03dd1894f",
   "metadata": {},
   "source": [
    "```python\n",
    "new_mat = np.hstack((a, b, c, ...))\n",
    "new_mat = np.vstack((a, b, c, ...))\n",
    "```\n",
    "* input: tuple of vectors/matrices"
   ]
  },
  {
   "cell_type": "markdown",
   "id": "955d8026-e6b1-42a0-a547-f42089978d24",
   "metadata": {},
   "source": [
    "## 1.1 2D Array"
   ]
  },
  {
   "cell_type": "markdown",
   "id": "ee6a4f06-dec1-4a7b-9c3f-dbb255444a10",
   "metadata": {},
   "source": [
    "\\begin{align*}\n",
    "a = \\begin{bmatrix}\n",
    "1 & 2 & 3 \\\\\n",
    "4 & 5 & 6\n",
    "\\end{bmatrix}, \\quad\n",
    "b = \\begin{bmatrix}\n",
    "-1 & -2 \\\\\n",
    "-3 & -4\n",
    "\\end{bmatrix}\n",
    "\\end{align*}"
   ]
  },
  {
   "cell_type": "markdown",
   "id": "8b6ee7d6-91f5-4d81-984d-0965f155aea9",
   "metadata": {},
   "source": [
    "$$\n",
    "\\text{np.hstack((a, b))} = \\begin{bmatrix}\n",
    "1 & 2 & 3 & -1 & -2 \\\\\n",
    "4 & 5 & 6 & -3 & -4\n",
    "\\end{bmatrix}\n",
    "$$"
   ]
  },
  {
   "cell_type": "code",
   "execution_count": 2,
   "id": "970124a3-ad4d-43ef-bf00-d9c7714560be",
   "metadata": {},
   "outputs": [],
   "source": [
    "a = np.array([[1, 2, 3], [4, 5, 6]])\n",
    "b = np.array([[-1, -2], [-3, -4]])"
   ]
  },
  {
   "cell_type": "code",
   "execution_count": 3,
   "id": "7c92bc49-415d-4539-b1d3-a75a49e17388",
   "metadata": {},
   "outputs": [
    {
     "data": {
      "text/plain": [
       "(2, 3)"
      ]
     },
     "execution_count": 3,
     "metadata": {},
     "output_type": "execute_result"
    }
   ],
   "source": [
    "a.shape"
   ]
  },
  {
   "cell_type": "code",
   "execution_count": 4,
   "id": "fcc0be4b-9b7e-4f7e-9877-d43a2ed4e7a0",
   "metadata": {},
   "outputs": [
    {
     "data": {
      "text/plain": [
       "(2, 2)"
      ]
     },
     "execution_count": 4,
     "metadata": {},
     "output_type": "execute_result"
    }
   ],
   "source": [
    "b.shape"
   ]
  },
  {
   "cell_type": "code",
   "execution_count": 5,
   "id": "c97d9b3a-62b7-459c-8c58-6dc44b9b2909",
   "metadata": {},
   "outputs": [
    {
     "name": "stdout",
     "output_type": "stream",
     "text": [
      "[[ 1  2  3 -1 -2]\n",
      " [ 4  5  6 -3 -4]]\n"
     ]
    }
   ],
   "source": [
    "# a.shape[0] == b.shape[0] : # of rows have to be same for np.hstack\n",
    "new_mat1 = np.hstack((a, b))\n",
    "print(new_mat1)"
   ]
  },
  {
   "cell_type": "markdown",
   "id": "7f4a7117-95ae-4bc9-a8bf-4329158fcd36",
   "metadata": {},
   "source": [
    "\\begin{align*}\n",
    "a = \\begin{bmatrix}\n",
    "1 & 2 & 3 \\\\\n",
    "4 & 5 & 6\n",
    "\\end{bmatrix}, \\quad\n",
    "b = \\begin{bmatrix}\n",
    "-1 & -2 & -3 \\\\\n",
    "-4 & -5 & -6 \\\\\n",
    "-7 & -8 & -9\n",
    "\\end{bmatrix}\n",
    "\\end{align*}"
   ]
  },
  {
   "cell_type": "markdown",
   "id": "35fde460-3b16-487f-9266-a462efbd6d4d",
   "metadata": {},
   "source": [
    "$$\n",
    "\\text{np.vstack((a, b))} = \\begin{bmatrix}\n",
    "1 & 2 & 3 \\\\\n",
    "4 & 5 & 6 \\\\\n",
    "-1 & -2 & -3 \\\\\n",
    "-4 & -5 & -6 \\\\\n",
    "-7 & -8 & -9 \n",
    "\\end{bmatrix}\n",
    "$$"
   ]
  },
  {
   "cell_type": "code",
   "execution_count": 6,
   "id": "85b74023-2651-4b3e-bdf2-e4cd0d281cd8",
   "metadata": {},
   "outputs": [
    {
     "name": "stdout",
     "output_type": "stream",
     "text": [
      "(2, 3)\n",
      "(3, 3)\n"
     ]
    }
   ],
   "source": [
    "a = np.array([[1, 2, 3], [4, 5, 6]])\n",
    "b = np.array([[-1, -2, -3], [-4, -5, -6], [-7, -8, -9]])\n",
    "print(a.shape)\n",
    "print(b.shape)"
   ]
  },
  {
   "cell_type": "code",
   "execution_count": 7,
   "id": "be8829a3-9e82-43ef-8af2-41291345ca29",
   "metadata": {},
   "outputs": [
    {
     "name": "stdout",
     "output_type": "stream",
     "text": [
      "[[ 1  2  3]\n",
      " [ 4  5  6]\n",
      " [-1 -2 -3]\n",
      " [-4 -5 -6]\n",
      " [-7 -8 -9]]\n"
     ]
    }
   ],
   "source": [
    "# a.shape[1] == b.shape[1] : # of cols have to be same for np.vstack\n",
    "new_mat2 = np.vstack((a, b))\n",
    "print(new_mat2)"
   ]
  },
  {
   "cell_type": "markdown",
   "id": "5f4840be-f8b1-46b6-a0e2-31704cecd7fd",
   "metadata": {},
   "source": [
    "## 1.2 1D Array"
   ]
  },
  {
   "cell_type": "markdown",
   "id": "94ce0dbc-8f77-4f32-aeba-0495dbc8c4c6",
   "metadata": {},
   "source": [
    "\\begin{align*}\n",
    "a = \\begin{bmatrix}\n",
    "1  \\\\\n",
    "2  \\\\\n",
    "3\n",
    "\\end{bmatrix}, \\quad\n",
    "b = \\begin{bmatrix}\n",
    "4  \\\\\n",
    "5  \\\\\n",
    "6\n",
    "\\end{bmatrix}\n",
    "\\end{align*}"
   ]
  },
  {
   "cell_type": "markdown",
   "id": "2a7db437-79e4-46ca-8881-299a4e34d644",
   "metadata": {},
   "source": [
    "$$\n",
    "\\text{np.hstack((a, b))} = \\begin{bmatrix}\n",
    "1 & 2 & 3 & 4 & 5 & 6 \\\\\n",
    "\\end{bmatrix}\n",
    "$$"
   ]
  },
  {
   "cell_type": "markdown",
   "id": "212e251e-fa9a-40a6-93f4-fa349510aaa7",
   "metadata": {},
   "source": [
    "$$\n",
    "\\text{np.vstack((a, b))} = \\begin{bmatrix}\n",
    "1 & 2 & 3 \\\\\n",
    "4 & 5 & 6 \n",
    "\\end{bmatrix}\n",
    "$$"
   ]
  },
  {
   "cell_type": "code",
   "execution_count": 8,
   "id": "f105d59f-5673-412f-9e4f-de21981560d1",
   "metadata": {},
   "outputs": [],
   "source": [
    "a = np.array([1, 2, 3])\n",
    "b = np.array([4, 5, 6])"
   ]
  },
  {
   "cell_type": "code",
   "execution_count": 9,
   "id": "b65683f9-508a-4f42-90ce-79d2b9fa91ea",
   "metadata": {},
   "outputs": [
    {
     "name": "stdout",
     "output_type": "stream",
     "text": [
      "[1 2 3 4 5 6]\n"
     ]
    }
   ],
   "source": [
    "new_mat3 = np.hstack((a, b))\n",
    "print(new_mat3) # 1D Array (concatenated vec)"
   ]
  },
  {
   "cell_type": "code",
   "execution_count": 10,
   "id": "7a7c8cb4-c734-43fa-b6cc-f8e6cebd3802",
   "metadata": {},
   "outputs": [
    {
     "name": "stdout",
     "output_type": "stream",
     "text": [
      "[[1 2 3]\n",
      " [4 5 6]]\n"
     ]
    }
   ],
   "source": [
    "new_mat4 = np.vstack((a, b))\n",
    "print(new_mat4) # 2D Array "
   ]
  },
  {
   "cell_type": "markdown",
   "id": "c5631905-77e0-4b5d-996a-07f4d85c88f5",
   "metadata": {},
   "source": [
    "## 1.3 2D Array and 1D Array"
   ]
  },
  {
   "cell_type": "markdown",
   "id": "05c2bf56-fed9-4cc2-b402-c0c705c4507f",
   "metadata": {},
   "source": [
    "\\begin{align*}\n",
    "a = \\begin{bmatrix}\n",
    "1 & 2 & 3 \\\\\n",
    "4 & 5 & 6\n",
    "\\end{bmatrix}, \\quad\n",
    "b = \\begin{bmatrix}\n",
    "7  \\\\\n",
    "8  \\\\\n",
    "9\n",
    "\\end{bmatrix}\n",
    "\\end{align*}"
   ]
  },
  {
   "cell_type": "markdown",
   "id": "79bc4a13-1bd0-4f71-915f-4e8b93f7c2af",
   "metadata": {},
   "source": [
    "$$\n",
    "\\text{np.vstack((a, b))} = \\begin{bmatrix}\n",
    "1 & 2 & 3 \\\\\n",
    "4 & 5 & 6 \\\\\n",
    "7 & 8 & 9 \n",
    "\\end{bmatrix}\n",
    "$$"
   ]
  },
  {
   "cell_type": "markdown",
   "id": "6c2e9653-0a2f-4665-b985-09a0cb55cd78",
   "metadata": {},
   "source": [
    "* np.hstack is not defined."
   ]
  },
  {
   "cell_type": "code",
   "execution_count": 11,
   "id": "0fbcb1c1-e5c6-42bc-b9e3-902049181895",
   "metadata": {},
   "outputs": [],
   "source": [
    "a = np.array([[1, 2, 3], [4, 5, 6]])\n",
    "b = np.array([7, 8, 9])"
   ]
  },
  {
   "cell_type": "code",
   "execution_count": 12,
   "id": "1ae8d646-8768-4796-a357-fa14f233182c",
   "metadata": {},
   "outputs": [
    {
     "data": {
      "text/plain": [
       "True"
      ]
     },
     "execution_count": 12,
     "metadata": {},
     "output_type": "execute_result"
    }
   ],
   "source": [
    "a.shape[1] == b.size"
   ]
  },
  {
   "cell_type": "code",
   "execution_count": 13,
   "id": "67ff05e6-4bc3-4ac6-bb66-60a7e1ae945b",
   "metadata": {},
   "outputs": [
    {
     "name": "stdout",
     "output_type": "stream",
     "text": [
      "[[1 2 3]\n",
      " [4 5 6]\n",
      " [7 8 9]]\n"
     ]
    }
   ],
   "source": [
    "new_mat5 = np.vstack((a, b))\n",
    "print(new_mat5)"
   ]
  },
  {
   "cell_type": "markdown",
   "id": "be9b7d80-03af-4f2a-882d-eeec8d52da92",
   "metadata": {},
   "source": [
    "# 2. Transpose"
   ]
  },
  {
   "cell_type": "markdown",
   "id": "336daf03-e99b-48d8-94f2-ff9f18930229",
   "metadata": {},
   "source": [
    "```python\n",
    "b = a.transpose()\n",
    "np.shares_memory(a, b) # True # same memory\n",
    "```\n",
    "\n",
    "```python\n",
    "b = np.copy(a.transpose())\n",
    "np.shares_memory(a, b) # False # separate memory\n",
    "```\n",
    "\n",
    "```python\n",
    "b = a.T\n",
    "np.shares_memory(a, b) # True # same memory\n",
    "```"
   ]
  },
  {
   "cell_type": "markdown",
   "id": "48945051-ee82-4763-9bbc-7609d73db126",
   "metadata": {},
   "source": [
    "$$\n",
    "a = \\begin{bmatrix}\n",
    "1 & 2 & 3 \\\\\n",
    "4 & 5 & 6 \\\\\n",
    "7 & 8 & 9 \n",
    "\\end{bmatrix}, \\quad\n",
    "b = \\begin{bmatrix}\n",
    "1 & 4 & 7  \\\\\n",
    "2 & 5 & 8  \\\\\n",
    "3 & 6 & 9\n",
    "\\end{bmatrix}\n",
    "$$"
   ]
  },
  {
   "cell_type": "code",
   "execution_count": 14,
   "id": "64151a99-0e78-40dd-bb29-7150821c296d",
   "metadata": {},
   "outputs": [
    {
     "name": "stdout",
     "output_type": "stream",
     "text": [
      "[[1 2 3]\n",
      " [4 5 6]\n",
      " [7 8 9]]\n"
     ]
    }
   ],
   "source": [
    "a = np.array([[1, 2, 3], [4, 5, 6], [7, 8, 9]])\n",
    "print(a)"
   ]
  },
  {
   "cell_type": "code",
   "execution_count": 15,
   "id": "0b89a1c6-9070-4d29-90a3-dbfdd7d40d15",
   "metadata": {},
   "outputs": [
    {
     "name": "stdout",
     "output_type": "stream",
     "text": [
      "[[1 4 7]\n",
      " [2 5 8]\n",
      " [3 6 9]]\n"
     ]
    }
   ],
   "source": [
    "b = a.transpose()\n",
    "print(b)"
   ]
  },
  {
   "cell_type": "code",
   "execution_count": 16,
   "id": "fd867462-77f8-4a2d-8db6-b542cf374eee",
   "metadata": {},
   "outputs": [
    {
     "data": {
      "text/plain": [
       "True"
      ]
     },
     "execution_count": 16,
     "metadata": {},
     "output_type": "execute_result"
    }
   ],
   "source": [
    "np.shares_memory(a, b)"
   ]
  },
  {
   "cell_type": "code",
   "execution_count": 17,
   "id": "bf835ed8-58a4-41b0-9a9f-dbe39b4f2265",
   "metadata": {},
   "outputs": [
    {
     "name": "stdout",
     "output_type": "stream",
     "text": [
      "[[1 4 7]\n",
      " [2 5 8]\n",
      " [3 6 9]]\n"
     ]
    },
    {
     "data": {
      "text/plain": [
       "False"
      ]
     },
     "execution_count": 17,
     "metadata": {},
     "output_type": "execute_result"
    }
   ],
   "source": [
    "b2 = np.copy(a.transpose())\n",
    "print(b2)\n",
    "np.shares_memory(a, b2)"
   ]
  },
  {
   "cell_type": "code",
   "execution_count": 18,
   "id": "941fe3d3-fc81-4a21-8742-2ec458e27554",
   "metadata": {},
   "outputs": [
    {
     "name": "stdout",
     "output_type": "stream",
     "text": [
      "[[1 4 7]\n",
      " [2 5 8]\n",
      " [3 6 9]]\n"
     ]
    },
    {
     "data": {
      "text/plain": [
       "True"
      ]
     },
     "execution_count": 18,
     "metadata": {},
     "output_type": "execute_result"
    }
   ],
   "source": [
    "b3 = a.T\n",
    "print(b3)\n",
    "np.shares_memory(a, b3)"
   ]
  },
  {
   "cell_type": "code",
   "execution_count": 19,
   "id": "a7bb656e-fb82-469e-9f97-9bffcd0a1cad",
   "metadata": {},
   "outputs": [
    {
     "name": "stdout",
     "output_type": "stream",
     "text": [
      "[[-100    4    7]\n",
      " [   2    5    8]\n",
      " [   3    6    9]]\n",
      "[[1 4 7]\n",
      " [2 5 8]\n",
      " [3 6 9]]\n",
      "[[-100    4    7]\n",
      " [   2    5    8]\n",
      " [   3    6    9]]\n"
     ]
    }
   ],
   "source": [
    "a[0, 0] = -100\n",
    "print(b)\n",
    "print(b2)\n",
    "print(b3)"
   ]
  },
  {
   "cell_type": "markdown",
   "id": "da8da01f-f112-4faf-b751-7de77c665500",
   "metadata": {},
   "source": [
    "***np.transpose of 1D Array outputs the vector itself.***"
   ]
  },
  {
   "cell_type": "code",
   "execution_count": 20,
   "id": "8565d369-b817-4a30-8452-621a57c1ddfb",
   "metadata": {},
   "outputs": [
    {
     "name": "stdout",
     "output_type": "stream",
     "text": [
      "[1 2 3]\n"
     ]
    }
   ],
   "source": [
    "a = np.array([1, 2, 3])\n",
    "print(a)"
   ]
  },
  {
   "cell_type": "code",
   "execution_count": 21,
   "id": "767a331d-5282-457b-8397-d5da12a9328e",
   "metadata": {},
   "outputs": [
    {
     "name": "stdout",
     "output_type": "stream",
     "text": [
      "[1 2 3]\n",
      "True\n"
     ]
    }
   ],
   "source": [
    "b = a.transpose()\n",
    "print(b)\n",
    "print(np.shares_memory(a, b))"
   ]
  },
  {
   "cell_type": "code",
   "execution_count": 22,
   "id": "6460970c-6bbd-4c8e-a508-e646fc9dd049",
   "metadata": {},
   "outputs": [
    {
     "name": "stdout",
     "output_type": "stream",
     "text": [
      "[1 2 3]\n",
      "True\n"
     ]
    }
   ],
   "source": [
    "b2 = a.T\n",
    "print(b)\n",
    "print(np.shares_memory(a, b))"
   ]
  },
  {
   "cell_type": "markdown",
   "id": "a924d1a5-ec94-4c88-b465-73bf78a59261",
   "metadata": {},
   "source": [
    "# 3. Real property / Imaginary property / Conjugate method"
   ]
  },
  {
   "cell_type": "markdown",
   "id": "e0ddaa9f-b053-4c2f-8218-e5f0d4b7e8c8",
   "metadata": {},
   "source": [
    "```python\n",
    "b1 = a.real # real part # ref same memory\n",
    "```\n",
    "\n",
    "```python\n",
    "b2 = a.imag # imag part # return real vec/mat # ref same memory\n",
    "```\n",
    "\n",
    "```python\n",
    "b = a.conjugate() # copy # separate memory \n",
    "```"
   ]
  },
  {
   "cell_type": "markdown",
   "id": "750f937b-0d09-4fbe-b3c9-78479a1ebc77",
   "metadata": {},
   "source": [
    "$$\n",
    "a= \\begin{bmatrix}\n",
    "1 - 2j & 3 + 1j & 1 + 0j \\\\\n",
    "1 + 2j & 2 - 1j & 7 + 0j\n",
    "\\end{bmatrix}, \\quad\n",
    "b1 = \\begin{bmatrix}\n",
    "1 & 3 & 1 \\\\\n",
    "1 & 2 & 7\n",
    "\\end{bmatrix}, \\quad\n",
    "b2 = \\begin{bmatrix}\n",
    "-2 & 1 & 0 \\\\\n",
    "2 & -1 & 0\n",
    "\\end{bmatrix}\n",
    "$$"
   ]
  },
  {
   "cell_type": "markdown",
   "id": "be2190ff-f01b-4400-a1d6-8c9401903ce9",
   "metadata": {},
   "source": [
    "$$\n",
    "a.conjugate() = \\begin{bmatrix}\n",
    "1 + 2j & 3 - 1j & 1 - 0j \\\\\n",
    "1 - 2j & 2 + 1j & 7 - 0j\n",
    "\\end{bmatrix}\n",
    "$$"
   ]
  },
  {
   "cell_type": "code",
   "execution_count": 23,
   "id": "99a480c8-00b6-4399-8f27-cd89fbde068b",
   "metadata": {},
   "outputs": [
    {
     "name": "stdout",
     "output_type": "stream",
     "text": [
      "[[1.-2.j 3.+1.j 1.+0.j]\n",
      " [1.+2.j 2.-1.j 7.+0.j]]\n"
     ]
    }
   ],
   "source": [
    "a = np.array([[1-2j, 3+1j, 1 +0j], [1+2j, 2-1j, 7 +0j]], dtype = np.complex128)\n",
    "print(a)"
   ]
  },
  {
   "cell_type": "code",
   "execution_count": 24,
   "id": "593c3d70-4042-43eb-b973-3a5a283c4575",
   "metadata": {},
   "outputs": [
    {
     "name": "stdout",
     "output_type": "stream",
     "text": [
      "[[1. 3. 1.]\n",
      " [1. 2. 7.]]\n",
      "True\n"
     ]
    }
   ],
   "source": [
    "b1 = a.real\n",
    "print(b1)\n",
    "print(np.shares_memory(a, b1))"
   ]
  },
  {
   "cell_type": "code",
   "execution_count": 25,
   "id": "df3d4830-81fa-4812-8f94-4870eee02b46",
   "metadata": {},
   "outputs": [
    {
     "name": "stdout",
     "output_type": "stream",
     "text": [
      "[[-2.  1.  0.]\n",
      " [ 2. -1.  0.]]\n",
      "True\n"
     ]
    }
   ],
   "source": [
    "b2 = a.imag\n",
    "print(b2)\n",
    "print(np.shares_memory(a, b2))"
   ]
  },
  {
   "cell_type": "code",
   "execution_count": 26,
   "id": "c8522e7f-901c-4466-b7f9-dca715456a94",
   "metadata": {},
   "outputs": [
    {
     "name": "stdout",
     "output_type": "stream",
     "text": [
      "[[1.+2.j 3.-1.j 1.-0.j]\n",
      " [1.-2.j 2.+1.j 7.-0.j]]\n",
      "False\n"
     ]
    }
   ],
   "source": [
    "b = a.conjugate()\n",
    "print(b)\n",
    "print(np.shares_memory(a, b))"
   ]
  },
  {
   "cell_type": "markdown",
   "id": "957c8666-bfc3-4663-b97d-4a9db3682b20",
   "metadata": {},
   "source": [
    "# 4. Matrix Multiplication"
   ]
  },
  {
   "cell_type": "markdown",
   "id": "7e2b5aff-49f5-4a0c-b22d-9a182a8deaeb",
   "metadata": {},
   "source": [
    "## 4.1 Scalar Multiplication"
   ]
  },
  {
   "cell_type": "markdown",
   "id": "d8eb4c94-121d-4502-83b0-db9ab777c386",
   "metadata": {},
   "source": [
    "$$\n",
    "A = \\begin{bmatrix}\n",
    "1 & 2 & 1 \\\\\n",
    "2 & 1 & 3 \\\\\n",
    "1 & 3 & 1 \n",
    "\\end{bmatrix}, \\quad\n",
    "r = 5, \\quad\n",
    "rA = \\begin{bmatrix}\n",
    "5 & 10 & 5 \\\\\n",
    "10 & 5 & 15 \\\\\n",
    "5 & 15 & 5 \n",
    "\\end{bmatrix} \n",
    "$$"
   ]
  },
  {
   "cell_type": "code",
   "execution_count": 27,
   "id": "72016d9d-a8d0-4ef6-a0e9-6adf0aa28bc2",
   "metadata": {},
   "outputs": [
    {
     "name": "stdout",
     "output_type": "stream",
     "text": [
      "[[1.-2.j 3.+1.j 1.+0.j]\n",
      " [1.+2.j 2.-1.j 7.+0.j]]\n"
     ]
    }
   ],
   "source": [
    "A = np.array([[1, 2, 1], [2, 1, 3], [1, 3, 1]], dtype = np.float64)\n",
    "print(a)"
   ]
  },
  {
   "cell_type": "code",
   "execution_count": 28,
   "id": "4797892d-0aa7-4ab5-b133-1164672ab8ac",
   "metadata": {},
   "outputs": [],
   "source": [
    "r = 5"
   ]
  },
  {
   "cell_type": "code",
   "execution_count": 29,
   "id": "55b869c9-c147-4814-87ae-cebeb0c89d7d",
   "metadata": {},
   "outputs": [],
   "source": [
    "result = r*A # A*r"
   ]
  },
  {
   "cell_type": "code",
   "execution_count": 30,
   "id": "c855ab48-0fdc-4520-bcdf-c95d406ec04e",
   "metadata": {},
   "outputs": [
    {
     "name": "stdout",
     "output_type": "stream",
     "text": [
      "[[ 5. 10.  5.]\n",
      " [10.  5. 15.]\n",
      " [ 5. 15.  5.]]\n"
     ]
    }
   ],
   "source": [
    "print(result)"
   ]
  },
  {
   "cell_type": "markdown",
   "id": "6b0591ed-1c46-4a95-b092-45922fcffee8",
   "metadata": {},
   "source": [
    "## 4.2 Matrix Multiplication"
   ]
  },
  {
   "cell_type": "markdown",
   "id": "b2c73500-a83c-4adb-960d-52c2e10154a7",
   "metadata": {},
   "source": [
    "$$\n",
    "A = \\begin{bmatrix}\n",
    "1 & 2 & 1 \\\\\n",
    "3 & 2 & 1\n",
    "\\end{bmatrix}, \\quad\n",
    "B = \\begin{bmatrix}\n",
    "2 & 1 \\\\\n",
    "1 & 2 \\\\\n",
    "-3 & 3\n",
    "\\end{bmatrix}, \\quad\n",
    "AB = \\begin{bmatrix}\n",
    "-5 & 14 \\\\\n",
    "5 & 10\n",
    "\\end{bmatrix}\n",
    "$$"
   ]
  },
  {
   "cell_type": "code",
   "execution_count": 31,
   "id": "75476e71-4495-494b-817b-92cfd7e8f9da",
   "metadata": {},
   "outputs": [],
   "source": [
    "A = np.array([[1, 2, 3], [3, 2, 1]], dtype = np.float64)\n",
    "B = np.array([[2, 1], [1, 2], [-3, 3]], dtype = np.float64)"
   ]
  },
  {
   "cell_type": "code",
   "execution_count": 32,
   "id": "2e222f67-9cde-461c-863c-68062658e4b9",
   "metadata": {},
   "outputs": [
    {
     "name": "stdout",
     "output_type": "stream",
     "text": [
      "[[-5. 14.]\n",
      " [ 5. 10.]]\n"
     ]
    }
   ],
   "source": [
    "result1 = A@B # order matters\n",
    "print(result1)"
   ]
  },
  {
   "cell_type": "code",
   "execution_count": 33,
   "id": "c6a047fc-9c8b-4f9b-9830-2dd610bdf902",
   "metadata": {},
   "outputs": [
    {
     "name": "stdout",
     "output_type": "stream",
     "text": [
      "[[-5. 14.]\n",
      " [ 5. 10.]]\n"
     ]
    }
   ],
   "source": [
    "result2 = np.matmul(A, B) # order matters\n",
    "print(result2)"
   ]
  },
  {
   "cell_type": "markdown",
   "id": "a66c8420-5f64-4e50-9f86-30662e451142",
   "metadata": {},
   "source": [
    "## 4.3 Matrix Vector Product"
   ]
  },
  {
   "cell_type": "markdown",
   "id": "741fdc66-83b8-430d-9c0a-ac5698738226",
   "metadata": {},
   "source": [
    "$$\n",
    "A = \\begin{bmatrix}\n",
    "1 & 2 & 1 \\\\\n",
    "2 & 1 & 3 \\\\\n",
    "1 & 3 & 1\n",
    "\\end{bmatrix}, \\quad\n",
    "\\mathbf{u} = \\begin{bmatrix}\n",
    "5 \\\\\n",
    "1 \\\\\n",
    "3\n",
    "\\end{bmatrix}, \\quad\n",
    "A\\mathbf{u} = \\begin{bmatrix}\n",
    "10 \\\\\n",
    "20 \\\\\n",
    "11\n",
    "\\end{bmatrix}\n",
    "$$"
   ]
  },
  {
   "cell_type": "code",
   "execution_count": 34,
   "id": "31cfe010-d6db-430a-b7cf-dfa62d073cdb",
   "metadata": {},
   "outputs": [],
   "source": [
    "A = np.array([[1, 2, 1], [2, 1, 3], [1, 3, 1]], dtype = np.float64)\n",
    "u = np.array([5, 1, 3])"
   ]
  },
  {
   "cell_type": "code",
   "execution_count": 35,
   "id": "2f692085-79dc-4b74-8f51-087c34d57596",
   "metadata": {},
   "outputs": [
    {
     "name": "stdout",
     "output_type": "stream",
     "text": [
      "[10. 20. 11.]\n"
     ]
    }
   ],
   "source": [
    "result1 = A @ u # u is col vec\n",
    "print(result1)"
   ]
  },
  {
   "cell_type": "code",
   "execution_count": 36,
   "id": "656a9f29-6ee9-425c-be31-d866b4ef3d72",
   "metadata": {},
   "outputs": [
    {
     "name": "stdout",
     "output_type": "stream",
     "text": [
      "[10. 20. 11.]\n"
     ]
    }
   ],
   "source": [
    "result2 = np.matmul(A, u) # u is col vec\n",
    "print(result2)"
   ]
  },
  {
   "cell_type": "markdown",
   "id": "c6efedef-dd20-421a-94ce-2806b4b15878",
   "metadata": {},
   "source": [
    "```python\n",
    "np.dot\n",
    "```\n",
    "* not recommended for matrix vector product. because of its name, it can be confusing."
   ]
  },
  {
   "cell_type": "markdown",
   "id": "c5cdf74c-4cfc-4a50-8ff7-34e76d0eeef5",
   "metadata": {},
   "source": [
    "## 4.4 Inner Product"
   ]
  },
  {
   "cell_type": "markdown",
   "id": "b3c277e3-2596-4d01-8f40-dc2e3b775a7f",
   "metadata": {},
   "source": [
    "```python\n",
    "result = np.vdot(u, v)\n",
    "```"
   ]
  },
  {
   "cell_type": "markdown",
   "id": "8c3b2614-65f6-4234-afcb-13a10deadf46",
   "metadata": {},
   "source": [
    "**Definition**\n",
    "\\begin{align*}\n",
    "\\textbf{real vector:} & \\quad \\mathbf{u} \\cdot \\mathbf{v} = u_1 v_1 + u_2 v_2 + \\cdots + u_n v_n \\\\[8pt]\n",
    "\\textbf{complex vector:} & \\quad \\mathbf{u} \\cdot \\mathbf{v} = u_1 \\overline{v_1} + u_2 \\overline{v_2} + \\cdots + u_n \\overline{v_n}\n",
    "\\end{align*}"
   ]
  },
  {
   "cell_type": "markdown",
   "id": "e1316b1a-834e-4428-8b6d-3e882bb9584f",
   "metadata": {},
   "source": [
    "However, when it comes to inner product of complex vectors, **numpy** returns following value:\n",
    "\n",
    "\\begin{align*}\n",
    "\\textbf{complex vector:} & \\quad \\mathbf{u} \\cdot \\mathbf{v} = \\overline{u_1} v_1 + \\overline{u_2} v_2 + \\cdots + \\overline{u_n} v_n\n",
    "\\end{align*}"
   ]
  },
  {
   "cell_type": "code",
   "execution_count": 37,
   "id": "6e5d3a51-b4b1-407c-9baa-eba07a7a3994",
   "metadata": {},
   "outputs": [
    {
     "name": "stdout",
     "output_type": "stream",
     "text": [
      "(9-1j)\n"
     ]
    }
   ],
   "source": [
    "a = np.array([1-2j, 3+1j, 1 +0j], dtype = np.complex128)\n",
    "b = np.array([1+2j, 2-1j, 7 +0j], dtype = np.complex128)\n",
    "result = np.vdot(a, b)\n",
    "print(result)"
   ]
  },
  {
   "cell_type": "markdown",
   "id": "70d563e4-f655-49c7-ba46-37773a83a37c",
   "metadata": {},
   "source": [
    "```python\n",
    "result = np.dot(u, v)\n",
    "```\n",
    "* for real vectors, returns same results as np.vdot\n",
    "* for complex vectors, returns with out taking conjugates; just like real vectors (***this is not inner product**)"
   ]
  },
  {
   "cell_type": "markdown",
   "id": "4fee031c-357f-41cd-85cc-28c2b4e5cd7f",
   "metadata": {},
   "source": [
    "## 4.5 Norm"
   ]
  },
  {
   "cell_type": "markdown",
   "id": "1e93f166-3164-41f5-bff5-ba25c0ef1763",
   "metadata": {},
   "source": [
    "\\begin{aligned}\n",
    "\\text{$\\ell_1$-vector norm:} & \\quad \\|\\mathbf{x}\\|_1 = \\sum_{i=1}^n |x_i| \\\\[8pt]\n",
    "\\text{$\\ell_2$-vector norm (Euclidean):} & \\quad \\|\\mathbf{x}\\|_2 = \\left( \\sum_{i=1}^n x_i^2 \\right)^{1/2} \\\\[8pt]\n",
    "\\text{$\\ell_\\infty$-vector norm:} & \\quad \\|\\mathbf{x}\\|_\\infty = \\max_{1 \\leq i \\leq n} |x_i| \\\\[16pt]\n",
    "\\text{$\\ell_1$-matrix norm:} & \\quad \\|\\mathbf{A}\\|_1 = \\max_{1 \\leq j \\leq n} \\sum_{i=1}^m |a_{ij}| \\\\[8pt]\n",
    "\\text{$\\ell_2$-matrix norm (spectral):} & \\quad \\|\\mathbf{A}\\|_2 = \\sigma_{\\max} \\leq \\left( \\sum_{i=1}^m \\sum_{j=1}^n |a_{ij}|^2 \\right)^{1/2} \\\\[8pt]\n",
    "\\text{$\\ell_\\infty$-matrix norm:} & \\quad \\|\\mathbf{A}\\|_\\infty = \\max_{1 \\leq i \\leq m} \\sum_{j=1}^n |a_{ij}|\n",
    "\\end{aligned}"
   ]
  },
  {
   "cell_type": "code",
   "execution_count": 38,
   "id": "c8829370-8f99-4444-8d0c-522d56d5228a",
   "metadata": {},
   "outputs": [],
   "source": [
    "from scipy import linalg"
   ]
  },
  {
   "cell_type": "markdown",
   "id": "e4445fbd-3266-41b0-8570-6e21a2c2d47b",
   "metadata": {},
   "source": [
    "```python\n",
    "norm = linalg.norm(a, 1)\n",
    "norm = linalg.norm(a, 2) # a is either a vector or matrix # l2 norm # for l_inf, use inf # default = 2\n",
    "norm = linalg.norm(a, inf)\n",
    "```"
   ]
  },
  {
   "cell_type": "markdown",
   "id": "ff72f26d-4597-4056-8869-331c0ef0aa0d",
   "metadata": {},
   "source": [
    "# 5. Extracting a Part from a Matrix / Vector"
   ]
  },
  {
   "cell_type": "markdown",
   "id": "47918338-1649-4dfc-836b-89bd6af46a81",
   "metadata": {},
   "source": [
    "$$\n",
    "A =\n",
    "\\begin{bmatrix}\n",
    "1 & 2 & 3 & 4 & 5 \\\\\n",
    "6 & \\cellcolor{black!20}{7} & \\cellcolor{black!20}{8} & \\cellcolor{black!20}{9} & 10 \\\\\n",
    "11 & \\cellcolor{black!20}{12} & \\cellcolor{black!20}{13} & \\cellcolor{black!20}{14} & 15 \\\\\n",
    "-1 & -2 & -3 & -4 & -5\n",
    "\\end{bmatrix}\n",
    "$$"
   ]
  },
  {
   "cell_type": "code",
   "execution_count": 39,
   "id": "53b4d421-0f01-4e3f-bbb0-cb73d73dc370",
   "metadata": {},
   "outputs": [],
   "source": [
    "A = np.array([\n",
    "    [1, 2, 3, 4, 5],\n",
    "    [6, 7, 8, 9, 10],\n",
    "    [11, 12, 13, 14, 15],\n",
    "    [-1, -2, -3, -4, -5]\n",
    "], dtype=np.int64)"
   ]
  },
  {
   "cell_type": "markdown",
   "id": "b13867bf-d10a-4fd6-b150-bfc59ba62513",
   "metadata": {},
   "source": [
    "**Case 1.**"
   ]
  },
  {
   "cell_type": "markdown",
   "id": "78aedfab-95c9-4dc0-b66b-a9903de26102",
   "metadata": {},
   "source": [
    "$$\n",
    "A =\n",
    "\\begin{bmatrix}\n",
    "1 & 2 & 3 & 4 & 5 \\\\\n",
    "6 & \\cellcolor{black!20}{7} & \\cellcolor{black!20}{8} & \\cellcolor{black!20}{9} & 10 \\\\\n",
    "11 & \\cellcolor{black!20}{12} & \\cellcolor{black!20}{13} & \\cellcolor{black!20}{14} & 15 \\\\\n",
    "-1 & -2 & -3 & -4 & -5\n",
    "\\end{bmatrix}, \\quad \\\\\n",
    "A' =\n",
    "\\begin{bmatrix}\n",
    "\\cellcolor{black!20}{7} & \\cellcolor{black!20}{8} & \\cellcolor{black!20}{9}\\\\\n",
    "\\cellcolor{black!20}{12} & \\cellcolor{black!20}{13} & \\cellcolor{black!20}{14}\n",
    "\\end{bmatrix}\n",
    "$$"
   ]
  },
  {
   "cell_type": "code",
   "execution_count": 40,
   "id": "8da062ae-d572-4b44-bde0-6af4b743e4b6",
   "metadata": {},
   "outputs": [
    {
     "name": "stdout",
     "output_type": "stream",
     "text": [
      "[[ 7  8  9]\n",
      " [12 13 14]]\n"
     ]
    }
   ],
   "source": [
    "sub_A = A[1:3, 1:4] # slicing\n",
    "print(sub_A)"
   ]
  },
  {
   "cell_type": "code",
   "execution_count": 41,
   "id": "8a211174-4779-4074-a8d6-0c118e43eb7c",
   "metadata": {},
   "outputs": [
    {
     "data": {
      "text/plain": [
       "True"
      ]
     },
     "execution_count": 41,
     "metadata": {},
     "output_type": "execute_result"
    }
   ],
   "source": [
    "# ref same memory\n",
    "np.shares_memory(A, sub_A)"
   ]
  },
  {
   "cell_type": "markdown",
   "id": "1e5e2c0c-53c0-444e-8ab6-4385ee29202f",
   "metadata": {},
   "source": [
    "**Case 2.**"
   ]
  },
  {
   "cell_type": "markdown",
   "id": "0dd3587f-dbcf-44bb-8b4d-8b77d679f54d",
   "metadata": {},
   "source": [
    "$$\n",
    "A =\n",
    "\\begin{bmatrix}\n",
    "1 & 2 & 3 & 4 & 5 \\\\\n",
    "6 & \\cellcolor{black!20}{7} & \\cellcolor{black!20}{8} & \\cellcolor{black!20}{9} & 10 \\\\\n",
    "11 & \\cellcolor{black!20}{12} & \\cellcolor{black!20}{13} & \\cellcolor{black!20}{14} & 15 \\\\\n",
    "-1 & -2 & -3 & -4 & -5\n",
    "\\end{bmatrix}, \\quad \\\\\n",
    "A' =\n",
    "\\begin{bmatrix}\n",
    "3 & 4 & 5 \\\\\n",
    "\\cellcolor{black!20}{8} & \\cellcolor{black!20}{9} & 10 \\\\\n",
    "\\cellcolor{black!20}{13} & \\cellcolor{black!20}{14} & 15 \\\\\n",
    "-3 & -4 & -5\n",
    "\\end{bmatrix}\n",
    "$$"
   ]
  },
  {
   "cell_type": "code",
   "execution_count": 42,
   "id": "607623d3-5eec-4e7c-ba85-e6ef68ed453f",
   "metadata": {},
   "outputs": [
    {
     "name": "stdout",
     "output_type": "stream",
     "text": [
      "[[ 3  4  5]\n",
      " [ 8  9 10]\n",
      " [13 14 15]\n",
      " [-3 -4 -5]]\n",
      "True\n"
     ]
    }
   ],
   "source": [
    "sub_A = A[0:4, 2:6]\n",
    "print(sub_A)\n",
    "print(np.shares_memory(A, sub_A))"
   ]
  },
  {
   "cell_type": "code",
   "execution_count": 43,
   "id": "e9778907-e087-45ee-8b54-73e69bf9aa04",
   "metadata": {},
   "outputs": [
    {
     "name": "stdout",
     "output_type": "stream",
     "text": [
      "[[ 3  4  5]\n",
      " [ 8  9 10]\n",
      " [13 14 15]\n",
      " [-3 -4 -5]]\n",
      "True\n"
     ]
    }
   ],
   "source": [
    "sub_A = A[:, 2:]\n",
    "print(sub_A)\n",
    "print(np.shares_memory(A, sub_A))"
   ]
  },
  {
   "cell_type": "markdown",
   "id": "8796dd49-2bdb-4d3c-ba91-744092ca3e0e",
   "metadata": {},
   "source": [
    "**Case 3.1**"
   ]
  },
  {
   "cell_type": "markdown",
   "id": "2196a605-43c3-46a4-8d90-8664afb1d3d6",
   "metadata": {},
   "source": [
    "$$\n",
    "A =\n",
    "\\begin{bmatrix}\n",
    "1 & 2 & 3 & 4 & 5 \\\\\n",
    "6 & \\cellcolor{black!20}{7} & \\cellcolor{black!20}{8} & \\cellcolor{black!20}{9} & 10 \\\\\n",
    "11 & \\cellcolor{black!20}{12} & \\cellcolor{black!20}{13} & \\cellcolor{black!20}{14} & 15 \\\\\n",
    "-1 & -2 & -3 & -4 & -5\n",
    "\\end{bmatrix}, \\quad \\\\\n",
    "A' =\n",
    "\\begin{bmatrix}\n",
    "7 & 8 & 9\n",
    "\\end{bmatrix}\n",
    "$$"
   ]
  },
  {
   "cell_type": "code",
   "execution_count": 44,
   "id": "fb630780-623d-4c56-8e99-5cf4deacc15a",
   "metadata": {},
   "outputs": [
    {
     "name": "stdout",
     "output_type": "stream",
     "text": [
      "[[7 8 9]]\n",
      "True\n",
      "(1, 3)\n"
     ]
    }
   ],
   "source": [
    "sub_A = A[1:2, 1:4]\n",
    "print(sub_A) # 2D Array\n",
    "print(np.shares_memory(A, sub_A))\n",
    "print(sub_A.shape)"
   ]
  },
  {
   "cell_type": "code",
   "execution_count": 45,
   "id": "6bb739c0-95e0-4056-845c-0313a3ad3d52",
   "metadata": {},
   "outputs": [
    {
     "name": "stdout",
     "output_type": "stream",
     "text": [
      "[7 8 9]\n",
      "True\n",
      "(3,)\n"
     ]
    }
   ],
   "source": [
    "sub_A = A[1, 1:4]\n",
    "print(sub_A) # 1D Array\n",
    "print(np.shares_memory(A, sub_A))\n",
    "print(sub_A.shape)"
   ]
  },
  {
   "cell_type": "code",
   "execution_count": 46,
   "id": "78d2445b-2c3a-43cd-bc85-0ff97e3de0e4",
   "metadata": {},
   "outputs": [
    {
     "name": "stdout",
     "output_type": "stream",
     "text": [
      "[[7 8 9]]\n",
      "[[7 8 9]]\n"
     ]
    }
   ],
   "source": [
    "print(np.reshape(sub_A, (1, 3)))\n",
    "print(np.reshape(sub_A, (1, -1))) # 3 is computed automatically"
   ]
  },
  {
   "cell_type": "markdown",
   "id": "bd1a224d-144a-47fd-8695-18cd64f5bc26",
   "metadata": {},
   "source": [
    "**Case 3.2**"
   ]
  },
  {
   "cell_type": "markdown",
   "id": "8610a008-a952-4d82-bbb5-a31a7b298996",
   "metadata": {},
   "source": [
    "$$\n",
    "A =\n",
    "\\begin{bmatrix}\n",
    "1 & 2 & 3 & 4 & 5 \\\\\n",
    "6 & \\cellcolor{black!20}{7} & \\cellcolor{black!20}{8} & \\cellcolor{black!20}{9} & 10 \\\\\n",
    "11 & \\cellcolor{black!20}{12} & \\cellcolor{black!20}{13} & \\cellcolor{black!20}{14} & 15 \\\\\n",
    "-1 & -2 & -3 & -4 & -5\n",
    "\\end{bmatrix}, \\quad \\\\\n",
    "A' =\n",
    "\\begin{bmatrix}\n",
    "7\\\\\n",
    "12\\\\\n",
    "-2\n",
    "\\end{bmatrix}\n",
    "$$"
   ]
  },
  {
   "cell_type": "code",
   "execution_count": 47,
   "id": "b2a432ea-beda-4584-bfea-20778d88bfbb",
   "metadata": {},
   "outputs": [
    {
     "name": "stdout",
     "output_type": "stream",
     "text": [
      "[[ 7]\n",
      " [12]\n",
      " [-2]]\n",
      "True\n",
      "(3, 1)\n"
     ]
    }
   ],
   "source": [
    "sub_A = A[1:4, 1:2]\n",
    "print(sub_A) # 2D Array\n",
    "print(np.shares_memory(A, sub_A))\n",
    "print(sub_A.shape)"
   ]
  },
  {
   "cell_type": "code",
   "execution_count": 48,
   "id": "10849c5e-1f98-4273-a1c4-5594445e9b09",
   "metadata": {},
   "outputs": [
    {
     "name": "stdout",
     "output_type": "stream",
     "text": [
      "[ 7 12 -2]\n",
      "True\n",
      "(3,)\n"
     ]
    }
   ],
   "source": [
    "sub_A = A[1:4, 1]\n",
    "print(sub_A) # 1D Array\n",
    "print(np.shares_memory(A, sub_A))\n",
    "print(sub_A.shape)"
   ]
  },
  {
   "cell_type": "code",
   "execution_count": 49,
   "id": "201c947f-9eba-416a-90e5-083e06417044",
   "metadata": {},
   "outputs": [
    {
     "name": "stdout",
     "output_type": "stream",
     "text": [
      "[[ 7]\n",
      " [12]\n",
      " [-2]]\n",
      "[[ 7]\n",
      " [12]\n",
      " [-2]]\n"
     ]
    }
   ],
   "source": [
    "print(np.reshape(sub_A, (3, 1)))\n",
    "print(np.reshape(sub_A, (3, -1))) # 1 is computed automatically"
   ]
  },
  {
   "cell_type": "markdown",
   "id": "b6ac4c88-38c8-4538-beb7-ce65b840da6d",
   "metadata": {},
   "source": [
    "## Practice 1."
   ]
  },
  {
   "cell_type": "markdown",
   "id": "7ab56a61-a15b-4cb3-8b89-a9e832b7d799",
   "metadata": {},
   "source": [
    "$$\n",
    "A = \\begin{bmatrix}\n",
    "1 & 2 & 3 & 4 & 5 \\\\\n",
    "6 & 7 & 8 & 9 & 10 \\\\\n",
    "11 & 12 & 13 & 14 & 15 \\\\\n",
    "-1 & -2 & -3 & -4 & -5\n",
    "\\end{bmatrix}, \\quad\n",
    "B = \\begin{bmatrix}\n",
    "2 & 7 & 12 & -2 \\\\\n",
    "3 & 8 & 13 & -3 \\\\\n",
    "4 & 9 & 14 & -4\n",
    "\\end{bmatrix}\n",
    "$$"
   ]
  },
  {
   "cell_type": "markdown",
   "id": "3fc2d52f-0d9c-4ca2-99b9-8e7fc1a77376",
   "metadata": {},
   "source": [
    "1. Store matrix $A$ as a 2D Array in variable A\n",
    "2. Save the 2nd, 3rd, 4th column vectors of $A$ as $v_1$, $v_2$, $v_3$\n",
    "3. Use $v_1$, $v_2$, $v_3$ to form $B$\n",
    "4. Compute a matrix vector product of $B$ and $v_1$"
   ]
  },
  {
   "cell_type": "markdown",
   "id": "8e00d93f-c4d4-4f1b-a473-dc06ae9cbf0e",
   "metadata": {},
   "source": [
    "1. Store matrix $A$ as a 2D Array in variable A"
   ]
  },
  {
   "cell_type": "code",
   "execution_count": 50,
   "id": "c273c167-d3cb-4fc7-96f2-88e678f58bdf",
   "metadata": {},
   "outputs": [],
   "source": [
    "A = np.array([\n",
    "    [1, 2, 3, 4, 5],\n",
    "    [6, 7, 8, 9, 10],\n",
    "    [11, 12, 13, 14, 15],\n",
    "    [-1, -2, -3, -4, -5]\n",
    "])"
   ]
  },
  {
   "cell_type": "markdown",
   "id": "39e9be20-13e5-454e-922e-eeffca1ed8a8",
   "metadata": {},
   "source": [
    "2. Save the 2nd, 3rd, 4th column vectors of $A$ as $v_1$, $v_2$, $v_3$\n"
   ]
  },
  {
   "cell_type": "code",
   "execution_count": 51,
   "id": "40200d1d-29aa-4afb-a115-f261513a1600",
   "metadata": {},
   "outputs": [],
   "source": [
    "v1 = A[:, 1] # 1D Array, hereafter\n",
    "v2 = A[:, 2]\n",
    "v3 = A[:, 3]"
   ]
  },
  {
   "cell_type": "markdown",
   "id": "b32f9731-5dcc-4306-88a8-96c524b92771",
   "metadata": {},
   "source": [
    "3. Use $v_1$, $v_2$, $v_3$ to form $B$"
   ]
  },
  {
   "cell_type": "code",
   "execution_count": 52,
   "id": "7bae2735-70ca-461e-a1e2-9d99134c50ea",
   "metadata": {},
   "outputs": [
    {
     "name": "stdout",
     "output_type": "stream",
     "text": [
      "[[ 2  7 12 -2]\n",
      " [ 3  8 13 -3]\n",
      " [ 4  9 14 -4]]\n"
     ]
    }
   ],
   "source": [
    "B = np.vstack((v1, v2, v3))\n",
    "print(B)"
   ]
  },
  {
   "cell_type": "markdown",
   "id": "bf85baa5-c8ce-442c-b266-6a2375cfa1f4",
   "metadata": {},
   "source": [
    "4. Compute a matrix vector product of $B$ and $v_1$"
   ]
  },
  {
   "cell_type": "code",
   "execution_count": 53,
   "id": "2fe5ed64-ae11-47a6-89dc-988d3b2d8733",
   "metadata": {},
   "outputs": [
    {
     "name": "stdout",
     "output_type": "stream",
     "text": [
      "[201 224 247]\n"
     ]
    }
   ],
   "source": [
    "if B.shape[1] == v1.size:  # should be true\n",
    "    result = np.matmul(B, v1) # B @ v1\n",
    "    print(result)"
   ]
  },
  {
   "cell_type": "markdown",
   "id": "9f73066a-dbf7-455d-beb3-b70d83c01b20",
   "metadata": {},
   "source": [
    "## Practice 2."
   ]
  },
  {
   "cell_type": "markdown",
   "id": "71428f06-3739-4e21-81c4-0b7731628f46",
   "metadata": {},
   "source": [
    "$$\n",
    "A = \\begin{bmatrix}\n",
    "1 & 2 \\\\\n",
    "3 & 4\n",
    "\\end{bmatrix}, \\quad\n",
    "\\mathbf{x} = \\begin{bmatrix}\n",
    "5 \\\\\n",
    "6\n",
    "\\end{bmatrix}\n",
    "$$"
   ]
  },
  {
   "cell_type": "markdown",
   "id": "650ec69f-d3dc-47a4-a1e7-5371720e3159",
   "metadata": {},
   "source": [
    "1. Store $A$ and $\\mathbf{x}$ as 2D and 1D Arrays respectively as A and x\n",
    "2. Check whether *np.transpose* works for the 1D Array\n",
    "3. Calculate the quadratic form, $\\mathbf{x}^\\top A\\mathbf{x}$\n",
    "   * $\\mathbf{x}^\\top$: use *np.reshape* instead\n",
    "   * use *np.vdot* to compute the quadratic form"
   ]
  },
  {
   "cell_type": "markdown",
   "id": "0731fe02-8d2d-4a72-9aa2-825e0b4dac02",
   "metadata": {},
   "source": [
    "1. Store $A$ and $\\mathbf{x}$ as 2D and 1D Arrays respectively as A and x"
   ]
  },
  {
   "cell_type": "code",
   "execution_count": 54,
   "id": "72e8e3be-4a50-4ed5-b21e-36f37e88a191",
   "metadata": {},
   "outputs": [
    {
     "name": "stdout",
     "output_type": "stream",
     "text": [
      "[[1 2]\n",
      " [3 4]]\n",
      "[5 6]\n"
     ]
    }
   ],
   "source": [
    "A = np.array([\n",
    "    [1, 2],\n",
    "    [3, 4]\n",
    "])\n",
    "x = np.array([5, 6])\n",
    "print(A)\n",
    "print(x)"
   ]
  },
  {
   "cell_type": "markdown",
   "id": "b4dd242d-c086-43a7-a73e-820ebae44495",
   "metadata": {},
   "source": [
    "2. Check whether *np.transpose* works for the 1D Array"
   ]
  },
  {
   "cell_type": "code",
   "execution_count": 55,
   "id": "bacf9464-f528-49a6-a202-ff159fb9b32d",
   "metadata": {},
   "outputs": [
    {
     "name": "stdout",
     "output_type": "stream",
     "text": [
      "[5 6]\n"
     ]
    }
   ],
   "source": [
    "print(x.T)"
   ]
  },
  {
   "cell_type": "markdown",
   "id": "afb123d7-8ba9-4dbd-b137-6fb581aec46c",
   "metadata": {},
   "source": [
    "3. Calculate the quadratic form, $\\mathbf{x}^\\top A\\mathbf{x}$\n",
    "   * $\\mathbf{x}^\\top$: use *np.reshape* instead\n",
    "   * use *np.vdot* to compute the quadratic form"
   ]
  },
  {
   "cell_type": "code",
   "execution_count": 56,
   "id": "6f05bc89-2ca8-4e4a-abb9-5c5336bcfa51",
   "metadata": {},
   "outputs": [],
   "source": [
    "# transpose of vector, x\n",
    "x_t = np.reshape(x, (2, 1))"
   ]
  },
  {
   "cell_type": "code",
   "execution_count": 57,
   "id": "60966f76-8b1d-49b7-9b16-cf27fc78b213",
   "metadata": {},
   "outputs": [
    {
     "data": {
      "text/plain": [
       "np.int64(319)"
      ]
     },
     "execution_count": 57,
     "metadata": {},
     "output_type": "execute_result"
    }
   ],
   "source": [
    "# quadratic form\n",
    "np.vdot(x_t, A @ x)"
   ]
  }
 ],
 "metadata": {
  "kernelspec": {
   "display_name": "Python 3 (ipykernel)",
   "language": "python",
   "name": "python3"
  },
  "language_info": {
   "codemirror_mode": {
    "name": "ipython",
    "version": 3
   },
   "file_extension": ".py",
   "mimetype": "text/x-python",
   "name": "python",
   "nbconvert_exporter": "python",
   "pygments_lexer": "ipython3",
   "version": "3.11.11"
  }
 },
 "nbformat": 4,
 "nbformat_minor": 5
}
