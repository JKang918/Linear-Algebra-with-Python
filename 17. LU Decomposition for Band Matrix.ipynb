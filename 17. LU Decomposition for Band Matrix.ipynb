{
 "cells": [
  {
   "cell_type": "markdown",
   "id": "3c8a8ae5-083e-44bd-9e46-5a850b8fecbb",
   "metadata": {},
   "source": [
    "# 1. LU Decomposition using Low-Level LAPACK Functions for Band Matrices (```linalg.get_lapack_funcs```)"
   ]
  },
  {
   "cell_type": "markdown",
   "id": "95ba7653-ee60-473a-8aff-16023388fdcf",
   "metadata": {},
   "source": [
    "* ```gbtrf``` LU decomposition $PA = LU$\n",
    "\n",
    "```python\n",
    "gbtrf = linalg.get_lapack_funcs(\"gbtrf\", dtype = np.float64)\n",
    "LU_band, piv, info = gbtrf(A_band_LU, lbw, ubw)\n",
    "```\n",
    "\n",
    "* ```LU_band``` - $L$ and $U$ are in band forms and stored in a single matrix\n",
    "* ```A_band_LU``` - band matrix, however, it is different from the forms we learned so far. More on this later in this post.\n",
    "* ```lbw``` - lower band width\n",
    "* ```ubw``` - upper band width\n",
    "* ```piv``` - 1D array: row interchange information\n",
    "* ```info``` - info=0 is normal, info>0 is singluar matrix, info<0: wrong input"
   ]
  },
  {
   "cell_type": "markdown",
   "id": "e71e4b63-9a19-4e5c-b85a-7e3b9529b82c",
   "metadata": {},
   "source": [
    "Example."
   ]
  },
  {
   "cell_type": "markdown",
   "id": "0ffbc220-b832-4bd6-b425-9b09ce9474f4",
   "metadata": {},
   "source": [
    "This is the original matrix we are trying to decompose using LU decomposition.\n",
    "\n",
    "$$\n",
    "A = \n",
    "\\begin{bmatrix}\n",
    "a_{00} & a_{01} & 0 & 0 & 0\\\\\n",
    "a_{10} & a_{11} & a_{12} & 0 & 0 \\\\\n",
    "a_{20} & a_{21} & a_{22} & a_{23} & 0 \\\\\n",
    "0 & a_{31} & a_{32} & a_{33} & a_{34} \\\\\n",
    "0 & 0 & a_{42} & a_{43} & a_{44}\n",
    "\\end{bmatrix}\n",
    "$$\n",
    "\n",
    "```lbw``` = 2, ```ubw``` = 1"
   ]
  },
  {
   "cell_type": "markdown",
   "id": "e8e92c79-8ce1-4f38-823d-a5e84f984a89",
   "metadata": {},
   "source": [
    "Now, we need to form a band matrix from the original matrix to use as input."
   ]
  },
  {
   "cell_type": "markdown",
   "id": "de4aa49d-3b05-4849-a183-46e5aa0aa579",
   "metadata": {},
   "source": [
    "Band matrix we are familiar with:\n",
    "\n",
    "$$\n",
    "\\tilde{A} = \n",
    "\\begin{bmatrix}\n",
    "0 & a_{01} & a_{12} & a_{23} & a_{34} \\\\\n",
    "a_{00} & a_{11} & a_{22} & a_{33} & a_{44} \\\\\n",
    "a_{10} & a_{21} & a_{32} & a_{43} & 0\\\\\n",
    "a_{20} & a_{31} & a_{42} &0    & 0\n",
    "\\end{bmatrix}\n",
    "$$\n",
    "\n",
    "$\\therefore$ row size of $\\tilde{A}$ = ```lbw``` + ```ubw``` + 1"
   ]
  },
  {
   "cell_type": "markdown",
   "id": "e05f0bde-3f7a-4250-8908-32c2047c3417",
   "metadata": {},
   "source": [
    "But this is the band matrix we are using for LU decomposition for band matrix (```gbtrf```). We vertically concat in the upside a dummay 2D array with the size of ```lbw``` \n",
    "\n",
    "$$\n",
    "\\tilde{A'} = \n",
    "\\begin{bmatrix}\n",
    "0 & 0 & 0 & x & x \\\\\n",
    "0 & 0 & x & x & x \\\\\n",
    "0 & a_{01} & a_{12} & a_{23} & a_{34} \\\\\n",
    "a_{00} & a_{11} & a_{22} & a_{33} & a_{44} \\\\\n",
    "a_{10} & a_{21} & a_{32} & a_{43} & 0\\\\\n",
    "a_{20} & a_{31} & a_{42} &0    & 0\n",
    "\\end{bmatrix}\n",
    "$$\n",
    "\n",
    "$\\therefore$ row size of $\\tilde{A'}$ = ```lbw``` + ```ubw``` + 1 + ```lbw```"
   ]
  },
  {
   "cell_type": "markdown",
   "id": "81bb4739-474d-4487-9ce2-1465aee26048",
   "metadata": {},
   "source": [
    "In python code, suppose we have the band matrix in a form we know as $\\tilde{A}$ as ```A_band```. Then, $\\tilde{A'}$, ```A_band_LU``` can be constructed as follows:\n",
    "\n",
    "```python\n",
    "dummy_array = np.zeros((lbw, A_band.shape[1]))\n",
    "A_band_LU = np.vstack((dummay_array, A_band))\n",
    "```\n",
    "\n",
    "```A_band_LU``` is the input variable for ```gbtrf``` function we have seen above."
   ]
  },
  {
   "cell_type": "markdown",
   "id": "5ea72394-4f1a-4398-9841-cffdd21f0642",
   "metadata": {},
   "source": [
    "How does the **output** look like then?"
   ]
  },
  {
   "cell_type": "markdown",
   "id": "1b1332a6-8d3c-42ca-8191-6d9241db787b",
   "metadata": {},
   "source": [
    "$$\n",
    "\\tilde{LU} = \n",
    "\\begin{bmatrix}\n",
    "0 & 0 & 0 & u_{03} & u_{04} \\\\\n",
    "0 & 0 & u_{02} & u_{13} & u_{24} \\\\\n",
    "0 & u_{01} & u_{12} & u_{23} & u_{34} \\\\\n",
    "u_{00} & u_{11} & u_{22} & u_{33} & u_{44} \\\\\n",
    "l_{01} & l_{21} & l_{32} & l_{43} & 0 \\\\\n",
    "l_{20} & l_{31} & l_{42} & 0 & 0\n",
    "\\end{bmatrix}\n",
    "$$"
   ]
  },
  {
   "cell_type": "markdown",
   "id": "df0ac69b-2d8d-40be-b6cc-d485d59ab0bb",
   "metadata": {},
   "source": [
    "Information of $L$ and $U$ are compressed and stored in a single matrix, $\\tilde{LU}$."
   ]
  },
  {
   "cell_type": "markdown",
   "id": "aa7f54ab-09b6-4c02-b06d-53a9863bd091",
   "metadata": {},
   "source": [
    "> Remark. In Scipy functions, the input variable, $A$ is intact. In constrast, in LAPACK, input variable $\\tilde{A'}$ is overwritten by $\\tilde{LU}$. That's why we went through trouble to change the form of input band matrix."
   ]
  },
  {
   "cell_type": "markdown",
   "id": "59d3a544-7fe8-47c1-b39c-649fa9347e5d",
   "metadata": {},
   "source": [
    "How to reconstruct $L$ and $U$?"
   ]
  },
  {
   "cell_type": "markdown",
   "id": "a53778d3-1d9d-4362-8ca8-8e85a66df26d",
   "metadata": {},
   "source": [
    "$$\n",
    "\\tilde{LU} = \n",
    "\\begin{bmatrix}\n",
    "0 & 0 & 0 & u_{03} & u_{04} \\\\\n",
    "0 & 0 & u_{02} & u_{13} & u_{24} \\\\\n",
    "0 & u_{01} & u_{12} & u_{23} & u_{34} \\\\\n",
    "u_{00} & u_{11} & u_{22} & u_{33} & u_{44} \\\\\n",
    "l_{01} & l_{21} & l_{32} & l_{43} & 0 \\\\\n",
    "l_{20} & l_{31} & l_{42} & 0 & 0\n",
    "\\end{bmatrix} \\; \\Rightarrow \\quad\n",
    "U = \n",
    "\\begin{bmatrix}\n",
    "u_{00} & u_{01} & u_{02} & u_{03} & u_{04} \\\\\n",
    "0 & u_{11} & u_{12} & u_{13} & u_{14} \\\\\n",
    "0& 0 & u_{22} & u_{23} & u_{24} \\\\\n",
    "0 & 0 & 0 & u_{33} & u_{34} \\\\\n",
    "0 & 0 & 0 & 0 & u_{44} \\\\\n",
    "\\end{bmatrix}, \\;\n",
    "$$\n",
    "\n",
    "So reconstructing $U$ is fairly straightforward."
   ]
  },
  {
   "cell_type": "markdown",
   "id": "efa7997c-b93e-473d-a168-9910304263ab",
   "metadata": {},
   "source": [
    "The hard part is reconstructing $L$. We assume ```piv = [ 2, 3, 4, 3, 4]```."
   ]
  },
  {
   "cell_type": "markdown",
   "id": "4a57703f-d0fb-484d-90bb-6c9b05ee0104",
   "metadata": {},
   "source": [
    "$$\n",
    "L_0 = \n",
    "\\begin{bmatrix}\n",
    "- &  &  &  &  \\\\\n",
    "l_{10}& - &  &  &  \\\\\n",
    "l_{20}& l_{21}  & -  &  &  \\\\\n",
    "& l_{31}  & l_{32}  & - &  \\\\\n",
    "&   & l_{42}  & l_{43}  & -  \\\\\n",
    "\\end{bmatrix}\n",
    "$$\n",
    "\n",
    "row interchange information **only under the diagonal entries**:\n",
    "\n",
    "0 <-> 2\\\n",
    "1 <-> 3\\\n",
    "2 <-> 4\\\n",
    "3 <-> 3\\\n",
    "4 <-> 4"
   ]
  },
  {
   "cell_type": "markdown",
   "id": "570b3d46-2a6d-4c27-8702-ff12eb530996",
   "metadata": {},
   "source": [
    "(0 <-> 2)\n",
    "If thie row interchange is made, $\\begin{bmatrix} l_{20}& l_{21} \\end{bmatrix}$ would end up in the positions above the diagonal entries. So, do **not** interchange."
   ]
  },
  {
   "cell_type": "markdown",
   "id": "4d78ac12-4d71-44be-8cae-b60ec2da7bf1",
   "metadata": {},
   "source": [
    "(1 <-> 3) For this row interchange, row1,  $\\begin{bmatrix} l_{10} \\end{bmatrix}$ can go to row3. But row 3 cannot go to row1 so  $\\begin{bmatrix} l_{31}& l_{32} \\end{bmatrix}$ will remain still.\n",
    "\n",
    "$$\n",
    "L_1 = \n",
    "\\begin{bmatrix}\n",
    "- &  &  &  &  \\\\\n",
    "& - &  &  &  \\\\\n",
    "l_{20}& l_{21}  & -  &  &  \\\\\n",
    "l_{10} & l_{31}  & l_{32}  & - &  \\\\\n",
    "&   & l_{42}  & l_{43}  & -  \\\\\n",
    "\\end{bmatrix}\n",
    "$$"
   ]
  },
  {
   "cell_type": "markdown",
   "id": "a0da31a8-453f-4191-8b5e-65d9075c7bab",
   "metadata": {},
   "source": [
    "(2 <-> 4) For this row interchange, row2,  $\\begin{bmatrix} l_{20} & l_{21} \\end{bmatrix}$ can go to row4. But row 4 cannot go to row2 so  $\\begin{bmatrix} l_{42}& l_{43} \\end{bmatrix}$ will remain still.\n",
    "\n",
    "$$\n",
    "L_2 = \n",
    "\\begin{bmatrix}\n",
    "- &  &  &  &  \\\\\n",
    "& - &  &  &  \\\\\n",
    "&   & -  &  &  \\\\\n",
    "l_{10} & l_{31}  & l_{32}  & - &  \\\\\n",
    "l_{20}& l_{21}   & l_{42}  & l_{43}  & -  \\\\\n",
    "\\end{bmatrix}\n",
    "$$"
   ]
  },
  {
   "cell_type": "markdown",
   "id": "94d27ed9-811f-4474-8da3-62027478b207",
   "metadata": {},
   "source": [
    "(3 <-> 3), (4 <-> 4) $\\rightarrow$ no interchange."
   ]
  },
  {
   "cell_type": "markdown",
   "id": "0f211b1d-4d69-43d5-b7a7-ce70575b0a70",
   "metadata": {},
   "source": [
    "At the end, add diagonal entries of $1$. This is $L$.\n",
    "\n",
    "$$\n",
    "L = \n",
    "\\begin{bmatrix}\n",
    "1 &  &  &  &  \\\\\n",
    "& 1 &  &  &  \\\\\n",
    "&   & 1  &  &  \\\\\n",
    "l_{10} & l_{31}  & l_{32}  & 1 &  \\\\\n",
    "l_{20}& l_{21}   & l_{42}  & l_{43}  & 1  \\\\\n",
    "\\end{bmatrix}\n",
    "$$"
   ]
  },
  {
   "cell_type": "markdown",
   "id": "1013816d-6794-4aad-9eda-7be36a00245b",
   "metadata": {},
   "source": [
    "Actual $A$ is $A = P^\\top LU$ and $P$ can be computed from the ```piv```."
   ]
  },
  {
   "cell_type": "markdown",
   "id": "a61d184e-7e56-4158-9579-deaab6501f9b",
   "metadata": {},
   "source": [
    "> Note that we walked through reconstruction processes for educational purpose and we do not actually do so in solving matrix equations. Otherwise it would defeat the whole purpose of going great length to use LAPACK function to do LU decomposition on band matrix in the first place."
   ]
  },
  {
   "cell_type": "code",
   "execution_count": 1,
   "id": "aed53059-748e-45e4-9113-cee7dd7e56db",
   "metadata": {},
   "outputs": [],
   "source": [
    "import numpy as np\n",
    "from scipy import linalg"
   ]
  },
  {
   "cell_type": "markdown",
   "id": "1cc7f1c7-30df-4e56-9a2f-05515497a316",
   "metadata": {},
   "source": [
    "Example."
   ]
  },
  {
   "cell_type": "markdown",
   "id": "185058ed-2643-4df4-b5ee-3fa530e8c63e",
   "metadata": {},
   "source": [
    "$$\n",
    "A =\n",
    "\\begin{bmatrix}\n",
    "1 & 2 & & & \\\\\n",
    "1 & 1 & 2 & & \\\\\n",
    "2 & 1 & 1 & 2 & \\\\\n",
    " & 2 & 1 & 1 & 2 \\\\\n",
    " &  & 2 & 1 & 1 \\\\\n",
    "\\end{bmatrix} \\; \\Rightarrow \\;\n",
    "\\tilde{A} =\n",
    "\\begin{bmatrix}\n",
    " &  &  & + & + \\\\\n",
    " &  & + & + & + \\\\\n",
    "0 & 2 & 2 & 2 & 1 \\\\\n",
    "1 & 1 & 1 & 1 & 1 \\\\\n",
    "1 & 1 & 1 & 1 & 0 \\\\\n",
    "2 & 2 & 2 & 0 & 0 \\\\\n",
    "\\end{bmatrix}\n",
    "$$, ```lbw``` = 2, ```ubw``` = 1 "
   ]
  },
  {
   "cell_type": "code",
   "execution_count": 2,
   "id": "f27ae279-1178-40ec-bbee-91d8ce4af119",
   "metadata": {},
   "outputs": [],
   "source": [
    "\"\"\" constructing input variable \"\"\"\n",
    "lbw = 2\n",
    "ubw = 1\n",
    "\n",
    "# Band Matrix we are familiar with\n",
    "A_band = np.array([\n",
    "    [0, 2, 2, 2, 1], #ub1\n",
    "    [1, 1, 1, 1, 1], #diag\n",
    "    [1, 1, 1, 1, 0], #lb1 \n",
    "    [2, 2, 2, 0, 0]  #lb2\n",
    "])\n",
    "\n",
    "# Dummy array\n",
    "dummy_array = np.zeros((lbw, A_band.shape[1]), dtype=np.float64)\n",
    "\n",
    "# Band matrix with dummay array concat -> input variable\n",
    "A_band_LU = np.vstack((dummy_array, A_band))"
   ]
  },
  {
   "cell_type": "code",
   "execution_count": 3,
   "id": "907af0b2-1feb-45b2-832a-518179fd2375",
   "metadata": {},
   "outputs": [
    {
     "name": "stdout",
     "output_type": "stream",
     "text": [
      "[[0. 0. 0. 0. 0.]\n",
      " [0. 0. 0. 0. 0.]\n",
      " [0. 2. 2. 2. 1.]\n",
      " [1. 1. 1. 1. 1.]\n",
      " [1. 1. 1. 1. 0.]\n",
      " [2. 2. 2. 0. 0.]]\n"
     ]
    }
   ],
   "source": [
    "# input for gbtrf\n",
    "print(A_band_LU)"
   ]
  },
  {
   "cell_type": "code",
   "execution_count": 4,
   "id": "e8b775d2-c138-4843-9d4b-167a11d54f46",
   "metadata": {},
   "outputs": [],
   "source": [
    "\"\"\" LAPACK function: gbtrf \"\"\"\n",
    "\n",
    "gbtrf = linalg.get_lapack_funcs(\"gbtrf\", dtype=np.float64)\n",
    "\n",
    "\"\"\" LU Decomposition with gbtrf \"\"\"\n",
    "\n",
    "LU_band, piv, info = gbtrf(A_band_LU, lbw, ubw)"
   ]
  },
  {
   "cell_type": "code",
   "execution_count": 5,
   "id": "0967c454-9883-4ea8-83c9-73c439d87201",
   "metadata": {},
   "outputs": [
    {
     "name": "stdout",
     "output_type": "stream",
     "text": [
      "[[ 0.     0.     0.     2.     1.   ]\n",
      " [ 0.     0.     1.     1.     1.   ]\n",
      " [ 0.     1.     1.     1.    -0.875]\n",
      " [ 2.     2.     2.    -1.875  0.4  ]\n",
      " [ 0.5    0.75   0.625  0.6    0.   ]\n",
      " [ 0.5    0.25  -0.625  0.     0.   ]]\n"
     ]
    }
   ],
   "source": [
    "\"\"\" Output \"\"\"\n",
    "# This is the LU-tilde we observed above.\n",
    "print(LU_band)"
   ]
  },
  {
   "cell_type": "markdown",
   "id": "a0bf6f1a-8252-4b7d-9197-4f2260d38bfb",
   "metadata": {},
   "source": [
    "# 2. LU Decomposition Solver using Low-Level LAPACK Functions for Band Matrices"
   ]
  },
  {
   "cell_type": "markdown",
   "id": "8bef669e-78f3-41ff-8354-252b60e23b10",
   "metadata": {},
   "source": [
    "* ```gbtrs``` LU decomposition Solver for Band Matrices\n",
    "\n",
    "```python\n",
    "gbtrs = linalg.get_lapack_funcs(\"gbtrs\", dtype=np.float64)\n",
    "\n",
    "x, info = gbtrs(LU_band, lbw, ubw, b, piv) # LU_band, piv are results of \"gbtrf\" / # info=0: normal, info<0: wrong input \n",
    "```"
   ]
  },
  {
   "cell_type": "markdown",
   "id": "57b3866d-4e21-4124-a25b-94df63df42c9",
   "metadata": {},
   "source": [
    "Example"
   ]
  },
  {
   "cell_type": "markdown",
   "id": "0751249a-5864-46d4-a1b3-c7fac44b6c5c",
   "metadata": {},
   "source": [
    "$$\n",
    "A =\n",
    "\\begin{bmatrix}\n",
    "1 & 2 & & & \\\\\n",
    "1 & 1 & 2 & & \\\\\n",
    "2 & 1 & 1 & 2 & \\\\\n",
    " & 2 & 1 & 1 & 2 \\\\\n",
    " &  & 2 & 1 & 1 \\\\\n",
    "\\end{bmatrix}, \\; \\;\n",
    "\\mathbf{b} =\n",
    "\\begin{bmatrix}\n",
    "1  \\\\\n",
    "1  \\\\\n",
    "1  \\\\\n",
    "1  \\\\\n",
    "1 \\\\\n",
    "\\end{bmatrix}\n",
    "$$"
   ]
  },
  {
   "cell_type": "markdown",
   "id": "8370d225-ddb2-4c95-8cf2-27779fdacb64",
   "metadata": {},
   "source": [
    "$$\n",
    "A \\mathbf{x} = \\mathbf{b}\n",
    "$$"
   ]
  },
  {
   "cell_type": "code",
   "execution_count": 6,
   "id": "d4dd6cc4-4bfc-4474-b887-6b8b65ef227f",
   "metadata": {},
   "outputs": [
    {
     "name": "stdout",
     "output_type": "stream",
     "text": [
      "0\n",
      "[ 1.   0.   0.  -0.5  1.5]\n"
     ]
    }
   ],
   "source": [
    "# original param\n",
    "# lbw = 2\n",
    "# ubw = 1\n",
    "\n",
    "# gbtrf results\n",
    "# LU_band\n",
    "# piv\n",
    "\n",
    "# b\n",
    "b = np.ones((5, ), dtype=np.float64)\n",
    "\n",
    "# gbtrs\n",
    "gbtrs = linalg.get_lapack_funcs(\"gbtrs\", dtype=np.float64)\n",
    "\n",
    "# Matrix equation solution\n",
    "x, info = gbtrs(LU_band, lbw, ubw, b, piv)\n",
    "print(info) # should be 0\n",
    "print(x)"
   ]
  },
  {
   "cell_type": "markdown",
   "id": "cc846f06-0d03-49c1-9e8c-de68b5d1238b",
   "metadata": {},
   "source": [
    "Example: Performance comparison - ```lu_factor```, ```lu_solve``` vs ```gbtrf```, ```gbtrs```\n",
    "\n",
    "$$\n",
    "A =\n",
    "\\begin{bmatrix}\n",
    "5 & 1 &        &        &        \\\\\n",
    "1 & 5 & 1     &        &        \\\\\n",
    "   & 1 & 5     & \\ddots &        \\\\\n",
    "   &    & \\ddots & \\ddots & 1     \\\\\n",
    "   &    &        & 1     & 5\n",
    "\\end{bmatrix}_{1000 \\times 1000}, \\; \\;\n",
    "\\mathbf{b} =\n",
    "\\begin{bmatrix}\n",
    "1  \\\\\n",
    "1  \\\\\n",
    "1  \\\\\n",
    "1  \\\\\n",
    "1 \\\\\n",
    "\\end{bmatrix}\n",
    "$$"
   ]
  },
  {
   "cell_type": "code",
   "execution_count": 7,
   "id": "00e30d70-213e-4b59-aa99-32d92c720dc8",
   "metadata": {},
   "outputs": [],
   "source": [
    "\"\"\" Full matrix \"\"\"\n",
    "off_diag = np.ones((999, ))\n",
    "A_full = 5*np.identity(1000) + np.diag(off_diag, k=1) + np.diag(off_diag, k=-1)"
   ]
  },
  {
   "cell_type": "code",
   "execution_count": 8,
   "id": "8add02b0-50f8-4a22-be12-f936518371be",
   "metadata": {},
   "outputs": [],
   "source": [
    "\"\"\" Band matrix \"\"\"\n",
    "row0 = np.hstack((np.array([0]), off_diag))\n",
    "row2 = np.hstack((off_diag, np.array([0])))\n",
    "A_band = np.vstack((row0, 5*np.ones((1000,)), row2))\n",
    "\n",
    "\"\"\" Band matrix with dummy array for gbtrf \"\"\"\n",
    "lbw = 1\n",
    "ubw = 1\n",
    "dummy_array = np.zeros((lbw, A_band.shape[1]), dtype=np.float64)\n",
    "A_band_LU = np.vstack((dummy_array, A_band)) # input"
   ]
  },
  {
   "cell_type": "code",
   "execution_count": 9,
   "id": "41180a56-b93f-414b-9212-fdbd39426656",
   "metadata": {},
   "outputs": [],
   "source": [
    "\"\"\" define gbtrf & gbtrs\"\"\"\n",
    "\n",
    "gbtrf = linalg.get_lapack_funcs(\"gbtrf\", dtype=np.float64)\n",
    "gbtrs = linalg.get_lapack_funcs(\"gbtrs\", dtype=np.float64)"
   ]
  },
  {
   "cell_type": "code",
   "execution_count": 10,
   "id": "ecd5308a-0216-40e6-926f-56fbbac62919",
   "metadata": {},
   "outputs": [],
   "source": [
    "import timeit"
   ]
  },
  {
   "cell_type": "code",
   "execution_count": 11,
   "id": "fbec8a52-b045-4921-ba93-c447310183f1",
   "metadata": {},
   "outputs": [],
   "source": [
    "b = np.ones((1000,), dtype=np.float64)"
   ]
  },
  {
   "cell_type": "code",
   "execution_count": 12,
   "id": "8c62aa1b-f806-4b26-91db-27cf65d505e9",
   "metadata": {},
   "outputs": [
    {
     "name": "stdout",
     "output_type": "stream",
     "text": [
      "time:  0.041245\n"
     ]
    }
   ],
   "source": [
    "\"\"\" method 1. LAPACK (Band) \"\"\"\n",
    "\n",
    "start = timeit.default_timer()\n",
    "LU_band, piv, info = gbtrf(A_band_LU, lbw, ubw)\n",
    "x_band, info = gbtrs(LU_band, lbw, ubw, b, piv)\n",
    "end = timeit.default_timer()\n",
    "\n",
    "time_band = end-start\n",
    "print(f'time: {time_band: .6f}')"
   ]
  },
  {
   "cell_type": "code",
   "execution_count": 13,
   "id": "07de9ac5-07de-461f-9771-3940debd8b52",
   "metadata": {},
   "outputs": [
    {
     "name": "stdout",
     "output_type": "stream",
     "text": [
      "time:  0.041858\n"
     ]
    }
   ],
   "source": [
    "\"\"\" method 2. lu_factor, lu_solve \"\"\"\n",
    "\n",
    "start = timeit.default_timer()\n",
    "lu, piv = linalg.lu_factor(A_full)\n",
    "x_full = linalg.lu_solve((lu, piv), b)\n",
    "end = timeit.default_timer()\n",
    "\n",
    "time_full = end-start\n",
    "print(f'time: {time_full: .6f}')"
   ]
  },
  {
   "cell_type": "code",
   "execution_count": 14,
   "id": "b6f4b9ca-56ed-45f3-9f17-dad7ba02515d",
   "metadata": {},
   "outputs": [
    {
     "data": {
      "text/plain": [
       "True"
      ]
     },
     "execution_count": 14,
     "metadata": {},
     "output_type": "execute_result"
    }
   ],
   "source": [
    "# Sanity check\n",
    "np.allclose(x_band, x_full)"
   ]
  },
  {
   "cell_type": "markdown",
   "id": "c4f0384b-50a7-45e3-8b45-3d010137cec8",
   "metadata": {},
   "source": [
    "> Result: Using LAPACK functions taking advantage of band matrix forms was way faster"
   ]
  },
  {
   "cell_type": "markdown",
   "id": "9eace1bf-399e-45de-86a1-c667adc253e1",
   "metadata": {},
   "source": [
    "## Practice: Performance evaluation"
   ]
  },
  {
   "cell_type": "markdown",
   "id": "8cee9c8c-0526-4467-84cf-67bf8a55b9f6",
   "metadata": {},
   "source": [
    "$$\n",
    "A =\n",
    "\\begin{bmatrix}\n",
    "5 & 1 &   j     &        &      &  \\\\\n",
    "1 & 5 & 1     &  j      &       & \\\\\n",
    "-j   & 1 & 5     & \\ddots & \\ddots &       \\\\\n",
    "   &  \\ddots  & \\ddots & \\ddots & 1  & j   \\\\\n",
    "      &    &     -j   & 1     & 5& 1\\\\\n",
    "   &    &        & -j     & 1 &5\n",
    "\\end{bmatrix}_{10000 \\times 10000}\n",
    "$$"
   ]
  },
  {
   "cell_type": "markdown",
   "id": "317ca285-dc48-470e-951e-24c5c5abbae0",
   "metadata": {},
   "source": [
    "With the Hermitian matrix, $A$,"
   ]
  },
  {
   "cell_type": "markdown",
   "id": "b86532c9-d43b-462a-9778-9f54a5ffa011",
   "metadata": {},
   "source": [
    "1. Use LU decomposition with the full matrix format\n",
    "2. Use Cholesky decomposition with the full matrix format\n",
    "3. Use LU decomposition with the band matrix format\n",
    "4. Use Cholesky decomposition with band matrix format"
   ]
  },
  {
   "cell_type": "markdown",
   "id": "bb0366b0-b185-4e47-8e66-ef701b70616a",
   "metadata": {},
   "source": [
    "Compare the computation times for each case."
   ]
  },
  {
   "cell_type": "code",
   "execution_count": 15,
   "id": "5a0d5d07-3207-47a4-8aff-494489efa84e",
   "metadata": {},
   "outputs": [],
   "source": [
    "b = np.ones((10000,), dtype=np.float64) # assumption"
   ]
  },
  {
   "cell_type": "code",
   "execution_count": 16,
   "id": "920e5c46-1898-406b-a204-d48322c21290",
   "metadata": {},
   "outputs": [],
   "source": [
    "\"\"\" Construct Full matrix \"\"\"\n",
    "off_diag1 = np.ones((9999, ))\n",
    "off_diag2 = np.ones((9998, ))\n",
    "A_full = 5*np.identity(10000) + np.diag(off_diag1, k=1) + np.diag(off_diag1, k=-1) + np.diag(off_diag2, k=2) * 1j + np.diag(off_diag2, k=-2) * 1j"
   ]
  },
  {
   "cell_type": "code",
   "execution_count": 17,
   "id": "9dba38f3-9b11-48ce-8ec1-e4becbc0ac9e",
   "metadata": {},
   "outputs": [],
   "source": [
    "\"\"\" Construct Band matrix \"\"\"\n",
    "row0 = np.hstack((np.ones((2, )), off_diag2))\n",
    "row1 = np.hstack((np.ones((1, )), off_diag1))\n",
    "row2 = np.diag(A_full)\n",
    "A_band = np.vstack((row0, row1, row2))"
   ]
  },
  {
   "cell_type": "code",
   "execution_count": 18,
   "id": "360c5228-6de4-4fce-b105-dcc4b3414d28",
   "metadata": {},
   "outputs": [],
   "source": [
    "\"\"\" Construct Band matrix (gbtrf, gbtrs) \"\"\"\n",
    "lbw = 2\n",
    "ubw = 2\n",
    "dummy_array = np.zeros((lbw, A_band.shape[1]), dtype=np.float64)\n",
    "A_band_LU = np.vstack((dummy_array, A_band)) # input for gbtrf, gbtrs"
   ]
  },
  {
   "cell_type": "code",
   "execution_count": 19,
   "id": "12f32ceb-e277-4fec-b007-029c515e4b5f",
   "metadata": {},
   "outputs": [],
   "source": [
    "\"\"\" Define gbtrf, gbtrs \"\"\"\n",
    "gbtrf = linalg.get_lapack_funcs(\"gbtrf\", dtype=np.float64)\n",
    "gbtrs = linalg.get_lapack_funcs(\"gbtrs\", dtype=np.float64)"
   ]
  },
  {
   "cell_type": "code",
   "execution_count": 20,
   "id": "398ae3c2-e59c-4f26-b01a-71fbdb4d32f1",
   "metadata": {},
   "outputs": [
    {
     "name": "stdout",
     "output_type": "stream",
     "text": [
      "time - LU decomp with full matrix:  14.134139\n",
      "time - LU solve with full matrix:  0.089523\n"
     ]
    }
   ],
   "source": [
    "\"\"\" method 1. LU decomposition with full matrix \"\"\"\n",
    "\n",
    "start = timeit.default_timer()\n",
    "\n",
    "lu, piv = linalg.lu_factor(A_full)\n",
    "\n",
    "end = timeit.default_timer()\n",
    "\n",
    "time_lu_decomp = end-start\n",
    "print(f'time - LU decomp with full matrix: {time_lu_decomp: .6f}')\n",
    "\n",
    "# --- #\n",
    "\n",
    "start = timeit.default_timer()\n",
    "\n",
    "x_full = linalg.lu_solve((lu, piv), b)\n",
    "\n",
    "end = timeit.default_timer()\n",
    "\n",
    "time_lu_solve = end-start\n",
    "print(f'time - LU solve with full matrix: {time_lu_solve: .6f}')"
   ]
  },
  {
   "cell_type": "code",
   "execution_count": 21,
   "id": "76ecba5b-482d-440f-a0ad-8f9346d24f32",
   "metadata": {},
   "outputs": [
    {
     "name": "stdout",
     "output_type": "stream",
     "text": [
      "time - Cholesky decomp with full matrix:  12.449920\n",
      "time - Cholesky solve with full matrix:  0.910994\n"
     ]
    }
   ],
   "source": [
    "\"\"\" method 2. Cholesky decomposition with full matrix \"\"\"\n",
    "\n",
    "start = timeit.default_timer()\n",
    "\n",
    "U = linalg.cholesky(A_full, lower=False)\n",
    "\n",
    "end = timeit.default_timer()\n",
    "\n",
    "time_cho_decomp = end-start\n",
    "print(f'time - Cholesky decomp with full matrix: {time_cho_decomp: .6f}')\n",
    "\n",
    "# --- #\n",
    "\n",
    "start = timeit.default_timer()\n",
    "\n",
    "x = linalg.cho_solve((U, False), b)\n",
    "\n",
    "end = timeit.default_timer()\n",
    "\n",
    "time_cho_solve = end-start\n",
    "print(f'time - Cholesky solve with full matrix: {time_cho_solve: .6f}')"
   ]
  },
  {
   "cell_type": "code",
   "execution_count": 22,
   "id": "7d047b28-46d8-47ae-9777-4b3061760f5e",
   "metadata": {},
   "outputs": [
    {
     "name": "stdout",
     "output_type": "stream",
     "text": [
      "time - LU decomp with band matrix:  0.067160\n",
      "time - LU solve with band matrix:  0.001418\n"
     ]
    },
    {
     "name": "stderr",
     "output_type": "stream",
     "text": [
      "C:\\Users\\jhkan\\AppData\\Local\\Temp\\ipykernel_26856\\298071400.py:5: ComplexWarning: Casting complex values to real discards the imaginary part\n",
      "  LU_band, piv, info = gbtrf(A_band_LU, lbw, ubw) #LAPACK # A_band_LU\n"
     ]
    }
   ],
   "source": [
    "\"\"\" method 3. LU decomposition with band matrix (LAPACK) \"\"\"\n",
    "\n",
    "start = timeit.default_timer()\n",
    "\n",
    "LU_band, piv, info = gbtrf(A_band_LU, lbw, ubw) #LAPACK # A_band_LU\n",
    "\n",
    "end = timeit.default_timer()\n",
    "\n",
    "time_lu_decomp_band = end-start\n",
    "print(f'time - LU decomp with band matrix: {time_lu_decomp_band: .6f}')\n",
    "\n",
    "# --- #\n",
    "\n",
    "start = timeit.default_timer()\n",
    "\n",
    "x_band, info = gbtrs(LU_band, lbw, ubw, b, piv) # LAPACK\n",
    "\n",
    "end = timeit.default_timer()\n",
    "\n",
    "time_lu_solve_band = end-start\n",
    "print(f'time - LU solve with band matrix: {time_lu_solve_band: .6f}')"
   ]
  },
  {
   "cell_type": "code",
   "execution_count": 23,
   "id": "e5896422-311a-4984-ab68-acd34131c7ef",
   "metadata": {},
   "outputs": [
    {
     "name": "stdout",
     "output_type": "stream",
     "text": [
      "time - Cholesky decomp with band matrix:  0.046657\n",
      "time - Cholesky solve with band matrix:  0.004490\n"
     ]
    }
   ],
   "source": [
    "\"\"\" method 4. Cholesky decomposition with band matrix \"\"\"\n",
    "\n",
    "start = timeit.default_timer()\n",
    "\n",
    "U_band = linalg.cholesky_banded(A_band, lower=False)\n",
    "\n",
    "end = timeit.default_timer()\n",
    "\n",
    "time_cho_decomp_band = end-start\n",
    "print(f'time - Cholesky decomp with band matrix: {time_cho_decomp_band: .6f}')\n",
    "\n",
    "# --- #\n",
    "\n",
    "start = timeit.default_timer()\n",
    "\n",
    "x = linalg.cho_solve_banded((U_band, False), b)\n",
    "\n",
    "end = timeit.default_timer()\n",
    "\n",
    "time_cho_solve_band = end-start\n",
    "print(f'time - Cholesky solve with band matrix: {time_cho_solve_band: .6f}')"
   ]
  },
  {
   "cell_type": "markdown",
   "id": "056fc298-1233-431c-a1ac-fcb9fe69a1a8",
   "metadata": {},
   "source": [
    "Summary:"
   ]
  },
  {
   "cell_type": "markdown",
   "id": "d41ea802-beac-40c8-ac5e-3dbd3af61156",
   "metadata": {},
   "source": [
    "1. Decomposition"
   ]
  },
  {
   "cell_type": "code",
   "execution_count": 24,
   "id": "a7c5f08d-2257-4137-bd7e-fb39d504d485",
   "metadata": {},
   "outputs": [
    {
     "name": "stdout",
     "output_type": "stream",
     "text": [
      "time - LU decomp with full matrix:  14.134139\n",
      "time - Cholesky decomp with full matrix:  12.449920\n",
      "time - LU decomp with band matrix:  0.067160\n",
      "time - Cholesky decomp with band matrix:  0.046657\n"
     ]
    }
   ],
   "source": [
    "print(f'time - LU decomp with full matrix: {time_lu_decomp: .6f}')\n",
    "print(f'time - Cholesky decomp with full matrix: {time_cho_decomp: .6f}')\n",
    "print(f'time - LU decomp with band matrix: {time_lu_decomp_band: .6f}') #LAPACK\n",
    "print(f'time - Cholesky decomp with band matrix: {time_cho_decomp_band: .6f}')"
   ]
  },
  {
   "cell_type": "markdown",
   "id": "def1cd6b-ef87-4a12-8cee-4a29dc2241d8",
   "metadata": {},
   "source": [
    "2. Solver"
   ]
  },
  {
   "cell_type": "code",
   "execution_count": 25,
   "id": "6014fe73-b4e1-410f-b1c2-ba30137d1961",
   "metadata": {},
   "outputs": [
    {
     "name": "stdout",
     "output_type": "stream",
     "text": [
      "time - LU solve with full matrix:  0.089523\n",
      "time - Cholesky solve with full matrix:  0.910994\n",
      "time - LU solve with band matrix:  0.001418\n",
      "time - Cholesky solve with band matrix:  0.004490\n"
     ]
    }
   ],
   "source": [
    "print(f'time - LU solve with full matrix: {time_lu_solve: .6f}')\n",
    "print(f'time - Cholesky solve with full matrix: {time_cho_solve: .6f}')\n",
    "print(f'time - LU solve with band matrix: {time_lu_solve_band: .6f}')\n",
    "print(f'time - Cholesky solve with band matrix: {time_cho_solve_band: .6f}')"
   ]
  }
 ],
 "metadata": {
  "kernelspec": {
   "display_name": "Python 3 (ipykernel)",
   "language": "python",
   "name": "python3"
  },
  "language_info": {
   "codemirror_mode": {
    "name": "ipython",
    "version": 3
   },
   "file_extension": ".py",
   "mimetype": "text/x-python",
   "name": "python",
   "nbconvert_exporter": "python",
   "pygments_lexer": "ipython3",
   "version": "3.11.7"
  }
 },
 "nbformat": 4,
 "nbformat_minor": 5
}
