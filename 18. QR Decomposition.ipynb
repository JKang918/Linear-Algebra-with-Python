{
 "cells": [
  {
   "cell_type": "markdown",
   "id": "3c8a8ae5-083e-44bd-9e46-5a850b8fecbb",
   "metadata": {},
   "source": [
    "# 1. QR Decomposition (```linalg.qr```)"
   ]
  },
  {
   "cell_type": "markdown",
   "id": "785f95b7-4272-4625-bcc1-97d2bc151cee",
   "metadata": {},
   "source": [
    "$$\n",
    "A = QR\n",
    "$$\n",
    "\n",
    "\n",
    "$A \\in \\mathbb{R}^{m \\times n}$,  $Q \\in \\mathbb{R}^{m \\times m}$,  $R \\in \\mathbb{R}^{m \\times n}$ \n",
    "\n",
    "* $Q$: Orthogonal matrix\n",
    "* $QR$: representation of $A$ in terms of orthonormal basis\n",
    "* Actual computational method used - Not Gram-Schmidt but **Householder** method (O(n$^2$)) For more on this, refer to [QR algorithm](https://github.com/JKang918/Linear-Algebra-with-Python/blob/main/11.%20Overview%20-%20QR%20Algorithm.ipynb)"
   ]
  },
  {
   "cell_type": "markdown",
   "id": "95ba7653-ee60-473a-8aff-16023388fdcf",
   "metadata": {},
   "source": [
    "```python\n",
    "Q, R = lingalg.qr(A, mode=\"full\") # default # not recommended \n",
    "Q, R = lingalg.qr(A, mode=\"economic\") # recommended\n",
    "```\n",
    "\n",
    "* corresponding Lapack function: ```geqrf```, ```orgqr```, ```ungqr```\n",
    "\n",
    "```mode=\"full\"``` returns $Q \\in \\mathbb{R}^{m \\times m}$,  $R \\in \\mathbb{R}^{m \\times n}$, per QR Decomposition.\n",
    "\n",
    "$$\n",
    "\\begin{bmatrix}\n",
    "| & | &        & | \\\\\n",
    "\\mathbf{a}_1 & \\mathbf{a}_2 & \\cdots & \\mathbf{a}_n \\\\\n",
    "| & | &        & |\n",
    "\\end{bmatrix}\n",
    "=\n",
    "\\begin{bmatrix}\n",
    "| & | &        & | \\\\\n",
    "\\mathbf{q}_1 & \\mathbf{q}_2 & \\cdots & \\mathbf{q}_m \\\\\n",
    "| & | &        & |\n",
    "\\end{bmatrix}\n",
    "\\begin{bmatrix}\n",
    "\\mathbf{a}_1 \\cdot \\mathbf{q}_1 & \\mathbf{a}_2 \\cdot \\mathbf{q}_1 & \\cdots & \\mathbf{a}_n \\cdot \\mathbf{q}_1 \\\\\n",
    "0 & \\mathbf{a}_2 \\cdot \\mathbf{q}_2 & \\cdots & \\mathbf{a}_n \\cdot \\mathbf{q}_2 \\\\\n",
    "\\vdots & \\ddots & \\ddots & \\vdots \\\\\n",
    "0 & \\cdots & 0 & \\mathbf{a}_n \\cdot \\mathbf{q}_n \\\\\n",
    "0 & \\cdots & 0 &  0 \\\\\n",
    "\\vdots & \\ddots & \\ddots & \\vdots \\\\\n",
    "0 & \\cdots & 0 &  0 \\\\\n",
    "\\end{bmatrix}\n",
    "$$\n",
    "\n",
    "\n",
    "```mode=\"economic\"``` returns $Q \\in \\mathbb{R}^{m \\times n}$,  $R \\in \\mathbb{R}^{n \\times n}$ (m $\\geq$ n)\n",
    "\n",
    "\n",
    "$$\n",
    "\\begin{bmatrix}\n",
    "| & | &        & | \\\\\n",
    "\\mathbf{a}_1 & \\mathbf{a}_2 & \\cdots & \\mathbf{a}_n \\\\\n",
    "| & | &        & |\n",
    "\\end{bmatrix}\n",
    "=\n",
    "\\begin{bmatrix}\n",
    "| & | &        & | \\\\\n",
    "\\mathbf{q}_1 & \\mathbf{q}_2 & \\cdots & \\mathbf{q}_n \\\\\n",
    "| & | &        & |\n",
    "\\end{bmatrix}\n",
    "\\begin{bmatrix}\n",
    "\\mathbf{a}_1 \\cdot \\mathbf{q}_1 & \\mathbf{a}_2 \\cdot \\mathbf{q}_1 & \\cdots & \\mathbf{a}_n \\cdot \\mathbf{q}_1 \\\\\n",
    "0 & \\mathbf{a}_2 \\cdot \\mathbf{q}_2 & \\cdots & \\mathbf{a}_n \\cdot \\mathbf{q}_2 \\\\\n",
    "\\vdots & \\ddots & \\ddots & \\vdots \\\\\n",
    "0 & \\cdots & 0 & \\mathbf{a}_n \\cdot \\mathbf{q}_n \\\\\n",
    "\\end{bmatrix}\n",
    "$$\n"
   ]
  },
  {
   "cell_type": "markdown",
   "id": "e71e4b63-9a19-4e5c-b85a-7e3b9529b82c",
   "metadata": {},
   "source": [
    "Example. Economic case"
   ]
  },
  {
   "cell_type": "markdown",
   "id": "8fc6843c-6609-45f6-ad22-25d876245507",
   "metadata": {},
   "source": [
    "$$\n",
    "A = \n",
    "\\begin{bmatrix}\n",
    "1 & 0 & 0\\\\\n",
    "1 & 1 & 0\\\\\n",
    "1 & 1 & 1\\\\\n",
    "1 & 1 & 1\\\\\n",
    "\\end{bmatrix}, \\quad\n",
    "Q = \n",
    "\\begin{bmatrix}\n",
    "1/2 & -3/\\sqrt{12} &  0\\\\\n",
    "1/2 &  1/\\sqrt{12} & -2/\\sqrt{6}\\\\\n",
    "1/2 &  1/\\sqrt{12} &  1/\\sqrt{6}\\\\\n",
    "1/2 &  1/\\sqrt{12} &  1/\\sqrt{6}\\\\\n",
    "\\end{bmatrix} \\approx\n",
    "\\begin{bmatrix}\n",
    "0.5 & -0.8660 & 0\\\\\n",
    "0.5 &  0.2887 & -0.8165/\\sqrt{6}\\\\\n",
    "0.5 &  0.2887 &  0.4082\\\\\n",
    "0.5 &  0.2887 &  0.4082\\\\\n",
    "\\end{bmatrix} \n",
    ", \\quad\n",
    "R = \n",
    "\\begin{bmatrix}\n",
    "2 & 3/2 &  1\\\\\n",
    "0 &  3/\\sqrt{12} & 2/\\sqrt{12}\\\\\n",
    "0 &  0 &  2/\\sqrt{6}\\\\\n",
    "\\end{bmatrix} \\approx\n",
    "\\begin{bmatrix}\n",
    "2 & 1.5 &  1\\\\\n",
    "0 &  0.8660 & 0.5774\\\\\n",
    "0 &  0 &  0.8165\\\\\n",
    "\\end{bmatrix}\n",
    "$$"
   ]
  },
  {
   "cell_type": "code",
   "execution_count": 1,
   "id": "aed53059-748e-45e4-9113-cee7dd7e56db",
   "metadata": {},
   "outputs": [],
   "source": [
    "import numpy as np\n",
    "from scipy import linalg"
   ]
  },
  {
   "cell_type": "code",
   "execution_count": 2,
   "id": "f27ae279-1178-40ec-bbee-91d8ce4af119",
   "metadata": {},
   "outputs": [],
   "source": [
    "\"\"\" constructing A \"\"\"\n",
    "\n",
    "A = np.tri(4, 3, k=0, dtype=np.float64)"
   ]
  },
  {
   "cell_type": "code",
   "execution_count": 3,
   "id": "907af0b2-1feb-45b2-832a-518179fd2375",
   "metadata": {},
   "outputs": [],
   "source": [
    "\"\"\" QR Decomposition \"\"\"\n",
    "\n",
    "Q, R = linalg.qr(A, mode=\"economic\")"
   ]
  },
  {
   "cell_type": "code",
   "execution_count": 4,
   "id": "e8b775d2-c138-4843-9d4b-167a11d54f46",
   "metadata": {},
   "outputs": [
    {
     "name": "stdout",
     "output_type": "stream",
     "text": [
      "[[-0.5         0.8660254   0.        ]\n",
      " [-0.5        -0.28867513  0.81649658]\n",
      " [-0.5        -0.28867513 -0.40824829]\n",
      " [-0.5        -0.28867513 -0.40824829]]\n",
      "[[-2.         -1.5        -1.        ]\n",
      " [ 0.         -0.8660254  -0.57735027]\n",
      " [ 0.          0.         -0.81649658]]\n"
     ]
    }
   ],
   "source": [
    "print(Q)\n",
    "print(R)"
   ]
  },
  {
   "cell_type": "code",
   "execution_count": 5,
   "id": "d104a274-50bd-43de-a1f0-456615a42afa",
   "metadata": {},
   "outputs": [
    {
     "name": "stdout",
     "output_type": "stream",
     "text": [
      "[[ 1.00000000e+00  8.69063787e-17 -1.34358683e-16]\n",
      " [ 1.00000000e+00  1.00000000e+00  1.61842956e-16]\n",
      " [ 1.00000000e+00  1.00000000e+00  1.00000000e+00]\n",
      " [ 1.00000000e+00  1.00000000e+00  1.00000000e+00]]\n",
      "True\n"
     ]
    }
   ],
   "source": [
    "\"\"\" A = QR \"\"\"\n",
    "print(Q @ R)\n",
    "print(np.allclose(A, Q@R))"
   ]
  },
  {
   "cell_type": "markdown",
   "id": "a0bf6f1a-8252-4b7d-9197-4f2260d38bfb",
   "metadata": {},
   "source": [
    "# 2. (Crude Replication of) One-Step Approach for QR Algorithm "
   ]
  },
  {
   "cell_type": "markdown",
   "id": "8bef669e-78f3-41ff-8354-252b60e23b10",
   "metadata": {},
   "source": [
    "$$\n",
    "A = Q_1 R_1 \\rightarrow A_1 = R_1Q_1\n",
    "$$\n",
    "$$\n",
    "A_1 = Q_2 R_2 \\rightarrow A_2 = R_2Q_2\n",
    "$$\n",
    "$$\n",
    "\\vdots\n",
    "$$\n",
    "$$\n",
    "A_{k-1} = Q_k R_k \\rightarrow A_k = R_kQ_k\n",
    "$$\n",
    "\n",
    "Then, $A_k$ converges to an upper triangular matrix (Schur form). All $A_i$'s are similar. The diagonal entries of $A_k$ are eigenvalues."
   ]
  },
  {
   "cell_type": "markdown",
   "id": "0751249a-5864-46d4-a1b3-c7fac44b6c5c",
   "metadata": {},
   "source": [
    "$$\n",
    "A =\n",
    "\\begin{bmatrix}\n",
    "1 & 3 & 3\\\\\n",
    "-3 & -5 & -3 \\\\\n",
    "3 & 3 & 1 \n",
    "\\end{bmatrix}\n",
    "$$\n",
    "\n",
    "Eigenvalues: $\\lambda_1 = 1$, $\\lambda_2 = -2$, $\\lambda_3 = -2$"
   ]
  },
  {
   "cell_type": "code",
   "execution_count": 6,
   "id": "d4dd6cc4-4bfc-4474-b887-6b8b65ef227f",
   "metadata": {},
   "outputs": [],
   "source": [
    "A = np.array([\n",
    "    [1, 3, 3],\n",
    "    [-3, -5, -3],\n",
    "    [3, 3, 1]\n",
    "])"
   ]
  },
  {
   "cell_type": "code",
   "execution_count": 7,
   "id": "bb6ce67f-e3ca-4d8f-aad3-15a21bbbc562",
   "metadata": {},
   "outputs": [
    {
     "name": "stdout",
     "output_type": "stream",
     "text": [
      "[ 1.+0.j -2.+0.j -2.+0.j]\n"
     ]
    }
   ],
   "source": [
    "\"\"\" linalg.eig \"\"\"\n",
    "eigvals = linalg.eig(A, right=False)\n",
    "print(eigvals)"
   ]
  },
  {
   "cell_type": "code",
   "execution_count": 8,
   "id": "d526f047-0b53-487e-80ea-9d54ee203451",
   "metadata": {},
   "outputs": [
    {
     "name": "stdout",
     "output_type": "stream",
     "text": [
      "[[-2.00000000e+00  1.01865655e-15  7.34846923e+00]\n",
      " [-1.85353854e-16 -2.00000000e+00  4.24264069e+00]\n",
      " [-9.66153348e-31  5.57808895e-31  1.00000000e+00]]\n"
     ]
    },
    {
     "data": {
      "text/plain": [
       "array([-2., -2.,  1.])"
      ]
     },
     "execution_count": 8,
     "metadata": {},
     "output_type": "execute_result"
    }
   ],
   "source": [
    "\"\"\" Custom QR algorithm (educational purpose) \"\"\"\n",
    "\n",
    "for _ in range(100):\n",
    "    Q, R = linalg.qr(A, mode=\"economic\")\n",
    "    A = R@Q\n",
    "\n",
    "print(A) # upper triangular\n",
    "np.diag(A) # eigenvalues"
   ]
  },
  {
   "cell_type": "markdown",
   "id": "a6162094-392f-4bc1-85d8-1a22868a6b4e",
   "metadata": {},
   "source": [
    "# 3. Hessenberg Reduction (reference: QR Algorithm, Two-step approach)"
   ]
  },
  {
   "cell_type": "markdown",
   "id": "4fe5443d-a81e-4d86-83c7-8f313793c2eb",
   "metadata": {},
   "source": [
    "$$\n",
    "A = UHU^\\top \\qquad A = UHU^H\n",
    "$$\n",
    "\n",
    "$H$: upper Hessenberg, $U$: orthogonal or unitary matrix\n",
    "\n",
    "$$\n",
    "H=\n",
    "\\begin{bmatrix}\n",
    "x & x & x & x & x \\\\\n",
    "x & x & x & x & x \\\\\n",
    " & x & x & x & x \\\\\n",
    " &  & x & x & x \\\\\n",
    " & & & x & x\n",
    "\\end{bmatrix}\n",
    "$$\n",
    "\n",
    "```python\n",
    "H = linalg.hessenberg(A, calc_q=False) # default\n",
    "H, U = linalg.hessenberg(A, calc_q=True)\n",
    "```\n",
    "\n",
    "* corresponding Lapack function: ```gehrd```, ```orghr```, ```unghr```\n",
    "\n",
    "For more detail, refer to [QR algorithm](https://github.com/JKang918/Linear-Algebra-with-Python/blob/main/11.%20Overview%20-%20QR%20Algorithm.ipynb), Two step approach"
   ]
  },
  {
   "cell_type": "code",
   "execution_count": 9,
   "id": "1f9065ae-7d45-4898-bcff-24d827c47feb",
   "metadata": {},
   "outputs": [],
   "source": [
    "A = np.random.rand(10, 10)\n",
    "# H = linalg.hessenberg(A)\n",
    "H, U = linalg.hessenberg(A, calc_q=True)\n",
    "# print(A)\n",
    "# print(H)"
   ]
  },
  {
   "cell_type": "code",
   "execution_count": 10,
   "id": "b6f4b9ca-56ed-45f3-9f17-dad7ba02515d",
   "metadata": {},
   "outputs": [
    {
     "name": "stdout",
     "output_type": "stream",
     "text": [
      "True\n"
     ]
    }
   ],
   "source": [
    "\"\"\" Sanity Check \"\"\"\n",
    "\n",
    "print(np.allclose(A, U@H@U.T))"
   ]
  },
  {
   "cell_type": "markdown",
   "id": "b96df771-19d6-4356-a3dc-8d01b6fb9edb",
   "metadata": {},
   "source": [
    "## Practice"
   ]
  },
  {
   "cell_type": "markdown",
   "id": "7d6aa99d-8ba1-4ed0-b144-a27244843a5d",
   "metadata": {},
   "source": [
    "Make 10 x 10 matrix with eigenvalues = 1, 2, ... , 10\n",
    "- Make D matrix with diagonal entries = 1, 2, ..., 10\n",
    "- Make P matrix with random entries in [-1, 1]\n",
    "- A = PDP^-1"
   ]
  },
  {
   "cell_type": "markdown",
   "id": "a8bf93b0-d92d-4790-ab35-a4bdbf619911",
   "metadata": {},
   "source": [
    "Calculate eigenvalues using ```linalg.eig```"
   ]
  },
  {
   "cell_type": "markdown",
   "id": "2ef0d382-75c3-4c93-a28c-a721f2c6c683",
   "metadata": {},
   "source": [
    "Use Crude One-step approache to calculate eigenvalues"
   ]
  },
  {
   "cell_type": "code",
   "execution_count": 11,
   "id": "af706f15-f6a4-4fec-a5fd-2a7ed5a21c18",
   "metadata": {},
   "outputs": [
    {
     "name": "stdout",
     "output_type": "stream",
     "text": [
      "(10, 10)\n"
     ]
    }
   ],
   "source": [
    "\"\"\" Construct D \"\"\"\n",
    "diag = np.arange(10) + 1\n",
    "D = np.diag(diag, k=0)\n",
    "print(D.shape)"
   ]
  },
  {
   "cell_type": "code",
   "execution_count": 12,
   "id": "1f4b204d-b92b-46ea-b2f7-21989d7bf994",
   "metadata": {},
   "outputs": [
    {
     "name": "stdout",
     "output_type": "stream",
     "text": [
      "(10, 10)\n"
     ]
    }
   ],
   "source": [
    "\"\"\" Construct P \"\"\"\n",
    "P = 2*np.random.rand(10, 10) - 1\n",
    "print(P.shape)"
   ]
  },
  {
   "cell_type": "code",
   "execution_count": 13,
   "id": "042ee916-f82f-4041-b1a4-9ad9398bf1a0",
   "metadata": {},
   "outputs": [],
   "source": [
    "\"\"\" Construct A \"\"\"\n",
    "A = P@D@linalg.inv(P) "
   ]
  },
  {
   "cell_type": "code",
   "execution_count": 14,
   "id": "a583fdc4-ff40-4a66-8307-fe9c5ca02a10",
   "metadata": {},
   "outputs": [
    {
     "name": "stdout",
     "output_type": "stream",
     "text": [
      "[ 1.  2.  3.  4.  5.  6.  7.  8.  9. 10.]\n"
     ]
    }
   ],
   "source": [
    "\"\"\" linalg.eig \"\"\"\n",
    "eigvals = linalg.eig(A, right=False)\n",
    "print(np.sort(np.real(eigvals)))"
   ]
  },
  {
   "cell_type": "code",
   "execution_count": 15,
   "id": "bd2fa04b-da7f-4c3f-b63c-55b94ad0307a",
   "metadata": {},
   "outputs": [
    {
     "name": "stdout",
     "output_type": "stream",
     "text": [
      "[ 1.  2.  3.  4.  5.  6.  7.  8.  9. 10.]\n"
     ]
    }
   ],
   "source": [
    "\"\"\" One-step \"\"\"\n",
    "\n",
    "for _ in range(1000):\n",
    "    Q, R = linalg.qr(A, mode=\"economic\")\n",
    "    A = R@Q\n",
    "print(np.sort(np.diag(A))) # eigenvalues"
   ]
  }
 ],
 "metadata": {
  "kernelspec": {
   "display_name": "Python 3 (ipykernel)",
   "language": "python",
   "name": "python3"
  },
  "language_info": {
   "codemirror_mode": {
    "name": "ipython",
    "version": 3
   },
   "file_extension": ".py",
   "mimetype": "text/x-python",
   "name": "python",
   "nbconvert_exporter": "python",
   "pygments_lexer": "ipython3",
   "version": "3.11.11"
  }
 },
 "nbformat": 4,
 "nbformat_minor": 5
}
