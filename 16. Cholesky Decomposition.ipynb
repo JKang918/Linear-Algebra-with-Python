{
 "cells": [
  {
   "cell_type": "code",
   "execution_count": 1,
   "id": "1539228b-2e88-4252-be7b-630ac9ba348a",
   "metadata": {},
   "outputs": [],
   "source": [
    "import numpy as np\n",
    "from scipy import linalg"
   ]
  },
  {
   "cell_type": "markdown",
   "id": "0ba47012-1de6-4a15-918b-8a0621d79b44",
   "metadata": {},
   "source": [
    "# 1. Cholesky Decomposition (```linalg.cholesky```)"
   ]
  },
  {
   "cell_type": "markdown",
   "id": "a33e77ab-6b30-46bc-8177-226707803108",
   "metadata": {},
   "source": [
    "$$\n",
    "A = U^\\top U, \\quad A = U^H U\n",
    "$$\n",
    "$$\n",
    "A = LL^\\top , \\quad A = LL^H\n",
    "$$\n",
    "\n",
    "$A$ is **positive definite (symmetric or Hermitian)** matrix. ($^H$: conjugate transpose)\n"
   ]
  },
  {
   "cell_type": "markdown",
   "id": "0087522b-7ac2-4449-bc28-d2d84d4e589a",
   "metadata": {},
   "source": [
    "Cholesky decomposition is numerically stable without pivoting unlike in the case of LU decomposition.\\\n",
    "It is known that the computational speed is about twice that of LU decomposition."
   ]
  },
  {
   "cell_type": "markdown",
   "id": "c0efe126-0dd8-416a-a474-c3187064adc3",
   "metadata": {},
   "source": [
    "The resulting triangular matrices share the same shape with the corresponding part of original matrix $A$, that is, for example,"
   ]
  },
  {
   "cell_type": "markdown",
   "id": "edc5c3e8-b182-45aa-945f-c1d9443880ad",
   "metadata": {},
   "source": [
    "$$\n",
    "\\begin{bmatrix}\n",
    "1 & -1 & 0 \\\\\n",
    "-1 & 2 & -1 \\\\\n",
    "0 & -1 & 3\n",
    "\\end{bmatrix}\n",
    "\\rightarrow \n",
    "U =\n",
    "\\begin{bmatrix}\n",
    "x & x & 0 \\\\\n",
    "0 & x & x \\\\\n",
    "0 & 0 & x\n",
    "\\end{bmatrix}\n",
    "$$"
   ]
  },
  {
   "cell_type": "markdown",
   "id": "847f964d-f879-45e0-bcd9-ed900aa6f8fb",
   "metadata": {},
   "source": [
    "```python\n",
    "U = linalg.cholesky(A, lower=False) # default\n",
    "L = linalg.cholesky(A, lower=True) \n",
    "```\n",
    "\n",
    "* ```L``` - Lower Triangular Matrix\n",
    "* ```U``` - Upper Triangular Matrix\n",
    "* corresponding Lapack function: ```potrf```"
   ]
  },
  {
   "cell_type": "markdown",
   "id": "eaed0949-72e1-4bf5-83c1-8cc6df60e32f",
   "metadata": {},
   "source": [
    "# 2. Cholesky Decomposition Solver (```linalg.cho_solve```)"
   ]
  },
  {
   "cell_type": "markdown",
   "id": "b54cc717-9c42-42aa-80ae-eed3df055f1d",
   "metadata": {},
   "source": [
    "$$\n",
    "A\\mathbf{x} = \\mathbf{b}\n",
    "$$\n",
    "\n",
    "$$\n",
    "A = U^\\top U\n",
    "$$\n"
   ]
  },
  {
   "cell_type": "markdown",
   "id": "a9c76c22-54d7-48e9-91d4-72bb0658729d",
   "metadata": {},
   "source": [
    "```python\n",
    "x = linalg.cho_solve((U, False), b)\n",
    "x = linalg.cho_solve((L, True), b)\n",
    "```\n",
    "\n",
    "* ```U``` or ```L``` - L and U are computed from ```linalg.cholesky```\n",
    "* corresponding Lapack function: ```potrs```"
   ]
  },
  {
   "cell_type": "markdown",
   "id": "37480615-aa59-4c02-80a2-6190c9f6ce06",
   "metadata": {},
   "source": [
    "Example:"
   ]
  },
  {
   "cell_type": "markdown",
   "id": "99026a26-b24e-478a-b86d-9b8585947b2d",
   "metadata": {},
   "source": [
    "$$\n",
    "A_1 = \n",
    "\\begin{bmatrix}\n",
    "1 & -2j  \\\\\n",
    "2j & 5  \\\\\n",
    "\\end{bmatrix}, \\;\n",
    "\\mathbf{b}_1 = \n",
    "\\begin{bmatrix}\n",
    "1 \\\\\n",
    "1  \\\\\n",
    "\\end{bmatrix}\n",
    "$$"
   ]
  },
  {
   "cell_type": "markdown",
   "id": "872d9ffb-ac01-4405-b411-8283fe2f1ef5",
   "metadata": {},
   "source": [
    "$$\n",
    "A_2 = \n",
    "\\begin{bmatrix}\n",
    "1 & -1 & 0  \\\\\n",
    "-1 & 2 & -1 \\\\\n",
    "0 & -1 & 3 \\\\\n",
    "\\end{bmatrix}, \\;\n",
    "\\mathbf{b}_2 = \n",
    "\\begin{bmatrix}\n",
    "1 \\\\\n",
    "1  \\\\\n",
    "1\\\\\n",
    "\\end{bmatrix}\n",
    "$$"
   ]
  },
  {
   "cell_type": "code",
   "execution_count": 2,
   "id": "01ae77ce-8f62-4578-b2cd-4574242366a0",
   "metadata": {},
   "outputs": [],
   "source": [
    "A1 = np.array([\n",
    "    [1, -2j],\n",
    "    [2j, 5]\n",
    "], dtype=np.complex128)\n",
    "\n",
    "b1 = np.ones((2, ), dtype = np.float64)\n",
    "\n",
    "A2 = np.array([\n",
    "    [1, -1, 0],\n",
    "    [-1, 2, -1],\n",
    "    [0, -1, 3]\n",
    "])\n",
    "\n",
    "b2 = np.ones((3, ), dtype = np.float64)"
   ]
  },
  {
   "cell_type": "code",
   "execution_count": 3,
   "id": "8ec6428c-6c73-4066-b5cb-3edeccae5135",
   "metadata": {},
   "outputs": [
    {
     "name": "stdout",
     "output_type": "stream",
     "text": [
      "Example 1.\n",
      "U_1:\n",
      "[[ 1.+0.j -0.-2.j]\n",
      " [ 0.+0.j  1.+0.j]]\n",
      "\n",
      "U_1^T U_1 = A_1? --> True\n",
      "\n",
      "x1: [5.+2.j 1.-2.j]\n",
      "Ax = b? --> True\n"
     ]
    }
   ],
   "source": [
    "\"\"\" Example 1. \"\"\"\n",
    "\n",
    "# Cholesky decomposition\n",
    "U1 = linalg.cholesky(A1, lower=False)\n",
    "print('Example 1.')\n",
    "print('U_1:')\n",
    "print(f'{U1}')\n",
    "print()\n",
    "\n",
    "# Decomposition result check\n",
    "print(f'U_1^T U_1 = A_1? --> {np.allclose(U1.T.conjugate() @ U1, A1)}')\n",
    "print()\n",
    "\n",
    "# Solve\n",
    "x1 = linalg.cho_solve((U1, False), b1)\n",
    "print(f'x1: {x1}')\n",
    "\n",
    "# solution result check\n",
    "print(f'Ax = b? --> {np.allclose(A1 @ x1, b1)}')"
   ]
  },
  {
   "cell_type": "code",
   "execution_count": 4,
   "id": "df40004f-c1cb-4636-a9bc-ac56fa91608b",
   "metadata": {},
   "outputs": [
    {
     "name": "stdout",
     "output_type": "stream",
     "text": [
      "Example 2.\n",
      "U_2:\n",
      "[[ 1.         -1.          0.        ]\n",
      " [ 0.          1.         -1.        ]\n",
      " [ 0.          0.          1.41421356]]\n",
      "\n",
      "U_2^T U_2 = A_2? --> True\n",
      "\n",
      "x2: [4.5 3.5 1.5]\n",
      "Ax = b? --> True\n"
     ]
    }
   ],
   "source": [
    "\"\"\" Example 2. \"\"\"\n",
    "\n",
    "# Cholesky decomposition\n",
    "U2 = linalg.cholesky(A2, lower=False)\n",
    "print('Example 2.')\n",
    "print('U_2:')\n",
    "print(f'{U2}')\n",
    "print()\n",
    "\n",
    "# Decomposition result check\n",
    "print(f'U_2^T U_2 = A_2? --> {np.allclose(U2.T.conjugate() @ U2, A2)}')\n",
    "print()\n",
    "\n",
    "# Solve\n",
    "x2 = linalg.cho_solve((U2, False), b2)\n",
    "print(f'x2: {x2}')\n",
    "\n",
    "# solution result check\n",
    "print(f'Ax = b? --> {np.allclose(A2 @ x2, b2)}')"
   ]
  },
  {
   "cell_type": "markdown",
   "id": "7fe4dc08-69c9-4396-8f28-49274d1671b9",
   "metadata": {},
   "source": [
    "## 2.1 LU decomposition solver VS Cholesky decomposition"
   ]
  },
  {
   "cell_type": "markdown",
   "id": "4aec3f13-4c0b-400b-bb25-a59c2a23895c",
   "metadata": {},
   "source": [
    "Actually... LU decomposition solver is faster."
   ]
  },
  {
   "cell_type": "markdown",
   "id": "9ec35b5d-3044-44b0-961b-6475228bc8ac",
   "metadata": {},
   "source": [
    "When we consider decomposition itself, Cholesky decomposition is faster. But when we are getting the solution for matrix equation after decomposition, LU decomposition solver is faster. "
   ]
  },
  {
   "cell_type": "markdown",
   "id": "92195ee1-086a-4d62-8b07-874691f6481c",
   "metadata": {},
   "source": [
    "When it comes to LU decomposition, the diagonal entries of $L$ is all $1$; so it does not compute matrix multiplication regarding the very diagonal entries. That's why LU decomposition solver is faster."
   ]
  },
  {
   "cell_type": "markdown",
   "id": "27291171-0239-4697-80df-a73f4f93946b",
   "metadata": {},
   "source": [
    "Yet, there are cases when you better use Cholesky decomposition. So, how do we summarize this?"
   ]
  },
  {
   "cell_type": "markdown",
   "id": "3d73fbd7-0071-4f1e-9326-2bc177150b83",
   "metadata": {},
   "source": [
    "**Conclusion**\n",
    "\n",
    "1. $A$ is fixed, $\\mathbf{b}$ changes a lot $\\rightarrow$ Use LU decomposition solver\n",
    "2. $A$ changes, or a single problem $\\rightarrow$ Use Cholesky decomposition solver"
   ]
  },
  {
   "cell_type": "markdown",
   "id": "d899f0c5-ea56-4175-904f-f0d97c4bcec2",
   "metadata": {},
   "source": [
    "Overall, if you do not want to complicate the matters, generally use LU decomposition. But this is not always the case..."
   ]
  },
  {
   "cell_type": "markdown",
   "id": "1bfa082f-e281-468b-8c39-7180a7516afb",
   "metadata": {},
   "source": [
    "# 3. Cholesky Decomposition for Band Matrix (```linalg.cholesky_banded```)"
   ]
  },
  {
   "cell_type": "markdown",
   "id": "e0619096-f515-44c2-a762-13094da58be4",
   "metadata": {},
   "source": [
    "```python\n",
    "U_band = linalg.cholesky_banded(band_A_h, lower=False) #default #upper band form\n",
    "L_band = linalg.cholesky_banded(band_A_h, lower=True) #lower band form\n",
    "```\n",
    "\n",
    "* ```U_band``` or ```L_band``` - L and U in **banded forms**\n",
    "* corresponding Lapack function: ```pbtrf```"
   ]
  },
  {
   "cell_type": "markdown",
   "id": "388f3c7e-12d0-4d1d-a157-74ea374a7804",
   "metadata": {},
   "source": [
    "$$\n",
    "A =\n",
    "\\begin{bmatrix}\n",
    "9 & -1 & j & 0 & 0 \\\\\n",
    "-1 & 8 & -2 & 2 & 0 \\\\\n",
    "-j & -2 & 7 & 3 & 3j \\\\\n",
    "0 & 2 & 3 & 6 & 4 \\\\\n",
    "0 & 0 & -3j & 4 & 9 \\\\\n",
    "\\end{bmatrix}, \\; \\quad\n",
    "\\tilde{A}_{upper} =\n",
    "\\begin{bmatrix}\n",
    "0 & 0 & j & 2 & 3j \\\\\n",
    "0 & -1 & -2 & 3 & 4 \\\\\n",
    "9 & 8 & 7 & 6 & 9 \\\\\n",
    "\\end{bmatrix}, \\; \\quad\n",
    "\\tilde{A}_{lower} =\n",
    "\\begin{bmatrix}\n",
    "9 & 8 & 7 & 6 & 9 \\\\\n",
    "-1 & -2 & 3 & 4 & 0\\\\\n",
    "-j & 2 & -3j & 0 & 0 \\\\\n",
    "\\end{bmatrix}\n",
    "$$\n"
   ]
  },
  {
   "cell_type": "markdown",
   "id": "7c3f30cc-b780-42f4-8939-fde67cd308bd",
   "metadata": {},
   "source": [
    "$$\n",
    "\\tilde{U}_{upper} =\n",
    "\\begin{bmatrix}\n",
    "0 & 0 & \\colorbox{lightgrey}{$x$} & \\colorbox{lightgrey}{$x$} & \\colorbox{lightgrey}{$x$} \\\\\n",
    "0 & \\colorbox{grey}{$x$} & \\colorbox{grey}{$x$} & \\colorbox{grey}{$x$} & \\colorbox{grey}{$x$} \\\\\n",
    "\\colorbox{pink}{$x$} & \\colorbox{pink}{$x$} & \\colorbox{pink}{$x$} & \\colorbox{pink}{$x$} & \\colorbox{pink}{$x$} \\\\\n",
    "\\end{bmatrix}\n",
    "$$\n",
    "\n",
    "* row1: ```Ur1 = U_band[0, 2:]```\n",
    "* row2: ```Ur2 = U_band[1, 1:]```\n",
    "* row3: ```Ur3 = U_band[2, 0:]```\n",
    "\n",
    "Then, $U$ would be:\n",
    "\n",
    "```U = np.diag(Ur1, k=2) + np.diag(Ur2, k=1) + np.diag(Ur3, k=0)```\n",
    "\n",
    "$$\n",
    "U =\n",
    "\\begin{bmatrix}\n",
    "\\colorbox{pink}{$x$} & \\colorbox{grey}{$x$} & \\colorbox{lightgrey}{$x$} & 0 & 0 \\\\\n",
    "0 & \\colorbox{pink}{$x$} & \\colorbox{grey}{$x$} & \\colorbox{lightgrey}{$x$} & 0 \\\\\n",
    "0 & 0 & \\colorbox{pink}{$x$} & \\colorbox{grey}{$x$} & \\colorbox{lightgrey}{$x$} \\\\\n",
    "0 & 0 & 0 & \\colorbox{pink}{$x$} & \\colorbox{grey}{$x$} \\\\\n",
    "0 & 0 & 0 & 0 & \\colorbox{pink}{$x$} \\\\\n",
    "\\end{bmatrix}\n",
    "$$"
   ]
  },
  {
   "cell_type": "markdown",
   "id": "376144a1-5c74-4e64-a9de-1bc192539487",
   "metadata": {},
   "source": [
    "Moreover, the actual $A$ would be:\n",
    "```A = U.T.conjugate() @ U```"
   ]
  },
  {
   "cell_type": "markdown",
   "id": "fc88e2ec-8a88-4cd0-b702-81058b018cab",
   "metadata": {},
   "source": [
    "Of course, keep in mind that reconstructing actual $U$ and $A$ is **not recommended** and above was presented *only for educational purposes*."
   ]
  },
  {
   "cell_type": "markdown",
   "id": "b4e20531-0bbe-4b73-97b5-68e6dce1e4ac",
   "metadata": {},
   "source": [
    "# 4. Cholesky Decomposition Solver for Band Matrix (```linalg.cho_solve_banded```)"
   ]
  },
  {
   "cell_type": "markdown",
   "id": "218c130e-da41-4b5a-b5e7-99af352d9976",
   "metadata": {},
   "source": [
    "$$\n",
    "A\\mathbf{x} = \\mathbf{b}\n",
    "$$"
   ]
  },
  {
   "cell_type": "markdown",
   "id": "7b7db32e-2a9c-4e5a-bd65-f2a18f861c5f",
   "metadata": {},
   "source": [
    "```python\n",
    "x = linalg.cho_solve_banded((U_band, False), b) #default #upper band form\n",
    "x = linalg.cho_solve_banded((L_band, True), b) #lower band form\n",
    "```\n",
    "\n",
    "* ```U_band``` or ```L_band``` - L and U in **banded forms** from ```linalg.cholesky_banded```\n",
    "* corresponding Lapack function: ```pbtrs```"
   ]
  },
  {
   "cell_type": "markdown",
   "id": "c137b436-9574-4681-90c1-486ef55860e9",
   "metadata": {},
   "source": [
    "$$\n",
    "A =\n",
    "\\begin{bmatrix}\n",
    "9 & -1 & j & 0 & 0 \\\\\n",
    "-1 & 8 & -2 & 2 & 0 \\\\\n",
    "-j & -2 & 7 & 3 & 3j \\\\\n",
    "0 & 2 & 3 & 6 & 4 \\\\\n",
    "0 & 0 & -3j & 4 & 9 \\\\\n",
    "\\end{bmatrix}, \\; \\quad\n",
    "\\tilde{A}_{upper} =\n",
    "\\begin{bmatrix}\n",
    "0 & 0 & j & 2 & 3j \\\\\n",
    "0 & -1 & -2 & 3 & 4 \\\\\n",
    "9 & 8 & 7 & 6 & 9 \\\\\n",
    "\\end{bmatrix}, \\; \\quad\n",
    "\\mathbf{b} =\n",
    "\\begin{bmatrix}\n",
    "1 \\\\\n",
    "1 \\\\\n",
    "1 \\\\\n",
    "1 \\\\\n",
    "1 \\\\\n",
    "\\end{bmatrix}\n",
    "$$"
   ]
  },
  {
   "cell_type": "code",
   "execution_count": 5,
   "id": "f7cb692b-06ae-4125-bf6a-5af6f691c169",
   "metadata": {},
   "outputs": [],
   "source": [
    "A_band_h = np.array([\n",
    "    [0, 0, 1j, 2, 3j],\n",
    "    [0, -1, -2, 3, 4],\n",
    "    [9, 8, 7, 6, 9]\n",
    "], dtype=np.complex128)\n",
    "\n",
    "b = np.ones((5, ), dtype=np.float64)"
   ]
  },
  {
   "cell_type": "code",
   "execution_count": 6,
   "id": "67414f98-bf9d-4fc1-8472-f5109aa9208e",
   "metadata": {},
   "outputs": [
    {
     "name": "stdout",
     "output_type": "stream",
     "text": [
      "[[ 0.        +0.j          0.        +0.j          0.        +0.33333333j\n",
      "   0.71206899+0.j          0.        +1.18768515j]\n",
      " [ 0.        +0.j         -0.33333333+0.j         -0.71206899+0.03955939j\n",
      "   1.38842067+0.01115197j  2.11145768-0.87334379j]\n",
      " [ 3.        +0.j          2.80871659+0.j          2.52592195+0.j\n",
      "   1.88815291+0.j          1.53896753+0.j        ]]\n"
     ]
    }
   ],
   "source": [
    "U_band = linalg.cholesky_banded(A_band_h, lower=False)\n",
    "print(U_band)"
   ]
  },
  {
   "cell_type": "code",
   "execution_count": 7,
   "id": "30772e8a-3fd2-4855-8dd3-ead9ffc6d073",
   "metadata": {},
   "outputs": [
    {
     "data": {
      "text/plain": [
       "' '"
      ]
     },
     "execution_count": 7,
     "metadata": {},
     "output_type": "execute_result"
    }
   ],
   "source": [
    "\"\"\" educational purpose only \"\"\"\n",
    "Ur1 = U_band[0, 2:]\n",
    "Ur2 = U_band[1, 1:]\n",
    "Ur3 = U_band[2, :]\n",
    "U = np.diag(Ur1, k=2) + np.diag(Ur2, k=1) + np.diag(Ur3, k=0)\n",
    "# print(U)\n",
    "\n",
    "A = U.T.conjugate() @ U\n",
    "# print(A)\n",
    "\"\"\" \"\"\""
   ]
  },
  {
   "cell_type": "code",
   "execution_count": 8,
   "id": "ab30ae60-f38b-4ce0-872d-efeb27e8a91d",
   "metadata": {},
   "outputs": [
    {
     "name": "stdout",
     "output_type": "stream",
     "text": [
      "[ 0.1524183 -0.06901961j  0.44026144+0.01385621j  0.63503268-0.06849673j\n",
      " -0.54980392-0.15843137j  0.37830065+0.2820915j ]\n"
     ]
    }
   ],
   "source": [
    "x = linalg.cho_solve_banded((U_band, False), b)\n",
    "print(x)"
   ]
  },
  {
   "cell_type": "code",
   "execution_count": 9,
   "id": "7fde9771-c1e1-4228-be48-30ecd4f7b2dc",
   "metadata": {},
   "outputs": [
    {
     "name": "stdout",
     "output_type": "stream",
     "text": [
      "[1. 1. 1. 1. 1.]\n"
     ]
    }
   ],
   "source": [
    "print(np.real_if_close(A @ x)) # b"
   ]
  },
  {
   "cell_type": "markdown",
   "id": "364742b9-5751-41f8-913a-dd798df03d54",
   "metadata": {},
   "source": [
    "# 5. Strategy for Matrix Decompositions"
   ]
  },
  {
   "cell_type": "markdown",
   "id": "252016a8-1242-49ca-92d8-6fa78aada8f5",
   "metadata": {},
   "source": [
    "```mermaid\n",
    "graph TD\n",
    "    A[Real symmetric / complex Hermitian ?]\n",
    "    A -->|Y| C[Positive definite?]\n",
    "    A -->|N| D[Complex symmetric?]\n",
    "    C -->|Y| E[Cholesky Decomposition]\n",
    "    C -->|N| F[Diagonal Pivoting: \n",
    "    LDL^T, LDL^H]\n",
    "    D -->|Y| G[Diagonal Pivoting: \n",
    "    LDL^T]\n",
    "    D -->|N| H[LU Decomposition]\n",
    "```"
   ]
  },
  {
   "cell_type": "markdown",
   "id": "d9153312-1101-4010-a367-8c5e8d209e0a",
   "metadata": {},
   "source": [
    "Currently.. with ```Scipy```\n",
    "\n",
    "1. Cholesky Decomposition - solver o, band matrix specialized function o\n",
    "2. LU Decomposition - solver o, band matrix specialized function x\n",
    "3. Diagonal pivoting - solver x, band matrix specialized function x $\\rightarrow$ just use LU decomposition or use general solver with ```assume_a=\"sym\"``` or ```\"her\"```"
   ]
  },
  {
   "cell_type": "markdown",
   "id": "3c5922f3-4ac3-4c78-961d-685fba526be8",
   "metadata": {},
   "source": [
    "$\\Rightarrow$ Use LAPACK directly for LU decomposition of band matrices."
   ]
  },
  {
   "cell_type": "markdown",
   "id": "e294061a-44bb-47ed-8e5a-cd160719c8ad",
   "metadata": {},
   "source": [
    "### Practice"
   ]
  },
  {
   "cell_type": "code",
   "execution_count": 10,
   "id": "5869fff7-080c-45c9-97d5-45402fb80836",
   "metadata": {},
   "outputs": [],
   "source": [
    "import timeit"
   ]
  },
  {
   "cell_type": "markdown",
   "id": "22b7618e-9de3-4ff3-bc6d-b48d3fcead47",
   "metadata": {},
   "source": [
    "Example:\n",
    "\n",
    "$$\n",
    "A =\n",
    "\\begin{bmatrix}\n",
    "5 & 1 &   j     &        &      &  \\\\\n",
    "1 & 5 & 1     &  j      &       & \\\\\n",
    "-j   & 1 & 5     & \\ddots & \\ddots &       \\\\\n",
    "   &  \\ddots  & \\ddots & \\ddots & 1  & j   \\\\\n",
    "      &    &     -j   & 1     & 5& 1\\\\\n",
    "   &    &        & -j     & 1 &5\n",
    "\\end{bmatrix}_{10000 \\times 10000}\n",
    "$$"
   ]
  },
  {
   "cell_type": "code",
   "execution_count": 11,
   "id": "6fdfe6c6-665f-44e8-87f2-0617eba60185",
   "metadata": {},
   "outputs": [],
   "source": [
    "off_diag1 = np.ones((9999, ))\n",
    "off_diag2 = np.ones((9998, ))\n",
    "A = 5*np.identity(10000) + np.diag(off_diag1, k=1) + np.diag(off_diag1, k=-1) + np.diag(off_diag2, k=2) * 1j + np.diag(off_diag2, k=-2) * 1j"
   ]
  },
  {
   "cell_type": "code",
   "execution_count": 12,
   "id": "07cae7b8-9713-4628-ba2c-dd7b5bbfaa3c",
   "metadata": {},
   "outputs": [],
   "source": [
    "row0 = np.hstack((np.ones((2, )), off_diag2))\n",
    "row1 = np.hstack((np.ones((1, )), off_diag1))\n",
    "row2 = np.diag(A)\n",
    "A_band_h = np.vstack((row0, row1, row2))"
   ]
  },
  {
   "cell_type": "code",
   "execution_count": 13,
   "id": "6ca409fc-a371-433b-a689-704be25f28f7",
   "metadata": {},
   "outputs": [],
   "source": [
    "b = np.ones((10000, ))"
   ]
  },
  {
   "cell_type": "markdown",
   "id": "ca5038df-17bd-4d1a-b956-93f08d9425dc",
   "metadata": {},
   "source": [
    "**1. LU Decomposition with full matrix**"
   ]
  },
  {
   "cell_type": "code",
   "execution_count": 14,
   "id": "b4fd492c-5335-4b5e-ab69-4c80a0f9d397",
   "metadata": {},
   "outputs": [
    {
     "name": "stdout",
     "output_type": "stream",
     "text": [
      "LU decomposition: \n",
      " 14.090051\n"
     ]
    }
   ],
   "source": [
    "start = timeit.default_timer()\n",
    "\n",
    "lu, piv = linalg.lu_factor(A)\n",
    "\n",
    "end = timeit.default_timer()\n",
    "\n",
    "print('LU decomposition: ')\n",
    "print(f'{end-start: 6f}')"
   ]
  },
  {
   "cell_type": "code",
   "execution_count": 15,
   "id": "1680d6a8-c042-4873-a03b-858b0d819222",
   "metadata": {},
   "outputs": [
    {
     "name": "stdout",
     "output_type": "stream",
     "text": [
      "LU Solver: \n",
      " 0.231423\n"
     ]
    }
   ],
   "source": [
    "start = timeit.default_timer()\n",
    "\n",
    "x = linalg.lu_solve((lu, piv), b)\n",
    "\n",
    "end = timeit.default_timer()\n",
    "\n",
    "print('LU Solver: ')\n",
    "print(f'{end-start: 6f}')"
   ]
  },
  {
   "cell_type": "markdown",
   "id": "0e6de58b-d2d1-431e-8a98-aadfd20e0fb6",
   "metadata": {},
   "source": [
    "**2. Cholesky Decomposition with full matrix**"
   ]
  },
  {
   "cell_type": "code",
   "execution_count": 16,
   "id": "ff9e11d9-8dd4-41b5-bbe7-c7efca46ca7d",
   "metadata": {},
   "outputs": [
    {
     "name": "stdout",
     "output_type": "stream",
     "text": [
      "Cholesky decomposition: \n",
      " 10.040177\n"
     ]
    }
   ],
   "source": [
    "start = timeit.default_timer()\n",
    "\n",
    "U = linalg.cholesky(A, lower=False)\n",
    "\n",
    "end = timeit.default_timer()\n",
    "\n",
    "print('Cholesky decomposition: ')\n",
    "print(f'{end-start: 6f}')"
   ]
  },
  {
   "cell_type": "code",
   "execution_count": 17,
   "id": "31da3c7e-9be1-44b7-b408-da99dee19b68",
   "metadata": {},
   "outputs": [
    {
     "name": "stdout",
     "output_type": "stream",
     "text": [
      "Cholesky solver: \n",
      " 0.994747\n"
     ]
    }
   ],
   "source": [
    "start = timeit.default_timer()\n",
    "\n",
    "x = linalg.cho_solve((U, False), b)\n",
    "\n",
    "end = timeit.default_timer()\n",
    "\n",
    "print('Cholesky solver: ')\n",
    "print(f'{end-start: 6f}')"
   ]
  },
  {
   "cell_type": "markdown",
   "id": "c02655e9-7df5-4889-8b17-f3f565603155",
   "metadata": {},
   "source": [
    "* Decomposition - Cholesky is faster\n",
    "* Solve - LU is faster (taking advantage of the fact that the diagnal entries of $L$ is all $1$)"
   ]
  },
  {
   "cell_type": "markdown",
   "id": "dc54d8fb-c868-4460-9c96-79d214bef1e7",
   "metadata": {},
   "source": [
    "**3. Cholesky Decomposition with band matrix**"
   ]
  },
  {
   "cell_type": "code",
   "execution_count": 18,
   "id": "e8ee800a-7b9d-42f2-a01d-2aef6934f9c4",
   "metadata": {},
   "outputs": [
    {
     "name": "stdout",
     "output_type": "stream",
     "text": [
      "Cholesky decomposition (band): \n",
      " 0.024177\n"
     ]
    }
   ],
   "source": [
    "start = timeit.default_timer()\n",
    "\n",
    "U_band = linalg.cholesky_banded(A_band_h, lower=False)\n",
    "\n",
    "end = timeit.default_timer()\n",
    "\n",
    "print('Cholesky decomposition (band): ')\n",
    "print(f'{end-start: 6f}')"
   ]
  },
  {
   "cell_type": "code",
   "execution_count": 19,
   "id": "0f42e79b-80f1-41e4-a0e6-0ce4708a9def",
   "metadata": {},
   "outputs": [
    {
     "name": "stdout",
     "output_type": "stream",
     "text": [
      "Cholesky solver (band): \n",
      " 0.047079\n"
     ]
    }
   ],
   "source": [
    "start = timeit.default_timer()\n",
    "\n",
    "x = linalg.cho_solve_banded((U_band, False), b)\n",
    "\n",
    "end = timeit.default_timer()\n",
    "\n",
    "print('Cholesky solver (band): ')\n",
    "print(f'{end-start: 6f}')"
   ]
  },
  {
   "cell_type": "markdown",
   "id": "0d098c87-44f2-480f-adb2-dd9247d6c799",
   "metadata": {},
   "source": [
    "Using band matrix is vastly faster -> sparse matrix"
   ]
  },
  {
   "cell_type": "markdown",
   "id": "918e9da7-4e51-47a5-a9e5-ae74116a0fef",
   "metadata": {},
   "source": [
    "Next content - how to take advantage of band matrix in LU decomposition? -> directly use low-level LAPACK functions"
   ]
  }
 ],
 "metadata": {
  "kernelspec": {
   "display_name": "Python 3 (ipykernel)",
   "language": "python",
   "name": "python3"
  },
  "language_info": {
   "codemirror_mode": {
    "name": "ipython",
    "version": 3
   },
   "file_extension": ".py",
   "mimetype": "text/x-python",
   "name": "python",
   "nbconvert_exporter": "python",
   "pygments_lexer": "ipython3",
   "version": "3.11.11"
  }
 },
 "nbformat": 4,
 "nbformat_minor": 5
}
