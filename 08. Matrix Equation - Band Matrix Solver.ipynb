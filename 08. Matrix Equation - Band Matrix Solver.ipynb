{
 "cells": [
  {
   "cell_type": "code",
   "execution_count": 1,
   "id": "1539228b-2e88-4252-be7b-630ac9ba348a",
   "metadata": {},
   "outputs": [],
   "source": [
    "import numpy as np\n",
    "from scipy import linalg"
   ]
  },
  {
   "cell_type": "markdown",
   "id": "33cf90f3-e4bf-46e8-8b6c-936f2c73a313",
   "metadata": {},
   "source": [
    "# 1. Band Matrix Form (SciPy)"
   ]
  },
  {
   "cell_type": "markdown",
   "id": "5a9b39ba-cfbd-4ba1-935e-a873551cc21f",
   "metadata": {},
   "source": [
    "\n",
    "$$\n",
    "\\begin{bmatrix}\n",
    "\\colorbox{pink}{$a_{00}$} & \\colorbox{cyan}{$a_{01}$} & \\colorbox{yellow}{$a_{02}$} & 0 & 0 \\\\\n",
    "\\colorbox{green}{$a_{10}$} & \\colorbox{pink}{$a_{11}$} & \\colorbox{cyan}{$a_{12}$} & \\colorbox{yellow}{$a_{13}$} & 0 \\\\\n",
    "0 & \\colorbox{green}{$a_{21}$} & \\colorbox{pink}{$a_{22}$} & \\colorbox{cyan}{$a_{23}$} & \\colorbox{yellow}{$a_{24}$} \\\\\n",
    "0 & 0 & \\colorbox{green}{$a_{32}$} & \\colorbox{pink}{$a_{33}$} & \\colorbox{cyan}{$a_{34}$} \\\\\n",
    "0 & 0 & 0 & \\colorbox{green}{$a_{43}$} & \\colorbox{pink}{$a_{44}$}\n",
    "\\end{bmatrix}\n",
    "$$\n",
    "- Lower Band Width: 1\n",
    "- Upper Band Width: 2\n",
    "\n",
    "***SciPy Band Matrix Format***\n",
    "\n",
    "$$\n",
    "\\begin{bmatrix}\n",
    "0 & 0 & \\colorbox{yellow}{$a_{02}$} & \\colorbox{yellow}{$a_{13}$} & \\colorbox{yellow}{$a_{24}$} \\\\\n",
    "0 & \\colorbox{cyan}{$a_{01}$} & \\colorbox{cyan}{$a_{12}$} & \\colorbox{cyan}{$a_{23}$} & \\colorbox{cyan}{$a_{34}$} \\\\\n",
    "\\colorbox{pink}{$a_{00}$} & \\colorbox{pink}{$a_{11}$} & \\colorbox{pink}{$a_{22}$} & \\colorbox{pink}{$a_{33}$} & \\colorbox{pink}{$a_{44}$} \\\\\n",
    "\\colorbox{green}{$a_{10}$} & \\colorbox{green}{$a_{21}$} & \\colorbox{green}{$a_{32}$} & \\colorbox{green}{$a_{43}$} & 0 \\\\\n",
    "0 & 0 & 0 & 0 & 0\n",
    "\\end{bmatrix}\n",
    "$$\n",
    "\n",
    "- Maintains column index and stores only the band in a flattened horizontal format.\n",
    "- Band width $\\ll n$: Useful for memory and computation efficiency. (from 5 x 5 matrix to 4 x 5 matrix)"
   ]
  },
  {
   "cell_type": "markdown",
   "id": "d7cee0b8-a961-49b5-bee4-8f58461d666e",
   "metadata": {},
   "source": [
    "example\n",
    "\n",
    "$$\n",
    "\\begin{bmatrix}\n",
    "\\colorbox{pink}{$1$} & \\colorbox{cyan}{$2$} & 0 & 0 & 0 \\\\\n",
    "\\colorbox{green}{$1$} & \\colorbox{pink}{$4$} & \\colorbox{cyan}{$1$} & 0 & 0 \\\\\n",
    "\\colorbox{green}{$5$} & \\colorbox{green}{$0$} & \\colorbox{pink}{$1$} & \\colorbox{cyan}{$2$} & 0 \\\\\n",
    "0 & \\colorbox{green}{$1$} & \\colorbox{green}{$2$} & \\colorbox{pink}{$2$} & \\colorbox{cyan}{$1$} \\\\\n",
    "0 & 0 & \\colorbox{green}{$2$} & \\colorbox{green}{$1$} & \\colorbox{pink}{$1$}\n",
    "\\end{bmatrix}\n",
    "$$\n",
    "\n",
    "$$\n",
    "\\begin{bmatrix}\n",
    "0 & \\colorbox{cyan}{$2$} & \\colorbox{cyan}{$1$} & \\colorbox{cyan}{$2$} & \\colorbox{cyan}{$1$} \\\\  % Upper band (k = 1)\n",
    "\\colorbox{pink}{$1$} & \\colorbox{pink}{$4$} & \\colorbox{pink}{$1$} & \\colorbox{pink}{$2$} & \\colorbox{pink}{$1$} \\\\  % Main diagonal (k = 0)\n",
    "\\colorbox{green}{$1$} & \\colorbox{green}{$0$} & \\colorbox{green}{$2$} & \\colorbox{green}{$1$} & 0 \\\\  % Lower band (k = -1)\n",
    "\\colorbox{green}{$5$} & \\colorbox{green}{$1$} & \\colorbox{green}{$2$} & 0 & 0 \\\\  % Lower band (k = -2)\n",
    "\\end{bmatrix}\n",
    "$$"
   ]
  },
  {
   "cell_type": "code",
   "execution_count": 2,
   "id": "f17afc18-6ce3-4b43-b11e-cb54f88d951a",
   "metadata": {},
   "outputs": [],
   "source": [
    "A = np.array([\n",
    "    [1, 2, 0, 0, 0],\n",
    "    [1, 4, 1, 0, 0],\n",
    "    [5, 0, 1, 2, 0],\n",
    "    [0, 1, 2, 2, 1],\n",
    "    [0, 0, 2, 1, 1]\n",
    "])"
   ]
  },
  {
   "cell_type": "code",
   "execution_count": 3,
   "id": "704c56e1-f35c-41fd-90af-3c5ece57c061",
   "metadata": {},
   "outputs": [
    {
     "data": {
      "text/plain": [
       "array([[2., 1., 2., 1., 0.],\n",
       "       [1., 4., 1., 2., 1.],\n",
       "       [1., 0., 2., 1., 0.],\n",
       "       [5., 1., 2., 0., 0.]])"
      ]
     },
     "execution_count": 3,
     "metadata": {},
     "output_type": "execute_result"
    }
   ],
   "source": [
    "# Define the lower and upper bandwidths\n",
    "low_bdw = 2\n",
    "upp_bdw = 1\n",
    "\n",
    "# Create the band matrix\n",
    "# n = num of bands\n",
    "n = upp_bdw + low_bdw + 1\n",
    "band_A = np.zeros((n, A.shape[1]), dtype = np.float64)\n",
    "\n",
    "band_A[-1, : -2] = np.diag(A, k = -2)\n",
    "band_A[-2, : -1] = np.diag(A, k = -1)\n",
    "band_A[-3, : ] = np.diag(A, k = 0)\n",
    "band_A[-4, : -1] = np.diag(A, k = 1)\n",
    "band_A"
   ]
  },
  {
   "cell_type": "markdown",
   "id": "3b645237-e651-448c-a324-c88559d13db9",
   "metadata": {},
   "source": [
    "## 2. Band Matrix Solver ($A\\mathbf{x} = \\mathbf{b}$)"
   ]
  },
  {
   "cell_type": "markdown",
   "id": "0bb6ba24-de64-48c1-aa15-8b31ebcb58f9",
   "metadata": {},
   "source": [
    "```python\n",
    "x = linalg.slove_banded((lbw, ubw), band_A, b)\n",
    "```\n",
    "\n",
    "* band_A is a band matrix\n",
    "* algorithms\n",
    "  1. LU decomposition   (Lapack: gbsv)\n",
    "  2. tridiagonal solver (Lapack: gtsv)"
   ]
  },
  {
   "cell_type": "markdown",
   "id": "f07365d3-5cb0-4e5a-a0fb-1376b9cd1c84",
   "metadata": {},
   "source": [
    "$$\n",
    "b = \n",
    "\\begin{bmatrix}\n",
    "1 \\\\\n",
    "1 \\\\\n",
    "1 \\\\\n",
    "1 \\\\\n",
    "1\n",
    "\\end{bmatrix}, \\quad\n",
    "A_1 = \n",
    "\\begin{bmatrix}\n",
    "1 & 2 & 0 & 0 & 0 \\\\\n",
    "1 & 4 & 1 & 0 & 0 \\\\\n",
    "5 & 0 & 1 & 2 & 0 \\\\\n",
    "0 & 1 & 2 & 2 & 1 \\\\\n",
    "0 & 0 & 2 & 1 & 1\n",
    "\\end{bmatrix}, \\quad\n",
    "A_2 = \n",
    "\\begin{bmatrix}\n",
    "2 & 1 & 0 & 0 & 0 \\\\\n",
    "1 & 2 & 1 & 0 & 0 \\\\\n",
    "0 & 1 & 2 & 1 & 0 \\\\\n",
    "0 & 0 & 1 & 2 & 1 \\\\\n",
    "0 & 0 & 0 & 1 & 2\n",
    "\\end{bmatrix}\n",
    "\\tilde{A_1} = \n",
    "\\begin{bmatrix}\n",
    "0 & 2 & 1 & 2 & 1 \\\\\n",
    "1 & 4 & 1 & 2 & 1 \\\\\n",
    "1 & 0 & 2 & 1 & 0 \\\\\n",
    "5 & 1 & 2 & 0 & 0\n",
    "\\end{bmatrix}, \\quad\n",
    "\\tilde{A_2} = \n",
    "\\begin{bmatrix}\n",
    "0 & 1 & 1 & 1 & 1 \\\\\n",
    "2 & 2 & 2 & 2 & 2 \\\\\n",
    "1 & 1 & 1 & 1 & 0\n",
    "\\end{bmatrix}\n",
    "$$"
   ]
  },
  {
   "cell_type": "code",
   "execution_count": 4,
   "id": "da3443f2-517c-40db-b021-e6c10318649c",
   "metadata": {},
   "outputs": [],
   "source": [
    "# Vector b\n",
    "b = np.array([1, 1, 1, 1, 1])\n",
    "\n",
    "# Matrix A (first one)\n",
    "# we have no access to it\n",
    "A1 = np.array([\n",
    "    [1, 2, 0, 0, 0],\n",
    "    [1, 4, 1, 0, 0],\n",
    "    [5, 0, 1, 2, 0],\n",
    "    [0, 1, 2, 2, 1],\n",
    "    [0, 0, 2, 1, 1]\n",
    "])\n",
    "\n",
    "# Matrix A (second one)\n",
    "# we have no access to it\n",
    "A2 = np.array([\n",
    "    [2, 1, 0, 0, 0],\n",
    "    [1, 2, 1, 0, 0],\n",
    "    [0, 1, 2, 1, 0],\n",
    "    [0, 0, 1, 2, 1],\n",
    "    [0, 0, 0, 1, 2]\n",
    "])\n",
    "\n",
    "# Matrix A_tilde (first one)\n",
    "A_band1 = np.array([\n",
    "    [0, 2, 1, 2, 1],\n",
    "    [1, 4, 1, 2, 1],\n",
    "    [1, 0, 2, 1, 0],\n",
    "    [5, 1, 2, 0, 0]\n",
    "])\n",
    "\n",
    "# Matrix A_tilde (second one)\n",
    "A_band2 = np.array([\n",
    "    [0, 1, 1, 1, 1],\n",
    "    [2, 2, 2, 2, 2],\n",
    "    [1, 1, 1, 1, 0]\n",
    "])"
   ]
  },
  {
   "cell_type": "code",
   "execution_count": 5,
   "id": "d1612432-e43e-4a3a-80e0-997dfab6d711",
   "metadata": {},
   "outputs": [],
   "source": [
    "x1 = linalg.solve_banded((2, 1), A_band1, b)\n",
    "x2 = linalg.solve_banded((1, 1), A_band2, b)"
   ]
  },
  {
   "cell_type": "code",
   "execution_count": 6,
   "id": "96030221-485f-4078-abb7-c137058fb941",
   "metadata": {},
   "outputs": [
    {
     "name": "stdout",
     "output_type": "stream",
     "text": [
      "[ 0.42857143  0.28571429 -0.57142857 -0.28571429  2.42857143]\n"
     ]
    }
   ],
   "source": [
    "print(x1)"
   ]
  },
  {
   "cell_type": "code",
   "execution_count": 7,
   "id": "37052b4b-3e9f-4632-9564-3d89fad44797",
   "metadata": {},
   "outputs": [
    {
     "name": "stdout",
     "output_type": "stream",
     "text": [
      "[0.5 0.  0.5 0.  0.5]\n"
     ]
    }
   ],
   "source": [
    "print(x2)"
   ]
  },
  {
   "cell_type": "markdown",
   "id": "02513647-a965-4da5-9481-743e79f9a78d",
   "metadata": {},
   "source": [
    "### How to check the accuracy? ($A_{\\text{band}}\\mathbf{x} \\neq \\mathbf{b}$)"
   ]
  },
  {
   "cell_type": "markdown",
   "id": "b7f537e0-ed86-46b3-a62b-119ef0e16528",
   "metadata": {},
   "source": [
    "1. Convert the band matrix into the original matrix and compare $A\\mathbf{x}$ and $\\mathbf{b}$ $\\rightarrow$ but then, why did we get the band matrix in the first place? (BAD IDEA; defeats the purpose of saving memory space)\n",
    "2. Use custom function to manually compute $A\\mathbf{x}$ using only the band matrix and compare it with $\\mathbf{b}$ using ```np.allclose``` "
   ]
  },
  {
   "cell_type": "markdown",
   "id": "34c03328-9acb-4ffa-8abf-c09a01992cd2",
   "metadata": {},
   "source": [
    "# 3. Band Matrix Solver for Positive Definite Matrices ($A\\mathbf{x} = \\mathbf{b}$)"
   ]
  },
  {
   "cell_type": "markdown",
   "id": "533f797d-b84d-4740-8477-b5c0299c700b",
   "metadata": {},
   "source": [
    "For symmetric and Hermitiain matrices:\n",
    "\n",
    "```python\n",
    "x = linalg.solveh_banded(band_a_h, b, lower = False)\n",
    "```\n",
    "\n",
    "* only one side of bands are required\n",
    "* algorithms\n",
    "  1. Cholesky decomposition       (Lapack: pbsv)\n",
    "  2. $LDL^\\top$ decomposition     (Lapack: ptsv)\n",
    "  3. $U^\\top DU$ decomposition    (for tridiagonals)"
   ]
  },
  {
   "cell_type": "markdown",
   "id": "d17c392f-5618-4d96-8d4f-3f23f55c8919",
   "metadata": {},
   "source": [
    "$$\n",
    "\\text{Positive Definite Matrix:}\n",
    "\\begin{bmatrix}\n",
    "2 & 1 & 0 & 0 & 0 \\\\\n",
    "1 & 2 & 1 & 0 & 0 \\\\\n",
    "0 & 1 & 2 & 1 & 0 \\\\\n",
    "0 & 0 & 1 & 2 & 1 \\\\\n",
    "0 & 0 & 0 & 1 & 2\n",
    "\\end{bmatrix} \\rightarrow\n",
    "\\text{Upper Form:} \\quad\n",
    "\\begin{bmatrix}\n",
    "0 & \\colorbox{black!20}{$1$} & \\colorbox{black!20}{$1$} & \\colorbox{black!20}{$1$} & \\colorbox{black!20}{$1$} \\\\\n",
    "\\colorbox{pink}{$2$} & \\colorbox{pink}{$2$} & \\colorbox{pink}{$2$} & \\colorbox{pink}{$2$} & \\colorbox{pink}{$2$}\n",
    "\\end{bmatrix} \\text{or   }\n",
    "\\text{Lower Form:} \\quad\n",
    "\\begin{bmatrix}\n",
    "\\colorbox{pink}{$2$} & \\colorbox{pink}{$2$} & \\colorbox{pink}{$2$} & \\colorbox{pink}{$2$} & \\colorbox{pink}{$2$} \\\\\n",
    "\\colorbox{black!20}{$1$} & \\colorbox{black!20}{$1$} & \\colorbox{black!20}{$1$} & \\colorbox{black!20}{$1$} & 0\n",
    "\\end{bmatrix}\n",
    "$$"
   ]
  },
  {
   "cell_type": "markdown",
   "id": "8f1f15e9-165e-4e7d-9d7c-601190160ad0",
   "metadata": {},
   "source": [
    "Example:"
   ]
  },
  {
   "cell_type": "markdown",
   "id": "d1c6f49b-3b4a-4c05-8d6f-e59c07619b12",
   "metadata": {},
   "source": [
    "$$\n",
    "A_1 = \n",
    "\\begin{bmatrix}\n",
    "8 & 2-i & 0 & 0 \\\\\n",
    "2+i & 5 & i & 0 \\\\\n",
    "0 & -i & 9 & -2-i \\\\\n",
    "0 & 0 & -2+i & 6\n",
    "\\end{bmatrix}, \\quad\n",
    "\\tilde{A}_1 = \n",
    "\\begin{bmatrix}\n",
    "0 & 2-i & i & -2-i \\\\\n",
    "8 & 5 & 9 & 6\n",
    "\\end{bmatrix}, \\quad\n",
    "b = \n",
    "\\begin{bmatrix}\n",
    "1 \\\\\n",
    "1 \\\\\n",
    "1 \\\\\n",
    "1\n",
    "\\end{bmatrix}\n",
    "$$"
   ]
  },
  {
   "cell_type": "code",
   "execution_count": 8,
   "id": "328d0167-6356-4b99-815a-9dff90e53112",
   "metadata": {},
   "outputs": [],
   "source": [
    "# Define A1 (full matrix)\n",
    "# we have no access to it\n",
    "A1 = np.array([\n",
    "    [8, 2-1j, 0, 0],\n",
    "    [2+1j, 5, 1j, 0],\n",
    "    [0, -1j, 9, -2-1j],\n",
    "    [0, 0, -2+1j, 6]\n",
    "], dtype=np.complex128)\n",
    "\n",
    "# Define A1_band (band matrix format)\n",
    "A1_band = np.array([\n",
    "    [0, 2-1j, 1j, -2-1j],  # Upper bands\n",
    "    [8, 5, 9, 6]           # Diagonal\n",
    "], dtype=np.complex128)\n",
    "\n",
    "# Define b (right-hand side vector)\n",
    "b1 = np.array([1, 1, 1, 1], dtype=np.float64)"
   ]
  },
  {
   "cell_type": "code",
   "execution_count": 9,
   "id": "17e4327e-696d-44a1-92f5-3bb330a4ff6f",
   "metadata": {},
   "outputs": [
    {
     "name": "stdout",
     "output_type": "stream",
     "text": [
      "[0.08818236+0.03959208j 0.18116377-0.06778644j 0.17156569+0.04259148j\n",
      " 0.23095381-0.01439712j]\n"
     ]
    }
   ],
   "source": [
    "x1 = linalg.solveh_banded(A1_band, b1, lower = False) # upper form\n",
    "print(x1)"
   ]
  },
  {
   "cell_type": "markdown",
   "id": "beb85862-03bc-4848-ac61-c546fff5efa7",
   "metadata": {},
   "source": [
    "$$\n",
    "A_2 = \n",
    "\\begin{bmatrix}\n",
    "2 & 1 & 0 & 0 & 0 \\\\\n",
    "1 & 2 & 1 & 0 & 0 \\\\\n",
    "0 & 1 & 2 & 1 & 0 \\\\\n",
    "0 & 0 & 1 & 2 & 1 \\\\\n",
    "0 & 0 & 0 & 1 & 2\n",
    "\\end{bmatrix}, \\quad\n",
    "\\tilde{A}_2 = \n",
    "\\begin{bmatrix}\n",
    "0 & 1 & 1 & 1 & 1 \\\\\n",
    "2 & 2 & 2 & 2 & 2\n",
    "\\end{bmatrix}, \\quad\n",
    "b = \n",
    "\\begin{bmatrix}\n",
    "1 \\\\\n",
    "1 \\\\\n",
    "1 \\\\\n",
    "1 \\\\\n",
    "1 \\\\\n",
    "\\end{bmatrix}\n",
    "$$"
   ]
  },
  {
   "cell_type": "code",
   "execution_count": 10,
   "id": "63ec49ee-e303-48c7-ad6d-64d4959a065b",
   "metadata": {},
   "outputs": [],
   "source": [
    "# Define A2 (full matrix)\n",
    "# we have no access to it\n",
    "A2 = np.array([\n",
    "    [2, 1, 0, 0, 0],\n",
    "    [1, 2, 1, 0, 0],\n",
    "    [0, 1, 2, 1, 0],\n",
    "    [0, 0, 1, 2, 1],\n",
    "    [0, 0, 0, 1, 2]\n",
    "], dtype=np.float64)\n",
    "\n",
    "# Define A2_band (band matrix format)\n",
    "A2_band = np.array([\n",
    "    [0, 1, 1, 1, 1],  # Upper band\n",
    "    [2, 2, 2, 2, 2]   # Diagonal\n",
    "], dtype=np.float64)\n",
    "\n",
    "# Define b (row form)\n",
    "b2 = np.array([1, 1, 1, 1, 1], dtype=np.float64)"
   ]
  },
  {
   "cell_type": "code",
   "execution_count": 11,
   "id": "3b511265-6a07-4451-9e63-882ae3b8450c",
   "metadata": {},
   "outputs": [
    {
     "name": "stdout",
     "output_type": "stream",
     "text": [
      "[0.5 0.  0.5 0.  0.5]\n"
     ]
    }
   ],
   "source": [
    "x2 = linalg.solveh_banded(A2_band, b2, lower = False) # upper form\n",
    "print(x2)"
   ]
  },
  {
   "cell_type": "markdown",
   "id": "a1137672-4cac-4777-a74b-6decafd37194",
   "metadata": {},
   "source": [
    "### How to check the accuracy? ($A_{\\text{band}}\\mathbf{x} \\neq \\mathbf{b}$)"
   ]
  },
  {
   "cell_type": "markdown",
   "id": "fe72d019-6326-47bf-a211-ff96e2cc852a",
   "metadata": {},
   "source": [
    "The same issue exists here as well. Refer to section 1.2"
   ]
  },
  {
   "cell_type": "markdown",
   "id": "5f6daa40-2eb8-4916-8af1-e8f768d80483",
   "metadata": {},
   "source": [
    "# 4. Case for a Band Matrix Solver"
   ]
  },
  {
   "cell_type": "markdown",
   "id": "273abc2e-4465-4984-8dfa-f31a0c52fbfb",
   "metadata": {},
   "source": [
    "### Tridiagonal Matrix and Solvers\n",
    "\n",
    "$$\n",
    "A = \n",
    "\\begin{bmatrix}\n",
    "2 & 1 & 0 & \\cdots & 0 \\\\\n",
    "1 & 2 & 1 & \\ddots & \\vdots \\\\\n",
    "0 & 1 & 2 & \\ddots & 0 \\\\\n",
    "\\vdots & \\ddots & \\ddots & \\ddots & 1 \\\\\n",
    "0 & \\cdots & 0 & 1 & 2\n",
    "\\end{bmatrix}, \\quad\n",
    "b = \n",
    "\\begin{bmatrix}\n",
    "1 \\\\\n",
    "1 \\\\\n",
    "\\vdots \\\\\n",
    "1 \\\\\n",
    "1\n",
    "\\end{bmatrix}\n",
    "$$\n",
    "\n",
    "**Matrix size:** $10000 \\times 10000$ \\\n",
    "**Vector size:** $10000$\n",
    "\n",
    "#### Memory Requirements:\n",
    "- For **dense** $A$: **760 Mb**  \n",
    "- For **band matrix** $A$: **156 Kb**\n",
    "\n",
    "---\n",
    "\n",
    "### Solvers and Performance:\n",
    "\n",
    "1. Dense solver:\n",
    "   $$\n",
    "   \\texttt{solve}(A, b)\n",
    "   \\begin{cases}\n",
    "   3.36 \\, \\text{sec} & \\text{assume\\_a = \"pos\"} \\\\\n",
    "   3.97 \\, \\text{sec} & \\text{assume\\_a = \"gen\"}\n",
    "   \\end{cases}\n",
    "   $$\n",
    "\n",
    "2. Banded solvers:\n",
    "   - $\\texttt{solveh\\_banded(band\\_a\\_h, b)}$: **0.00023 sec**  \n",
    "   - $\\texttt{solve\\_banded((1, 1), band\\_a, b)}$: **0.00029 sec**"
   ]
  }
 ],
 "metadata": {
  "kernelspec": {
   "display_name": "Python 3 (ipykernel)",
   "language": "python",
   "name": "python3"
  },
  "language_info": {
   "codemirror_mode": {
    "name": "ipython",
    "version": 3
   },
   "file_extension": ".py",
   "mimetype": "text/x-python",
   "name": "python",
   "nbconvert_exporter": "python",
   "pygments_lexer": "ipython3",
   "version": "3.11.11"
  }
 },
 "nbformat": 4,
 "nbformat_minor": 5
}
