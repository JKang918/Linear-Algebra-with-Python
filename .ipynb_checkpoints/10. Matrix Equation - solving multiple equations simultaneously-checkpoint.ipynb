{
 "cells": [
  {
   "cell_type": "markdown",
   "id": "8647106c-be62-4cc7-8874-808e3d87a68a",
   "metadata": {},
   "source": [
    "$$\n",
    "AX = B\n",
    "$$\n",
    "\n",
    "$$\n",
    "X = [\\mathbf{x}_1 \\, \\mathbf{x}_2 \\, \\dots \\, \\mathbf{x}_k], \\quad X \\in \\mathbb{R}^{n \\times k}, \\qquad B = [\\mathbf{b}_1 \\, \\mathbf{b}_2 \\, \\dots \\, \\mathbf{b}_k], \\quad B \\in \\mathbb{R}^{n \\times k}\n",
    "$$"
   ]
  },
  {
   "cell_type": "markdown",
   "id": "3b400356-1e1d-46ff-be7c-3a2179e71a50",
   "metadata": {},
   "source": [
    "How do we solve the above equation?\\\n",
    "Thus far we only learned how to solve $A\\mathbf{x} = \\mathbf{b}$\\\n",
    "\n",
    "```python\n",
    "x = linalg.solve(A, b, assume_a = \"gen\")\n",
    "```"
   ]
  },
  {
   "cell_type": "markdown",
   "id": "6c0f027d-c873-4352-8cd2-165f1df82326",
   "metadata": {},
   "source": [
    "But then, we have to solve $k$ equations;"
   ]
  },
  {
   "cell_type": "markdown",
   "id": "f700e5cf-a8af-430a-a287-636c2fb7d6b8",
   "metadata": {},
   "source": [
    "$$\n",
    "A\\mathbf{x}_1 = \\mathbf{b}_1, \\quad A\\mathbf{x}_2 = \\mathbf{b}_2, \\quad \\dots, \\quad A\\mathbf{x}_k = \\mathbf{b}_k\n",
    "$$"
   ]
  },
  {
   "cell_type": "markdown",
   "id": "04b75904-c99b-4c37-97ff-759fda629671",
   "metadata": {},
   "source": [
    "If we pass a matrix argument in place of the vector argument b, we can solve the above matrix equation as well:"
   ]
  },
  {
   "cell_type": "markdown",
   "id": "900a684b-6f75-42b0-948f-8a24671a671d",
   "metadata": {},
   "source": [
    "```python\n",
    "# general case\n",
    "X = linalg.solve(A, B, assume_a = \"gen\")\n",
    "X = linalg.solve_triangular(A, B, lower = \"False\") # triangular\n",
    "```\n",
    "\n",
    "```python\n",
    "# banded matrix\n",
    "X = linalg.solve_banded(A, B, assume_a = \"gen\")\n",
    "X = linalg.solve_banded(A, B, lower = \"False\") # positive definite\n",
    "```\n",
    "\n",
    "```python\n",
    "X = linalg.solve_toeplitz((c, r), B) # Toeplitz\n",
    "X = linalg.solve_circulant(c, B)     # Circulant\n",
    "```\n"
   ]
  },
  {
   "cell_type": "markdown",
   "id": "bf10e299-8082-47aa-a192-5ea801c6377b",
   "metadata": {},
   "source": [
    "This is it!!"
   ]
  },
  {
   "cell_type": "markdown",
   "id": "6bb05335-28da-4bb4-b1bc-f406f09cbcde",
   "metadata": {},
   "source": [
    "Note that solving $k$ equations of \n",
    "```python\n",
    "x = linalg.solve(A, b, assume_a = \"gen\")\n",
    "```\n",
    "is a huge waste of computational power. For each equations solving, it has to perform LU decomposition. "
   ]
  },
  {
   "cell_type": "markdown",
   "id": "d5b5d023-02a5-4380-a28f-b1e4e9ac5287",
   "metadata": {},
   "source": [
    "### Comparison of Computational Costs"
   ]
  },
  {
   "cell_type": "markdown",
   "id": "6ee5963b-47c7-4b3f-aff5-0f50e00ad6ef",
   "metadata": {},
   "source": [
    "$$\n",
    "A =\n",
    "\\begin{bmatrix}\n",
    "5 & 1 & & & \\\\\n",
    "1 & 5 & 1 & & \\\\\n",
    "& 1 & 5 & \\ddots & \\\\\n",
    "& & \\ddots & \\ddots & 1 \\\\\n",
    "& & & 1 & 5\n",
    "\\end{bmatrix}, \\quad A \\in \\mathbb{R}^{1000 \\times 1000}\n",
    "$$\n",
    "\n",
    "$$\n",
    "B =\n",
    "\\begin{bmatrix}\n",
    "1 & 2 & \\cdots & 1000 \\\\\n",
    "1 & 2 & \\cdots & 1000 \\\\\n",
    "\\vdots & \\vdots & \\ddots & \\vdots \\\\\n",
    "1 & 2 & \\cdots & 1000 \\\\\n",
    "1 & 2 & \\cdots & 1000\n",
    "\\end{bmatrix}, \\quad B = [b_1 \\, b_2 \\, \\dots \\, b_{1000}], \\quad B \\in \\mathbb{R}^{1000 \\times 1000}\n",
    "$$"
   ]
  },
  {
   "cell_type": "markdown",
   "id": "9353704a-2708-45e6-a1c8-d6c3b5fc59e7",
   "metadata": {},
   "source": [
    "1. 1,000 times repetition \n",
    "```python\n",
    "x = linalg.solve(A, b, assume_a = \"gen\") # over 10 seconds\n",
    "```"
   ]
  },
  {
   "cell_type": "markdown",
   "id": "80299633-7c23-414d-9db2-7b8e0b6d3021",
   "metadata": {},
   "source": [
    "2. Matrix equation\n",
    "\n",
    "```python\n",
    "X = linalg.solve(A, B, assume_a = \"gen\") # less than 0.1 seconds\n",
    "```"
   ]
  }
 ],
 "metadata": {
  "kernelspec": {
   "display_name": "Python 3 (ipykernel)",
   "language": "python",
   "name": "python3"
  },
  "language_info": {
   "codemirror_mode": {
    "name": "ipython",
    "version": 3
   },
   "file_extension": ".py",
   "mimetype": "text/x-python",
   "name": "python",
   "nbconvert_exporter": "python",
   "pygments_lexer": "ipython3",
   "version": "3.11.11"
  }
 },
 "nbformat": 4,
 "nbformat_minor": 5
}
