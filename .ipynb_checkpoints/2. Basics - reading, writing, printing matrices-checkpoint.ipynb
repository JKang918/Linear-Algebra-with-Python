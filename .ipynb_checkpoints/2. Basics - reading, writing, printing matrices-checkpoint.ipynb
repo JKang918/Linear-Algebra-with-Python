{
 "cells": [
  {
   "cell_type": "markdown",
   "id": "001683b1-ff82-4f7d-b206-74a44c6416a3",
   "metadata": {},
   "source": [
    "# 1. Reading Vectors and Matrices from .txt files"
   ]
  },
  {
   "cell_type": "markdown",
   "id": "b22287c2-6e7d-44a3-aa05-ea24ea432e48",
   "metadata": {},
   "source": [
    "file name, delimiter, data type\n",
    "\n",
    "```python\n",
    "a = np.genfromtxt('input1.txt', delimiter = '', dtype = np.float64)\n",
    "```\n",
    "\n",
    "create and save \"input1.txt\" as follows:\\\n",
    "1.0 2.5 3.0\\\n",
    "-1.0 -2.0 -1.5\\\n",
    "4.0 5.0 6.0\n",
    "\n",
    "*note: only one space!*\n",
    "\n",
    "```python\n",
    "a = np.genfromtxt('input2.txt', delimiter = ',', dtype = np.float64)\n",
    "```\n",
    "\n",
    "create and save \"input2.txt\" as follows:\\\n",
    "1.0, 2.5, 3.0\\\n",
    "-1.0, -2.0, -1.5\\\n",
    "4.0, 5.0, 6.0\n",
    "\n",
    "*note: spaces following ',' can be ignored.*"
   ]
  },
  {
   "cell_type": "code",
   "execution_count": 1,
   "id": "041efdea-fe6d-4daf-856c-67613268610d",
   "metadata": {},
   "outputs": [],
   "source": [
    "import numpy as np"
   ]
  },
  {
   "cell_type": "code",
   "execution_count": 2,
   "id": "a53a228f-4d91-47e4-a5ed-9f5e5168500a",
   "metadata": {},
   "outputs": [],
   "source": [
    "a = np.genfromtxt('input1.txt', delimiter = '', dtype = np.float64) # real matrix"
   ]
  },
  {
   "cell_type": "code",
   "execution_count": 3,
   "id": "41a8e931-e460-4452-9569-9082fc884af4",
   "metadata": {},
   "outputs": [
    {
     "name": "stdout",
     "output_type": "stream",
     "text": [
      "[[ 1.   2.5  3. ]\n",
      " [-1.  -2.  -1.5]\n",
      " [ 4.   5.   6. ]]\n"
     ]
    }
   ],
   "source": [
    "print(a)"
   ]
  },
  {
   "cell_type": "code",
   "execution_count": 4,
   "id": "52486a15-dafc-4a0b-bc1f-b6c8f2f646b0",
   "metadata": {},
   "outputs": [],
   "source": [
    "a = np.genfromtxt('input1.txt', delimiter = '', dtype = np.complex128) # complex matrix"
   ]
  },
  {
   "cell_type": "code",
   "execution_count": 5,
   "id": "f76d3913-740d-4d55-a407-8b47d65d2ade",
   "metadata": {},
   "outputs": [
    {
     "name": "stdout",
     "output_type": "stream",
     "text": [
      "[[ 1. +0.j  2.5+0.j  3. +0.j]\n",
      " [-1. +0.j -2. +0.j -1.5+0.j]\n",
      " [ 4. +0.j  5. +0.j  6. +0.j]]\n"
     ]
    }
   ],
   "source": [
    "print(a)"
   ]
  },
  {
   "cell_type": "code",
   "execution_count": 6,
   "id": "31843f8a-276a-4f98-84e3-200913f5475d",
   "metadata": {},
   "outputs": [],
   "source": [
    "a = np.genfromtxt('input2.txt', delimiter = ',', dtype = np.float64) # delimiter of ."
   ]
  },
  {
   "cell_type": "code",
   "execution_count": 7,
   "id": "12d33c7c-bbf4-4c50-a3ff-b8bea0303fb3",
   "metadata": {},
   "outputs": [
    {
     "name": "stdout",
     "output_type": "stream",
     "text": [
      "[[ 1.   2.5  3. ]\n",
      " [-1.  -2.  -1.5]\n",
      " [ 4.   5.   6. ]]\n"
     ]
    }
   ],
   "source": [
    "print(a)"
   ]
  },
  {
   "cell_type": "markdown",
   "id": "9e95d989-9682-4a6f-a732-77b466171672",
   "metadata": {},
   "source": [
    "# 1.2 Reading Vectors and Matrices from .txt files (complex)"
   ]
  },
  {
   "cell_type": "markdown",
   "id": "48004ad5-98e4-4a1a-88f3-6c97c1ab434e",
   "metadata": {},
   "source": [
    "file name, delimiter, data type\n",
    "\n",
    "```python\n",
    "a = np.genfromtxt('cinput1.txt', delimiter = '', dtype = np.complex128)\n",
    "```\n",
    "\n",
    "create and save \"cinput1.txt\" as follows:\\\n",
    "1-2j 3+1j 1\\\n",
    "1+2j 2-1j 7\n",
    "\n",
    "or\n",
    "\n",
    "(1-2j) (3+1j) (1)\\\n",
    "(1+2j) (2-1j) (7)\n",
    "\n",
    "*note: only one space!*\\\n",
    "*note: some paraentheses can be omitted but for consistency, when you decide to put paranthesis, use it for all*\n",
    "\n",
    "```python\n",
    "a = np.genfromtxt('cinput2.txt', delimiter = ',', dtype = np.complex128)\n",
    "```\n",
    "\n",
    "create and save \"cinput2.txt\" as follows:\\\n",
    "1-2j, 3+1j, 1\\\n",
    "1+2j, 2-1j, 7\n",
    "\n",
    "or\n",
    "\n",
    "(1-2j), (3+1j), (1)\\\n",
    "(1+2j), (2-1j), (7)\n",
    "\n",
    "\n",
    "*note: spaces following ',' can be ignored.*\\\n",
    "*note: although the coef. of imaginary part(j) can be omitted in the .txt file, it is advised aginst.*\\\n",
    "*note: do not use \"\\*\" after the coef of j*\\\n",
    "*note: some paraentheses can be omitted but for consistency, when you decide to put paranthesis, use it for all*"
   ]
  },
  {
   "cell_type": "code",
   "execution_count": 8,
   "id": "9262488d-f0c1-41d8-80c8-6d0d2866a104",
   "metadata": {},
   "outputs": [],
   "source": [
    "a = np.genfromtxt('cinput1.txt', delimiter = '', dtype = np.complex128) # complex matrix"
   ]
  },
  {
   "cell_type": "code",
   "execution_count": 9,
   "id": "24cca823-1add-4490-a90e-5b7e8d109cca",
   "metadata": {},
   "outputs": [
    {
     "name": "stdout",
     "output_type": "stream",
     "text": [
      "[[1.-2.j 3.+1.j 1.+0.j]\n",
      " [1.+2.j 2.-1.j 7.+0.j]]\n"
     ]
    }
   ],
   "source": [
    "print(a)"
   ]
  },
  {
   "cell_type": "code",
   "execution_count": 10,
   "id": "0c161b8d-679a-41ff-ae23-c66df979e2b4",
   "metadata": {},
   "outputs": [
    {
     "name": "stdout",
     "output_type": "stream",
     "text": [
      "[[nan nan  1.]\n",
      " [nan nan  7.]] --> nan values\n"
     ]
    }
   ],
   "source": [
    "# warning! # data type issue\n",
    "a = np.genfromtxt('cinput1.txt', delimiter = '', dtype = np.float64)\n",
    "print(a, \"--> nan values\")"
   ]
  },
  {
   "cell_type": "code",
   "execution_count": 11,
   "id": "36e28b70-0aad-4fb2-8d31-0fef589163ff",
   "metadata": {},
   "outputs": [],
   "source": [
    "a = np.genfromtxt('cinput2.txt', delimiter = ',', dtype = np.complex128) # complex matrix"
   ]
  },
  {
   "cell_type": "code",
   "execution_count": 12,
   "id": "f7258b69-a901-450f-9f7c-09386a1dffd4",
   "metadata": {},
   "outputs": [
    {
     "name": "stdout",
     "output_type": "stream",
     "text": [
      "[[1.-2.j 3.+1.j 1.+0.j]\n",
      " [1.+2.j 2.-1.j 7.+0.j]]\n"
     ]
    }
   ],
   "source": [
    "print(a)"
   ]
  },
  {
   "cell_type": "markdown",
   "id": "3877a0b1-edcc-4825-8980-d921c0f19014",
   "metadata": {},
   "source": [
    "# 2. Formats for Printing Real Numbers"
   ]
  },
  {
   "cell_type": "markdown",
   "id": "f4752981-9616-49b4-9608-51f8c3111eb1",
   "metadata": {},
   "source": [
    "1. floating format\n",
    "\n",
    "$123.4567$\n",
    "\n",
    "\"%0.4f\""
   ]
  },
  {
   "cell_type": "markdown",
   "id": "f4d7f19a-7e21-42bb-b385-895777bbd693",
   "metadata": {},
   "source": [
    "2. scientific format\n",
    "\n",
    "$1.23e2$\n",
    "\n",
    "\"%0.2e\""
   ]
  },
  {
   "cell_type": "markdown",
   "id": "cfe93651-a4f7-42b3-ae07-839c5c64e637",
   "metadata": {},
   "source": [
    "# 3. Writing Vectors and Matrices"
   ]
  },
  {
   "cell_type": "markdown",
   "id": "cbfc3f32-6469-496f-94c5-72292f8b9c87",
   "metadata": {},
   "source": [
    "file name, object to write, printing format, delimiter\n",
    "\n",
    "```python\n",
    "np.savetxt('output.txt', a, fmt = '%0.4f', delimiter = ',')\n",
    "```"
   ]
  },
  {
   "cell_type": "code",
   "execution_count": 20,
   "id": "b362557b-8968-40f8-a522-4aad68beac1c",
   "metadata": {},
   "outputs": [
    {
     "name": "stdout",
     "output_type": "stream",
     "text": [
      "[[ 1.   2.5  3. ]\n",
      " [-1.  -2.  -1.5]\n",
      " [ 4.   5.   6. ]]\n"
     ]
    }
   ],
   "source": [
    "a = np.genfromtxt('input2.txt', delimiter = ',', dtype = np.float64)\n",
    "print(a)"
   ]
  },
  {
   "cell_type": "code",
   "execution_count": 21,
   "id": "0c7211f5-4d3d-407d-baf6-af1df1f46385",
   "metadata": {},
   "outputs": [],
   "source": [
    "np.savetxt('output.txt', a, fmt = \"%0.2f\", delimiter = ',') # check the file"
   ]
  },
  {
   "cell_type": "markdown",
   "id": "8a501784-e0b9-4f54-97b7-bb0eba5d824e",
   "metadata": {},
   "source": [
    "output.txt\\\n",
    "1.00,2.50,3.00\\\n",
    "-1.00,-2.00,-1.50\\\n",
    "4.00,5.00,6.00"
   ]
  },
  {
   "cell_type": "code",
   "execution_count": 22,
   "id": "dcc24375-0152-45b7-8c38-2bc447994b67",
   "metadata": {},
   "outputs": [
    {
     "name": "stdout",
     "output_type": "stream",
     "text": [
      "[[1.-2.j 3.+1.j 1.+0.j]\n",
      " [1.+2.j 2.-1.j 7.+0.j]]\n"
     ]
    }
   ],
   "source": [
    "a = np.genfromtxt('cinput2.txt', delimiter = ',', dtype = np.complex128)\n",
    "print(a)"
   ]
  },
  {
   "cell_type": "code",
   "execution_count": 23,
   "id": "37028d0b-4c17-4a90-b753-e5d03528f81c",
   "metadata": {},
   "outputs": [],
   "source": [
    "np.savetxt('output.txt', a, fmt = \"%0.4f\", delimiter = ',')"
   ]
  },
  {
   "cell_type": "markdown",
   "id": "1e33a1b7-5127-4432-a3b5-10fab7d67595",
   "metadata": {},
   "source": [
    "output.txt\\\n",
    " (1.0000-2.0000j), (3.0000+1.0000j), (1.0000+0.0000j)\\\n",
    " (1.0000+2.0000j), (2.0000-1.0000j), (7.0000+0.0000j)"
   ]
  },
  {
   "cell_type": "markdown",
   "id": "6bc63ae6-36e5-40ef-9a0c-3386b0e7d28e",
   "metadata": {},
   "source": [
    "# 4. Printing Matrix and Vectors"
   ]
  },
  {
   "cell_type": "code",
   "execution_count": 26,
   "id": "73a11e03-536f-4e62-a820-6321686f7544",
   "metadata": {},
   "outputs": [],
   "source": [
    "from print_lecture import print_custom as prt"
   ]
  },
  {
   "cell_type": "markdown",
   "id": "6c395494-ca47-4f5a-b809-fc1caa9e8088",
   "metadata": {},
   "source": [
    "credit: This is a custom print function written by Bumhee Cho, the lecturer of numerical algebra class on Inflearn. I will not share this file (print_lecture.py) on github."
   ]
  },
  {
   "cell_type": "code",
   "execution_count": 27,
   "id": "0a17d564-c06a-4238-a251-cc160407c9af",
   "metadata": {},
   "outputs": [],
   "source": [
    "a = np.genfromtxt('input2.txt', delimiter = ',', dtype = np.float64)"
   ]
  },
  {
   "cell_type": "code",
   "execution_count": 28,
   "id": "63cc8d58-4bf8-4964-809f-fe08d0fa816b",
   "metadata": {},
   "outputs": [
    {
     "name": "stdout",
     "output_type": "stream",
     "text": [
      "[[ 1.   2.5  3. ]\n",
      " [-1.  -2.  -1.5]\n",
      " [ 4.   5.   6. ]]\n"
     ]
    }
   ],
   "source": [
    "print(a) # inbuilt function"
   ]
  },
  {
   "cell_type": "code",
   "execution_count": 30,
   "id": "78625e68-3fcf-4c36-9e7f-2605bc2b6f1f",
   "metadata": {},
   "outputs": [
    {
     "name": "stdout",
     "output_type": "stream",
     "text": [
      " 1.000, 2.500, 3.000\n",
      "-1.000,-2.000,-1.500\n",
      " 4.000, 5.000, 6.000\n"
     ]
    }
   ],
   "source": [
    "prt(a, fmt = '%0.3f', delimiter = ',') # custom function"
   ]
  },
  {
   "cell_type": "code",
   "execution_count": 31,
   "id": "df4b01db-1b8d-40fd-acaa-0c7f6d8f359e",
   "metadata": {},
   "outputs": [
    {
     "name": "stdout",
     "output_type": "stream",
     "text": [
      "[[1.-2.j 3.+1.j 1.+0.j]\n",
      " [1.+2.j 2.-1.j 7.+0.j]]\n"
     ]
    }
   ],
   "source": [
    "a = np.genfromtxt('cinput2.txt', delimiter = ',', dtype = np.complex128)\n",
    "print(a)"
   ]
  },
  {
   "cell_type": "code",
   "execution_count": 32,
   "id": "2d1f00b8-9781-45bc-a029-657cb680d1cb",
   "metadata": {},
   "outputs": [
    {
     "name": "stdout",
     "output_type": "stream",
     "text": [
      "( 1.00-2.00j),( 3.00+1.00j),( 1.00+0.00j)\n",
      "( 1.00+2.00j),( 2.00-1.00j),( 7.00+0.00j)\n"
     ]
    }
   ],
   "source": [
    "prt(a, fmt = '%0.2f', delimiter = ',') # custom function"
   ]
  },
  {
   "cell_type": "markdown",
   "id": "bfa51a92-19e0-4825-94f2-c01bd2ed142e",
   "metadata": {},
   "source": [
    "Takeaway: you can build some custom printing function to meet your specific needs."
   ]
  }
 ],
 "metadata": {
  "kernelspec": {
   "display_name": "Python 3 (ipykernel)",
   "language": "python",
   "name": "python3"
  },
  "language_info": {
   "codemirror_mode": {
    "name": "ipython",
    "version": 3
   },
   "file_extension": ".py",
   "mimetype": "text/x-python",
   "name": "python",
   "nbconvert_exporter": "python",
   "pygments_lexer": "ipython3",
   "version": "3.11.11"
  }
 },
 "nbformat": 4,
 "nbformat_minor": 5
}
