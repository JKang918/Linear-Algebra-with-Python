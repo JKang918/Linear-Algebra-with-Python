{
 "cells": [
  {
   "cell_type": "code",
   "execution_count": 1,
   "id": "1539228b-2e88-4252-be7b-630ac9ba348a",
   "metadata": {},
   "outputs": [],
   "source": [
    "import numpy as np\n",
    "from scipy import linalg"
   ]
  },
  {
   "cell_type": "markdown",
   "id": "33cf90f3-e4bf-46e8-8b6c-936f2c73a313",
   "metadata": {},
   "source": [
    "# 1. Toeplitz Matrix Solver"
   ]
  },
  {
   "cell_type": "markdown",
   "id": "3e55127b-dffe-45f7-b23a-04b8afb5219d",
   "metadata": {},
   "source": [
    "Application areas\n",
    "\n",
    "* digital image processing\n",
    "* signal processing\n",
    "* cryptography\n",
    "* and so on"
   ]
  },
  {
   "cell_type": "markdown",
   "id": "024004d5-cdcc-43b6-b17e-c89dbff77f4c",
   "metadata": {},
   "source": [
    "$$\n",
    "\\begin{bmatrix}\n",
    "a_0 & a_{-1} & a_{-2} & \\cdots & \\cdots & a_{-(n-1)} \\\\\n",
    "a_1 & a_0 & a_{-1} & \\cdots & \\cdots & a_{-(n-2)} \\\\\n",
    "a_2 & a_1 & a_0 & \\cdots & \\cdots & a_{-(n-3)} \\\\\n",
    "\\vdots & \\vdots & \\vdots & \\ddots & & \\vdots \\\\\n",
    "\\vdots & \\vdots & \\vdots & & \\ddots & \\vdots \\\\\n",
    "a_{n-1} & a_{n-2} & a_{n-3} & \\cdots & \\cdots & a_0 \\\\\n",
    "\\end{bmatrix}\n",
    "$$"
   ]
  },
  {
   "cell_type": "markdown",
   "id": "0b35322b-bf46-41e5-88c9-254f8e7307eb",
   "metadata": {},
   "source": [
    "Note that with the first column vector and the first row vector the whole matrix can be constructed."
   ]
  },
  {
   "cell_type": "markdown",
   "id": "206945c9-de2c-4963-9b2c-ce256b5e2522",
   "metadata": {},
   "source": [
    "1. Solving $T\\mathbf{x} = \\mathbf{b}$\n",
    "```python\n",
    "x = linalg.solve_toeplitz((c, r), b)\n",
    "```\n",
    "* ```c```: 1D array (column vec)\n",
    "* ```r```: 1D array (row vec)\n",
    "* Algorithm\n",
    "  - Levinson-Durbin recursion - $O(n^2)$, which is a lot faster than general algorithm of $O(n^3)$\n",
    " \n",
    "2. Reconstructing the matrix\n",
    "\n",
    "```python\n",
    "t_full = linalg.toeplitz(c, r)\n",
    "```\n",
    "\n",
    "* but is this even necessary? In almost all cases, we do not use the full matrix to solve for a given matrix equation involving Toeplitz matrix"
   ]
  },
  {
   "cell_type": "markdown",
   "id": "49a54066-f988-4270-8e76-3846fe730d90",
   "metadata": {},
   "source": [
    "Example"
   ]
  },
  {
   "cell_type": "markdown",
   "id": "e2cca13e-7285-4747-a73d-6df2531f7caf",
   "metadata": {},
   "source": [
    "$$\n",
    "T = \n",
    "\\begin{bmatrix}\n",
    "1 & -1 & -2 & -3 \\\\\n",
    "3 & 1 & -1 & -2 \\\\\n",
    "6 & 3 & 1 & -1 \\\\\n",
    "10 & 6 & 3 & 1\n",
    "\\end{bmatrix}, \\quad\n",
    "b = \n",
    "\\begin{bmatrix}\n",
    "1 \\\\\n",
    "1 \\\\\n",
    "1 \\\\\n",
    "1\n",
    "\\end{bmatrix}\n",
    "$$"
   ]
  },
  {
   "cell_type": "code",
   "execution_count": 3,
   "id": "f4bd5e3c-b090-4b7e-bf73-1e70b43cd30a",
   "metadata": {},
   "outputs": [],
   "source": [
    "c = np. array([1, 3, 6, 10])\n",
    "r = np.array([1, -1, -2, -3])\n",
    "\n",
    "b = np.ones(4, dtype = np.float64)"
   ]
  },
  {
   "cell_type": "code",
   "execution_count": 4,
   "id": "027b6412-e84c-48b6-baff-9412cab3617c",
   "metadata": {},
   "outputs": [],
   "source": [
    "x = linalg.solve_toeplitz((c, r), b)"
   ]
  },
  {
   "cell_type": "markdown",
   "id": "5b89c930-3272-4e49-9715-7514846470b7",
   "metadata": {},
   "source": [
    "### How to verify the solution?"
   ]
  },
  {
   "cell_type": "markdown",
   "id": "336833c3-ffc7-4cad-b546-6b85231b3bf0",
   "metadata": {},
   "source": [
    "1. Build a custom function to compute $T\\mathbf{x}$\n",
    "2. Compare it with $\\mathbf{b}$ with ```np.allclose```"
   ]
  },
  {
   "cell_type": "markdown",
   "id": "f0d1ce00-0c99-4caa-ad94-8c2417d799ca",
   "metadata": {},
   "source": [
    "# 2. Circulant Matrix Solver"
   ]
  },
  {
   "cell_type": "markdown",
   "id": "0c9520f9-cc84-4234-8f9d-641f8e2e08f5",
   "metadata": {},
   "source": [
    "$$\n",
    "\\begin{bmatrix}\n",
    "c_0 & c_{n-1} & \\cdots & c_2 & c_1 \\\\\n",
    "c_1 & c_0 & c_{n-1} & \\cdots & c_2 \\\\\n",
    "\\vdots & c_1 & c_0 & \\ddots & \\vdots \\\\\n",
    "c_{n-2} & \\vdots & \\ddots & \\ddots & c_{n-1} \\\\\n",
    "c_{n-1} & c_{n-2} & \\cdots & c_1 & c_0 \\\\\n",
    "\\end{bmatrix}\n",
    "$$"
   ]
  },
  {
   "cell_type": "markdown",
   "id": "073edc02-89bc-491f-b303-917fdfe370fe",
   "metadata": {},
   "source": [
    "Application areas\n",
    "\n",
    "* digital image processing\n",
    "* signal processing\n",
    "* cryptography\n",
    "* and so on"
   ]
  },
  {
   "cell_type": "markdown",
   "id": "3de4001d-8282-493c-b932-f8e8ce41dde5",
   "metadata": {},
   "source": [
    "1. Solving $C\\mathbf{x} = \\mathbf{b}$\n",
    "\n",
    "```python\n",
    "x = linalg.solve_circulant(c, b)\n",
    "```\n",
    "* ```c```: 1D array (column vec)\n",
    "* ```r```: 1D array (row vec)\n",
    "* Algorithm\n",
    "  - discrete Fourier transform $\\rightarrow$ fast Fourier transform $O(nlog(n))$, which is a lot faster than general algorithm of $O(n^3)$\n",
    " \n",
    "2. Reconstructing the matrix\n",
    "\n",
    "```python\n",
    "c_full = linalg.circulant(c, r)\n",
    "```\n",
    "\n",
    "* but is this even necessary? In almost all cases, we do not use the full matrix to solve for a given matrix equation involving Circulant matrix"
   ]
  },
  {
   "cell_type": "markdown",
   "id": "d55ed3d4-f211-4ce4-b6d6-d1e622456616",
   "metadata": {},
   "source": [
    "Example"
   ]
  },
  {
   "cell_type": "markdown",
   "id": "297f2155-b2d2-49bb-8b8d-2d7aa8597325",
   "metadata": {},
   "source": [
    "$$\n",
    "C =\n",
    "\\begin{bmatrix}\n",
    "2 & -1 & 0  & 1 & 0 & 0 & -1 \\\\\n",
    "-1 &  \\\\\n",
    "0 &  \\\\\n",
    "1 & & & & \\ddots  \\\\\n",
    "0  \\\\\n",
    "0  \\\\\n",
    "-1 \\\\\n",
    "\\end{bmatrix}, \\quad\n",
    "b =\n",
    "\\begin{bmatrix}\n",
    "1 \\\\\n",
    "1 \\\\\n",
    "1 \\\\\n",
    "1 \\\\\n",
    "1 \\\\\n",
    "1 \\\\\n",
    "1 \\\\\n",
    "1\n",
    "\\end{bmatrix}\n",
    "$$"
   ]
  },
  {
   "cell_type": "code",
   "execution_count": 5,
   "id": "8c3972c1-15d1-4dbc-9232-5ce5c9310e8d",
   "metadata": {},
   "outputs": [],
   "source": [
    "c = np.array([2, -1, 0, 1, 0, 0, -1])\n",
    "b = np.ones(7)"
   ]
  },
  {
   "cell_type": "code",
   "execution_count": 6,
   "id": "837b690b-8fc5-41da-a266-7471f001e44d",
   "metadata": {},
   "outputs": [],
   "source": [
    "x = linalg.solve_circulant(c, b)"
   ]
  },
  {
   "cell_type": "markdown",
   "id": "7c08a362-25ca-41fc-bec5-fbab8cfd6d3e",
   "metadata": {},
   "source": [
    "### How to verify the solution?"
   ]
  },
  {
   "cell_type": "markdown",
   "id": "8f678e04-b089-4787-9060-e16d74a878e3",
   "metadata": {},
   "source": [
    "1. Build a custom function to compute $C\\mathbf{x}$\n",
    "2. Compare it with $\\mathbf{b}$ with ```np.allclose```"
   ]
  },
  {
   "cell_type": "markdown",
   "id": "09138da7-9857-4d95-9d2d-eaa2d8f7a84e",
   "metadata": {},
   "source": [
    "# 3. Comparison of Computational Costs"
   ]
  },
  {
   "cell_type": "markdown",
   "id": "0c8ef546-bb11-4b2f-9a0c-2d2a0b64ed59",
   "metadata": {},
   "source": [
    "$$\n",
    "\\textbf{Comparison of Computation Speed}\n",
    "$$\n",
    "\n",
    "$$\n",
    "\\begin{array}{|c|c|c|c|}\n",
    "\\hline\n",
    "\\textbf{Matrix Size (n)} & \\textbf{solve\\_circulant} & \\textbf{solve\\_toeplitz} & \\textbf{General solve} \\\\\n",
    "\\hline\n",
    "1000 & 0.001979 & 0.0121 & 0.017 \\\\\n",
    "2500 & 0.002754 & 0.0237 & 0.150 \\\\\n",
    "5000 & 0.003199 & 0.0594 & 0.745 \\\\\n",
    "10000 & 0.003471 & 0.2091 & 4.16 \\\\\n",
    "20000 & 0.004392 & 0.8017 & 23.76 \\\\\n",
    "50000 & 0.005860 & 4.9556 & 313.38 \\\\\n",
    "\\hline\n",
    "\\end{array}\n",
    "$$"
   ]
  }
 ],
 "metadata": {
  "kernelspec": {
   "display_name": "Python 3 (ipykernel)",
   "language": "python",
   "name": "python3"
  },
  "language_info": {
   "codemirror_mode": {
    "name": "ipython",
    "version": 3
   },
   "file_extension": ".py",
   "mimetype": "text/x-python",
   "name": "python",
   "nbconvert_exporter": "python",
   "pygments_lexer": "ipython3",
   "version": "3.11.11"
  }
 },
 "nbformat": 4,
 "nbformat_minor": 5
}
