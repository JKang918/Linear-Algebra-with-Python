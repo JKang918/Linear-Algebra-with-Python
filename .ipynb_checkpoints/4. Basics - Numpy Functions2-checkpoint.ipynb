{
 "cells": [
  {
   "cell_type": "markdown",
   "id": "001683b1-ff82-4f7d-b206-74a44c6416a3",
   "metadata": {},
   "source": [
    "# Basic Numpy Functions (cont'd)"
   ]
  },
  {
   "cell_type": "code",
   "execution_count": 1,
   "id": "6215e1b8-4dfc-49dc-a23d-b5aaa41a44c3",
   "metadata": {},
   "outputs": [],
   "source": [
    "import numpy as np"
   ]
  },
  {
   "cell_type": "markdown",
   "id": "43d3e07b-8cae-43f3-a74e-d04667b6d171",
   "metadata": {},
   "source": [
    "# 1. Copy Matrix/Vector"
   ]
  },
  {
   "cell_type": "markdown",
   "id": "7bbeab68-2882-411c-a567-d7c940613c93",
   "metadata": {},
   "source": [
    "## np.copy"
   ]
  },
  {
   "cell_type": "markdown",
   "id": "564e2180-371f-442f-a196-0f3bc455725f",
   "metadata": {},
   "source": [
    "**np.copy** - copy a matrix or vector and create a new object"
   ]
  },
  {
   "cell_type": "markdown",
   "id": "aff8c005-bbf0-4dd2-acc4-6cc03dd1894f",
   "metadata": {},
   "source": [
    "if we simply use equal sign as follows:\n",
    "\n",
    "```python\n",
    "b = a\n",
    "```\n",
    "\n",
    "b and a point to the same object. Meaning, if you change a such as\n",
    "\n",
    "```python\n",
    "a[1, 1] = 0\n",
    "```\n",
    "\n",
    "it affects b.\n",
    "\n",
    "To avoid this matter, use np.copy\n",
    "\n",
    "```python\n",
    "b = np.copy(b)\n",
    "```"
   ]
  },
  {
   "cell_type": "markdown",
   "id": "c1a3fba0-278d-406c-b4a7-8ec74bb157c8",
   "metadata": {},
   "source": [
    "example:"
   ]
  },
  {
   "cell_type": "code",
   "execution_count": 2,
   "id": "9670677a-d817-4409-94d6-d385d0b54167",
   "metadata": {},
   "outputs": [
    {
     "name": "stdout",
     "output_type": "stream",
     "text": [
      "[[ 1.   2.5  3. ]\n",
      " [-1.  -2.  -1.5]\n",
      " [ 4.   5.5  6. ]]\n"
     ]
    }
   ],
   "source": [
    "a = np.array([[1, 2.5, 3], [-1, -2, -1.5],[4, 5.5, 6]], dtype = np.float64)\n",
    "print(a)"
   ]
  },
  {
   "cell_type": "code",
   "execution_count": 3,
   "id": "6767ff03-b6d6-486b-8e4b-24f400d7b544",
   "metadata": {},
   "outputs": [],
   "source": [
    "b = a"
   ]
  },
  {
   "cell_type": "code",
   "execution_count": 4,
   "id": "e8ce8ac7-bcf8-4727-8245-f3b821986e93",
   "metadata": {},
   "outputs": [
    {
     "name": "stdout",
     "output_type": "stream",
     "text": [
      "[[ 1.   2.5  3. ]\n",
      " [-1.   0.  -1.5]\n",
      " [ 4.   5.5  6. ]]\n"
     ]
    }
   ],
   "source": [
    "a[1, 1] = 0\n",
    "print(b) # b is changed"
   ]
  },
  {
   "cell_type": "markdown",
   "id": "e953bc87-9575-4334-bc69-5a00e70fda19",
   "metadata": {},
   "source": [
    "Instead, use np.copy this time."
   ]
  },
  {
   "cell_type": "code",
   "execution_count": 5,
   "id": "d69a3d53-5223-4fde-85ea-80e825126d74",
   "metadata": {},
   "outputs": [
    {
     "name": "stdout",
     "output_type": "stream",
     "text": [
      "[[ 1.   2.5  3. ]\n",
      " [-1.  -2.  -1.5]\n",
      " [ 4.   5.5  6. ]]\n"
     ]
    }
   ],
   "source": [
    "a = np.array([[1, 2.5, 3], [-1, -2, -1.5],[4, 5.5, 6]], dtype = np.float64)\n",
    "print(a)"
   ]
  },
  {
   "cell_type": "code",
   "execution_count": 6,
   "id": "be4f33f0-b7f9-470c-b032-59e2c3d349c5",
   "metadata": {},
   "outputs": [],
   "source": [
    "b = np.copy(a)"
   ]
  },
  {
   "cell_type": "code",
   "execution_count": 7,
   "id": "d082e167-e8e1-43c4-94f0-b1bfa17e152b",
   "metadata": {},
   "outputs": [
    {
     "name": "stdout",
     "output_type": "stream",
     "text": [
      "[[ 1.   2.5  3. ]\n",
      " [-1.  -2.  -1.5]\n",
      " [ 4.   5.5  6. ]]\n"
     ]
    }
   ],
   "source": [
    "a[1, 1] = 0\n",
    "print(b) # b is not changed"
   ]
  },
  {
   "cell_type": "markdown",
   "id": "59624d30-1e85-41eb-9734-1c100dde376e",
   "metadata": {},
   "source": [
    "Summary\n",
    "\n",
    "```python\n",
    "b = a\n",
    "```\n",
    "* a and b point to the same memory\n",
    "\n",
    "```python\n",
    "b = np.copy(a)\n",
    "```\n",
    "* new memory space is allocated for b"
   ]
  },
  {
   "cell_type": "markdown",
   "id": "1f531dec-68a6-42ed-b120-31803581420a",
   "metadata": {},
   "source": [
    "# 2. Reshape"
   ]
  },
  {
   "cell_type": "markdown",
   "id": "3e7839e2-39a0-4cd8-aa35-029e3dcadac8",
   "metadata": {},
   "source": [
    "**np.reshape** - reshape, i.e., change the demension of the given matrix"
   ]
  },
  {
   "cell_type": "markdown",
   "id": "39495d0a-e593-46ae-8717-240b6cdad52c",
   "metadata": {},
   "source": [
    "```python\n",
    "b = np.reshape(a, number or shape-tuple)\n",
    "```\n",
    "first argument  : matrix or vector\\\n",
    "second argument : reshape target \n",
    "\n",
    "**Note : b refers to the same memory space!!**\n",
    "\n",
    "```python\n",
    "# to avoid this\n",
    "b = np.copy(np.reshape(a, number or shape-tuple))\n",
    "```\n",
    "\n",
    "**Note : when you want to reshape a, use:**\n",
    "\n",
    "```python\n",
    "a = np.reshape(a, number or shape-tuple)\n",
    "```"
   ]
  },
  {
   "cell_type": "markdown",
   "id": "0020e886-9a5b-4802-bf58-d044f894f9b8",
   "metadata": {},
   "source": [
    "example:"
   ]
  },
  {
   "cell_type": "code",
   "execution_count": 8,
   "id": "6beeee91-a21d-4af2-b00b-401fff00bce8",
   "metadata": {},
   "outputs": [
    {
     "name": "stdout",
     "output_type": "stream",
     "text": [
      "[[ 1.   2.5  3. ]\n",
      " [-1.  -2.  -1.5]]\n",
      "dimension of a:  (2, 3)\n"
     ]
    }
   ],
   "source": [
    "a = np.array([[1, 2.5, 3], [-1, -2, -1.5]], dtype = np.float64)\n",
    "print(a)\n",
    "print(\"dimension of a: \", a.shape)"
   ]
  },
  {
   "cell_type": "code",
   "execution_count": 9,
   "id": "bb748c7c-97d8-422f-bdd4-9d694f75758d",
   "metadata": {},
   "outputs": [
    {
     "name": "stdout",
     "output_type": "stream",
     "text": [
      "[[ 1.   2.5]\n",
      " [ 3.  -1. ]\n",
      " [-2.  -1.5]]\n",
      "dimension of b:  (3, 2)\n"
     ]
    }
   ],
   "source": [
    "b = np.reshape(a, (3, 2))\n",
    "print(b)\n",
    "print(\"dimension of b: \", b.shape)"
   ]
  },
  {
   "cell_type": "code",
   "execution_count": 10,
   "id": "2f5331f2-e055-469c-a27a-d3d858154c19",
   "metadata": {},
   "outputs": [
    {
     "name": "stdout",
     "output_type": "stream",
     "text": [
      "[[ 1.   2.5  3.  -1.  -2.  -1.5]]\n",
      "dimension of b:  (1, 6)\n"
     ]
    }
   ],
   "source": [
    "b = np.reshape(a, (-1, 6)) # when you are sure about the # of cols and want to avoid the errors\n",
    "print(b)\n",
    "print(\"dimension of b: \", b.shape)"
   ]
  },
  {
   "cell_type": "code",
   "execution_count": 11,
   "id": "db6cc60a-bd91-4dbc-91ae-cd04d94013de",
   "metadata": {},
   "outputs": [
    {
     "name": "stdout",
     "output_type": "stream",
     "text": [
      "[[ 1. ]\n",
      " [ 2.5]\n",
      " [ 3. ]\n",
      " [-1. ]\n",
      " [-2. ]\n",
      " [-1.5]]\n",
      "dimension of b:  (6, 1)\n"
     ]
    }
   ],
   "source": [
    "b = np.reshape(a, (6, -1)) # when you are sure about the # of rows\n",
    "print(b)\n",
    "print(\"dimension of b: \", b.shape)"
   ]
  },
  {
   "cell_type": "code",
   "execution_count": 12,
   "id": "d1a924f6-3f3c-447a-97d1-4ed9ba5eac0a",
   "metadata": {},
   "outputs": [
    {
     "name": "stdout",
     "output_type": "stream",
     "text": [
      "[ 1.   2.5  3.  -1.  -2.  -1.5]\n",
      "dimension of b:  (6,)\n"
     ]
    }
   ],
   "source": [
    "b = np.reshape(a, 6)\n",
    "print(b)\n",
    "print(\"dimension of b: \", b.shape)"
   ]
  },
  {
   "cell_type": "code",
   "execution_count": 13,
   "id": "1808c4dc-8f86-455a-865c-eecb862191fd",
   "metadata": {},
   "outputs": [
    {
     "name": "stdout",
     "output_type": "stream",
     "text": [
      "[ 1.   2.5  3.  -1.  -2.  -1.5]\n",
      "dimension of b:  (6,)\n"
     ]
    }
   ],
   "source": [
    "b = np.reshape(a, -1)\n",
    "print(b)\n",
    "print(\"dimension of b: \", b.shape)"
   ]
  },
  {
   "cell_type": "markdown",
   "id": "a0bafccf-92bb-4920-a2e9-326908ab5655",
   "metadata": {},
   "source": [
    "**b refers to the same space:**"
   ]
  },
  {
   "cell_type": "code",
   "execution_count": 14,
   "id": "2f672ef2-dbf8-4c68-8f62-b1e1d602ce99",
   "metadata": {},
   "outputs": [],
   "source": [
    "a[1, 1] = 0"
   ]
  },
  {
   "cell_type": "code",
   "execution_count": 15,
   "id": "b3bf15fe-ea62-4228-b1fe-06ca8341b11e",
   "metadata": {},
   "outputs": [
    {
     "name": "stdout",
     "output_type": "stream",
     "text": [
      "[ 1.   2.5  3.  -1.   0.  -1.5]\n"
     ]
    }
   ],
   "source": [
    "print(b) # b changed"
   ]
  },
  {
   "cell_type": "code",
   "execution_count": 16,
   "id": "d65357ec-048f-4c45-bfd3-d057e827606f",
   "metadata": {},
   "outputs": [
    {
     "name": "stdout",
     "output_type": "stream",
     "text": [
      "[ 1.   2.5  3.  -1.  -2.  -1.5]\n",
      "dimension of b:  (6,)\n"
     ]
    }
   ],
   "source": [
    "a = np.array([[1, 2.5, 3], [-1, -2, -1.5]], dtype = np.float64)\n",
    "b = np.copy(np.reshape(a, -1)) # np.copy\n",
    "a[1, 1] = 0\n",
    "print(b)\n",
    "print(\"dimension of b: \", b.shape) # b has not changed"
   ]
  },
  {
   "cell_type": "markdown",
   "id": "a34efef1-fa4e-47b8-9185-b71a9227ec5d",
   "metadata": {},
   "source": [
    "# 3. Copying Triangular Entries"
   ]
  },
  {
   "cell_type": "markdown",
   "id": "6de1a410-e033-47e9-8faf-bba1594170c5",
   "metadata": {},
   "source": [
    "## 3.1 np.tril"
   ]
  },
  {
   "cell_type": "markdown",
   "id": "dd9cdeca-d5d3-4872-a940-b455e3aef7b7",
   "metadata": {},
   "source": [
    "**np.tril** - copying lower triangular entires with adjusting features (shifting)"
   ]
  },
  {
   "cell_type": "markdown",
   "id": "beddf56f-f7e0-447e-a71e-148d6719f680",
   "metadata": {},
   "source": [
    "```python\n",
    "b = np.tril(a, k = band_id)\n",
    "```\n",
    "first arg: matrix to copy\\\n",
    "second arg: shifting parameter (default = 0)"
   ]
  },
  {
   "cell_type": "markdown",
   "id": "ae5d755a-41f2-483a-b237-6bba6cd2d308",
   "metadata": {},
   "source": [
    "## 3.2 np.triu"
   ]
  },
  {
   "cell_type": "markdown",
   "id": "5e9632b1-beae-47cc-a364-0b80fc8fb639",
   "metadata": {},
   "source": [
    "**np.triu** - copying upper triangular entires with adjusting features (shifting)"
   ]
  },
  {
   "cell_type": "markdown",
   "id": "baa0eb8c-4f9f-4789-9e29-b93250091180",
   "metadata": {},
   "source": [
    "```python\n",
    "b = np.triu(a, k = band_id)\n",
    "```\n",
    "first arg: matrix to copy\\\n",
    "second arg: shifting parameter (default = 0)"
   ]
  },
  {
   "cell_type": "markdown",
   "id": "5d157d7e-7aec-4831-b891-6bae9eea9726",
   "metadata": {},
   "source": [
    "**Note.\\\n",
    "tril, triu allocate new memory space.**"
   ]
  },
  {
   "cell_type": "code",
   "execution_count": 17,
   "id": "1de3c5ae-a323-47b5-a650-2a46626a2897",
   "metadata": {},
   "outputs": [
    {
     "name": "stdout",
     "output_type": "stream",
     "text": [
      "[[ 2. 97. 74. 86. 98. 96.]\n",
      " [90. 50. 78. 57.  6. 94.]\n",
      " [54. 53. 67. 38. 91. 59.]\n",
      " [31. 67. 75. 66.  1. 88.]]\n"
     ]
    }
   ],
   "source": [
    "a = np.random.rand(4, 6)\n",
    "a = np.trunc(a * 100)\n",
    "print(a)"
   ]
  },
  {
   "cell_type": "code",
   "execution_count": 18,
   "id": "b0df39d2-d6c1-4ebf-b8f4-21aaf7928aae",
   "metadata": {},
   "outputs": [
    {
     "name": "stdout",
     "output_type": "stream",
     "text": [
      "[[ 2. 97. 74. 86. 98. 96.]\n",
      " [ 0. 50. 78. 57.  6. 94.]\n",
      " [ 0.  0. 67. 38. 91. 59.]\n",
      " [ 0.  0.  0. 66.  1. 88.]]\n"
     ]
    }
   ],
   "source": [
    "b1 = np.triu(a, k = 0) # k = 0 can be dropped\n",
    "print(b1)"
   ]
  },
  {
   "cell_type": "code",
   "execution_count": 19,
   "id": "f1ade538-bffd-4543-bc59-bc0006c7ed48",
   "metadata": {},
   "outputs": [
    {
     "name": "stdout",
     "output_type": "stream",
     "text": [
      "[[ 0. 97. 74. 86. 98. 96.]\n",
      " [ 0.  0. 78. 57.  6. 94.]\n",
      " [ 0.  0.  0. 38. 91. 59.]\n",
      " [ 0.  0.  0.  0.  1. 88.]]\n"
     ]
    }
   ],
   "source": [
    "b2 = np.triu(a, k = 1)\n",
    "print(b2)"
   ]
  },
  {
   "cell_type": "code",
   "execution_count": 20,
   "id": "4df2c491-e814-45da-a94d-a26c5c49f980",
   "metadata": {},
   "outputs": [
    {
     "name": "stdout",
     "output_type": "stream",
     "text": [
      "[[ 2. 97. 74. 86. 98. 96.]\n",
      " [90. 50. 78. 57.  6. 94.]\n",
      " [ 0. 53. 67. 38. 91. 59.]\n",
      " [ 0.  0. 75. 66.  1. 88.]]\n"
     ]
    }
   ],
   "source": [
    "b3 = np.triu(a, k = -1)\n",
    "print(b3)"
   ]
  },
  {
   "cell_type": "code",
   "execution_count": 21,
   "id": "c1773c28-ff0d-4467-bc72-fb7d9c2fb99b",
   "metadata": {},
   "outputs": [
    {
     "name": "stdout",
     "output_type": "stream",
     "text": [
      "[[ 2.  0.  0.  0.  0.  0.]\n",
      " [90. 50.  0.  0.  0.  0.]\n",
      " [54. 53. 67.  0.  0.  0.]\n",
      " [31. 67. 75. 66.  0.  0.]]\n"
     ]
    }
   ],
   "source": [
    "c1 = np.tril(a, k = 0)\n",
    "print(c1)"
   ]
  },
  {
   "cell_type": "code",
   "execution_count": 22,
   "id": "df6d253b-3501-4b9a-93d7-56191cdd219c",
   "metadata": {},
   "outputs": [
    {
     "name": "stdout",
     "output_type": "stream",
     "text": [
      "[[ 2. 97.  0.  0.  0.  0.]\n",
      " [90. 50. 78.  0.  0.  0.]\n",
      " [54. 53. 67. 38.  0.  0.]\n",
      " [31. 67. 75. 66.  1.  0.]]\n"
     ]
    }
   ],
   "source": [
    "c2 = np.tril(a, k = 1)\n",
    "print(c2)"
   ]
  },
  {
   "cell_type": "code",
   "execution_count": 23,
   "id": "d8342362-6129-4f87-9130-0b60cfd1316a",
   "metadata": {},
   "outputs": [
    {
     "name": "stdout",
     "output_type": "stream",
     "text": [
      "[[ 0.  0.  0.  0.  0.  0.]\n",
      " [90.  0.  0.  0.  0.  0.]\n",
      " [54. 53.  0.  0.  0.  0.]\n",
      " [31. 67. 75.  0.  0.  0.]]\n"
     ]
    }
   ],
   "source": [
    "c3 = np.tril(a, k = -1)\n",
    "print(c3)"
   ]
  },
  {
   "cell_type": "code",
   "execution_count": 24,
   "id": "a92f8cce-6dbd-4e8f-a0ca-f7cf4ad4e07e",
   "metadata": {},
   "outputs": [
    {
     "name": "stdout",
     "output_type": "stream",
     "text": [
      "[[  0.   0.   0.   0.   0.   0.]\n",
      " [-10.   0.   0.   0.   0.   0.]\n",
      " [ 54.  53.   0.   0.   0.   0.]\n",
      " [ 31.  67.  75.   0.   0.   0.]]\n"
     ]
    }
   ],
   "source": [
    "c3[1, 0] = -10\n",
    "print(c3)"
   ]
  },
  {
   "cell_type": "code",
   "execution_count": 25,
   "id": "47118ef9-3cda-4749-8b33-fce096b06f98",
   "metadata": {},
   "outputs": [
    {
     "name": "stdout",
     "output_type": "stream",
     "text": [
      "[[ 2. 97. 74. 86. 98. 96.]\n",
      " [90. 50. 78. 57.  6. 94.]\n",
      " [54. 53. 67. 38. 91. 59.]\n",
      " [31. 67. 75. 66.  1. 88.]]\n"
     ]
    }
   ],
   "source": [
    "print(a) # no change in a"
   ]
  },
  {
   "cell_type": "markdown",
   "id": "14568784-c33c-4d6d-8ec9-dca03a0982e2",
   "metadata": {},
   "source": [
    "# 4. Extracting Specific Band Vector from a Matrix"
   ]
  },
  {
   "cell_type": "markdown",
   "id": "e2d925bf-12a2-4541-800f-1277747bdd72",
   "metadata": {},
   "source": [
    "## np.diag"
   ]
  },
  {
   "cell_type": "markdown",
   "id": "80936a95-4ddf-4f95-b190-c19894961c8f",
   "metadata": {},
   "source": [
    "**np.diag** - band vector"
   ]
  },
  {
   "cell_type": "markdown",
   "id": "5a80c2d8-ab3d-4255-8e3a-0aa0b616b325",
   "metadata": {},
   "source": [
    "```python\n",
    "b = np.diag(a, k = 2)\n",
    "```\n",
    "argument  : matrix whose band vector is of interest (k is shifting parameter)"
   ]
  },
  {
   "cell_type": "code",
   "execution_count": 26,
   "id": "2cfade46-1586-4aa2-a1b5-4980a227f564",
   "metadata": {},
   "outputs": [
    {
     "name": "stdout",
     "output_type": "stream",
     "text": [
      "[[ 2. 97. 74. 86. 98. 96.]\n",
      " [90. 50. 78. 57.  6. 94.]\n",
      " [54. 53. 67. 38. 91. 59.]\n",
      " [31. 67. 75. 66.  1. 88.]]\n"
     ]
    }
   ],
   "source": [
    "print(a)"
   ]
  },
  {
   "cell_type": "code",
   "execution_count": 34,
   "id": "141f598d-2cca-4765-98fc-a65618136b79",
   "metadata": {},
   "outputs": [],
   "source": [
    "b1 = np.diag(a, k = 0)"
   ]
  },
  {
   "cell_type": "code",
   "execution_count": 35,
   "id": "77948582-e033-4548-a546-2c603a4f2d02",
   "metadata": {},
   "outputs": [
    {
     "name": "stdout",
     "output_type": "stream",
     "text": [
      "[ 2. 50. 67. 66.]\n"
     ]
    }
   ],
   "source": [
    "print(b1)"
   ]
  },
  {
   "cell_type": "code",
   "execution_count": 36,
   "id": "d47d5072-682d-4839-bb01-0b4b06bbb4b4",
   "metadata": {},
   "outputs": [
    {
     "name": "stdout",
     "output_type": "stream",
     "text": [
      "[97. 78. 38.  1.]\n"
     ]
    }
   ],
   "source": [
    "b2 = np.diag(a, k = 1)\n",
    "print(b2)"
   ]
  },
  {
   "cell_type": "code",
   "execution_count": 37,
   "id": "83bf4c25-84be-467f-8098-f3ddbe639f6b",
   "metadata": {},
   "outputs": [
    {
     "name": "stdout",
     "output_type": "stream",
     "text": [
      "[90. 53. 75.]\n"
     ]
    }
   ],
   "source": [
    "b3 = np.diag(a, k = -1)\n",
    "print(b3)"
   ]
  },
  {
   "cell_type": "markdown",
   "id": "1b7f436c-ca49-462f-b993-1fe7f00e6ff4",
   "metadata": {},
   "source": [
    "**Note.\\\n",
    "np.diag in this case DO NOT allocate new memory space.**"
   ]
  },
  {
   "cell_type": "markdown",
   "id": "2c956697-2d40-4691-9c58-3236450d3760",
   "metadata": {},
   "source": [
    "Therefore we make changes to a, it also changes to b's."
   ]
  },
  {
   "cell_type": "code",
   "execution_count": 39,
   "id": "a201ded5-b35e-4e19-9852-70ee466b21ee",
   "metadata": {},
   "outputs": [
    {
     "name": "stdout",
     "output_type": "stream",
     "text": [
      "[-100.   50.   67.   66.]\n"
     ]
    }
   ],
   "source": [
    "a[0, 0] = -100\n",
    "print(b1) #changed"
   ]
  },
  {
   "cell_type": "markdown",
   "id": "285c4ed9-45c3-45ac-b094-9e8297e2084f",
   "metadata": {},
   "source": [
    "The other way around is impossible. b's are read-only."
   ]
  },
  {
   "cell_type": "code",
   "execution_count": 41,
   "id": "b8cea042-fd03-4a54-bb03-aac87e65a0a1",
   "metadata": {},
   "outputs": [
    {
     "ename": "ValueError",
     "evalue": "assignment destination is read-only",
     "output_type": "error",
     "traceback": [
      "\u001b[1;31m---------------------------------------------------------------------------\u001b[0m",
      "\u001b[1;31mValueError\u001b[0m                                Traceback (most recent call last)",
      "Cell \u001b[1;32mIn[41], line 1\u001b[0m\n\u001b[1;32m----> 1\u001b[0m b1[\u001b[38;5;241m0\u001b[39m] \u001b[38;5;241m=\u001b[39m \u001b[38;5;241m2\u001b[39m\n",
      "\u001b[1;31mValueError\u001b[0m: assignment destination is read-only"
     ]
    }
   ],
   "source": [
    "b1[0] = 2 # read-only "
   ]
  },
  {
   "cell_type": "markdown",
   "id": "04518c74-c4ff-4720-bbc2-2e9ce944b52d",
   "metadata": {},
   "source": [
    "# 5. Creating a Sqaure Matrix from a Vector"
   ]
  },
  {
   "cell_type": "markdown",
   "id": "2f31f1a5-15b3-41cd-b87c-b26746a73f42",
   "metadata": {},
   "source": [
    "## 5.1 np.diag"
   ]
  },
  {
   "cell_type": "markdown",
   "id": "2f52dbc8-9e78-4c5e-98a6-3e54215fec49",
   "metadata": {},
   "source": [
    "```python\n",
    "a = np.diag(b, k = band_id)\n",
    "```\n",
    "argument  : vector to create a square matrix (k is shifting parameter)"
   ]
  },
  {
   "cell_type": "code",
   "execution_count": 48,
   "id": "5ad5c728-23dc-480f-8c42-bc7939a1e8cf",
   "metadata": {},
   "outputs": [
    {
     "name": "stdout",
     "output_type": "stream",
     "text": [
      "[1. 2. 3. 4.]\n"
     ]
    }
   ],
   "source": [
    "b = np.array([1, 2, 3, 4], dtype = np.float64)\n",
    "print(b)"
   ]
  },
  {
   "cell_type": "code",
   "execution_count": 49,
   "id": "9983dabd-81b1-42c3-b24a-fb183e4ec938",
   "metadata": {},
   "outputs": [
    {
     "name": "stdout",
     "output_type": "stream",
     "text": [
      "[[1. 0. 0. 0.]\n",
      " [0. 2. 0. 0.]\n",
      " [0. 0. 3. 0.]\n",
      " [0. 0. 0. 4.]]\n",
      "(4, 4)\n"
     ]
    }
   ],
   "source": [
    "a = np.diag(b, k = 0)\n",
    "print(a)\n",
    "print(a.shape)"
   ]
  },
  {
   "cell_type": "code",
   "execution_count": 50,
   "id": "58a6328b-e14d-4d1f-84c1-3d2fd3fd8694",
   "metadata": {},
   "outputs": [
    {
     "name": "stdout",
     "output_type": "stream",
     "text": [
      "[[0. 1. 0. 0. 0.]\n",
      " [0. 0. 2. 0. 0.]\n",
      " [0. 0. 0. 3. 0.]\n",
      " [0. 0. 0. 0. 4.]\n",
      " [0. 0. 0. 0. 0.]]\n",
      "(5, 5)\n"
     ]
    }
   ],
   "source": [
    "a = np.diag(b, k = 1)\n",
    "print(a)\n",
    "print(a.shape)"
   ]
  },
  {
   "cell_type": "code",
   "execution_count": 51,
   "id": "754c04a4-269f-407f-8209-77a03e32e043",
   "metadata": {},
   "outputs": [
    {
     "name": "stdout",
     "output_type": "stream",
     "text": [
      "[[0. 0. 1. 0. 0. 0.]\n",
      " [0. 0. 0. 2. 0. 0.]\n",
      " [0. 0. 0. 0. 3. 0.]\n",
      " [0. 0. 0. 0. 0. 4.]\n",
      " [0. 0. 0. 0. 0. 0.]\n",
      " [0. 0. 0. 0. 0. 0.]]\n",
      "(6, 6)\n"
     ]
    }
   ],
   "source": [
    "a = np.diag(b, k = 2)\n",
    "print(a)\n",
    "print(a.shape)"
   ]
  },
  {
   "cell_type": "code",
   "execution_count": 52,
   "id": "f2fe0c81-0d7c-4dd6-bdf1-6b320e3eee82",
   "metadata": {},
   "outputs": [
    {
     "name": "stdout",
     "output_type": "stream",
     "text": [
      "[[0. 0. 0. 0. 0.]\n",
      " [1. 0. 0. 0. 0.]\n",
      " [0. 2. 0. 0. 0.]\n",
      " [0. 0. 3. 0. 0.]\n",
      " [0. 0. 0. 4. 0.]]\n",
      "(5, 5)\n"
     ]
    }
   ],
   "source": [
    "a = np.diag(b, k = -1)\n",
    "print(a)\n",
    "print(a.shape)"
   ]
  },
  {
   "cell_type": "code",
   "execution_count": 53,
   "id": "3d0ef677-f6c2-422f-8615-d6ac6a37afb7",
   "metadata": {},
   "outputs": [
    {
     "name": "stdout",
     "output_type": "stream",
     "text": [
      "[[0. 0. 0. 0. 0. 0.]\n",
      " [0. 0. 0. 0. 0. 0.]\n",
      " [1. 0. 0. 0. 0. 0.]\n",
      " [0. 2. 0. 0. 0. 0.]\n",
      " [0. 0. 3. 0. 0. 0.]\n",
      " [0. 0. 0. 4. 0. 0.]]\n",
      "(6, 6)\n"
     ]
    }
   ],
   "source": [
    "a = np.diag(b, k = -2)\n",
    "print(a)\n",
    "print(a.shape)"
   ]
  },
  {
   "cell_type": "markdown",
   "id": "b46e9d2d-1acb-4e96-9829-34492dd17488",
   "metadata": {},
   "source": [
    "**Note.\\\n",
    "np.diag in this case DO allocate new memory space.**"
   ]
  },
  {
   "cell_type": "code",
   "execution_count": 54,
   "id": "16cb1265-dc25-4f4b-9ea8-ec7147e64779",
   "metadata": {},
   "outputs": [
    {
     "name": "stdout",
     "output_type": "stream",
     "text": [
      "[[0. 0. 0. 0. 0. 0.]\n",
      " [0. 0. 0. 0. 0. 0.]\n",
      " [1. 0. 0. 0. 0. 0.]\n",
      " [0. 2. 0. 0. 0. 0.]\n",
      " [0. 0. 3. 0. 0. 0.]\n",
      " [0. 0. 0. 4. 0. 0.]]\n"
     ]
    }
   ],
   "source": [
    "b[1] = -100\n",
    "print(a) # no change"
   ]
  },
  {
   "cell_type": "markdown",
   "id": "06744cf2-f8b3-4f85-adf5-ad1cc1dd4df9",
   "metadata": {},
   "source": [
    "## 5.2 np.diagflat"
   ]
  },
  {
   "cell_type": "markdown",
   "id": "5347f559-9dd4-4628-af46-764a7a7b076e",
   "metadata": {},
   "source": [
    "np.diag in one case extract a band vector from the 2D Array input, on the other creates a square matrix from the 1D Array input."
   ]
  },
  {
   "cell_type": "markdown",
   "id": "3133e54a-885f-42b2-ab25-0d8021b90879",
   "metadata": {},
   "source": [
    "In contrast, np.diagflat creates a square matrix regardless of whether the input being 2D Array or 1D Array."
   ]
  },
  {
   "cell_type": "markdown",
   "id": "4305b673-5f39-4d1e-8d4f-e4cb2b70d921",
   "metadata": {},
   "source": [
    "```python\n",
    "a = np.diagflate(M, k = band_id)\n",
    "```\n",
    "argument  : either 1D Array or 2D Array\n",
    "\n",
    "* 1D Array: same as np.diag\n",
    "* 2D Array: convert the 2D Array into 1D Array and then use that 1D Array to form a square matrix"
   ]
  },
  {
   "cell_type": "markdown",
   "id": "b2001686-5e7d-4ce7-9430-9b1cd211e2c2",
   "metadata": {},
   "source": [
    "### 1D Array"
   ]
  },
  {
   "cell_type": "code",
   "execution_count": 56,
   "id": "35a27645-3e02-48de-b02b-5117ef1a6185",
   "metadata": {},
   "outputs": [
    {
     "name": "stdout",
     "output_type": "stream",
     "text": [
      "[1. 2. 3. 4.]\n"
     ]
    }
   ],
   "source": [
    "b = np.array([1, 2, 3, 4], dtype = np.float64)\n",
    "print(b)"
   ]
  },
  {
   "cell_type": "code",
   "execution_count": 57,
   "id": "68831cb4-00f8-4603-8328-d880050c6a2f",
   "metadata": {},
   "outputs": [
    {
     "name": "stdout",
     "output_type": "stream",
     "text": [
      "[[1. 0. 0. 0.]\n",
      " [0. 2. 0. 0.]\n",
      " [0. 0. 3. 0.]\n",
      " [0. 0. 0. 4.]]\n"
     ]
    }
   ],
   "source": [
    "a = np.diagflat(b, k = 0)\n",
    "print(a)"
   ]
  },
  {
   "cell_type": "markdown",
   "id": "e7178347-b61c-4283-b9b2-78476147f6af",
   "metadata": {},
   "source": [
    "### 2D Array"
   ]
  },
  {
   "cell_type": "code",
   "execution_count": 62,
   "id": "8f5a61d0-2c16-4931-a2c0-6243a0be500c",
   "metadata": {},
   "outputs": [
    {
     "name": "stdout",
     "output_type": "stream",
     "text": [
      "[[4. 0. 3.]\n",
      " [8. 3. 6.]\n",
      " [0. 9. 9.]]\n"
     ]
    }
   ],
   "source": [
    "a = np.random.rand(3, 3)\n",
    "a = a * 10\n",
    "a = np.trunc(a)\n",
    "print(a)"
   ]
  },
  {
   "cell_type": "code",
   "execution_count": 66,
   "id": "62cb053e-d2f0-4cc8-8a58-ef356bd0572c",
   "metadata": {},
   "outputs": [
    {
     "name": "stdout",
     "output_type": "stream",
     "text": [
      "[[4. 0. 0. 0. 0. 0. 0. 0. 0.]\n",
      " [0. 0. 0. 0. 0. 0. 0. 0. 0.]\n",
      " [0. 0. 3. 0. 0. 0. 0. 0. 0.]\n",
      " [0. 0. 0. 8. 0. 0. 0. 0. 0.]\n",
      " [0. 0. 0. 0. 3. 0. 0. 0. 0.]\n",
      " [0. 0. 0. 0. 0. 6. 0. 0. 0.]\n",
      " [0. 0. 0. 0. 0. 0. 0. 0. 0.]\n",
      " [0. 0. 0. 0. 0. 0. 0. 9. 0.]\n",
      " [0. 0. 0. 0. 0. 0. 0. 0. 9.]]\n",
      "(9, 9)\n"
     ]
    }
   ],
   "source": [
    "b = np.diagflat(a, k = 0)\n",
    "print(b)\n",
    "print(b.shape)"
   ]
  },
  {
   "cell_type": "code",
   "execution_count": 69,
   "id": "dc9f54d0-aa57-4049-88cd-6bd7fd378c48",
   "metadata": {},
   "outputs": [
    {
     "name": "stdout",
     "output_type": "stream",
     "text": [
      "[[0. 0. 4. 0. 0. 0. 0. 0. 0. 0. 0.]\n",
      " [0. 0. 0. 0. 0. 0. 0. 0. 0. 0. 0.]\n",
      " [0. 0. 0. 0. 3. 0. 0. 0. 0. 0. 0.]\n",
      " [0. 0. 0. 0. 0. 8. 0. 0. 0. 0. 0.]\n",
      " [0. 0. 0. 0. 0. 0. 3. 0. 0. 0. 0.]\n",
      " [0. 0. 0. 0. 0. 0. 0. 6. 0. 0. 0.]\n",
      " [0. 0. 0. 0. 0. 0. 0. 0. 0. 0. 0.]\n",
      " [0. 0. 0. 0. 0. 0. 0. 0. 0. 9. 0.]\n",
      " [0. 0. 0. 0. 0. 0. 0. 0. 0. 0. 9.]\n",
      " [0. 0. 0. 0. 0. 0. 0. 0. 0. 0. 0.]\n",
      " [0. 0. 0. 0. 0. 0. 0. 0. 0. 0. 0.]]\n",
      "(11, 11)\n"
     ]
    }
   ],
   "source": [
    "b = np.diagflat(a, k = 2)\n",
    "print(b)\n",
    "print(b.shape)"
   ]
  },
  {
   "cell_type": "code",
   "execution_count": 70,
   "id": "5e3ae580-a6a8-4752-b991-477feb989c80",
   "metadata": {},
   "outputs": [
    {
     "name": "stdout",
     "output_type": "stream",
     "text": [
      "[[0. 0. 0. 0. 0. 0. 0. 0. 0. 0. 0.]\n",
      " [0. 0. 0. 0. 0. 0. 0. 0. 0. 0. 0.]\n",
      " [4. 0. 0. 0. 0. 0. 0. 0. 0. 0. 0.]\n",
      " [0. 0. 0. 0. 0. 0. 0. 0. 0. 0. 0.]\n",
      " [0. 0. 3. 0. 0. 0. 0. 0. 0. 0. 0.]\n",
      " [0. 0. 0. 8. 0. 0. 0. 0. 0. 0. 0.]\n",
      " [0. 0. 0. 0. 3. 0. 0. 0. 0. 0. 0.]\n",
      " [0. 0. 0. 0. 0. 6. 0. 0. 0. 0. 0.]\n",
      " [0. 0. 0. 0. 0. 0. 0. 0. 0. 0. 0.]\n",
      " [0. 0. 0. 0. 0. 0. 0. 9. 0. 0. 0.]\n",
      " [0. 0. 0. 0. 0. 0. 0. 0. 9. 0. 0.]]\n",
      "(11, 11)\n"
     ]
    }
   ],
   "source": [
    "b = np.diagflat(a, k = -2)\n",
    "print(b)\n",
    "print(b.shape)"
   ]
  },
  {
   "cell_type": "markdown",
   "id": "7e18a7a5-cada-49bc-ab1d-23f4b7d068ee",
   "metadata": {},
   "source": [
    "**Note.\\\n",
    "np.diagflat DO NOT allocate new memory space.**"
   ]
  },
  {
   "cell_type": "code",
   "execution_count": 71,
   "id": "ab773121-cf50-4889-b138-77ba63269867",
   "metadata": {},
   "outputs": [
    {
     "name": "stdout",
     "output_type": "stream",
     "text": [
      "[[0. 0. 0. 0. 0. 0. 0. 0. 0. 0. 0.]\n",
      " [0. 0. 0. 0. 0. 0. 0. 0. 0. 0. 0.]\n",
      " [4. 0. 0. 0. 0. 0. 0. 0. 0. 0. 0.]\n",
      " [0. 0. 0. 0. 0. 0. 0. 0. 0. 0. 0.]\n",
      " [0. 0. 3. 0. 0. 0. 0. 0. 0. 0. 0.]\n",
      " [0. 0. 0. 8. 0. 0. 0. 0. 0. 0. 0.]\n",
      " [0. 0. 0. 0. 3. 0. 0. 0. 0. 0. 0.]\n",
      " [0. 0. 0. 0. 0. 6. 0. 0. 0. 0. 0.]\n",
      " [0. 0. 0. 0. 0. 0. 0. 0. 0. 0. 0.]\n",
      " [0. 0. 0. 0. 0. 0. 0. 9. 0. 0. 0.]\n",
      " [0. 0. 0. 0. 0. 0. 0. 0. 9. 0. 0.]]\n"
     ]
    }
   ],
   "source": [
    "a[0, 0] = -100\n",
    "print(b)"
   ]
  },
  {
   "cell_type": "markdown",
   "id": "12b841d8-08bf-4bf9-808c-1233cdcd5f7a",
   "metadata": {},
   "source": [
    "# 6. Trace (sum of diagonals)"
   ]
  },
  {
   "cell_type": "markdown",
   "id": "aadd0b73-1b75-43d6-9272-f8ebeed9335a",
   "metadata": {},
   "source": [
    "## np.trace"
   ]
  },
  {
   "cell_type": "markdown",
   "id": "b9116f26-6431-455e-a6ad-f1ee87c40272",
   "metadata": {},
   "source": [
    "```python\n",
    "b = np.trace(a, offset = band_id)\n",
    "```\n",
    "argument  : matrix to compute trace (offset is shifting parameter)"
   ]
  },
  {
   "cell_type": "code",
   "execution_count": 72,
   "id": "c1c4f759-138b-4136-a868-f058c6185f5e",
   "metadata": {},
   "outputs": [
    {
     "name": "stdout",
     "output_type": "stream",
     "text": [
      "[[4. 8. 3.]\n",
      " [8. 6. 8.]\n",
      " [9. 6. 8.]]\n"
     ]
    }
   ],
   "source": [
    "a = np.random.rand(3, 3)\n",
    "a = a * 10\n",
    "a = np.trunc(a)\n",
    "print(a)"
   ]
  },
  {
   "cell_type": "code",
   "execution_count": 73,
   "id": "c774acf7-10f1-4458-9831-abd4bc73f70e",
   "metadata": {},
   "outputs": [
    {
     "name": "stdout",
     "output_type": "stream",
     "text": [
      "18.0\n"
     ]
    }
   ],
   "source": [
    "b = np.trace(a) # offset = 0\n",
    "print(b)"
   ]
  },
  {
   "cell_type": "code",
   "execution_count": 74,
   "id": "cd4811e5-07dc-4d30-abb5-e0768dab254a",
   "metadata": {},
   "outputs": [
    {
     "name": "stdout",
     "output_type": "stream",
     "text": [
      "16.0\n"
     ]
    }
   ],
   "source": [
    "b = np.trace(a, offset = 1) # offset = 0\n",
    "print(b)"
   ]
  },
  {
   "cell_type": "code",
   "execution_count": 75,
   "id": "0e58da03-4a65-46bf-8157-c14d7d00f1a9",
   "metadata": {},
   "outputs": [
    {
     "name": "stdout",
     "output_type": "stream",
     "text": [
      "14.0\n"
     ]
    }
   ],
   "source": [
    "b = np.trace(a, offset = -1) # offset = 0\n",
    "print(b)"
   ]
  },
  {
   "cell_type": "markdown",
   "id": "052e5e4c-8b03-4ab7-ba64-613005603473",
   "metadata": {},
   "source": [
    "# 6. Flattening"
   ]
  },
  {
   "cell_type": "markdown",
   "id": "e7eb86f9-b229-42d8-83f7-e668af307094",
   "metadata": {},
   "source": [
    "## 6.1 .faltten()"
   ]
  },
  {
   "cell_type": "markdown",
   "id": "c94fc6a1-40ee-4f18-ac15-783343652238",
   "metadata": {},
   "source": [
    "```python\n",
    "b = a.flatten()\n",
    "```\n",
    "\n",
    "* turn 2D Array into 1D Array (**NOT** same memory)"
   ]
  },
  {
   "cell_type": "markdown",
   "id": "0b582989-4bb9-42d0-94a7-036ee64b6314",
   "metadata": {},
   "source": [
    "## 6.2 np.ravel"
   ]
  },
  {
   "cell_type": "markdown",
   "id": "ea2058f0-a0e9-4109-b9b9-8aacaf291e49",
   "metadata": {},
   "source": [
    "```python\n",
    "b = np.ravel(a)\n",
    "```\n",
    "\n",
    "* turn 2D Array into 1D Array (**SAME** memory)\n",
    "\n",
    "```python\n",
    "b = np.copy(a.ravel()) # assign new memory\n",
    "```\n",
    "\n",
    "* basically same as a.flatten()"
   ]
  },
  {
   "cell_type": "code",
   "execution_count": 83,
   "id": "5e73cb4e-5c39-467d-86ee-3549f4b04f4f",
   "metadata": {},
   "outputs": [
    {
     "name": "stdout",
     "output_type": "stream",
     "text": [
      "[[1 2 3]\n",
      " [4 5 6]\n",
      " [7 8 9]]\n"
     ]
    }
   ],
   "source": [
    "a = np.array([[1, 2, 3], [4, 5, 6], [7, 8, 9]])\n",
    "print(a)"
   ]
  },
  {
   "cell_type": "code",
   "execution_count": 84,
   "id": "422e1473-ea03-4169-95b3-4935d666b872",
   "metadata": {},
   "outputs": [],
   "source": [
    "b1 = a.flatten()\n",
    "b2 = np.copy(np.ravel(a))\n",
    "b3 = np.copy(a.ravel())\n",
    "b4 = np.ravel(a)\n",
    "b5 = a.ravel()"
   ]
  },
  {
   "cell_type": "code",
   "execution_count": 85,
   "id": "3ae3a3ca-c778-4b13-a971-516f9663f0a3",
   "metadata": {},
   "outputs": [],
   "source": [
    "a[0, 0] = -100"
   ]
  },
  {
   "cell_type": "code",
   "execution_count": 87,
   "id": "632c3315-b5d9-4444-b2f1-324dcbca2a65",
   "metadata": {},
   "outputs": [
    {
     "name": "stdout",
     "output_type": "stream",
     "text": [
      "[1 2 3 4 5 6 7 8 9]\n",
      "[1 2 3 4 5 6 7 8 9]\n",
      "[1 2 3 4 5 6 7 8 9]\n",
      "[-100    2    3    4    5    6    7    8    9]\n",
      "[-100    2    3    4    5    6    7    8    9]\n"
     ]
    }
   ],
   "source": [
    "print(b1) # separate object\n",
    "print(b2) # separate object\n",
    "print(b3) # separate object\n",
    "print(b4) # same object\n",
    "print(b5) # same object"
   ]
  },
  {
   "cell_type": "markdown",
   "id": "311ef09f-9a3a-4ffe-8bf8-ffe65ea2020b",
   "metadata": {},
   "source": [
    "## Practice"
   ]
  },
  {
   "cell_type": "markdown",
   "id": "312a3bb9-6ca7-4d76-88f8-1dae254b0959",
   "metadata": {},
   "source": [
    "$$\n",
    "a = \\begin{bmatrix}\n",
    "1 & 2 & 3 & 4 & 5 \\\\\n",
    "6 & 7 & 8 & 9 & 10 \\\\\n",
    "11 & 12 & 13 & 14 & 15\n",
    "\\end{bmatrix}\n",
    "$$"
   ]
  },
  {
   "cell_type": "markdown",
   "id": "dfa2931e-8e02-414f-a789-2851f0a63aae",
   "metadata": {},
   "source": [
    "1. initialize a\n",
    "2. show the difference between '=' and np.copy\n",
    "3. reshape a to 5 x 3 matrix\n",
    "4. store the upper trianglur entries as a separate matrix, bt (k = 0)\n",
    "5. turn bt into 1D Array and form a square matrix from it. Make sure the very 1D Array shows up in the band of the matrix.\n",
    "6. compute the trace of the matrix."
   ]
  },
  {
   "cell_type": "markdown",
   "id": "a316d4e0-97fb-412d-a507-962202749671",
   "metadata": {},
   "source": [
    "1) Initialize a"
   ]
  },
  {
   "cell_type": "code",
   "execution_count": 88,
   "id": "09d1fcca-cd70-4f4a-be33-f25731aae35f",
   "metadata": {},
   "outputs": [
    {
     "name": "stdout",
     "output_type": "stream",
     "text": [
      "[[ 1  2  3  4  5]\n",
      " [ 6  7  8  9 10]\n",
      " [11 12 13 14 15]]\n",
      "(3, 5)\n"
     ]
    }
   ],
   "source": [
    "a = np.array([[1, 2, 3, 4, 5], [6, 7, 8, 9, 10], [11, 12, 13, 14, 15]])\n",
    "print(a)\n",
    "print(a.shape)"
   ]
  },
  {
   "cell_type": "markdown",
   "id": "af10f558-4b8f-406d-9b5f-ab9deba16614",
   "metadata": {},
   "source": [
    "2. = and np.copy"
   ]
  },
  {
   "cell_type": "code",
   "execution_count": 93,
   "id": "7dcc6577-03c9-4d00-9457-0663b6f37d95",
   "metadata": {},
   "outputs": [],
   "source": [
    "b1 = a\n",
    "b2 = np.copy(a)"
   ]
  },
  {
   "cell_type": "code",
   "execution_count": 94,
   "id": "cbc3ddc6-9424-4118-a6f0-a24b3aa8312d",
   "metadata": {},
   "outputs": [
    {
     "data": {
      "text/plain": [
       "False"
      ]
     },
     "execution_count": 94,
     "metadata": {},
     "output_type": "execute_result"
    }
   ],
   "source": [
    "b1 is b2 # False"
   ]
  },
  {
   "cell_type": "code",
   "execution_count": 95,
   "id": "ac2ce35a-4efe-430b-9238-3fe205439874",
   "metadata": {},
   "outputs": [
    {
     "data": {
      "text/plain": [
       "True"
      ]
     },
     "execution_count": 95,
     "metadata": {},
     "output_type": "execute_result"
    }
   ],
   "source": [
    "a is b1  # True"
   ]
  },
  {
   "cell_type": "code",
   "execution_count": 96,
   "id": "68a9342d-9e78-4c64-ba97-449455fd82b0",
   "metadata": {},
   "outputs": [
    {
     "data": {
      "text/plain": [
       "False"
      ]
     },
     "execution_count": 96,
     "metadata": {},
     "output_type": "execute_result"
    }
   ],
   "source": [
    "a is b2  # False"
   ]
  },
  {
   "cell_type": "markdown",
   "id": "16d27d66-a018-40ab-82eb-9db69b291631",
   "metadata": {},
   "source": [
    "3. reshape a to 5 x 3 matrix"
   ]
  },
  {
   "cell_type": "code",
   "execution_count": 98,
   "id": "f4ebb583-0b88-4d6f-b5f8-55af1f73b299",
   "metadata": {},
   "outputs": [],
   "source": [
    "a = np.reshape(a, (5, 3)) # a = np.resahpe(a, (5, -1)) or a = np.reshape(a, (-1, 3))"
   ]
  },
  {
   "cell_type": "code",
   "execution_count": 99,
   "id": "a28138a8-df28-4f14-9a47-389ad2a13ea5",
   "metadata": {},
   "outputs": [
    {
     "name": "stdout",
     "output_type": "stream",
     "text": [
      "[[ 1  2  3]\n",
      " [ 4  5  6]\n",
      " [ 7  8  9]\n",
      " [10 11 12]\n",
      " [13 14 15]]\n",
      "(5, 3)\n"
     ]
    }
   ],
   "source": [
    "print(a)\n",
    "print(a.shape)"
   ]
  },
  {
   "cell_type": "markdown",
   "id": "b217f57d-95ce-4687-9e8f-911b201a05ac",
   "metadata": {},
   "source": [
    "4. store the upper trianglur entries as a separate matrix, bt (k = 0)"
   ]
  },
  {
   "cell_type": "code",
   "execution_count": 102,
   "id": "9da44c26-5174-4cdb-b3f0-8e85ccd33fb4",
   "metadata": {},
   "outputs": [
    {
     "name": "stdout",
     "output_type": "stream",
     "text": [
      "[[1 2 3]\n",
      " [0 5 6]\n",
      " [0 0 9]\n",
      " [0 0 0]\n",
      " [0 0 0]]\n"
     ]
    }
   ],
   "source": [
    "bt = np.triu(a, k = 0) # k = 0 can be dropped\n",
    "print(bt)"
   ]
  },
  {
   "cell_type": "markdown",
   "id": "b2281fcd-ae11-4700-ac6c-55c9eae058aa",
   "metadata": {},
   "source": [
    "5. turn bt into 1D Array and form a square matrix from it. Make sure the very 1D Array shows up in the band of the matrix."
   ]
  },
  {
   "cell_type": "code",
   "execution_count": 103,
   "id": "2cb360fa-7797-4e1d-991e-05104d5095f1",
   "metadata": {},
   "outputs": [
    {
     "name": "stdout",
     "output_type": "stream",
     "text": [
      "[[1 0 0 0 0 0 0 0 0 0 0 0 0 0 0]\n",
      " [0 2 0 0 0 0 0 0 0 0 0 0 0 0 0]\n",
      " [0 0 3 0 0 0 0 0 0 0 0 0 0 0 0]\n",
      " [0 0 0 0 0 0 0 0 0 0 0 0 0 0 0]\n",
      " [0 0 0 0 5 0 0 0 0 0 0 0 0 0 0]\n",
      " [0 0 0 0 0 6 0 0 0 0 0 0 0 0 0]\n",
      " [0 0 0 0 0 0 0 0 0 0 0 0 0 0 0]\n",
      " [0 0 0 0 0 0 0 0 0 0 0 0 0 0 0]\n",
      " [0 0 0 0 0 0 0 0 9 0 0 0 0 0 0]\n",
      " [0 0 0 0 0 0 0 0 0 0 0 0 0 0 0]\n",
      " [0 0 0 0 0 0 0 0 0 0 0 0 0 0 0]\n",
      " [0 0 0 0 0 0 0 0 0 0 0 0 0 0 0]\n",
      " [0 0 0 0 0 0 0 0 0 0 0 0 0 0 0]\n",
      " [0 0 0 0 0 0 0 0 0 0 0 0 0 0 0]\n",
      " [0 0 0 0 0 0 0 0 0 0 0 0 0 0 0]]\n"
     ]
    }
   ],
   "source": [
    "bt = np.diagflat(bt, k = 0) # k = 0 can be dropped\n",
    "print(bt)"
   ]
  },
  {
   "cell_type": "markdown",
   "id": "6f4d0d60-9443-4fa3-b68d-5215f2e7d01c",
   "metadata": {},
   "source": [
    "6. compute the trace of the matrix."
   ]
  },
  {
   "cell_type": "code",
   "execution_count": 104,
   "id": "29675005-4463-4486-ad26-5bd8aad6006f",
   "metadata": {},
   "outputs": [
    {
     "name": "stdout",
     "output_type": "stream",
     "text": [
      "26\n"
     ]
    }
   ],
   "source": [
    "x = np.trace(bt, offset = 0) # offset = 0 can be dropped\n",
    "print(x)"
   ]
  }
 ],
 "metadata": {
  "kernelspec": {
   "display_name": "Python 3 (ipykernel)",
   "language": "python",
   "name": "python3"
  },
  "language_info": {
   "codemirror_mode": {
    "name": "ipython",
    "version": 3
   },
   "file_extension": ".py",
   "mimetype": "text/x-python",
   "name": "python",
   "nbconvert_exporter": "python",
   "pygments_lexer": "ipython3",
   "version": "3.11.11"
  }
 },
 "nbformat": 4,
 "nbformat_minor": 5
}
