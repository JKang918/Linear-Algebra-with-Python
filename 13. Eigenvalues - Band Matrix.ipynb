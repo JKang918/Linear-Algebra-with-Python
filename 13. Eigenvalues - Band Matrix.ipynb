{
 "cells": [
  {
   "cell_type": "code",
   "execution_count": 1,
   "id": "1539228b-2e88-4252-be7b-630ac9ba348a",
   "metadata": {},
   "outputs": [],
   "source": [
    "import numpy as np\n",
    "from scipy import linalg"
   ]
  },
  {
   "cell_type": "markdown",
   "id": "0ba47012-1de6-4a15-918b-8a0621d79b44",
   "metadata": {},
   "source": [
    "# Eigenvalues and Eigenvectors for Symmetric / Hermitian Band Matrix"
   ]
  },
  {
   "cell_type": "markdown",
   "id": "a33e77ab-6b30-46bc-8177-226707803108",
   "metadata": {},
   "source": [
    "$$\n",
    "A \\mathbf{x} = \\lambda \\mathbf{x}, \\quad \\mathrm{s.t.} \\; A:\\text{ symmetric or Hermitian matrix} \n",
    "$$\n",
    "\n"
   ]
  },
  {
   "cell_type": "markdown",
   "id": "847f964d-f879-45e0-bcd9-ed900aa6f8fb",
   "metadata": {},
   "source": [
    "```python\n",
    "eigvals, eigvecs = linalg.eig_banded(band_a_h, lower = False)\n",
    "eigvals = linalg.eig_banded(band_a_h, lower = False, eigvals_only = True)\n",
    "```\n",
    "* ```eigval``` - 1D array (vector)\n",
    "* ```eigvecs``` - 2D array with each eigvec as a columnvector\n",
    "* ```banded_a_h``` - banded form (lower or upper - default)\n",
    "* ```lower = False``` - default is uppder band form\n",
    "* corresponding Lapack function\n",
    "  1. sbevd (symmetric matrix)\n",
    "  2. hbevd (Hermitian matrix)\n",
    "\n",
    "cf) for generalized egienvalue problems - use general method, no function supported for banded form"
   ]
  },
  {
   "cell_type": "markdown",
   "id": "6a1f2c02-7eb8-4772-9c5b-910a69b767a7",
   "metadata": {},
   "source": [
    "## Example 1."
   ]
  },
  {
   "cell_type": "markdown",
   "id": "d5c1b188-504b-46af-90d9-6b8e61607bc1",
   "metadata": {},
   "source": [
    "$$\n",
    "A =\\begin{bmatrix}\n",
    "\\colorbox{pink}{$1$} & \\colorbox{grey}{$5$} & \\colorbox{lightgrey}{$2$} & 0\\\\\n",
    "5 & \\colorbox{pink}{$2$} & \\colorbox{grey}{$5$} & \\colorbox{lightgrey}{$2$} \\\\\n",
    "2 & 5 & \\colorbox{pink}{$3$} & \\colorbox{grey}{$5$} \\\\\n",
    "0 & 2 & 5 & \\colorbox{pink}{$4$} \n",
    "\\end{bmatrix}\n",
    "$$"
   ]
  },
  {
   "cell_type": "markdown",
   "id": "6197bb97-1585-4785-8c93-0b28c6032ff7",
   "metadata": {},
   "source": [
    "upper form"
   ]
  },
  {
   "cell_type": "markdown",
   "id": "8db290b0-b9ef-483b-9869-09a93d88b643",
   "metadata": {},
   "source": [
    "$$\n",
    "\\begin{bmatrix}\n",
    "0 & 0 & \\colorbox{lightgrey}{$2$} & \\colorbox{lightgrey}{$2$}\\\\\n",
    "0 & \\colorbox{grey}{$5$} & \\colorbox{grey}{$5$} & \\colorbox{grey}{$5$} \\\\\n",
    "\\colorbox{pink}{$1$} & \\colorbox{pink}{$2$} & \\colorbox{pink}{$3$} & \\colorbox{pink}{$4$}\n",
    "\\end{bmatrix}\n",
    "$$"
   ]
  },
  {
   "cell_type": "markdown",
   "id": "7fca0ea2-a498-4d20-a0cb-13632f90ec01",
   "metadata": {},
   "source": [
    "lower form"
   ]
  },
  {
   "cell_type": "markdown",
   "id": "81122234-49cf-4c2d-923d-95ec072a651f",
   "metadata": {},
   "source": [
    "$$\n",
    "\\begin{bmatrix}\n",
    "\\colorbox{pink}{$1$} & \\colorbox{pink}{$2$} & \\colorbox{pink}{$3$} & \\colorbox{pink}{$4$} \\\\\n",
    "0 & \\colorbox{grey}{$5$} & \\colorbox{grey}{$5$} & \\colorbox{grey}{$5$} \\\\\n",
    "0 & 0 & \\colorbox{lightgrey}{$2$} & \\colorbox{lightgrey}{$2$}\\\\\n",
    "\\end{bmatrix}\n",
    "$$"
   ]
  },
  {
   "cell_type": "code",
   "execution_count": 2,
   "id": "a722b89f-4a7d-47ae-bd7d-280ec798cc94",
   "metadata": {},
   "outputs": [
    {
     "name": "stdout",
     "output_type": "stream",
     "text": [
      "[[0. 0. 2. 2.]\n",
      " [0. 5. 5. 5.]\n",
      " [1. 2. 3. 4.]]\n"
     ]
    }
   ],
   "source": [
    "# A, upper banded form\n",
    "A_band_h = np.array([\n",
    "    [0, 0, 2, 2],\n",
    "    [0, 5, 5, 5],\n",
    "    [1, 2, 3, 4],\n",
    "], dtype=np.float64)\n",
    "\n",
    "print(A_band_h)"
   ]
  },
  {
   "cell_type": "code",
   "execution_count": 3,
   "id": "d90d6702-dc33-4297-bb26-fb73a1fbbe8e",
   "metadata": {},
   "outputs": [
    {
     "name": "stdout",
     "output_type": "stream",
     "text": [
      "[-4.26200532 -2.22987175  3.95222349 12.53965359]\n",
      "\n",
      "[[ 0.54585106  0.49026342  0.58943537  0.33801529]\n",
      " [-0.73403852 -0.04827646  0.41123929  0.53827417]\n",
      " [ 0.39896071 -0.67105283 -0.15802574  0.60460427]\n",
      " [-0.06375287  0.55407514 -0.6771086   0.48006276]]\n"
     ]
    }
   ],
   "source": [
    "# eigenvalues, eigenvectors form \"banded A\"\n",
    "eigvals, eigvecs = linalg.eig_banded(A_band_h, lower=False)\n",
    "print(eigvals)\n",
    "print()\n",
    "print(eigvecs)"
   ]
  },
  {
   "cell_type": "code",
   "execution_count": 4,
   "id": "9d1277aa-cb1d-44a9-8aef-d17f5889f716",
   "metadata": {},
   "outputs": [
    {
     "name": "stdout",
     "output_type": "stream",
     "text": [
      "[[1. 5. 2. 0.]\n",
      " [5. 2. 5. 2.]\n",
      " [2. 5. 3. 5.]\n",
      " [0. 2. 5. 4.]]\n",
      "\n",
      "[-4.26200532 -2.22987175  3.95222349 12.53965359]\n",
      "[-4.26200532 -2.22987175  3.95222349 12.53965359]\n",
      "Are they same? -> True\n",
      "[-4.26200532 -2.22987175  3.95222349 12.53965359]\n",
      "Are they same? -> True\n"
     ]
    }
   ],
   "source": [
    "\"\"\"\n",
    "# full matrix\n",
    "A = np.array([\n",
    "    [1, 5, 2, 0],\n",
    "    [5, 2, 5, 2],\n",
    "    [2, 5, 3, 5],\n",
    "    [0, 2, 5, 4]\n",
    "], dtype=float)\n",
    "\"\"\"\n",
    "\n",
    "\"\"\" Reconstructing A from A_band_h \"\"\"\n",
    "twos  = A_band_h[0, 2:]\n",
    "fives = A_band_h[1, 1:]\n",
    "diagonals = A_band_h[2, :]\n",
    "\n",
    "A_full = np.diag(diagonals, k=0) + np.diag(fives, k=1) + np.diag(twos, k=2) + np.diag(fives, k=-1) + np.diag(twos, k=-2)\n",
    "print(A_full)\n",
    "print()\n",
    "\n",
    "# Check whether the results from using linalg.eig_banded and linalg.eigh are same\n",
    "eigvals_full, eigvecs_full = linalg.eigh(A_full)\n",
    "print(eigvals_full)\n",
    "print(eigvals)\n",
    "print(f'Are they same? -> {np.allclose(eigvals, eigvals_full)}')\n",
    "\n",
    "# Check whether the results from using linalg.eigh and linalg.eig are same\n",
    "eigvals_full_general, eigvecs_full_general = linalg.eig(A_full)\n",
    "eigvals_full_general = np.sort(np.real_if_close(eigvals_full_general))\n",
    "print(eigvals_full_general)\n",
    "print(f'Are they same? -> {np.allclose(eigvals_full, eigvals_full_general)}')"
   ]
  },
  {
   "cell_type": "code",
   "execution_count": 5,
   "id": "39f7e1f4-fe8f-4668-b64a-098c7771b5e0",
   "metadata": {},
   "outputs": [
    {
     "name": "stdout",
     "output_type": "stream",
     "text": [
      "Are they same? -> True\n"
     ]
    }
   ],
   "source": [
    "# sanity check for educational purpose\n",
    "# AV = VD\n",
    "D = np.diag(eigvals, k=0)\n",
    "V = eigvecs\n",
    "\n",
    "lhs = A_full @ V\n",
    "rhs = eigvecs * eigvals # V @ D\n",
    "\n",
    "#print(f'lhs: {lhs}')\n",
    "#print(f'rhs: {rhs}')\n",
    "print(f'Are they same? -> {np.allclose(lhs, rhs)}')"
   ]
  },
  {
   "cell_type": "markdown",
   "id": "7dced82d-f947-4840-b2d9-7febf98abd1f",
   "metadata": {},
   "source": [
    "## Example 2. "
   ]
  },
  {
   "cell_type": "markdown",
   "id": "724ce14e-6fb9-4f71-9e2a-cc637c1e855b",
   "metadata": {},
   "source": [
    "$$\n",
    "A =\n",
    "\\begin{bmatrix}\n",
    "3 & -1 &        &        &        \\\\\n",
    "-1 & 3 & -1     &        &        \\\\\n",
    "   & -1 & 3     & \\ddots &        \\\\\n",
    "   &    & \\ddots & \\ddots & -1     \\\\\n",
    "   &    &        & -1     & 3\n",
    "\\end{bmatrix}_{1000 \\times 1000}\n",
    "$$"
   ]
  },
  {
   "cell_type": "markdown",
   "id": "54263ac9-9fd5-42e0-a31d-87acad494bbe",
   "metadata": {},
   "source": [
    "$$\n",
    "\\tilde{A} =\n",
    "\\begin{bmatrix}\n",
    "0 & -1 & -1 & \\cdots & -1 \\\\\n",
    "3 &  3 &  3 & \\cdots &  3\n",
    "\\end{bmatrix}_{2 \\times 1000}\n",
    "$$"
   ]
  },
  {
   "cell_type": "code",
   "execution_count": 6,
   "id": "788a4bd1-9edb-4c35-a3d0-295564103185",
   "metadata": {},
   "outputs": [
    {
     "name": "stdout",
     "output_type": "stream",
     "text": [
      "[[ 3. -1.  0. ...  0.  0.  0.]\n",
      " [-1.  3. -1. ...  0.  0.  0.]\n",
      " [ 0. -1.  3. ...  0.  0.  0.]\n",
      " ...\n",
      " [ 0.  0.  0. ...  3. -1.  0.]\n",
      " [ 0.  0.  0. ... -1.  3. -1.]\n",
      " [ 0.  0.  0. ...  0. -1.  3.]]\n"
     ]
    }
   ],
   "source": [
    "n = 1000\n",
    "\n",
    "diagonals = 3 * np.ones((n,))\n",
    "off_diag = -1 * np.ones((n-1,))\n",
    "\n",
    "A_full = np.diag(diagonals, k=0) + np.diag(off_diag, k=1) + np.diag(off_diag, k=-1) \n",
    "print(A_full)"
   ]
  },
  {
   "cell_type": "code",
   "execution_count": 7,
   "id": "db932109-a432-4e34-b06d-54a3e448ed99",
   "metadata": {},
   "outputs": [
    {
     "name": "stdout",
     "output_type": "stream",
     "text": [
      "[[ 0. -1. -1. ... -1. -1. -1.]\n",
      " [ 3.  3.  3. ...  3.  3.  3.]]\n"
     ]
    }
   ],
   "source": [
    "zr = np.zeros((1, ))\n",
    "band_row0 = np.hstack((zr, off_diag))\n",
    "band_row1 = diagonals\n",
    "A_band = np.vstack((band_row0, band_row1))\n",
    "print(A_band)"
   ]
  },
  {
   "cell_type": "markdown",
   "id": "00b2e9c8-e808-4834-8913-34a9cc01568d",
   "metadata": {},
   "source": [
    "**Performance Test**"
   ]
  },
  {
   "cell_type": "code",
   "execution_count": 8,
   "id": "f6e2dfaf-adee-40cd-88a1-3ff6caa48761",
   "metadata": {},
   "outputs": [],
   "source": [
    "import timeit"
   ]
  },
  {
   "cell_type": "code",
   "execution_count": 9,
   "id": "fce3b5d5-8d08-4a00-bffd-976995ec0583",
   "metadata": {},
   "outputs": [
    {
     "name": "stdout",
     "output_type": "stream",
     "text": [
      "linalg.eigh time: 0.203984\n",
      "AV = VD? -> True\n"
     ]
    }
   ],
   "source": [
    "start = timeit.default_timer()\n",
    "eigvals_full, eigvecs_full = linalg.eigh(A_full)\n",
    "end = timeit.default_timer()\n",
    "\n",
    "# time check\n",
    "print(f'linalg.eigh time: {end-start:.6f}')\n",
    "\n",
    "# Sanity check\n",
    "# AV\n",
    "lhs = A_full @ eigvecs_full\n",
    "# VD\n",
    "rhs = eigvecs_full * eigvals_full\n",
    "\n",
    "print(f'AV = VD? -> {np.allclose(lhs, rhs)}')"
   ]
  },
  {
   "cell_type": "code",
   "execution_count": 10,
   "id": "cf9fd8ee-2c7f-4e21-add1-402f9f8575f2",
   "metadata": {},
   "outputs": [
    {
     "name": "stdout",
     "output_type": "stream",
     "text": [
      "linalg.eigh time taken: 0.073870\n",
      "eigh = eigh_banded? -> True\n"
     ]
    }
   ],
   "source": [
    "start = timeit.default_timer()\n",
    "eigvals_band, eigvecs_band = linalg.eig_banded(A_band, lower=False)\n",
    "end = timeit.default_timer()\n",
    "\n",
    "# time check\n",
    "print(f'linalg.eigh time taken: {end-start:.6f}')\n",
    "\n",
    "# Sanity check\n",
    "# A_full and A_band result\n",
    "print(f'eigh = eigh_banded? -> {np.allclose(eigvals_full, eigvals_band)}')"
   ]
  }
 ],
 "metadata": {
  "kernelspec": {
   "display_name": "Python 3 (ipykernel)",
   "language": "python",
   "name": "python3"
  },
  "language_info": {
   "codemirror_mode": {
    "name": "ipython",
    "version": 3
   },
   "file_extension": ".py",
   "mimetype": "text/x-python",
   "name": "python",
   "nbconvert_exporter": "python",
   "pygments_lexer": "ipython3",
   "version": "3.11.11"
  }
 },
 "nbformat": 4,
 "nbformat_minor": 5
}
