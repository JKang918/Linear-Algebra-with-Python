{
 "cells": [
  {
   "cell_type": "markdown",
   "id": "001683b1-ff82-4f7d-b206-74a44c6416a3",
   "metadata": {},
   "source": [
    "# Basic Numpy Functions (cont'd)"
   ]
  },
  {
   "cell_type": "code",
   "execution_count": 1,
   "id": "6215e1b8-4dfc-49dc-a23d-b5aaa41a44c3",
   "metadata": {},
   "outputs": [],
   "source": [
    "import numpy as np"
   ]
  },
  {
   "cell_type": "markdown",
   "id": "43d3e07b-8cae-43f3-a74e-d04667b6d171",
   "metadata": {},
   "source": [
    "# 1. Matrix / Vector Summation"
   ]
  },
  {
   "cell_type": "markdown",
   "id": "a00dfa72-77d1-453c-bdf7-3eda85c6c26a",
   "metadata": {},
   "source": [
    "## 1.1 Matrix / Vector Summation"
   ]
  },
  {
   "cell_type": "markdown",
   "id": "9b776390-6ec6-45df-a42f-29985f0e8074",
   "metadata": {},
   "source": [
    "simply use '+', '-'"
   ]
  },
  {
   "cell_type": "markdown",
   "id": "212e251e-fa9a-40a6-93f4-fa349510aaa7",
   "metadata": {},
   "source": [
    "$$\n",
    "A = \\begin{bmatrix}\n",
    "1 & 2 & 3 \\\\\n",
    "4 & 5 & 6 \n",
    "\\end{bmatrix}, \\quad\n",
    "B = \\begin{bmatrix}\n",
    "7 & 8 & 9 \\\\\n",
    "10 & 11 & 12 \n",
    "\\end{bmatrix}\n",
    "$$"
   ]
  },
  {
   "cell_type": "code",
   "execution_count": 2,
   "id": "f105d59f-5673-412f-9e4f-de21981560d1",
   "metadata": {},
   "outputs": [
    {
     "name": "stdout",
     "output_type": "stream",
     "text": [
      "C1: [[ 8 10 12]\n",
      " [14 16 18]]\n",
      "C2: [[-6 -6 -6]\n",
      " [-6 -6 -6]]\n"
     ]
    }
   ],
   "source": [
    "A = np.array([\n",
    "    [1, 2, 3],\n",
    "    [4, 5, 6]\n",
    "])\n",
    "B = np.array([\n",
    "    [7, 8, 9],\n",
    "    [10, 11, 12]\n",
    "])\n",
    "\n",
    "# A.shape == B.shape\n",
    "C1 = A + B\n",
    "C2 = A - B\n",
    "\n",
    "print('C1:', C1)\n",
    "print('C2:', C2)"
   ]
  },
  {
   "cell_type": "markdown",
   "id": "cfe407b9-34d7-4db2-b51f-455cfc606c2e",
   "metadata": {},
   "source": [
    "## Application"
   ]
  },
  {
   "cell_type": "markdown",
   "id": "fb65f0ff-5088-4891-9293-943bc8f0e743",
   "metadata": {},
   "source": [
    "$$\n",
    "A = \\begin{bmatrix}\n",
    "2 & 1 & 0 & 0 & 0 \\\\\n",
    "-1 & 2 & 1 & 0 & 0 \\\\\n",
    "0 & -1 & 2 & 1 & 0 \\\\\n",
    "0 & 0 & -1 & 2 & 1 \\\\\n",
    "0 & 0 & 0 &-1 & 2\n",
    "\\end{bmatrix}\n",
    "$$"
   ]
  },
  {
   "cell_type": "markdown",
   "id": "bd59cc70-1b9d-4248-b417-01cf8f6cc868",
   "metadata": {},
   "source": [
    "Generate $A$ by summing three matrices."
   ]
  },
  {
   "cell_type": "code",
   "execution_count": 3,
   "id": "6e90d639-242a-49f3-bcdd-e820e433da2a",
   "metadata": {},
   "outputs": [
    {
     "name": "stdout",
     "output_type": "stream",
     "text": [
      "[1. 1. 1. 1.]\n"
     ]
    }
   ],
   "source": [
    "b1 = np.ones(4) # np.ones((4,))\n",
    "print(b1)"
   ]
  },
  {
   "cell_type": "code",
   "execution_count": 4,
   "id": "6a38812a-70ea-4433-85b5-3282f6c777fa",
   "metadata": {},
   "outputs": [
    {
     "name": "stdout",
     "output_type": "stream",
     "text": [
      "[2. 2. 2. 2. 2.]\n"
     ]
    }
   ],
   "source": [
    "b2 = np.ones(5)\n",
    "b2 = 2*b2\n",
    "print(b2)"
   ]
  },
  {
   "cell_type": "code",
   "execution_count": 5,
   "id": "a56c8c62-295e-4461-ac59-d7831b7c1f62",
   "metadata": {},
   "outputs": [
    {
     "name": "stdout",
     "output_type": "stream",
     "text": [
      "[-1. -1. -1. -1.]\n"
     ]
    }
   ],
   "source": [
    "b3 = np.ones(4)\n",
    "b3 = (-1) * b3\n",
    "print(b3)"
   ]
  },
  {
   "cell_type": "code",
   "execution_count": 6,
   "id": "0d56ae0c-46bb-465c-afac-d301708faede",
   "metadata": {},
   "outputs": [
    {
     "name": "stdout",
     "output_type": "stream",
     "text": [
      "[[ 2.  1.  0.  0.  0.]\n",
      " [-1.  2.  1.  0.  0.]\n",
      " [ 0. -1.  2.  1.  0.]\n",
      " [ 0.  0. -1.  2.  1.]\n",
      " [ 0.  0.  0. -1.  2.]]\n"
     ]
    }
   ],
   "source": [
    "A1 = np.diag(b1, k = 1)\n",
    "A2 = np.diag(b2, k = 0)\n",
    "A3 = np.diag(b3, k = -1)\n",
    "A = A1 + A2 + A3\n",
    "print(A)"
   ]
  },
  {
   "cell_type": "markdown",
   "id": "717f1da0-d128-4e26-8678-778b5be36e75",
   "metadata": {},
   "source": [
    "## 1.2 (Numpy) Scalar + Matrix / Vector"
   ]
  },
  {
   "cell_type": "markdown",
   "id": "83cea201-f727-44b7-adac-da48d2bb4883",
   "metadata": {},
   "source": [
    "In **Numpy**, scalar + Matrix / Vector is adding the scalar to every entry.\n",
    "$$\n",
    "A = \\begin{bmatrix}\n",
    "1 & 2 & 3 \\\\\n",
    "4 & 5 & 6 \n",
    "\\end{bmatrix}, \\quad\n",
    "r = 10, \\quad \\\\\n",
    "A + r = \\begin{bmatrix}\n",
    "11 & 12 & 13 \\\\\n",
    "14 & 15 & 16 \n",
    "\\end{bmatrix}\n",
    "$$"
   ]
  },
  {
   "cell_type": "code",
   "execution_count": 7,
   "id": "9cbc5439-1aa5-46f1-af8c-d35e582d8ef0",
   "metadata": {},
   "outputs": [
    {
     "name": "stdout",
     "output_type": "stream",
     "text": [
      "[[11 12 13]\n",
      " [14 15 16]]\n"
     ]
    }
   ],
   "source": [
    "A = np.array([\n",
    "    [1, 2, 3],\n",
    "    [4, 5, 6]\n",
    "])\n",
    "r = 10\n",
    "result = A + r # r + A\n",
    "print(result)"
   ]
  },
  {
   "cell_type": "markdown",
   "id": "073bcf29-0117-4678-b22b-f5ef67ce7339",
   "metadata": {},
   "source": [
    "# 2. Numpy: *, /"
   ]
  },
  {
   "cell_type": "markdown",
   "id": "3eabc36e-cf91-432c-90e3-e59b853a997a",
   "metadata": {},
   "source": [
    "## 2.1 (Numpy) Matrix * Matrix, Matrix / Matrix"
   ]
  },
  {
   "cell_type": "markdown",
   "id": "fb42dd1f-94a2-44ae-bb09-8bfcbed708c6",
   "metadata": {},
   "source": [
    "In **Numpy**, Matrix * Matrix results in the matrix whose entries are the products of the entries from the same indices of the multiplied matrices.\n",
    "$$\n",
    "A = \\begin{bmatrix}\n",
    "1 & 2 \\\\\n",
    "3 & 4 \n",
    "\\end{bmatrix}, \\quad\n",
    "B = \\begin{bmatrix}\n",
    "5 & 6 \\\\\n",
    "7 & 8 \n",
    "\\end{bmatrix}, \\quad\n",
    "A * B = B * A = \\begin{bmatrix}\n",
    "5 & 12 \\\\\n",
    "21 & 32 \n",
    "\\end{bmatrix}\n",
    "$$\n",
    "\n",
    "**Note**. Do not get confused with ```@``` or ```np.matmul```\\\\\\\n",
    "**Note**. ```A / B``` does not mean inverse."
   ]
  },
  {
   "cell_type": "code",
   "execution_count": 8,
   "id": "7da6e5cf-4db3-4222-a66c-6cc0e99c7b4f",
   "metadata": {},
   "outputs": [
    {
     "name": "stdout",
     "output_type": "stream",
     "text": [
      "[[ 5 12]\n",
      " [21 32]]\n"
     ]
    }
   ],
   "source": [
    "A = np.array([\n",
    "    [1, 2],\n",
    "    [3, 4]\n",
    "])\n",
    "B = np.array([\n",
    "    [5, 6],\n",
    "    [7, 8]\n",
    "])\n",
    "\n",
    "if A.shape == B.shape:\n",
    "    print(A*B)"
   ]
  },
  {
   "cell_type": "code",
   "execution_count": 9,
   "id": "f383038d-48ca-4d7a-be75-d949595371e8",
   "metadata": {},
   "outputs": [
    {
     "name": "stdout",
     "output_type": "stream",
     "text": [
      "[[0.2        0.33333333]\n",
      " [0.42857143 0.5       ]]\n"
     ]
    }
   ],
   "source": [
    "if A.shape == B.shape:\n",
    "    print(A/B)"
   ]
  },
  {
   "cell_type": "markdown",
   "id": "e0cd5d5c-99b2-4acb-b81d-e000f8530d7b",
   "metadata": {},
   "source": [
    "## 2.2 (Numpy) Matrix * Vector, Matrix / Vector"
   ]
  },
  {
   "cell_type": "markdown",
   "id": "8b699f92-02cc-4419-907a-c87b5aa5e731",
   "metadata": {},
   "source": [
    "$$\n",
    "A = \\begin{bmatrix}\n",
    "1 & 2 \\\\\n",
    "3 & 4 \n",
    "\\end{bmatrix}, \\quad\n",
    "\\mathbf{b} = \\begin{bmatrix}\n",
    "5 \\\\\n",
    "6 \n",
    "\\end{bmatrix}, \\quad\n",
    "A * \\mathbf{b} = \\mathbf{b} * A = \\begin{bmatrix}\n",
    "5 & 12 \\\\\n",
    "15 & 24 \n",
    "\\end{bmatrix}\n",
    "$$\n",
    "\n",
    "* the number of col of $A$ should be equal to the size of $\\mathbf{b}$\n",
    "* the same logic applies to (numpy) $A/\\mathbf{b}$\n",
    "* Note. this is **NOT** a matrix-vector product!\n",
    "* Note. $1/A$ is **NOT** the inverse of $A$ !"
   ]
  },
  {
   "cell_type": "code",
   "execution_count": 10,
   "id": "ae9bcbca-b3a3-42b6-8308-4dccc5633828",
   "metadata": {},
   "outputs": [
    {
     "name": "stdout",
     "output_type": "stream",
     "text": [
      "[[ 5 12]\n",
      " [15 24]]\n",
      "[[0.2        0.33333333]\n",
      " [0.6        0.66666667]]\n"
     ]
    }
   ],
   "source": [
    "A = np.array([\n",
    "    [1, 2],\n",
    "    [3, 4]\n",
    "])\n",
    "b = np.array([5, 6])\n",
    "\n",
    "if A.shape[1] == b.size:\n",
    "    print(A * b) # print(b * A)\n",
    "    print(A / b)"
   ]
  },
  {
   "cell_type": "markdown",
   "id": "0ddf8541-64bf-43bb-b948-86a1bf5af665",
   "metadata": {},
   "source": [
    "How about $\\mathbf{b} / A$ then?"
   ]
  },
  {
   "cell_type": "markdown",
   "id": "d81005d3-1d48-46a9-9257-0cef65170323",
   "metadata": {},
   "source": [
    "$$\n",
    "A = \\begin{bmatrix}\n",
    "1 & 2 \\\\\n",
    "3 & 4 \n",
    "\\end{bmatrix}, \\quad\n",
    "\\mathbf{b} = \\begin{bmatrix}\n",
    "5 \\\\\n",
    "6 \n",
    "\\end{bmatrix}, \\quad\n",
    "\\mathbf{b} / A = \\begin{bmatrix}\n",
    "5/1 & 6/2 \\\\\n",
    "5/3 & 6/4\n",
    "\\end{bmatrix}\n",
    "$$"
   ]
  },
  {
   "cell_type": "code",
   "execution_count": 11,
   "id": "a59d6379-3095-401a-b2c3-b877d2906f91",
   "metadata": {},
   "outputs": [
    {
     "name": "stdout",
     "output_type": "stream",
     "text": [
      "[[5.         3.        ]\n",
      " [1.66666667 1.5       ]]\n",
      "[[5.         3.        ]\n",
      " [1.66666667 1.5       ]]\n"
     ]
    }
   ],
   "source": [
    "if A.shape[1] == b.size:\n",
    "    print(b / A)\n",
    "    print(b * (1/A))"
   ]
  },
  {
   "cell_type": "markdown",
   "id": "56de2495-4471-4476-943c-18cbcb9074ea",
   "metadata": {},
   "source": [
    "## Application (diagonal matrix case)"
   ]
  },
  {
   "cell_type": "markdown",
   "id": "6413112c-6979-4868-8ff9-d75ae2a18b1a",
   "metadata": {},
   "source": [
    "$$\n",
    "A \\begin{bmatrix}\n",
    "\\lambda_1 & 0 & \\cdots & 0 \\\\\n",
    "0 & \\lambda_2 & \\cdots & 0 \\\\\n",
    "\\vdots & \\vdots & \\ddots & \\vdots \\\\\n",
    "0 & 0 & \\cdots & \\lambda_n\n",
    "\\end{bmatrix} = \\quad\n",
    "\\begin{bmatrix}\n",
    "\\mathbf{a}_1 & \\mathbf{a_2} & \\cdots & \\mathbf{a_n}\n",
    "\\end{bmatrix} \\begin{bmatrix}\n",
    "\\lambda_1 & 0 & \\cdots & 0 \\\\\n",
    "0 & \\lambda_2 & \\cdots & 0 \\\\\n",
    "\\vdots & \\vdots & \\ddots & \\vdots \\\\\n",
    "0 & 0 & \\cdots & \\lambda_n\n",
    "\\end{bmatrix} = \\quad\n",
    "\\begin{bmatrix}\n",
    "\\lambda_1\\mathbf{a}_1 & \\lambda_2\\mathbf{a_2} & \\cdots & \\lambda_n\\mathbf{a_n}\n",
    "\\end{bmatrix} \n",
    "$$"
   ]
  },
  {
   "cell_type": "code",
   "execution_count": 12,
   "id": "1ac35e76-79e9-41c0-b0f0-d9131e6b65b2",
   "metadata": {},
   "outputs": [
    {
     "name": "stdout",
     "output_type": "stream",
     "text": [
      "[[7. 9. 7. 4.]\n",
      " [0. 8. 9. 2.]\n",
      " [2. 7. 7. 6.]\n",
      " [7. 6. 4. 3.]]\n"
     ]
    }
   ],
   "source": [
    "A = np.random.rand(4, 4)\n",
    "A = 10 * A\n",
    "A = np.trunc(A)\n",
    "print(A)"
   ]
  },
  {
   "cell_type": "code",
   "execution_count": 13,
   "id": "8852c982-90eb-40f0-b778-ee4ab66d6f4c",
   "metadata": {},
   "outputs": [
    {
     "name": "stdout",
     "output_type": "stream",
     "text": [
      "[6. 4. 3. 2.]\n"
     ]
    }
   ],
   "source": [
    "lam = np.random.rand(4, 1)\n",
    "lam = np.ravel(lam)\n",
    "lam = np.trunc(10 * lam)\n",
    "print(lam)"
   ]
  },
  {
   "cell_type": "code",
   "execution_count": 14,
   "id": "f65592be-672d-4835-bbb8-e715bca26e7d",
   "metadata": {},
   "outputs": [
    {
     "name": "stdout",
     "output_type": "stream",
     "text": [
      "[[6. 0. 0. 0.]\n",
      " [0. 4. 0. 0.]\n",
      " [0. 0. 3. 0.]\n",
      " [0. 0. 0. 2.]]\n"
     ]
    }
   ],
   "source": [
    "lam_mat = np.diag(lam)\n",
    "print(lam_mat)"
   ]
  },
  {
   "cell_type": "code",
   "execution_count": 15,
   "id": "e8037d01-0879-41f5-9a61-a79fd901d96d",
   "metadata": {},
   "outputs": [
    {
     "name": "stdout",
     "output_type": "stream",
     "text": [
      "method 1. matrix multiplication with np.matmul or @\n",
      "\n"
     ]
    },
    {
     "ename": "NameError",
     "evalue": "name 'result2' is not defined",
     "output_type": "error",
     "traceback": [
      "\u001b[1;31m---------------------------------------------------------------------------\u001b[0m",
      "\u001b[1;31mNameError\u001b[0m                                 Traceback (most recent call last)",
      "Cell \u001b[1;32mIn[15], line 5\u001b[0m\n\u001b[0;32m      3\u001b[0m \u001b[38;5;28mprint\u001b[39m(\u001b[38;5;124m\"\u001b[39m\u001b[38;5;124mmethod 1. matrix multiplication with np.matmul or @\u001b[39m\u001b[38;5;124m\"\u001b[39m)\n\u001b[0;32m      4\u001b[0m \u001b[38;5;28mprint\u001b[39m()\n\u001b[1;32m----> 5\u001b[0m \u001b[38;5;28mprint\u001b[39m(result2)\n\u001b[0;32m      7\u001b[0m \u001b[38;5;28mprint\u001b[39m()\n\u001b[0;32m      9\u001b[0m \u001b[38;5;66;03m# method 2.\u001b[39;00m\n",
      "\u001b[1;31mNameError\u001b[0m: name 'result2' is not defined"
     ]
    }
   ],
   "source": [
    "# method 1.\n",
    "result1 = A @ lam_mat\n",
    "print(\"method 1. matrix multiplication with np.matmul or @\")\n",
    "print()\n",
    "print(result2)\n",
    "\n",
    "print()\n",
    "\n",
    "# method 2.\n",
    "result2 = A * lam\n",
    "print(\"method 2. numpy *\")\n",
    "print()\n",
    "print(result2)"
   ]
  },
  {
   "cell_type": "markdown",
   "id": "36fc5be3-5209-493b-b464-c17abd6473cf",
   "metadata": {},
   "source": [
    "# 3. Extract a Row or Col from a Matrix to form another Matrix"
   ]
  },
  {
   "cell_type": "markdown",
   "id": "b3dce294-9218-4bd9-b390-63325591da76",
   "metadata": {},
   "source": [
    "$$\n",
    "\\begin{bmatrix}\n",
    "1 & 2 & 3 & 4 & 5 \\\\\n",
    "6 & 7 & 8 & 9 & 10 \\\\\n",
    "11 & 12 & 13 & 14 & 15\\\\\n",
    "-1 & -2 & -3 & -4 & -5\n",
    "\\end{bmatrix} \\rightarrow \\begin{bmatrix}\n",
    "6 & 7 & 8 & 9 & 10 \\\\\n",
    "11 & 12 & 13 & 14 & 15\\\\\n",
    "1 & 2 & 3 & 4 & 5 \\\\\n",
    "-1 & -2 & -3 & -4 & -5\n",
    "\\end{bmatrix}\n",
    "$$"
   ]
  },
  {
   "cell_type": "code",
   "execution_count": null,
   "id": "99a480c8-00b6-4399-8f27-cd89fbde068b",
   "metadata": {},
   "outputs": [],
   "source": [
    "A1 = np.array([\n",
    "    [1, 2, 3, 4, 5],\n",
    "    [6, 7, 8, 9, 10],\n",
    "    [11, 12, 13, 14, 15],\n",
    "    [-1, -2, -3, -4, -5]\n",
    "])"
   ]
  },
  {
   "cell_type": "code",
   "execution_count": null,
   "id": "e26cc232-ad6d-40bc-a872-c36a92379cd0",
   "metadata": {},
   "outputs": [],
   "source": [
    "A2 = A1[[1, 2, 0, 3], :] # rearrange the indices\n",
    "print(A2)\n",
    "\n",
    "# or this way\n",
    "idx = [1, 2, 0, 3]\n",
    "A3 = A1[idx, :]\n",
    "print(A3)"
   ]
  },
  {
   "cell_type": "code",
   "execution_count": null,
   "id": "1f3cbbf6-cb6b-4402-a970-88e98710940d",
   "metadata": {},
   "outputs": [],
   "source": [
    "np.shares_memory(A1, A2) # copy"
   ]
  },
  {
   "cell_type": "markdown",
   "id": "ffbf24ac-1dca-4723-b222-98324cb2c80b",
   "metadata": {},
   "source": [
    "$$\n",
    "\\begin{bmatrix}\n",
    "1 & 2 & 3 & 4 & 5 \\\\\n",
    "6 & 7 & 8 & 9 & 10 \\\\\n",
    "11 & 12 & 13 & 14 & 15\\\\\n",
    "-1 & -2 & -3 & -4 & -5\n",
    "\\end{bmatrix} \\rightarrow \\begin{bmatrix}\n",
    "11 & 12 & 13 & 14 & 15\\\\\n",
    "6 & 7 & 8 & 9 & 10 \\\\\n",
    "\\end{bmatrix}\n",
    "$$"
   ]
  },
  {
   "cell_type": "code",
   "execution_count": null,
   "id": "37a09062-f692-4ac4-a4f1-2a3d1bf575af",
   "metadata": {},
   "outputs": [],
   "source": [
    "idx = [2, 1]\n",
    "A4 = A1[idx, :]\n",
    "print(A4)"
   ]
  },
  {
   "cell_type": "markdown",
   "id": "a4b5fa27-b3d2-4054-85b7-0d0a8ac003d7",
   "metadata": {},
   "source": [
    "$$\n",
    "\\begin{bmatrix}\n",
    "1 & 2 & 3 & 4 & 5 \\\\\n",
    "6 & 7 & 8 & 9 & 10 \\\\\n",
    "11 & 12 & 13 & 14 & 15\\\\\n",
    "-1 & -2 & -3 & -4 & -5\n",
    "\\end{bmatrix} \\rightarrow \\begin{bmatrix}\n",
    "5 & 2 & 3\\\\\n",
    "10 & 7 & 8\\\\\n",
    "15 & 12 & 13\\\\\n",
    "-5 & -2 & -3\n",
    "\\end{bmatrix}\n",
    "$$"
   ]
  },
  {
   "cell_type": "code",
   "execution_count": null,
   "id": "9e9cd08b-8793-42f9-86b7-41c1e37debda",
   "metadata": {},
   "outputs": [],
   "source": [
    "idx = [4, 1, 2]\n",
    "A5 = A1[:, idx]\n",
    "print(A5)"
   ]
  },
  {
   "cell_type": "markdown",
   "id": "01340ede-3a6b-4e65-b740-d4b069cc7c7c",
   "metadata": {},
   "source": [
    "$$\n",
    "\\begin{bmatrix}\n",
    "1 & 2 & 3 & 4 & 5 \\\\\n",
    "6 & 7 & 8 & 9 & 10 \\\\\n",
    "11 & 12 & 13 & 14 & 15\\\\\n",
    "-1 & -2 & -3 & -4 & -5\n",
    "\\end{bmatrix} \\rightarrow \\begin{bmatrix}\n",
    "13 & 12 & 14\\\\\n",
    "-3 & -2 & -4\\\\\n",
    "3 & 2 & 4\\\\\n",
    "\\end{bmatrix}\n",
    "$$"
   ]
  },
  {
   "cell_type": "code",
   "execution_count": null,
   "id": "63d2912c-79e6-47e6-8a16-4cadde8ebe05",
   "metadata": {},
   "outputs": [],
   "source": [
    "r_idx = [2, 3, 0]\n",
    "c_idx = [2, 1, 3]\n",
    "A6 = A1[r_idx, : ][ : , c_idx]\n",
    "print(A6)"
   ]
  }
 ],
 "metadata": {
  "kernelspec": {
   "display_name": "Python 3 (ipykernel)",
   "language": "python",
   "name": "python3"
  },
  "language_info": {
   "codemirror_mode": {
    "name": "ipython",
    "version": 3
   },
   "file_extension": ".py",
   "mimetype": "text/x-python",
   "name": "python",
   "nbconvert_exporter": "python",
   "pygments_lexer": "ipython3",
   "version": "3.11.11"
  }
 },
 "nbformat": 4,
 "nbformat_minor": 5
}
