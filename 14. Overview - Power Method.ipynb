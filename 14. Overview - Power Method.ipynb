{
 "cells": [
  {
   "cell_type": "markdown",
   "id": "f700e5cf-a8af-430a-a287-636c2fb7d6b8",
   "metadata": {},
   "source": [
    "# Overview of Power Method"
   ]
  },
  {
   "cell_type": "markdown",
   "id": "35d471cc-511c-4e91-995b-54ed7241cb9a",
   "metadata": {},
   "source": [
    "#### Acknoledgement"
   ]
  },
  {
   "cell_type": "markdown",
   "id": "5f3eefb2-a2b0-42c1-9a4b-ec6ef85728e2",
   "metadata": {},
   "source": [
    "All content in this document is a summary of the lectures and course materials of Bumhee Cho. This is the case not only for this document but also for all contents in the repository. You can find the lecture here:\n",
    "\n",
    "[Linear Algebra with Python - Using NumPy and SciPy](https://www.inflearn.com/en/course/%EC%84%A0%ED%98%95%EB%8C%80%EC%88%98%ED%95%99?attributionToken=kwHwkgoLCL-Is7wGEM-t4ysQARokNjc5MGFiYjItMDAwMC0yODM0LTk4N2UtMjQwNTg4ODE0OTkwKgYxNDgzNDcyOJzWty3Fy_MXjr6dFdSynRXC8J4Vo4CXIra3jC2o5aotjpHJMOGr6zDkq-swmu7GMJ_Wty2Q97IwOg5kZWZhdWx0X3NlYXJjaEgBWAFgAWgBegJzaQ) "
   ]
  },
  {
   "cell_type": "markdown",
   "id": "024fc711-4f64-4d7b-af78-e0bc9c617d41",
   "metadata": {},
   "source": [
    "## General Idea of Power Method"
   ]
  },
  {
   "cell_type": "markdown",
   "id": "6cdc7c86-00f5-4d07-a67a-3e0d9d359c57",
   "metadata": {},
   "source": [
    "Power method is one way to obtain **the eigenvector of the largest absolute size and the corresponding eigenvector of a diagonalizable matrix**. \n"
   ]
  },
  {
   "cell_type": "markdown",
   "id": "1037311c-3781-417e-a130-c92662716a21",
   "metadata": {},
   "source": [
    "Let $A$ be an $n \\times n$ diagonalizable matrix. And $\\lambda_i$ be the eigenvalues, $\\mathbf{v}_i$ be the corresponding eigenvectors ($i=1,2,\\dots,n$),  \n",
    "arranged so that"
   ]
  },
  {
   "cell_type": "markdown",
   "id": "9248d0ee-4a2e-4acc-a9c9-4c9424dfc7ee",
   "metadata": {},
   "source": [
    "$$\n",
    "|\\lambda_1| \\geq |\\lambda_2| \\geq \\cdots \\geq |\\lambda_n|.\n",
    "$$"
   ]
  },
  {
   "attachments": {},
   "cell_type": "markdown",
   "id": "e37462fd-92ae-4e0e-935f-cc43579c68a6",
   "metadata": {},
   "source": [
    "Using $\\{v_i\\}$ as basis vectors, any vector $\\mathbf{x}_0 \\in \\mathbb{R}^n$ can be expressed as"
   ]
  },
  {
   "cell_type": "markdown",
   "id": "9fec534f-87cd-4a9f-9cc8-391bdb7baa55",
   "metadata": {},
   "source": [
    "$$\n",
    "\\mathbf{x}_0 = c_1 \\mathbf{v}_1 + c_2 \\mathbf{v}_2 + \\cdots + c_n \\mathbf{v}_n, \n",
    "\\qquad (c_1, \\dots, c_n \\text{ are coordinates}).\n",
    "$$"
   ]
  },
  {
   "cell_type": "markdown",
   "id": "62877aaf-ff94-44e1-8157-796c795e42ea",
   "metadata": {},
   "source": [
    "Now let $\\mathbf{x}_k = A^k \\mathbf{x}_0$, then"
   ]
  },
  {
   "cell_type": "markdown",
   "id": "832cfd44-953b-445b-946d-aeded3e2d054",
   "metadata": {},
   "source": [
    "$$\n",
    "\\mathbf{x}_1 = A \\mathbf{x}_0 \n",
    "= c_1 A \\mathbf{v}_1 + c_2 A \\mathbf{v}_2 + \\cdots + c_n A \\mathbf{v}_n\n",
    "= c_1 \\lambda_1 \\mathbf{v}_1 + c_2 \\lambda_2 \\mathbf{v}_2 + \\cdots + c_n \\lambda_n \\mathbf{v}_n\n",
    "$$"
   ]
  },
  {
   "cell_type": "markdown",
   "id": "5a1faa72-f538-4e82-87ca-13ad61a18a4a",
   "metadata": {},
   "source": [
    "$$\n",
    "\\mathbf{x}_2 = A \\mathbf{x}_1 \n",
    "= c_1 A^2 \\mathbf{v}_1 + c_2 A^2 \\mathbf{v}_2 + \\cdots + c_n A^2 \\mathbf{v}_n\n",
    "= c_1 \\lambda_1^2 \\mathbf{v}_1 + c_2 \\lambda_2^2 \\mathbf{v}_2 + \\cdots + c_n \\lambda_n^2 \\mathbf{v}_n\n",
    "$$"
   ]
  },
  {
   "cell_type": "markdown",
   "id": "660c6ed6-8651-4dab-ab6c-2efc29cfb6fa",
   "metadata": {},
   "source": [
    "$$\n",
    "\\vdots\n",
    "$$"
   ]
  },
  {
   "cell_type": "markdown",
   "id": "8c1c1b93-d6e8-4647-bb4a-7be23907bf18",
   "metadata": {},
   "source": [
    "$$\n",
    "\\mathbf{x}_k = A \\mathbf{x}_{k-1} \n",
    "= c_1 A^k \\mathbf{v}_1 + c_2 A^k \\mathbf{v}_2 + \\cdots + c_n A^k \\mathbf{v}_n\n",
    "= c_1 \\lambda_1^k \\mathbf{v}_1 + c_2 \\lambda_2^k \\mathbf{v}_2 + \\cdots + c_n \\lambda_n^k \\mathbf{v}_n\n",
    "$$"
   ]
  },
  {
   "cell_type": "markdown",
   "id": "a5aa4eb8-92d4-4bde-ab9b-99941486a863",
   "metadata": {},
   "source": [
    "Divide $\\mathbf{x}_k$ by $\\lambda_1^k$:"
   ]
  },
  {
   "cell_type": "markdown",
   "id": "da1522af-05d9-4045-a6ce-59edce444395",
   "metadata": {},
   "source": [
    "$$\n",
    "\\frac{1}{\\lambda_1^k} \\mathbf{x}_k \n",
    "= c_1 \\mathbf{v}_1 + c_2 \\Bigl(\\tfrac{\\lambda_2}{\\lambda_1}\\Bigr)^k \\mathbf{v}_2 + \\cdots + c_n \\Bigl(\\tfrac{\\lambda_n}{\\lambda_1}\\Bigr)^k \\mathbf{v}_n.\n",
    "$$"
   ]
  },
  {
   "cell_type": "markdown",
   "id": "998db7c4-0eab-4990-b391-40c194c470b1",
   "metadata": {},
   "source": [
    "As $k \\to \\infty$,"
   ]
  },
  {
   "cell_type": "markdown",
   "id": "599f6542-3050-4ca0-ae4d-de817ee38bf0",
   "metadata": {},
   "source": [
    "$$\n",
    "\\frac{1}{\\lambda_1^k} \\mathbf{x}_k \n",
    "= c_1 \\mathbf{v}_1\n",
    "$$"
   ]
  },
  {
   "cell_type": "markdown",
   "id": "d50bc23a-d0f3-406f-8fdf-81ba5e629855",
   "metadata": {},
   "source": [
    "Note that $\\mathbf{x}_k$ itself is the eigenvector corresponding to $\\lambda_1$. Accordingly, $\\lambda_1$ can be computed from $\\mathbf{x}_k$,"
   ]
  },
  {
   "cell_type": "markdown",
   "id": "9f2b3ba2-7393-41ec-8eb0-b911bc5c13a2",
   "metadata": {},
   "source": [
    "$$\n",
    "A \\mathbf{x}_k = \\lambda_1 \\mathbf{x}_k\n",
    "$$"
   ]
  },
  {
   "cell_type": "markdown",
   "id": "cda65493-1a9f-4c02-be71-fee10aea402d",
   "metadata": {},
   "source": [
    "$$\n",
    "\\lambda_1 = \\frac{\\mathbf{x}_k^\\top A \\mathbf{x}_k}{\\mathbf{x}_k^\\top \\mathbf{x}_k} \n",
    "= \\frac{\\mathbf{x}_k^\\top (A \\mathbf{x}_k)}{\\mathbf{x}_k^\\top \\mathbf{x}_k}\n",
    "$$"
   ]
  },
  {
   "cell_type": "markdown",
   "id": "7128d309-8cd1-4e10-bb7a-0f03a90a6282",
   "metadata": {},
   "source": [
    "This is it."
   ]
  },
  {
   "cell_type": "markdown",
   "id": "31ca9bb7-ef36-4681-89e6-90feaac82bf8",
   "metadata": {},
   "source": [
    "**Power Method summary:**"
   ]
  },
  {
   "cell_type": "markdown",
   "id": "2e0e9388-6645-4d49-93cf-ed3563ecf0e9",
   "metadata": {},
   "source": [
    "Take arbitrary $\\mathbf{x}_0$. Multiply $A$ repeatedly:"
   ]
  },
  {
   "cell_type": "markdown",
   "id": "ebda64cd-07e0-4443-8c58-6dcd6e918174",
   "metadata": {},
   "source": [
    "$$\n",
    "\\mathbf{x}_k = A^k \\mathbf{x}_0, \\quad k \\text{ is large}.\n",
    "$$"
   ]
  },
  {
   "cell_type": "markdown",
   "id": "819db3cb-d9b8-4f17-9c7f-860a3d512d4c",
   "metadata": {},
   "source": [
    "Then,\n",
    "- Largest eigenvector $\\;\\; \\mathbf{x}_k \\approx \\mathbf{v}_1$,  \n",
    "- Largest eigenvalue $\\;\\; \\lambda_1 \\approx \\dfrac{\\mathbf{x}_k^\\top (A \\mathbf{x}_k)}{\\mathbf{x}_k^\\top \\mathbf{x}_k}$."
   ]
  },
  {
   "cell_type": "markdown",
   "id": "fdccee37-edac-4c9c-b426-fcae332a2049",
   "metadata": {},
   "source": [
    "How fast $\\mathbf{x}_k$ would converge?"
   ]
  },
  {
   "cell_type": "markdown",
   "id": "c1ea8b19-4fbb-4c21-b615-fda3bbbef15c",
   "metadata": {},
   "source": [
    "- Convergence ratio $\\;\\; |\\frac{\\lambda_2}{\\lambda_1}|$."
   ]
  },
  {
   "cell_type": "markdown",
   "id": "bd60f316-ac3d-44e5-b7db-951c5fec743b",
   "metadata": {},
   "source": [
    "**One Additional Note - Normalization**"
   ]
  },
  {
   "cell_type": "markdown",
   "id": "170b459e-73ce-416c-820d-c846cc31e765",
   "metadata": {},
   "source": [
    "For numerical stability, 1. pick a unit vector for $\\mathbf{x}_0$ and 2. normalize $\\mathbf{x}_k$ at each step."
   ]
  },
  {
   "cell_type": "markdown",
   "id": "1d0ea52a-5f59-403f-993a-4d2101cdd263",
   "metadata": {},
   "source": [
    "$$\n",
    "\\mathbf{x}_k \\; \\leftarrow \\; \\frac{\\mathbf{x}_k}{\\|\\mathbf{x}_k\\|}\n",
    "$$"
   ]
  },
  {
   "cell_type": "markdown",
   "id": "62f2b78e-aaff-471b-89e5-4435531db62e",
   "metadata": {},
   "source": [
    "Otherwise:"
   ]
  },
  {
   "cell_type": "markdown",
   "id": "33fdd08b-7a02-4786-affd-3144b012b68a",
   "metadata": {},
   "source": [
    "$$\n",
    "\\mathbf{x}_k = c_1 \\lambda_1^k \\mathbf{v}_1 + c_2 \\lambda_2^k \\mathbf{v}_2 + \\cdots + c_n \\lambda_n^k \\mathbf{v}_n,\n",
    "$$\n",
    "\n",
    "$$\n",
    "\\|\\mathbf{x}_k\\| \\; \\rightarrow \\; \\text{can be too large}\n",
    "$$"
   ]
  },
  {
   "cell_type": "markdown",
   "id": "cd1ac505-93f4-4ae6-a366-82f161b3ca53",
   "metadata": {},
   "source": [
    "## Power Method Algorithm"
   ]
  },
  {
   "cell_type": "markdown",
   "id": "fddf12cc-092f-47f1-ae4e-f238ebd128f2",
   "metadata": {},
   "source": [
    "1. Initalization - $\\mathbf{x}_0$ s.t. $\\|\\mathbf{x}_0\\| = 1$\n",
    "2. Iteration until converge\n",
    "    - $\\mathbf{x}_k = A\\mathbf{x}_{k-1}/\\|A\\mathbf{x}_{k-1}\\|$\n",
    "    - $\\mu_k = \\mathbf{x}_k \\cdot A\\mathbf{x}_{k}/\\mathbf{x}_k \\cdot \\mathbf{x}_k$\n",
    "\n",
    "where\n",
    "\n",
    "$$\n",
    "\\mathbf{x}_k \\approx \\mathbf{v}_1\n",
    "$$\n",
    "\n",
    "$$\n",
    "\\mu_k \\approx \\lambda_1\n",
    "$$\n",
    "\n",
    "* Convergence criteria ($10^{-7}$ -- $10^{-12}$)\n",
    "    * eigvec relative error = $\\|\\mathbf{x}_k - \\mathbf{x}_{k-1}\\|/\\|\\mathbf{x}_k\\|$\n",
    "    * eigval relative error = $|\\mu_k - \\mu{x}_{k-1}/\\mu_k|$\n",
    "    * Theoratically, the eigenvalue converges faster "
   ]
  },
  {
   "cell_type": "markdown",
   "id": "f8897800-01f1-490d-a266-712c9667051f",
   "metadata": {},
   "source": [
    "### Example 1."
   ]
  },
  {
   "cell_type": "markdown",
   "id": "4ff86dc4-f1fc-4a8f-a2b4-4f73781134ec",
   "metadata": {},
   "source": [
    "$$\n",
    "A=\n",
    "\\begin{bmatrix}\n",
    "6 & 5 \\\\\n",
    "1 & 2\n",
    "\\end{bmatrix}, \\; \n",
    "\\mathbf{x}_0 = \n",
    "\\begin{bmatrix}\n",
    "1 \\\\\n",
    "0\n",
    "\\end{bmatrix}\n",
    "$$"
   ]
  },
  {
   "cell_type": "markdown",
   "id": "aadf5634-f663-4c80-9e16-61845fd15268",
   "metadata": {},
   "source": [
    "$$\n",
    "\\lambda_1 = 7, \\; \\lambda_2 = 1, \\; \\mathbf{v}_1 = \n",
    "\\begin{bmatrix}\n",
    "1/\\sqrt{1.04} \\\\\n",
    "0.2/\\sqrt{1.04}\n",
    "\\end{bmatrix} = \n",
    "\\begin{bmatrix}\n",
    "0.980580 \\cdots \\\\\n",
    "0.196116 \\cdots\n",
    "\\end{bmatrix}\n",
    "$$"
   ]
  },
  {
   "cell_type": "markdown",
   "id": "4d28f858-5475-4e6e-abc3-5d1ede50e965",
   "metadata": {},
   "source": [
    "First, let's use ```linalg.eig``` to see the results."
   ]
  },
  {
   "cell_type": "code",
   "execution_count": 1,
   "id": "8dc5d3b1-0498-4c8e-96c6-ee31ff45994d",
   "metadata": {},
   "outputs": [],
   "source": [
    "import numpy as np\n",
    "from scipy import linalg"
   ]
  },
  {
   "cell_type": "code",
   "execution_count": 2,
   "id": "aceaf844-7cab-4c69-8fd8-7dccc6863065",
   "metadata": {},
   "outputs": [
    {
     "name": "stdout",
     "output_type": "stream",
     "text": [
      "$\\lambda_1$ is 7.0\n",
      "eigenvector is [0.98058068 0.19611614]\n"
     ]
    }
   ],
   "source": [
    "A = np.array([\n",
    "    [6, 5],\n",
    "    [1, 2]\n",
    "], dtype = np.float64)\n",
    "\n",
    "eigvals, eigvecs = linalg.eig(A)\n",
    "print(f'$\\lambda_1$ is {np.real_if_close(eigvals[0])}')\n",
    "print(f'eigenvector is {eigvecs[:, 0]}')"
   ]
  },
  {
   "cell_type": "markdown",
   "id": "8e0376fa-cffd-4dde-8bcc-1b1b72e98191",
   "metadata": {},
   "source": [
    "Now, let's implement power method."
   ]
  },
  {
   "cell_type": "code",
   "execution_count": 3,
   "id": "aa381ebc-b403-4a45-a9ce-1393c4c8d538",
   "metadata": {},
   "outputs": [],
   "source": [
    "x0 = np.array([1, 0], dtype = np.float64)\n",
    "\n",
    "x_prev = x0\n",
    "mu_prev = 0\n",
    "\n",
    "threshold = 10**(-9)\n",
    "\n",
    "while 1:\n",
    "\n",
    "    # eigvec\n",
    "    # x_k = A x_{k-1}\n",
    "    x_new = A @ x_prev\n",
    "    \n",
    "    \n",
    "    # normalize\n",
    "    x_new = x_new / linalg.norm(x_new)\n",
    "\n",
    "    # eigval\n",
    "    mu_new = np.vdot(x_new, A @ x_new) / np.vdot(x_new, x_new)\n",
    "\n",
    "    # convergence test\n",
    "    vec_error = linalg.norm(x_new - x_prev) / linalg.norm(x_new)\n",
    "    val_error = abs ((mu_new - mu_prev) / mu_new)\n",
    "    if vec_error < threshold:\n",
    "        break\n",
    "    if val_error < threshold:\n",
    "        break\n",
    "\n",
    "    # update for next iter\n",
    "    x_prev = x_new\n",
    "    mu_prev = mu_new"
   ]
  },
  {
   "cell_type": "code",
   "execution_count": 4,
   "id": "b5e0b69d-2d00-43d9-9413-1a9dbcc371cf",
   "metadata": {},
   "outputs": [
    {
     "name": "stdout",
     "output_type": "stream",
     "text": [
      "eigval from power method: 6.999999999533171\n",
      "\n",
      "eigvec from power method: [0.98058068 0.19611614]\n"
     ]
    }
   ],
   "source": [
    "print(f'eigval from power method: {mu_new}')\n",
    "print()\n",
    "print(f'eigvec from power method: {x_new}')"
   ]
  },
  {
   "cell_type": "markdown",
   "id": "5a0d5b43-779b-4272-ac2f-2d805a7a986f",
   "metadata": {},
   "source": [
    "### Example 2."
   ]
  },
  {
   "cell_type": "markdown",
   "id": "500013be-01eb-42f8-bf70-e20620cce3b5",
   "metadata": {},
   "source": [
    "$$\n",
    "A =\n",
    "\\begin{bmatrix}\n",
    "2 & 1 &  &  &  \\\\\n",
    "1 & \\ddots & \\ddots &  &  \\\\\n",
    "    & \\ddots & 2 & 1 &  \\\\\n",
    "   &  & 1 & 2 & 1 \\\\\n",
    "   &  &  & 1 & 2 \\\\\n",
    "\\end{bmatrix}_{20 \\times 20}\n",
    "$$"
   ]
  },
  {
   "cell_type": "code",
   "execution_count": 5,
   "id": "3b345369-66ce-40a6-82e5-27a14135d5c0",
   "metadata": {},
   "outputs": [
    {
     "name": "stdout",
     "output_type": "stream",
     "text": [
      "$\\lambda_1$ is  3.977662\n",
      "eigenvector is [0.04599544 0.09096342 0.13389943 0.17384434 0.20990586 0.24127843\n",
      " 0.26726124 0.28727388 0.30086929 0.30774377 0.30774377 0.30086929\n",
      " 0.28727388 0.26726124 0.24127843 0.20990586 0.17384434 0.13389943\n",
      " 0.09096342 0.04599544]\n"
     ]
    }
   ],
   "source": [
    "diag = 2*np.ones((20,))\n",
    "off_diag = np.ones((19,))\n",
    "\n",
    "A = np.diag(diag, k=0) + np.diag(off_diag, k=1) + np.diag(off_diag, k=-1)\n",
    "\n",
    "eigvals, eigvecs = np.linalg.eigh(A)\n",
    "\n",
    "# ascending order -> last val\n",
    "print(f'$\\lambda_1$ is {np.real_if_close(eigvals[-1]): .6f}')\n",
    "print(f'eigenvector is {eigvecs[:, -1]}')"
   ]
  },
  {
   "cell_type": "code",
   "execution_count": 6,
   "id": "026d9842-6fbb-4419-91f2-ffde9ba9a900",
   "metadata": {},
   "outputs": [],
   "source": [
    "x0 = np.zeros((20,), dtype=np.float64)\n",
    "x0[0] = 1\n",
    "\n",
    "x_prev = x0\n",
    "mu_prev = 0\n",
    "\n",
    "threshold = 10**(-12)\n",
    "\n",
    "while 1:\n",
    "\n",
    "    # eigvec\n",
    "    # x_k = A x_{k-1}\n",
    "    x_new = A @ x_prev\n",
    "    \n",
    "    \n",
    "    # normalize\n",
    "    x_new = x_new / linalg.norm(x_new)\n",
    "\n",
    "    # eigval\n",
    "    mu_new = np.vdot(x_new, A @ x_new) / np.vdot(x_new, x_new)\n",
    "\n",
    "    # convergence test\n",
    "    vec_error = linalg.norm(x_new - x_prev) / linalg.norm(x_new)\n",
    "    val_error = abs ((mu_new - mu_prev) / mu_new)\n",
    "    if vec_error < threshold:\n",
    "        break\n",
    "    if val_error < threshold:\n",
    "        break\n",
    "\n",
    "    # update for next iter\n",
    "    x_prev = x_new\n",
    "    mu_prev = mu_new"
   ]
  },
  {
   "cell_type": "code",
   "execution_count": 7,
   "id": "74c2809a-8970-4ffb-85a7-4173feaa5abe",
   "metadata": {},
   "outputs": [
    {
     "name": "stdout",
     "output_type": "stream",
     "text": [
      "eigval from power method: 3.9776616523366655\n",
      "\n",
      "eigvec from power method: [0.0459992  0.09097061 0.1339094  0.17385622 0.20991858 0.24129087\n",
      " 0.26727229 0.28728255 0.30087482 0.30774567 0.30774187 0.30086375\n",
      " 0.2872652  0.2672502  0.241266   0.20989315 0.17383247 0.13388946\n",
      " 0.09095624 0.04599168]\n"
     ]
    }
   ],
   "source": [
    "print(f'eigval from power method: {mu_new}')\n",
    "print()\n",
    "print(f'eigvec from power method: {x_new}')"
   ]
  },
  {
   "cell_type": "markdown",
   "id": "0f57c839-8b7c-44dc-9ba5-c87dbd1287e6",
   "metadata": {},
   "source": [
    "## Inverse Power Method"
   ]
  },
  {
   "cell_type": "markdown",
   "id": "afef6e01-bbe7-4010-8d91-6c18db3dae7d",
   "metadata": {},
   "source": [
    "We can tweak the power method to get the smallest eigenvalue and the corresponding eigenvector."
   ]
  },
  {
   "cell_type": "markdown",
   "id": "fcc6be72-760d-4fc7-a9be-6cbbc3430e07",
   "metadata": {},
   "source": [
    "$$\n",
    "A \\mathbf{v} = \\lambda \\mathbf{v} \\iff A^{-1}\\mathbf{v} = \\frac{1}{\\lambda}\\mathbf{v}\n",
    "$$"
   ]
  },
  {
   "cell_type": "markdown",
   "id": "923ddc17-e59f-4f21-b9b3-64d159f34ceb",
   "metadata": {},
   "source": [
    "Power Method:"
   ]
  },
  {
   "cell_type": "markdown",
   "id": "9956c02d-43ea-4052-bf08-48ce8048db75",
   "metadata": {},
   "source": [
    "$$\n",
    "\\mathbf{x}_k = \\frac{A \\mathbf{x}_{k-1}}{\\|A \\mathbf{x}_{k-1}\\|}, \\; \\mu_k = \\frac{\\mathbf{x}_k \\cdot (A \\mathbf{x}_{k})}{\\mathbf{x}_k \\cdot \\mathbf{x}_k}\n",
    "$$"
   ]
  },
  {
   "cell_type": "markdown",
   "id": "18e3312f-5d94-435f-ab33-0b30f8a3a05d",
   "metadata": {},
   "source": [
    "Inverse Power Method:"
   ]
  },
  {
   "cell_type": "markdown",
   "id": "1fb0edf5-189a-4da7-9877-9e1c1ddceea8",
   "metadata": {},
   "source": [
    "$$\n",
    "\\mathbf{x}_k = \\frac{A^{-1} \\mathbf{x}_{k-1}}{\\|A^{-1} \\mathbf{x}_{k-1}\\|}, \\; \\mu_k = \\frac{\\mathbf{x}_k \\cdot (A^{-1} \\mathbf{x}_{k})}{\\mathbf{x}_k \\cdot \\mathbf{x}_k}\n",
    "$$"
   ]
  },
  {
   "cell_type": "markdown",
   "id": "698438d3-f84f-43aa-b222-b3e99303bb6b",
   "metadata": {},
   "source": [
    "Use the power method for $A^{-1}$, get the eigenvalue and inverse it $\\Rightarrow$ smalliest eigenvalue of $A$."
   ]
  },
  {
   "cell_type": "markdown",
   "id": "92f395fb-16f5-40ba-b299-d348766c6631",
   "metadata": {},
   "source": [
    "But getting an inverse matrix is computationally inefficient and usually not recommended."
   ]
  },
  {
   "cell_type": "markdown",
   "id": "32a76aff-4020-4e8f-978c-b467ccc367c1",
   "metadata": {},
   "source": [
    "So use the relationship $A \\mathbf{x}_{k+1} = \\mathbf{x}_k$ instead. LU factorization can be useful here."
   ]
  }
 ],
 "metadata": {
  "kernelspec": {
   "display_name": "Python 3 (ipykernel)",
   "language": "python",
   "name": "python3"
  },
  "language_info": {
   "codemirror_mode": {
    "name": "ipython",
    "version": 3
   },
   "file_extension": ".py",
   "mimetype": "text/x-python",
   "name": "python",
   "nbconvert_exporter": "python",
   "pygments_lexer": "ipython3",
   "version": "3.11.11"
  }
 },
 "nbformat": 4,
 "nbformat_minor": 5
}
