{
 "cells": [
  {
   "cell_type": "markdown",
   "id": "83d69ca3-124e-4179-8ba9-be83f99373ea",
   "metadata": {},
   "source": [
    "# Which Solver to Use?"
   ]
  },
  {
   "cell_type": "markdown",
   "id": "cedeeaec-2d38-4529-b742-9f9f86033058",
   "metadata": {},
   "source": [
    "**Case 1. Solving One Equation**\n",
    "\n",
    "$$\n",
    "A\\mathbf{x} = \\mathbf{b}\n",
    "$$"
   ]
  },
  {
   "cell_type": "markdown",
   "id": "5fc0cf10-064e-4bcd-a9ca-b57ee236228d",
   "metadata": {},
   "source": [
    "**Case 1.1 Solving Several Equations at Once (All $\\mathbf{b}_i$s are known)**\n",
    "\n",
    "$$\n",
    "AX = B\n",
    "$$\n",
    "\n",
    "$$\n",
    "X = [\\mathbf{x}_1 \\, \\mathbf{x}_2 \\, \\dots \\, \\mathbf{x}_k], \\quad X \\in \\mathbb{R}^{n \\times k}, \\qquad B = [\\mathbf{b}_1 \\, \\mathbf{b}_2 \\, \\dots \\, \\mathbf{b}_k], \\quad B \\in \\mathbb{R}^{n \\times k}\n",
    "$$"
   ]
  },
  {
   "cell_type": "markdown",
   "id": "ffa374f6-aea3-4233-a3fe-8efad98bfcd4",
   "metadata": {},
   "source": [
    "> Remark. Case 1. is a special case of Case 1.1. The only difference of two is that instead of ```b```, ```B``` is used as an input in Case 1.1. More on this in [\"solving multiple equations at once\"](https://github.com/JKang918/Linear-Algebra-with-Python/blob/main/10.%20Matrix%20Equation%20-%20solving%20multiple%20equations%20simultaneously.ipynb)"
   ]
  },
  {
   "cell_type": "markdown",
   "id": "e12d377c-4a5b-4e8c-9e8d-0a597a08d210",
   "metadata": {},
   "source": [
    "**Case 2. Solving Several Equations One at a Time ($\\mathbf{b}_i$s are not known in the beginning)**\n",
    "\n",
    "$$\n",
    "A\\mathbf{x}_i = \\mathbf{b}_i\n",
    "$$\n",
    "\n",
    "$$\n",
    "\\mathbf{b}_i \\rightarrow \\mathbf{b}_1 \\, \\mathbf{b}_2 \\, \\dots \\, \\mathbf{b}_k\n",
    "$$"
   ]
  },
  {
   "cell_type": "markdown",
   "id": "a317c51a-e7fd-412e-87d8-9713a972d359",
   "metadata": {},
   "source": [
    "## Basic solver functions are actually quite Ok But..."
   ]
  },
  {
   "cell_type": "markdown",
   "id": "bb88f2fd-fdda-4aea-9ae9-6eb3b311c543",
   "metadata": {},
   "source": [
    "Basic solvers can be thought of as a combination of **\"decomposition + solver\"**. So for cases like case 1 or case 1.1, using basic solvers are fine becasue regardless you are going to do decomposition only once."
   ]
  },
  {
   "cell_type": "markdown",
   "id": "9b2d2573-51f3-4854-9fe8-23338beedd20",
   "metadata": {},
   "source": [
    "So in this cases, all the followings are fine."
   ]
  },
  {
   "cell_type": "markdown",
   "id": "0a94a800-0104-4b4e-9cb8-ce4752cc6980",
   "metadata": {},
   "source": [
    "1. Positive Definite\n",
    "\n",
    "```python\n",
    "\"\"\" Basic \"\"\"\n",
    "# Basic Solver\n",
    "linalg.solve(... , assume_a=\"pos\")\n",
    "```\n",
    "\n",
    "```python\n",
    "\"\"\" Decomp. First \"\"\"\n",
    "# Decomposition\n",
    "linalg.cholesky(...)\n",
    "\n",
    "# Solve\n",
    "linalg.cho_solve(...)\n",
    "```\n",
    "\n",
    "* Band matrix\n",
    "\n",
    "```python\n",
    "\"\"\" Basic \"\"\"\n",
    "# Basic Solver\n",
    "linalg.solveh_banded(...)\n",
    "```\n",
    "\n",
    "```python\n",
    "\"\"\" Decomp. First \"\"\"\n",
    "# Decomposition\n",
    "linalg.cholesky_banded(...)\n",
    "\n",
    "# Solve\n",
    "linalg.cho_solve_banded(...)\n",
    "```\n",
    "\n",
    "> Remarks.\\\n",
    "> Remember cholesky decomposition is faster than LU decomposition yet, for solving equations LU functions are faster.\n",
    "\n",
    "2. Symmetric / Hermitian\n",
    "\n",
    "```python\n",
    "\"\"\" Basic \"\"\"\n",
    "# Basic Solver\n",
    "linalg.solve(... , assume_a=\"sym\")\n",
    "linalg.solve(... , assume_a=\"her\")\n",
    "```\n",
    "\n",
    "> Remarks.\\\n",
    "> Only basic solvers exist; if you want to take advantage of decompositions, use cholesky or LU\n",
    "\n",
    "3. General\n",
    "\n",
    "```python\n",
    "\"\"\" Basic \"\"\"\n",
    "# Basic Solver\n",
    "linalg.solve(... , assume_a=\"gne\")\n",
    "```\n",
    "\n",
    "```python\n",
    "\"\"\" Decomp. First \"\"\"\n",
    "# Decomposition\n",
    "linalg.lu_factor(...)\n",
    "\n",
    "# Solve\n",
    "linalg.lu_solve(...)\n",
    "```\n",
    "\n",
    "* Band matrix $\\rightarrow$ low-level LAPACK functiosn: ```gbtrf```, ```gbtrs```\n",
    "\n",
    "```python\n",
    "\"\"\" Basic \"\"\"\n",
    "# Basic Solver\n",
    "linalg.solve_banded(...)\n",
    "```\n",
    "\n",
    "```python\n",
    "\"\"\" Decomp. First \"\"\"\n",
    "# Decomposition # LAPACK\n",
    "gbtrf(...)\n",
    "\n",
    "# Solve # LAPACK\n",
    "gbtrs(...)\n",
    "```"
   ]
  },
  {
   "cell_type": "markdown",
   "id": "2fcc4b1f-b9d0-4ee0-bae3-85f5b2ba9c07",
   "metadata": {},
   "source": [
    "Note that in cases such as Case 2. where you have to run multiple equations at different times, doing one decomposition and using decomposed matrices only for the equations is the right approach. In such cases, refrain from using basic .solve functions."
   ]
  }
 ],
 "metadata": {
  "kernelspec": {
   "display_name": "Python 3 (ipykernel)",
   "language": "python",
   "name": "python3"
  },
  "language_info": {
   "codemirror_mode": {
    "name": "ipython",
    "version": 3
   },
   "file_extension": ".py",
   "mimetype": "text/x-python",
   "name": "python",
   "nbconvert_exporter": "python",
   "pygments_lexer": "ipython3",
   "version": "3.11.11"
  }
 },
 "nbformat": 4,
 "nbformat_minor": 5
}
