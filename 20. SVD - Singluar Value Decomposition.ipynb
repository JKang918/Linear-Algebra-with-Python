{
 "cells": [
  {
   "cell_type": "code",
   "execution_count": 1,
   "id": "2a8a1a5d-2efb-458c-bb9d-3e485528a7d1",
   "metadata": {},
   "outputs": [],
   "source": [
    "import numpy as np\n",
    "from scipy import linalg"
   ]
  },
  {
   "cell_type": "markdown",
   "id": "e761906f-d313-4a11-a0f8-ea46458d961b",
   "metadata": {},
   "source": [
    "# 1. Quick Recap of Singular Value Decomposition"
   ]
  },
  {
   "cell_type": "markdown",
   "id": "5935eeba-005a-4580-8516-00ba0b8764f9",
   "metadata": {},
   "source": [
    "SVD in plain English:"
   ]
  },
  {
   "cell_type": "markdown",
   "id": "5786ee66-814a-4e9b-b39c-32435eda2240",
   "metadata": {},
   "source": [
    "For any given $A \\in \\mathbb{R}^{M \\times N}$,\n",
    "\n",
    "* Find an orthonormal basis $\\{\\mathbf{v}_1, \\: \\mathbf{v}_2, \\: \\cdots, \\: \\mathbf{v}_N \\}$ for $\\mathbb{R}^{N \\times N}$ that:\n",
    "* when transfromed by $A$, still remains being orthogonal basis, this time for $\\mathbb{R}^{M \\times M}$. The resultant orthogonal basis is $\\{\\sigma_1 \\mathbf{u}_1, \\: \\sigma_2 \\mathbf{u}_2, \\: \\cdots, \\: \\sigma_M \\mathbf{u}_M \\}$, which becomes $\\{\\mathbf{u}_1, \\: \\mathbf{u}_2, \\: \\cdots, \\: \\mathbf{u}_M \\}$ when normalized.\n",
    "\n",
    "(if M > N, $\\{\\sigma_1 \\mathbf{u}_1, \\: \\sigma_2 \\mathbf{u}_2, \\: \\cdots, \\: \\sigma_N \\mathbf{u}_N \\}$, which becomes $\\{\\mathbf{u}_1, \\: \\mathbf{u}_2, \\: \\cdots, \\: \\mathbf{u}_N \\}$ when normalized.)"
   ]
  },
  {
   "cell_type": "markdown",
   "id": "0fc3ed81-2db6-4995-ae24-99b462cb460b",
   "metadata": {},
   "source": [
    "Rewrite above in formula, we get,"
   ]
  },
  {
   "cell_type": "markdown",
   "id": "979868a0-7561-4475-9386-29eb6a729aa4",
   "metadata": {},
   "source": [
    "$$\n",
    "AV = U \\Sigma\n",
    "$$\n",
    "$$\n",
    "\\text{where } \\quad V =\n",
    "\\begin{bmatrix}\n",
    "| & | &        & | \\\\\n",
    "\\mathbf{v}_1 & \\mathbf{v}_2 & \\cdots & \\mathbf{v}_N \\\\\n",
    "| & | &        & |\n",
    "\\end{bmatrix}_{N \\times N}, \\quad\n",
    "U =\n",
    "\\begin{bmatrix}\n",
    "| & | &        & | \\\\\n",
    "\\mathbf{u}_1 & \\mathbf{u}_2 & \\cdots & \\mathbf{u}_M \\\\\n",
    "| & | &        & |\n",
    "\\end{bmatrix}_{M\\times M}, \\quad\n",
    "\\Sigma =\n",
    "\\begin{bmatrix}\n",
    "\\sigma_{1} & 0 & \\cdots & 0 \\\\\n",
    "0 & \\sigma_{2} & \\cdots & 0 \\\\\n",
    "\\vdots & \\vdots & \\ddots & \\vdots \\\\\n",
    "0 & 0 & \\cdots & \\sigma_{N} \\\\\n",
    "0 & 0 & \\cdots & 0 \\\\\n",
    "\\vdots & \\vdots & \\ddots & \\vdots \\\\\n",
    "0 & 0 & \\cdots & 0\n",
    "\\end{bmatrix}_{M\\times N}\\; (M > N) \\quad \\text{or } \\; \\\\\n",
    "\\begin{bmatrix}\n",
    "\\sigma_{1} & 0 & \\cdots & 0 & 0 & 0 \\\\\n",
    "0 & \\sigma_{2} & \\cdots & 0 & 0 & 0 \\\\\n",
    "\\vdots & \\vdots & \\ddots & \\vdots & \\vdots & \\vdots \\\\\n",
    "0 & 0 & \\cdots & \\sigma_{M} & 0 & 0\n",
    "\\end{bmatrix}_{M\\times N} \\; (M < N)\n",
    "$$"
   ]
  },
  {
   "cell_type": "markdown",
   "id": "dd712638-674d-4aef-a8fb-ba7cb00c98e2",
   "metadata": {},
   "source": [
    "By fundamental linear algebra theormes and through arithematic calculations, it is known that,"
   ]
  },
  {
   "cell_type": "markdown",
   "id": "74535411-4983-4d52-b074-a43cfffd9417",
   "metadata": {},
   "source": [
    "* $\\{\\mathbf{v}_1, \\: \\mathbf{v}_2, \\: \\cdots, \\: \\mathbf{v}_N \\}$ is a set of orthonormal eigenvectors of $A^\\top A$.\n",
    "* For all $i$, $\\sigma_i$ is a nonnegative square root of $\\lambda_i$, an eigenvalue of $A^\\top A$.\n",
    "* $\\lambda_1 \\geq \\lambda_2 \\geq  \\; \\cdots \\; \\geq \\lambda_r > \\lambda_{r+1} = \\; \\cdots \\; = 0 \\iff \\sigma_1 \\geq \\sigma_2 \\geq  \\; \\cdots \\; \\geq \\sigma_r > \\sigma_{r+1} = \\; \\cdots \\; = 0 \\iff \\mathrm{rank}(A) = r$\n",
    "* $|\\{ \\sigma_1 \\geq \\sigma_2,  \\; \\cdots \\;  \\}| = \\mathrm{min}(M, N)$"
   ]
  },
  {
   "cell_type": "markdown",
   "id": "9d23604d-57ba-4650-aaf0-f8919597a7a1",
   "metadata": {},
   "source": [
    "Since, $V$ is an orthogonal matrix, $V$ is invertible and $V^{-1} = V^\\top$ :"
   ]
  },
  {
   "cell_type": "markdown",
   "id": "a426a814-a049-4569-90ba-edcf7d8d507e",
   "metadata": {},
   "source": [
    "$$\n",
    "A = U \\Sigma V^\\top\n",
    "$$"
   ]
  },
  {
   "cell_type": "markdown",
   "id": "8fcf9162-377f-43e6-a0f6-37be4186adcb",
   "metadata": {},
   "source": [
    "$$\n",
    "U = \\begin{bmatrix} U_r & U_{M-r} \\end{bmatrix}, \n",
    "\\quad\n",
    "\\Sigma = \\left[\n",
    "\\begin{array}{c|c}\n",
    "D & 0 \\\\ \\hline\n",
    "0 & 0\n",
    "\\end{array}\n",
    "\\right],\n",
    "\\quad\n",
    "V^\\top = \\left[\n",
    "\\begin{array}{c}\n",
    "V_r^\\top \\\\ \\hline\n",
    "V_{N-r}^\\top\n",
    "\\end{array}\n",
    "\\right]\n",
    "$$"
   ]
  },
  {
   "cell_type": "markdown",
   "id": "4d6a58c9-4b8c-4219-9ddb-081ec2ea32f3",
   "metadata": {},
   "source": [
    "This is SVD, Singluar Value Decomposition."
   ]
  },
  {
   "cell_type": "markdown",
   "id": "16e01974-5611-4225-a57a-33cdeb1e77ad",
   "metadata": {},
   "source": [
    "Reference,\n",
    "\n",
    "1. Lay, D. C., McDonald, J., & Lay, S. R. (2016). Linear algebra and its applications (5th ed., Chapter 7.4). Pearson.\n",
    "2. Angelo's Math Notes. (2019, August 1). Singular Value Decomposition (SVD). 공돌이의 수학정리노트. Retrieved from https://angeloyeo.github.io/2019/08/01/SVD_en.html"
   ]
  },
  {
   "cell_type": "markdown",
   "id": "20423974-3b0d-44f8-9ed3-0c7bf8b015ac",
   "metadata": {},
   "source": [
    "# 2. SVD in Python Scipy (```linalg.svd```, ```linalg.diagsvd```)"
   ]
  },
  {
   "cell_type": "markdown",
   "id": "c397abcc-9363-40f2-8c7c-1035f4e390ba",
   "metadata": {},
   "source": [
    "$$\n",
    "A = U \\Sigma V^\\top \\quad A = U \\Sigma V^H \\; \\text{(complex case)}\n",
    "$$"
   ]
  },
  {
   "cell_type": "markdown",
   "id": "ff24ac53-a06d-4135-856f-01405460717c",
   "metadata": {},
   "source": [
    "```python\n",
    "\"\"\" SVD \"\"\"\n",
    "U, s, VT = linalg.svd(A, compute_uv=True) # default\n",
    "\n",
    "s= linalg.svd(A, compute_uv=False) # singluar values only\n",
    "```"
   ]
  },
  {
   "cell_type": "markdown",
   "id": "d4093847-0d17-40a0-b53e-cf13f9c94a4c",
   "metadata": {},
   "source": [
    "* ```U```: 2D array, m x m, corresponding to $U$\n",
    "* ```VT```: 2D array, n x n, corresponding to $V^\\top$\n",
    "* ```s```: 1D array in descending order, min(m, n), corresponding to diagonal entries of $\\Sigma$"
   ]
  },
  {
   "cell_type": "markdown",
   "id": "f222bcae-c4e1-4c61-957b-9e86ee7c25ff",
   "metadata": {},
   "source": [
    "```python\n",
    "\"\"\" Sigma \"\"\"\n",
    "U @ linalg.diagsvd(s, A.shape[0], A.shape[1]) @ VT\n",
    "```"
   ]
  },
  {
   "cell_type": "markdown",
   "id": "5dac487d-d9c6-4ac6-8620-3b2ff3f98795",
   "metadata": {},
   "source": [
    "Reconstruct $A$"
   ]
  },
  {
   "cell_type": "markdown",
   "id": "62bc4dfb-60cc-4517-a4ad-d61bf0bfb83c",
   "metadata": {},
   "source": [
    "* corresponding Lapack function: ```gesdd```"
   ]
  },
  {
   "cell_type": "markdown",
   "id": "36511a75-ad70-451c-96d0-f7e2221e2ee0",
   "metadata": {},
   "source": [
    "## 2.1 Reduced SVD"
   ]
  },
  {
   "cell_type": "markdown",
   "id": "8c1f7149-718f-4ed7-b547-875d9684c432",
   "metadata": {},
   "source": [
    "$$\n",
    "A = U \\Sigma V^\\top = \\begin{bmatrix} U_r & U_{M-r} \\end{bmatrix}\n",
    "\\left[\n",
    "\\begin{array}{c|c}\n",
    "D & 0 \\\\ \\hline\n",
    "0 & 0\n",
    "\\end{array}\n",
    "\\right]\\left[\n",
    "\\begin{array}{c}\n",
    "V_r^\\top \\\\ \\hline\n",
    "V_{N-r}^\\top\n",
    "\\end{array}\n",
    "\\right] = U_r D V_r^\\top\n",
    "$$"
   ]
  },
  {
   "cell_type": "markdown",
   "id": "813f9742-84c0-48b7-8976-5d8abd52ee05",
   "metadata": {},
   "source": [
    "In accordance with the reduced SVD, A can be reconstructed as follow:\n",
    "\n",
    "```python\n",
    "U[:, :r] @ np.diag(s[:r]) @ VT[:r, :]\n",
    "\n",
    "# or\n",
    "U[:, :r] * s[:r] @ VT[:r, :]\n",
    "```"
   ]
  },
  {
   "cell_type": "markdown",
   "id": "e2e60e25-f433-430e-9585-ff81b72750b7",
   "metadata": {},
   "source": [
    "Ways to get ```r```:"
   ]
  },
  {
   "cell_type": "markdown",
   "id": "f06ac7f3-cfcd-453b-b73a-e2f72178cfc9",
   "metadata": {},
   "source": [
    "```python\n",
    "# loop the singular values and check whether they are zeros.\n",
    "r = s.shape[0] - sum(np.allclose(lx, 0) for lx in s) # np.allclose, 1e-8 = 0\n",
    "\n",
    "# alternative\n",
    "r = s.shape[0] - sum(lx < 1.e-10 for lx in s)\n",
    "```"
   ]
  },
  {
   "cell_type": "markdown",
   "id": "eb98cdad-434e-4b8e-8af6-fc414e3c7aa2",
   "metadata": {},
   "source": [
    "## 2.2 Truncated SVD"
   ]
  },
  {
   "cell_type": "markdown",
   "id": "bc8a03c8-0353-41cc-bb48-fcbb214817e1",
   "metadata": {},
   "source": [
    "Reconstruct $A$ as much as possible with limited information."
   ]
  },
  {
   "cell_type": "markdown",
   "id": "f86177d1-d426-485d-b79d-77c82cb69410",
   "metadata": {},
   "source": [
    "$$\n",
    "A = U_r D V_r^\\top\n",
    "$$"
   ]
  },
  {
   "cell_type": "markdown",
   "id": "b726e146-e43a-4bac-89dc-0bb3d727f776",
   "metadata": {},
   "source": [
    "$$\n",
    "A^\\star = U_t D_t V_t^\\top\n",
    "$$"
   ]
  },
  {
   "cell_type": "markdown",
   "id": "ac62bc1f-a5a5-4f30-9613-f9ed48fdce02",
   "metadata": {},
   "source": [
    "$$\n",
    "D =\n",
    "\\begin{bmatrix}\n",
    "\\sigma_1 & & & &  &\\\\\n",
    "& & \\ddots & &  & \\\\\n",
    "& & & \\sigma_t & & \\\\\n",
    "& & & & \\ddots & \\\\\n",
    "& & & &  & \\sigma_r\\\\\n",
    "\\end{bmatrix}, \\quad\n",
    "D_t =\n",
    "\\begin{bmatrix}\n",
    "\\sigma_1 & &  \\\\\n",
    "& & \\ddots &   \\\\\n",
    "& & & \\sigma_t   \\\\\n",
    "\\end{bmatrix}\n",
    "$$"
   ]
  },
  {
   "cell_type": "markdown",
   "id": "3e8cf678-e5db-4b49-a21c-dae67bcd77e2",
   "metadata": {},
   "source": [
    "In accordance with the reduced SVD, $A^\\star$ can be reconstructed as follow:\n",
    "\n",
    "```python\n",
    "U[:t] @ np.diag(s[:t]) @ VT[:t, :]\n",
    "\n",
    "# or\n",
    "U[:t] * s[:t] @ VT[:t, :]\n",
    "```"
   ]
  },
  {
   "cell_type": "markdown",
   "id": "6aad7793-b0d7-4ca1-ad67-ad46b28f8592",
   "metadata": {},
   "source": [
    "Ways to get good ```t``` (take large singluar values, disregard small singular values:"
   ]
  },
  {
   "cell_type": "markdown",
   "id": "f91c2698-03d4-4925-8283-9dd1af04ef36",
   "metadata": {},
   "source": [
    "```python\n",
    "# s[0]: largest singluar value\n",
    "# threshold: s[0]/1000\n",
    "# t - count such singluar values\n",
    "t = sum(lx > 1.e-3 * s[0] for lx in s)\n",
    "```"
   ]
  },
  {
   "cell_type": "markdown",
   "id": "c19265b0-ed1c-4905-9b21-0feb58c2e0a2",
   "metadata": {},
   "source": [
    "### Excercises"
   ]
  },
  {
   "cell_type": "markdown",
   "id": "64c10a20-478c-4eae-8468-cc0a2966fd66",
   "metadata": {},
   "source": [
    "1. "
   ]
  },
  {
   "cell_type": "code",
   "execution_count": 2,
   "id": "9c5d19cb-8cf2-4908-a675-20d443d7a816",
   "metadata": {},
   "outputs": [
    {
     "name": "stdout",
     "output_type": "stream",
     "text": [
      "[[-0.33333333  0.66666667 -0.66666667]\n",
      " [ 0.66666667  0.66666667  0.33333333]\n",
      " [-0.66666667  0.33333333  0.66666667]]\n",
      "[4.24264069 0.        ]\n",
      "[[-0.70710678  0.70710678]\n",
      " [ 0.70710678  0.70710678]]\n",
      "[[ 1. -1.]\n",
      " [-2.  2.]\n",
      " [ 2. -2.]]\n",
      "[[ 1. -1.]\n",
      " [-2.  2.]\n",
      " [ 2. -2.]]\n"
     ]
    }
   ],
   "source": [
    "A = np.array([\n",
    "    [1, -1],\n",
    "    [-2, 2],\n",
    "    [2, -2],\n",
    "], dtype=np.float64)\n",
    "\n",
    "# SVD\n",
    "U, s, VT = linalg.svd(A, compute_uv=True)\n",
    "\n",
    "# A = U Sigma VT\n",
    "A_recon = U @ linalg.diagsvd(s, A.shape[0], A.shape[1]) @ VT\n",
    "\n",
    "# A = U_r Sigma_r VT_r\n",
    "r = s.shape[0] - sum(np.allclose(lx, 0) for lx in s) \n",
    "A_recon_2 = U[:, :r] * s[:r] @ VT[:r, :]\n",
    "\n",
    "print(U)\n",
    "print(s)\n",
    "print(VT)\n",
    "print(A_recon)\n",
    "print(A_recon_2)"
   ]
  },
  {
   "cell_type": "markdown",
   "id": "eedbcddd-815f-447b-8a43-97abf47b0f8c",
   "metadata": {},
   "source": [
    "2. "
   ]
  },
  {
   "cell_type": "code",
   "execution_count": 3,
   "id": "473e8ada-0454-44a3-92f5-8b03d60ff9f1",
   "metadata": {},
   "outputs": [
    {
     "name": "stdout",
     "output_type": "stream",
     "text": [
      "[[-0.9486833  -0.31622777]\n",
      " [-0.31622777  0.9486833 ]]\n",
      "[18.97366596  9.48683298]\n",
      "[[-0.33333333 -0.66666667 -0.66666667]\n",
      " [ 0.66666667  0.33333333 -0.66666667]\n",
      " [-0.66666667  0.66666667 -0.33333333]]\n",
      "[[ 4. 11. 14.]\n",
      " [ 8.  7. -2.]]\n",
      "[[ 4. 11. 14.]\n",
      " [ 8.  7. -2.]]\n"
     ]
    }
   ],
   "source": [
    "A = np.array([\n",
    "    [4, 11, 14],\n",
    "    [8, 7, -2],\n",
    "], dtype=np.float64)\n",
    "\n",
    "# SVD\n",
    "U, s, VT = linalg.svd(A, compute_uv=True)\n",
    "\n",
    "# A = U Sigma VT\n",
    "A_recon = U @ linalg.diagsvd(s, A.shape[0], A.shape[1]) @ VT\n",
    "\n",
    "# A = U_r Sigma_r VT_r\n",
    "r = s.shape[0] - sum(np.allclose(lx, 0) for lx in s) \n",
    "A_recon_2 = U[:, :r] * s[:r] @ VT[:r, :]\n",
    "\n",
    "print(U)\n",
    "print(s)\n",
    "print(VT)\n",
    "print(A_recon)\n",
    "print(A_recon_2)"
   ]
  },
  {
   "cell_type": "markdown",
   "id": "0edd6ca5-86fa-4a90-af91-ffd890a1f7ca",
   "metadata": {},
   "source": [
    "3."
   ]
  },
  {
   "cell_type": "code",
   "execution_count": 4,
   "id": "2aecad98-8bf8-402d-af32-698390df8765",
   "metadata": {},
   "outputs": [
    {
     "name": "stdout",
     "output_type": "stream",
     "text": [
      "True\n",
      "True\n",
      "We took t as t = 6 for approximation, while true size of A is (10, 10)\n",
      "true A minus appxed A, mean deviation per entry: 0.0004038711104458421\n"
     ]
    }
   ],
   "source": [
    "A = np.random.rand(10, 10)\n",
    "\n",
    "# SVD\n",
    "U, s, VT = linalg.svd(A, compute_uv=True)\n",
    "\n",
    "# A = U Sigma VT\n",
    "A_recon = U @ linalg.diagsvd(s, A.shape[0], A.shape[1]) @ VT\n",
    "\n",
    "# A = U_r Sigma_r VT_r\n",
    "r = s.shape[0] - sum(np.allclose(lx, 0) for lx in s) \n",
    "A_recon_2 = U[:, :r] * s[:r] @ VT[:r, :]\n",
    "\n",
    "\n",
    "# A = U_t Sigma_t VT_t\n",
    "t = sum(lx > 1.e-1 * s[0] for lx in s)\n",
    "A_appx = U[:, :t] * s[:t] @ VT[:t, :]\n",
    "\n",
    "#print(U)\n",
    "#print(s)\n",
    "#print(VT)\n",
    "#print(A_recon)\n",
    "#print(A_recon_2)\n",
    "print(np.allclose(A, A_recon))\n",
    "print(np.allclose(A, A_recon_2))\n",
    "print(f'We took t as t = {t} for approximation, while true size of A is {A.shape}')\n",
    "print(f'true A minus appxed A, mean deviation per entry: {np.mean(A-A_appx)}')"
   ]
  },
  {
   "cell_type": "markdown",
   "id": "8d09a2c9-42fd-4990-9b48-d1eced261937",
   "metadata": {},
   "source": [
    "# 3. SVD and Fundamental Subspaces (```linalg.orth```, ```linalg.null_space```)"
   ]
  },
  {
   "cell_type": "markdown",
   "id": "a8e1220d-dce1-4ea8-bf79-2bae9e913bf8",
   "metadata": {},
   "source": [
    "![Fundamental Subspaces](./SVD_subspaces.jpg)"
   ]
  },
  {
   "cell_type": "markdown",
   "id": "ac7f4522-3557-4f46-8e3f-376b37d6e2a1",
   "metadata": {},
   "source": [
    "(Source: Lay, D. C., McDonald, J., & Lay, S. R. (2016). Linear algebra and its applications (5th ed., p. 423, Fig. 4). Pearson.)"
   ]
  },
  {
   "cell_type": "markdown",
   "id": "f515e202-ff44-47f1-be66-01bf3ca9d89a",
   "metadata": {},
   "source": [
    "If you understood the fundamentals of SVD explained in Section #1., you could easily understand this figure as well."
   ]
  },
  {
   "cell_type": "markdown",
   "id": "3d6f9b9d-a7fa-4122-b100-eb718c1c3aa2",
   "metadata": {},
   "source": [
    "You can use the results of SVD to compute the column and null spaces of $A$."
   ]
  },
  {
   "cell_type": "markdown",
   "id": "725dadca-e9ba-40cd-9205-1b7b9aaf27f1",
   "metadata": {},
   "source": [
    "Thankfully, however, ```scipy``` provides separate functions to compute the column and null spaces of $A$:"
   ]
  },
  {
   "cell_type": "markdown",
   "id": "d5e33026-ebaa-4790-be0b-6d9d85142982",
   "metadata": {},
   "source": [
    "```python\n",
    "\n",
    "\"\"\" returns matrix consisting of basis vectors for column space as columns \"\"\"\n",
    "ColA = linalg.orth(A, rcond=None) # default\n",
    "\n",
    "\"\"\" returns matrix consisting of basis vectors for null space as columns \"\"\"\n",
    "NulA = linalg.null_space(A, rcond=None) # default\n",
    "```"
   ]
  },
  {
   "cell_type": "markdown",
   "id": "fef87a92-2ab7-4a4e-a58e-f38525b65f3a",
   "metadata": {},
   "source": [
    "Example."
   ]
  },
  {
   "cell_type": "markdown",
   "id": "ed519dbc-90cb-4ffd-add2-e4c415020d60",
   "metadata": {},
   "source": [
    "$$\n",
    "A =\n",
    "\\begin{bmatrix}\n",
    "1 & -1 \\\\\n",
    "-2 & 2 \\\\\n",
    "2 & -2\n",
    "\\end{bmatrix}, \\quad\n",
    "U = \n",
    "\\begin{bmatrix}\n",
    "-0.3333 & -0.6667 & -0.6667 \\\\\n",
    " 0.6667 & 0.6667 & 0.3333 \\\\\n",
    " -0.6667 & 0.3333 & 0.6667\n",
    "\\end{bmatrix}, \\quad\n",
    "\\Sigma = \n",
    "\\begin{bmatrix}\n",
    "4.2426 & 0 \\\\\n",
    " 0 & 0  \\\\\n",
    " 0 & 0\n",
    "\\end{bmatrix}, \\quad\n",
    "V^\\top = \n",
    "\\begin{bmatrix}\n",
    "-0.7071 & 0.7071 \\\\\n",
    " 0.7071 & 0.7071  \\\\\n",
    "\\end{bmatrix}\n",
    "$$"
   ]
  },
  {
   "cell_type": "markdown",
   "id": "e2564cb9-c3cd-4cfc-a36a-a26e7047991f",
   "metadata": {},
   "source": [
    "Before typing codes, let's think. For $\\mathbf{v}_i$'s, $\\mathbf{v}_2$ should be in $\\mathrm{Nul}(A)$ whereas $\\mathbf{v}_2 \\in \\mathrm{Row}(A)$ "
   ]
  },
  {
   "cell_type": "markdown",
   "id": "594e32a7-874a-462c-b903-bfbbf3b3f06d",
   "metadata": {},
   "source": [
    "On the other hand, for $\\mathbf{u}_i$'s, only $\\mathbf{v}_1$ should be in $\\mathrm{Col}(A)$."
   ]
  },
  {
   "cell_type": "code",
   "execution_count": 5,
   "id": "0f3f2545-552d-4b71-be00-74e6996252ee",
   "metadata": {},
   "outputs": [],
   "source": [
    "A = np.array([\n",
    "    [1, -1],\n",
    "    [-2, 2],\n",
    "    [2, -2],\n",
    "], dtype=np.float64)\n",
    "\n",
    "# SVD\n",
    "U, s, VT = linalg.svd(A, compute_uv=True)\n",
    "\n",
    "# ColA\n",
    "ColA = linalg.orth(A, rcond=None)\n",
    "\n",
    "# NulA\n",
    "NulA = linalg.null_space(A, rcond=None)"
   ]
  },
  {
   "cell_type": "code",
   "execution_count": 6,
   "id": "e7cb7296-708c-4ada-80a9-32719e86673e",
   "metadata": {},
   "outputs": [
    {
     "data": {
      "text/plain": [
       "array([[-0.33333333],\n",
       "       [ 0.66666667],\n",
       "       [-0.66666667]])"
      ]
     },
     "execution_count": 6,
     "metadata": {},
     "output_type": "execute_result"
    }
   ],
   "source": [
    "ColA # form is in matrix, not vector"
   ]
  },
  {
   "cell_type": "code",
   "execution_count": 7,
   "id": "ddf74377-fd35-4455-9e99-220df9d16088",
   "metadata": {},
   "outputs": [
    {
     "data": {
      "text/plain": [
       "array([[0.70710678],\n",
       "       [0.70710678]])"
      ]
     },
     "execution_count": 7,
     "metadata": {},
     "output_type": "execute_result"
    }
   ],
   "source": [
    "NulA # form is in matrix, not vector"
   ]
  },
  {
   "cell_type": "markdown",
   "id": "f158b2e4-26d0-4f43-a58d-2607453c243e",
   "metadata": {},
   "source": [
    "The result corresponds to our analysis."
   ]
  }
 ],
 "metadata": {
  "kernelspec": {
   "display_name": "Python 3 (ipykernel)",
   "language": "python",
   "name": "python3"
  },
  "language_info": {
   "codemirror_mode": {
    "name": "ipython",
    "version": 3
   },
   "file_extension": ".py",
   "mimetype": "text/x-python",
   "name": "python",
   "nbconvert_exporter": "python",
   "pygments_lexer": "ipython3",
   "version": "3.11.11"
  }
 },
 "nbformat": 4,
 "nbformat_minor": 5
}
