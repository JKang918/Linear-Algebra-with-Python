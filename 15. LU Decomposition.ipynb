{
 "cells": [
  {
   "cell_type": "code",
   "execution_count": 1,
   "id": "1539228b-2e88-4252-be7b-630ac9ba348a",
   "metadata": {},
   "outputs": [],
   "source": [
    "import numpy as np\n",
    "from scipy import linalg"
   ]
  },
  {
   "cell_type": "markdown",
   "id": "0ba47012-1de6-4a15-918b-8a0621d79b44",
   "metadata": {},
   "source": [
    "# 1. LU Decomposition (```linalg.lu```)"
   ]
  },
  {
   "cell_type": "markdown",
   "id": "a33e77ab-6b30-46bc-8177-226707803108",
   "metadata": {},
   "source": [
    "$$\n",
    "A = LU, \\quad A = PLU\n",
    "$$\n",
    "\n",
    "$P$ is the permutation matrix to interchange rows for LU decomposition.\n"
   ]
  },
  {
   "cell_type": "markdown",
   "id": "847f964d-f879-45e0-bcd9-ed900aa6f8fb",
   "metadata": {},
   "source": [
    "```python\n",
    "P, L, U = linalg.lu(A)\n",
    "```\n",
    "* ```P``` - Permutation Matrix\n",
    "* ```L``` - Lower Triangular Matrix\n",
    "* ```U``` - Upper Triangular Matrix"
   ]
  },
  {
   "cell_type": "markdown",
   "id": "37480615-aa59-4c02-80a2-6190c9f6ce06",
   "metadata": {},
   "source": [
    "Example:"
   ]
  },
  {
   "cell_type": "markdown",
   "id": "99026a26-b24e-478a-b86d-9b8585947b2d",
   "metadata": {},
   "source": [
    "$$\n",
    "A = \n",
    "\\begin{bmatrix}\n",
    "2 & 4 & -1 & 5 & -2 \\\\\n",
    "-4 & -5 & 3 & -8 & 1 \\\\\n",
    "2 & -5 & -4 & 1 & 8 \\\\\n",
    "-6 & 0 & 7 & -3 & 1\\\\\n",
    "\\end{bmatrix}, \\;\n",
    "LU = \n",
    "\\begin{bmatrix}\n",
    "-6 & 0 & 7 & -3 & 1\\\\\n",
    "-4 & -5 & 3 & -8 & 1 \\\\\n",
    "2 & -5 & -4 & 1 & 8 \\\\\n",
    "2 & 4 & -1 & 5 & -2 \\\\\n",
    "\\end{bmatrix}, \\;\n",
    "P = \n",
    "\\begin{bmatrix}\n",
    "0 & 0 & 0 & 1\\\\\n",
    "0 & 1 & 0 & 0\\\\\n",
    "0 & 0 & 1 & 0\\\\\n",
    "1 & 0 & 0 & 0\\\\\n",
    "\\end{bmatrix}\n",
    "$$"
   ]
  },
  {
   "cell_type": "code",
   "execution_count": 2,
   "id": "01ae77ce-8f62-4578-b2cd-4574242366a0",
   "metadata": {},
   "outputs": [],
   "source": [
    "A = np.array([\n",
    "    [2, 4, -1, 5, -2],\n",
    "    [-4, -5, 3, -8, 1],\n",
    "    [2, -5, -4, 1, 8],\n",
    "    [-6, 0, 7, -3, 1]\n",
    "])"
   ]
  },
  {
   "cell_type": "code",
   "execution_count": 3,
   "id": "f9251bfb-3aae-4773-bdf8-9b4287f61e88",
   "metadata": {},
   "outputs": [],
   "source": [
    "P, L, U = linalg.lu(A)"
   ]
  },
  {
   "cell_type": "code",
   "execution_count": 4,
   "id": "aea60051-cd71-4048-a0c1-eebf4266a788",
   "metadata": {},
   "outputs": [
    {
     "name": "stdout",
     "output_type": "stream",
     "text": [
      "P = [[0. 0. 0. 1.]\n",
      " [0. 1. 0. 0.]\n",
      " [0. 0. 1. 0.]\n",
      " [1. 0. 0. 0.]]\n"
     ]
    }
   ],
   "source": [
    "print(f'P = {P}')"
   ]
  },
  {
   "cell_type": "code",
   "execution_count": 5,
   "id": "d41623d2-c906-4e7f-b762-536921280f7f",
   "metadata": {},
   "outputs": [
    {
     "name": "stdout",
     "output_type": "stream",
     "text": [
      "LU = [[-6.  0.  7. -3.  1.]\n",
      " [-4. -5.  3. -8.  1.]\n",
      " [ 2. -5. -4.  1.  8.]\n",
      " [ 2.  4. -1.  5. -2.]]\n"
     ]
    }
   ],
   "source": [
    "print(f'LU = {L@U}')"
   ]
  },
  {
   "cell_type": "code",
   "execution_count": 6,
   "id": "f5176aa9-64ff-4011-a7b5-09616f1921d1",
   "metadata": {},
   "outputs": [
    {
     "name": "stdout",
     "output_type": "stream",
     "text": [
      "A == [[ 2.  4. -1.  5. -2.]\n",
      " [-4. -5.  3. -8.  1.]\n",
      " [ 2. -5. -4.  1.  8.]\n",
      " [-6.  0.  7. -3.  1.]]\n"
     ]
    }
   ],
   "source": [
    "print(f'A == {P@L@U}')"
   ]
  },
  {
   "cell_type": "markdown",
   "id": "6a1f2c02-7eb8-4772-9c5b-910a69b767a7",
   "metadata": {},
   "source": [
    "# 2. LU Decomposition for Solver (```linalg.lu_factor```)"
   ]
  },
  {
   "cell_type": "markdown",
   "id": "9454f946-5261-4215-a73f-ab87e1fe3101",
   "metadata": {},
   "source": [
    "```python\n",
    "lu, piv = linalg.lu_factor(A)\n",
    "```\n",
    "* ```lu``` - L and U are stored as one matrix\n",
    "* ```piv``` - 1D array storing information on row interchange (```piv[i]```: ith row is interchanged with the piv[i]'th row)\n",
    "\n"
   ]
  },
  {
   "cell_type": "markdown",
   "id": "aa4a22c4-8c6e-402d-ba2c-b9892a8723b4",
   "metadata": {},
   "source": [
    "Example:"
   ]
  },
  {
   "cell_type": "markdown",
   "id": "329088bf-d5ef-403e-95ee-35dd450a6fc4",
   "metadata": {},
   "source": [
    "$$\n",
    "A = \n",
    "\\begin{bmatrix}\n",
    "7 & 5 & 6 & 6\\\\\n",
    "1 & 2 & 2 & 8\\\\\n",
    "5 & 4 & 4 & 8\\\\\n",
    "9 & 5 & 8 & 7\\\\\n",
    "\\end{bmatrix}, \\quad\n",
    "L = \n",
    "\\begin{bmatrix}\n",
    "1 & 0 & 0 & 0\\\\\n",
    "0.111 & 1 & 0 & 0\\\\\n",
    "0.556 & 0.846 & 1 & 0\\\\\n",
    "0.778 & 0.769 & 0.778 &1 \\\\\n",
    "\\end{bmatrix}, \\quad\n",
    "U = \n",
    "\\begin{bmatrix}\n",
    "9 & 5 & 8 & 7\\\\\n",
    "0 & 1.444 & 1.111 & 7.222\\\\\n",
    "0 & 0 & -1.385 & -2\\\\\n",
    "0 & 0 & 0 & -3.444\\\\\n",
    "\\end{bmatrix}, \\quad\n",
    "LU = \n",
    "\\begin{bmatrix}\n",
    "9 & 5 & 8 & 7\\\\\n",
    "1 & 2 & 2 & 8\\\\\n",
    "5 & 4 & 4 & 8\\\\\n",
    "7 & 5 & 6 & 6\\\\\n",
    "\\end{bmatrix}, \\quad\n",
    "P = \n",
    "\\begin{bmatrix}\n",
    "0 & 0 & 0 & 1\\\\\n",
    "0 & 1 & 0 & 0\\\\\n",
    "0 & 0 & 1 & 0\\\\\n",
    "1 & 0 & 0 & 0\\\\\n",
    "\\end{bmatrix}\n",
    "$$"
   ]
  },
  {
   "cell_type": "markdown",
   "id": "688150ec-223e-4c34-ada2-7e9cae9a9a4a",
   "metadata": {},
   "source": [
    "```lu``` - $L$ and $U$ are stored altogether\n",
    "\n",
    "$$\n",
    "\\begin{bmatrix}\n",
    "9 & 5 & 8 & 7\\\\\n",
    "0.111 & 1.444 & 1.111 & 7.222\\\\\n",
    "0.556 & 0.846& -1.385 & -2\\\\\n",
    "0.778 & 0.769 & 0.778 & -3.444\\\\\n",
    "\\end{bmatrix}\n",
    "$$"
   ]
  },
  {
   "cell_type": "markdown",
   "id": "4e2e5ccc-55c2-4329-b37b-efecadcd7630",
   "metadata": {},
   "source": [
    "* ```L = np.tril(lu, k =-1) + np.eye(lu.shape[0], lu.shape[1])``` - Reconstructing $L$ from ```lu```\\\n",
    "* ```U = np.triu(lu, k =0)``` - Reconstructing $U$ from ```lu```"
   ]
  },
  {
   "cell_type": "markdown",
   "id": "fd883f09-ec02-42ad-9c80-455b1717d893",
   "metadata": {},
   "source": [
    "```piv``` - information on row interchange\n",
    "\n",
    "$$\n",
    "\\begin{bmatrix}\n",
    "3, & 1, & 2, & 3\\\\\n",
    "\\end{bmatrix}\n",
    "$$\n",
    "\n",
    "(Applied sequentially)\n",
    "\n",
    "* ```piv[0] = 3``` row 0 <-> row 3\n",
    "* ```piv[1] = 1``` row 1 <-> row 1 (no change)\n",
    "* ```piv[2] = 2``` row 2 <-> row 2 (no change)\n",
    "* ```piv[3] = 3``` row 3' <-> row 3 (current row 3'  was previously row 0)\n",
    "\n",
    "Note that ```piv``` represents permutation, $\\begin{bmatrix}\n",
    "3, & 1, & 2, & 0\\\\\n",
    "\\end{bmatrix}$"
   ]
  },
  {
   "cell_type": "code",
   "execution_count": 7,
   "id": "4cb037ae-cc89-4df7-bb85-f613d9960246",
   "metadata": {},
   "outputs": [],
   "source": [
    "A = np.array([\n",
    "    [7, 5, 6, 6],\n",
    "    [1, 2, 2, 8],\n",
    "    [5, 4, 4, 8],\n",
    "    [9, 5, 8, 7]\n",
    "], dtype=np.float64)"
   ]
  },
  {
   "cell_type": "code",
   "execution_count": 8,
   "id": "65c0fef4-c255-423f-97f4-6f9ec82ce740",
   "metadata": {},
   "outputs": [],
   "source": [
    "lu, piv = linalg.lu_factor(A)"
   ]
  },
  {
   "cell_type": "code",
   "execution_count": 9,
   "id": "e1f739a1-e63c-4375-9585-e8aa800a7299",
   "metadata": {},
   "outputs": [
    {
     "name": "stdout",
     "output_type": "stream",
     "text": [
      "[[ 9.          5.          8.          7.        ]\n",
      " [ 0.11111111  1.44444444  1.11111111  7.22222222]\n",
      " [ 0.55555556  0.84615385 -1.38461538 -2.        ]\n",
      " [ 0.77777778  0.76923077  0.77777778 -3.44444444]]\n"
     ]
    }
   ],
   "source": [
    "# Check the values\n",
    "print(lu)"
   ]
  },
  {
   "cell_type": "code",
   "execution_count": 10,
   "id": "403b41a8-98d5-4457-aa02-9d7584fded1b",
   "metadata": {},
   "outputs": [
    {
     "name": "stdout",
     "output_type": "stream",
     "text": [
      "[3 1 2 3]\n"
     ]
    }
   ],
   "source": [
    "# Check the values\n",
    "print(piv)"
   ]
  },
  {
   "cell_type": "code",
   "execution_count": 11,
   "id": "60391514-50b6-459d-87d0-2ec701cac06f",
   "metadata": {},
   "outputs": [
    {
     "data": {
      "text/plain": [
       "array([[1.        , 0.        , 0.        , 0.        ],\n",
       "       [0.11111111, 1.        , 0.        , 0.        ],\n",
       "       [0.55555556, 0.84615385, 1.        , 0.        ],\n",
       "       [0.77777778, 0.76923077, 0.77777778, 1.        ]])"
      ]
     },
     "execution_count": 11,
     "metadata": {},
     "output_type": "execute_result"
    }
   ],
   "source": [
    "# Reconstruct L from lu\n",
    "L = np.tril(lu, k=-1) + np.identity(4)\n",
    "L"
   ]
  },
  {
   "cell_type": "code",
   "execution_count": 12,
   "id": "b489fef6-52bd-4c2c-8851-d09e28fbee0d",
   "metadata": {},
   "outputs": [
    {
     "data": {
      "text/plain": [
       "array([[ 9.        ,  5.        ,  8.        ,  7.        ],\n",
       "       [ 0.        ,  1.44444444,  1.11111111,  7.22222222],\n",
       "       [ 0.        ,  0.        , -1.38461538, -2.        ],\n",
       "       [ 0.        ,  0.        ,  0.        , -3.44444444]])"
      ]
     },
     "execution_count": 12,
     "metadata": {},
     "output_type": "execute_result"
    }
   ],
   "source": [
    "# Reconstruct U from lu\n",
    "U = np.triu(lu, k=0)\n",
    "U"
   ]
  },
  {
   "cell_type": "code",
   "execution_count": 13,
   "id": "ae3ba089-cbdb-412e-b4cd-8bf33949ad79",
   "metadata": {},
   "outputs": [
    {
     "name": "stdout",
     "output_type": "stream",
     "text": [
      "[[9. 5. 8. 7.]\n",
      " [1. 2. 2. 8.]\n",
      " [5. 4. 4. 8.]\n",
      " [7. 5. 6. 6.]]\n"
     ]
    }
   ],
   "source": [
    "# The rows are interchanged, right?\n",
    "print(L@U)"
   ]
  },
  {
   "cell_type": "code",
   "execution_count": 14,
   "id": "df4709ea-0f63-479a-b8f9-8dca9b8f5ce1",
   "metadata": {},
   "outputs": [
    {
     "name": "stdout",
     "output_type": "stream",
     "text": [
      "[3 1 2 0]\n"
     ]
    }
   ],
   "source": [
    "\"\"\" premutation from piv \"\"\"\n",
    "\"\"\" Reference: https://docs.scipy.org/doc/scipy/reference/generated/scipy.linalg.lu_factor.html \"\"\" \n",
    "def pivot_to_permutation(piv):\n",
    "    perm = np.arange(len(piv))\n",
    "    for i in range(len(piv)):\n",
    "        perm[i], perm[piv[i]] = perm[piv[i]], perm[i]\n",
    "    return perm\n",
    "perm = pivot_to_permutation(piv)\n",
    "print(perm)"
   ]
  },
  {
   "cell_type": "code",
   "execution_count": 15,
   "id": "fce11a31-2f6b-42b5-90fa-329e7f343446",
   "metadata": {},
   "outputs": [
    {
     "data": {
      "text/plain": [
       "array([[0., 0., 0., 1.],\n",
       "       [0., 1., 0., 0.],\n",
       "       [0., 0., 1., 0.],\n",
       "       [1., 0., 0., 0.]])"
      ]
     },
     "execution_count": 15,
     "metadata": {},
     "output_type": "execute_result"
    }
   ],
   "source": [
    "# Reconstructing P\n",
    "P = np.identity(4)[perm, :]\n",
    "P"
   ]
  },
  {
   "cell_type": "code",
   "execution_count": 16,
   "id": "6d066587-03ef-496f-b61b-8061a59bf351",
   "metadata": {},
   "outputs": [
    {
     "data": {
      "text/plain": [
       "array([[7., 5., 6., 6.],\n",
       "       [1., 2., 2., 8.],\n",
       "       [5., 4., 4., 8.],\n",
       "       [9., 5., 8., 7.]])"
      ]
     },
     "execution_count": 16,
     "metadata": {},
     "output_type": "execute_result"
    }
   ],
   "source": [
    "# Reconstructing A\n",
    "A_re = (L@U)[perm, :] # or P@L@U\n",
    "A_re"
   ]
  },
  {
   "cell_type": "code",
   "execution_count": 17,
   "id": "e70e241b-4adf-4582-ac2d-b30433f4db4f",
   "metadata": {},
   "outputs": [
    {
     "name": "stdout",
     "output_type": "stream",
     "text": [
      "True\n"
     ]
    }
   ],
   "source": [
    "# Sanity check\n",
    "print(np.allclose(A, A_re))"
   ]
  },
  {
   "cell_type": "markdown",
   "id": "364742b9-5751-41f8-913a-dd798df03d54",
   "metadata": {},
   "source": [
    "# 3. LU Decomposition Solver (```linalg.lu_solve```)"
   ]
  },
  {
   "cell_type": "markdown",
   "id": "f834d504-890b-4e16-ad8b-537361480f0c",
   "metadata": {},
   "source": [
    "We are going to use the results from ```linalg.lu_factor``` to solve a matrix equation, $AX = \\mathbf{b}$."
   ]
  },
  {
   "cell_type": "markdown",
   "id": "e4e23e3d-5806-49b2-9cbe-ff710a0a8e72",
   "metadata": {},
   "source": [
    "```python\n",
    "x = linalg.lu_solve((lu, piv), b) #lu, piv from linalg.lu_factor(A)\n",
    "```\n",
    "\n",
    "* corresponding Lapack function\n",
    "  1. gettrf (linalg.lu_factor)\n",
    "  2. gettrs (linalg.lu_solve)"
   ]
  },
  {
   "cell_type": "markdown",
   "id": "68dc8e70-b958-4d7f-9c40-bd3b03243060",
   "metadata": {},
   "source": [
    "Example:"
   ]
  },
  {
   "cell_type": "markdown",
   "id": "baef5820-2ac2-45f2-8299-a024f4c254a5",
   "metadata": {},
   "source": [
    "$$\n",
    "A\\mathbf{x} = \\mathbf{b}\n",
    "$$"
   ]
  },
  {
   "cell_type": "markdown",
   "id": "0ce831c0-9d2b-405e-9fcf-fe6565755b99",
   "metadata": {},
   "source": [
    "$$\n",
    "A = \n",
    "\\begin{bmatrix}\n",
    "7 & 5 & 6 & 6\\\\\n",
    "1 & 2 & 2 & 8\\\\\n",
    "5 & 4 & 4 & 8\\\\\n",
    "9 & 5 & 8 & 7\\\\\n",
    "\\end{bmatrix}, \\quad\n",
    "\\mathbf{b} =\n",
    "\\begin{bmatrix}\n",
    "1 \\\\\n",
    "1 \\\\\n",
    "1 \\\\\n",
    "1 \\\\\n",
    "\\end{bmatrix}\n",
    "$$"
   ]
  },
  {
   "cell_type": "code",
   "execution_count": 18,
   "id": "a722b89f-4a7d-47ae-bd7d-280ec798cc94",
   "metadata": {},
   "outputs": [
    {
     "name": "stdout",
     "output_type": "stream",
     "text": [
      "[-0.16129032  0.19354839  0.12903226  0.06451613]\n"
     ]
    }
   ],
   "source": [
    "A = np.array([\n",
    "    [7, 5, 6, 6],\n",
    "    [1, 2, 2, 8],\n",
    "    [5, 4, 4, 8],\n",
    "    [9, 5, 8, 7]\n",
    "], dtype=np.float64)\n",
    "\n",
    "b = np.ones((4, ))\n",
    "\n",
    "lu, piv = linalg.lu_factor(A)\n",
    "\n",
    "# solution\n",
    "x = linalg.lu_solve((lu, piv), b)\n",
    "\n",
    "print(x)"
   ]
  },
  {
   "cell_type": "code",
   "execution_count": 19,
   "id": "d90d6702-dc33-4297-bb26-fb73a1fbbe8e",
   "metadata": {},
   "outputs": [
    {
     "data": {
      "text/plain": [
       "True"
      ]
     },
     "execution_count": 19,
     "metadata": {},
     "output_type": "execute_result"
    }
   ],
   "source": [
    "# Sanity check\n",
    "np.allclose(A@x, b) "
   ]
  },
  {
   "cell_type": "markdown",
   "id": "eed75661-a75a-4162-88b3-495abbedef75",
   "metadata": {},
   "source": [
    "### Performance comparison"
   ]
  },
  {
   "cell_type": "markdown",
   "id": "f6132077-1a39-4b76-9dff-61cfd05f6630",
   "metadata": {},
   "source": [
    "Performance improvement is pronounced for iterative computations for large matrices."
   ]
  },
  {
   "cell_type": "markdown",
   "id": "7f0a2324-79bc-4f05-b0cc-c9399b36aa12",
   "metadata": {},
   "source": [
    "```lu, piv = linalg.lu_factor(A)``` - $n^3$ $- (1)$, \n",
    "```x = linalg.lu_solve((lu, piv), b)``` - $n^2$ $-(2)$\n",
    "\n",
    "* Decomposition one time (1)\n",
    "* For different $\\mathbf{b}$'s run (2), which is $n^2$\n",
    "\n",
    "```x = linalg.solve(A, b)``` - $n^3$ $-(3)$\n",
    "\n",
    "* For different $\\mathbf{b}$'s run (3), which is $n^3$"
   ]
  },
  {
   "cell_type": "markdown",
   "id": "d7cb6218-bec1-4d3c-9c26-f1160a0ce5c6",
   "metadata": {},
   "source": [
    "Example:\n",
    "\n",
    "$$\n",
    "A =\n",
    "\\begin{bmatrix}\n",
    "5 & 1 &        &        &        \\\\\n",
    "1 & 5 & 1     &        &        \\\\\n",
    "   & 1 & 5     & \\ddots &        \\\\\n",
    "   &    & \\ddots & \\ddots & 1     \\\\\n",
    "   &    &        & 1     & 5\n",
    "\\end{bmatrix}_{1000 \\times 1000}\n",
    "$$\n",
    ", calculate 10,000 times"
   ]
  },
  {
   "cell_type": "markdown",
   "id": "fc6692ef-ad66-44f7-9eea-423341fa68c1",
   "metadata": {},
   "source": [
    "```lu, piv = linalg.lu_factor(A)``` - $n^3$ $- (1)$\n",
    "```x = linalg.lu_solve((lu, piv), b)``` - $n^2$ $-(2)$\n",
    "$\\rightarrow$ about 1.8 seconds\n",
    "\n",
    "```x = linalg.solve(A, b)``` - $n^3$ $-(3)$\n",
    "$\\rightarrow$ about 125 seconds\n",
    "\n",
    "Use band matrix functions $\\rightarrow$ about 0.24 seconds (More advnaced method.. later will be covered.)"
   ]
  },
  {
   "cell_type": "markdown",
   "id": "68a2d750-05e0-4143-9090-a19ca278db61",
   "metadata": {},
   "source": [
    "*We are going to test this at the end.*"
   ]
  },
  {
   "cell_type": "markdown",
   "id": "7dced82d-f947-4840-b2d9-7febf98abd1f",
   "metadata": {},
   "source": [
    "# 4. Diagonal Pivoting Method (Bunch-Kaufman method)"
   ]
  },
  {
   "cell_type": "markdown",
   "id": "9731a87a-69b0-4dd2-9ffc-486095a54f07",
   "metadata": {},
   "source": [
    "$$\n",
    "PAP^\\top = LDL^\\top, \\quad PAP^\\top = UDU^\\top \\; \\text{(4)}\n",
    "$$\n",
    "\n",
    "$$\n",
    "A = \\tilde{L}D\\tilde{L}^\\top, \\quad A = \\tilde{U}D\\tilde{U}^\\top \\; \\text{(4)'}\n",
    "$$\n",
    "\n",
    "where $A$: symmetric and/or complex symmetric\n",
    "\n",
    "\n",
    "$$\n",
    "PAP^\\top = LDL^H, \\quad PAP^\\top = UDU^H \\; \\text{(5)}\n",
    "$$\n",
    "\n",
    "$$\n",
    "A = \\tilde{L}D\\tilde{L}^H, \\quad A = \\tilde{U}D\\tilde{U}^H \\; \\text{(5)}\n",
    "$$\n",
    "\n",
    "where $A$: Hermitian, ($^H$: transpose conjugate)\n",
    "\n",
    "also,\n",
    "\n",
    "$D$: block diagonal matrix with the max size of block $2 \\times 2$, symmetric and/or Hermitian \\\n",
    "$P$: permutation matrix \\\n",
    "$L,\\: (U)$: lower (or upper) triangular matrix (diagonal = 1)\\\n",
    "$\\tilde{L},\\: (\\tilde{U})$: permuatated lower (or upper) triangular matrix (diagonal = 1) "
   ]
  },
  {
   "cell_type": "markdown",
   "id": "011f461c-7a44-41aa-b452-e2ae1e381d63",
   "metadata": {},
   "source": [
    "```python\n",
    "L, D, perm = linalg.ldl(A, lower=True, hermitian=True)   # L~DL~^H\n",
    "L, D, perm = linalg.ldl(A, lower=True, hermitian=False)  # L~DL~^T\n",
    "U, D, perm = linalg.ldl(A, lower=False, hermitian=True)  # U~DU~^H\n",
    "U, D, perm = linalg.ldl(A, lower=False, hermitian=False) # U~DU~^T\n",
    "```"
   ]
  },
  {
   "cell_type": "markdown",
   "id": "8ca93cef-5325-45dc-8c84-79907377d9cb",
   "metadata": {},
   "source": [
    "```A = L @ D @ L.T``` - wrong"
   ]
  },
  {
   "cell_type": "markdown",
   "id": "68e90061-d193-4527-8c1b-5a68638998cb",
   "metadata": {},
   "source": [
    "``````A[perm,:][:,perm] = L[perm,:] @ D @ L[:, perm]`````` - correct (Note. $(4)$)"
   ]
  },
  {
   "cell_type": "markdown",
   "id": "ff14cec4-8644-4732-9236-a310947e350b",
   "metadata": {},
   "source": [
    "**Downside:**\n",
    "\n",
    "In previous sections, for LU decomposition along with ```linalg.lu```, ```linalg.lu_factor``` and ```linalg.lu_solve``` were provided for solving matrix equations. However, for ```linalg.ldl```, no such solver functions are offered in scipy yet. So, for the time being we have to stick to  ```linalg.lu_factor``` and ```linalg.lu_solve```."
   ]
  },
  {
   "cell_type": "markdown",
   "id": "7703923f-a8ae-484d-bf0a-6a87346d15a7",
   "metadata": {},
   "source": [
    "Example:"
   ]
  },
  {
   "cell_type": "code",
   "execution_count": 20,
   "id": "4f61360d-52ac-4bab-8374-c3cd8d2bfdbb",
   "metadata": {},
   "outputs": [],
   "source": [
    "# (Real) Symmetric\n",
    "A1 = np.array([\n",
    "    [9, 1, 1],\n",
    "    [1, 0, -1],\n",
    "    [1, -1, 4]\n",
    "], dtype=np.float64)\n",
    "\n",
    "# Hermitian\n",
    "A2 = np.array([\n",
    "    [9, 1-1j, 1],\n",
    "    [1+1j, 0, -1+2j],\n",
    "    [1, -1-2j, 4]\n",
    "], dtype=np.complex128)\n",
    "\n",
    "# Complex Symmetric\n",
    "A3 = np.array([\n",
    "    [9, 1+1j, 1],\n",
    "    [1+1j, 0, -1+2j],\n",
    "    [1, -1+2j, 4]\n",
    "], dtype=np.complex128)"
   ]
  },
  {
   "cell_type": "markdown",
   "id": "25497d6e-584f-4fda-84af-b3dce9192934",
   "metadata": {},
   "source": [
    "Case1 - A1 (Symmetric, real)"
   ]
  },
  {
   "cell_type": "code",
   "execution_count": 21,
   "id": "8c364f1b-6cb0-4f92-92cf-66c7e3313812",
   "metadata": {},
   "outputs": [
    {
     "name": "stdout",
     "output_type": "stream",
     "text": [
      "D = \n",
      "[[ 9.          0.          0.        ]\n",
      " [ 0.          3.88888889  0.        ]\n",
      " [ 0.          0.         -0.42857143]]\n",
      "\n",
      "L_tilde =\n",
      "[[ 1.          0.          0.        ]\n",
      " [ 0.11111111 -0.28571429  1.        ]\n",
      " [ 0.11111111  1.          0.        ]]\n",
      "\n",
      "perm = [0 2 1]\n"
     ]
    }
   ],
   "source": [
    "L_tilde, D, perm = linalg.ldl(A1, lower=True)\n",
    "print(f'D = ')\n",
    "print(D)\n",
    "print()\n",
    "print(f'L_tilde =') # permutated L\n",
    "print(L_tilde)\n",
    "print()\n",
    "print(f'perm = {perm}')"
   ]
  },
  {
   "cell_type": "code",
   "execution_count": 22,
   "id": "dfebe302-d66e-479e-a2ac-ac7d5abcd08a",
   "metadata": {},
   "outputs": [
    {
     "name": "stdout",
     "output_type": "stream",
     "text": [
      "PAP=\n",
      "[[ 9.  1.  1.]\n",
      " [ 1.  4. -1.]\n",
      " [ 1. -1.  0.]]\n"
     ]
    }
   ],
   "source": [
    "PA1P = A1[perm,:][:,perm]\n",
    "print('PAP=')\n",
    "print(PA1P)"
   ]
  },
  {
   "cell_type": "code",
   "execution_count": 23,
   "id": "792a1214-5a44-41db-bc2f-2e5fdb09352d",
   "metadata": {},
   "outputs": [
    {
     "name": "stdout",
     "output_type": "stream",
     "text": [
      "PAP=\n",
      "[[ 9.  1.  1.]\n",
      " [ 1.  4. -1.]\n",
      " [ 1. -1.  0.]]\n"
     ]
    }
   ],
   "source": [
    "# or equivalently\n",
    "P = np.identity(3)[perm,:]\n",
    "PA1P = P@A1@P.T\n",
    "print('PAP=')\n",
    "print(PA1P)"
   ]
  },
  {
   "cell_type": "code",
   "execution_count": 24,
   "id": "389424e3-9c22-4d97-94e7-9c5ba94bfe16",
   "metadata": {},
   "outputs": [
    {
     "name": "stdout",
     "output_type": "stream",
     "text": [
      "[[ 1.          0.          0.        ]\n",
      " [ 0.11111111  1.          0.        ]\n",
      " [ 0.11111111 -0.28571429  1.        ]]\n"
     ]
    }
   ],
   "source": [
    "L = L_tilde[perm,:] # or equivalently L = P @ L_tilde\n",
    "print(L)"
   ]
  },
  {
   "cell_type": "code",
   "execution_count": 25,
   "id": "21c66362-c29e-47e5-8848-4deafe5201db",
   "metadata": {},
   "outputs": [
    {
     "name": "stdout",
     "output_type": "stream",
     "text": [
      "PA1P = LDL^T: True\n"
     ]
    }
   ],
   "source": [
    "lhs = PA1P\n",
    "rhs = L @ D @ L.conjugate().T\n",
    "\n",
    "print(f'PA1P = LDL^T: {np.allclose(lhs, rhs)}')"
   ]
  },
  {
   "cell_type": "markdown",
   "id": "e63a0d32-fffb-48cc-8473-07a1d8032b5e",
   "metadata": {},
   "source": [
    "Case2 - A2 (Hermitian)"
   ]
  },
  {
   "cell_type": "code",
   "execution_count": 26,
   "id": "9d60eadc-2eaa-4348-adc1-e2f51ebb6cc9",
   "metadata": {},
   "outputs": [
    {
     "name": "stdout",
     "output_type": "stream",
     "text": [
      "PA2P = LDL^T: True\n"
     ]
    }
   ],
   "source": [
    "L_tilde, D, perm = linalg.ldl(A2, lower=True, hermitian=True)\n",
    "PA2P = A2[perm,:][:,perm]\n",
    "L = L_tilde[perm,:]\n",
    "\n",
    "lhs = PA2P\n",
    "rhs = L @ D @ L.conjugate().T\n",
    "print(f'PA2P = LDL^T: {np.allclose(lhs, rhs)}')"
   ]
  },
  {
   "cell_type": "markdown",
   "id": "06dbe114-e0af-4b51-9eb6-e528d9368d5c",
   "metadata": {},
   "source": [
    "Case3 - A3 (Complex Symmetric)"
   ]
  },
  {
   "cell_type": "code",
   "execution_count": 27,
   "id": "6a3be9e2-b900-4da6-98b4-a9ef9e46aded",
   "metadata": {},
   "outputs": [
    {
     "name": "stdout",
     "output_type": "stream",
     "text": [
      "PA3P = LDL^T: True\n"
     ]
    }
   ],
   "source": [
    "L_tilde, D, perm = linalg.ldl(A3, lower=True, hermitian=False) # False\n",
    "PA3P = A3[perm,:][:,perm]\n",
    "L = L_tilde[perm,:]\n",
    "\n",
    "lhs = PA3P\n",
    "rhs = L @ D @ L.T #(no conjugate)\n",
    "print(f'PA3P = LDL^T: {np.allclose(lhs, rhs)}')"
   ]
  },
  {
   "cell_type": "markdown",
   "id": "1e8a16e0-4a0c-4813-ba3b-1a7b19054c8e",
   "metadata": {},
   "source": [
    "### Practice - Performance comparison"
   ]
  },
  {
   "cell_type": "markdown",
   "id": "6e59ed01-037e-4a0a-b4e7-052ae03e8b02",
   "metadata": {},
   "source": [
    "Example:\n",
    "\n",
    "$$\n",
    "A =\n",
    "\\begin{bmatrix}\n",
    "5 & 1 &        &        &        \\\\\n",
    "1 & 5 & 1     &        &        \\\\\n",
    "   & 1 & 5     & \\ddots &        \\\\\n",
    "   &    & \\ddots & \\ddots & 1     \\\\\n",
    "   &    &        & 1     & 5\n",
    "\\end{bmatrix}_{1000 \\times 1000}\n",
    "$$\n",
    ", calculate 1,000 times"
   ]
  },
  {
   "cell_type": "code",
   "execution_count": 28,
   "id": "2fb170f0-808c-4d4b-9119-23e5e6d4329d",
   "metadata": {},
   "outputs": [],
   "source": [
    "off_diag = np.ones((999, ))\n",
    "A = 5*np.identity(1000) + np.diag(off_diag, k=1) + np.diag(off_diag, k=-1)"
   ]
  },
  {
   "cell_type": "code",
   "execution_count": 29,
   "id": "e3c6ba84-3989-4280-8116-d96b8bd74682",
   "metadata": {},
   "outputs": [],
   "source": [
    "b = np.ones((1000,))"
   ]
  },
  {
   "cell_type": "code",
   "execution_count": 30,
   "id": "e17c6de7-2784-4193-9d6f-dd91b2672819",
   "metadata": {},
   "outputs": [],
   "source": [
    "import timeit"
   ]
  },
  {
   "cell_type": "code",
   "execution_count": 31,
   "id": "76bb1d15-48b0-4bb4-baa9-6917631dccea",
   "metadata": {},
   "outputs": [],
   "source": [
    "n = 1000"
   ]
  },
  {
   "cell_type": "code",
   "execution_count": 32,
   "id": "7fdc381a-dcdf-4c07-89ad-be1834a0929e",
   "metadata": {},
   "outputs": [
    {
     "name": "stdout",
     "output_type": "stream",
     "text": [
      " 0.230591\n"
     ]
    }
   ],
   "source": [
    "\"\"\"linalg.lu_factor, linalg.lu_solve\"\"\"\n",
    "\n",
    "###\n",
    "start = timeit.default_timer()\n",
    "###\n",
    "\n",
    "lu, piv = linalg.lu_factor(A)\n",
    "\n",
    "for _ in range(n):\n",
    "    x = linalg.lu_solve((lu, piv), b)\n",
    "\n",
    "###\n",
    "end = timeit.default_timer()\n",
    "###\n",
    "\n",
    "print(f'{end-start: .6f}')"
   ]
  },
  {
   "cell_type": "code",
   "execution_count": 33,
   "id": "f06d4c94-3582-45cf-9509-4ca89d4bc80b",
   "metadata": {},
   "outputs": [
    {
     "name": "stdout",
     "output_type": "stream",
     "text": [
      " 1.253580\n"
     ]
    }
   ],
   "source": [
    "\"\"\"linalg.solve\"\"\"\n",
    "\n",
    "###\n",
    "start = timeit.default_timer()\n",
    "###\n",
    "\n",
    "for _ in range(n):\n",
    "    x = linalg.solve(A, b)\n",
    "\n",
    "###\n",
    "end = timeit.default_timer()\n",
    "###\n",
    "\n",
    "print(f'{end-start: .6f}')"
   ]
  },
  {
   "cell_type": "markdown",
   "id": "e73970c8-0242-43ed-be87-08429a91aeb1",
   "metadata": {},
   "source": [
    "Take note of the computation times' difference."
   ]
  }
 ],
 "metadata": {
  "kernelspec": {
   "display_name": "Python 3 (ipykernel)",
   "language": "python",
   "name": "python3"
  },
  "language_info": {
   "codemirror_mode": {
    "name": "ipython",
    "version": 3
   },
   "file_extension": ".py",
   "mimetype": "text/x-python",
   "name": "python",
   "nbconvert_exporter": "python",
   "pygments_lexer": "ipython3",
   "version": "3.11.11"
  }
 },
 "nbformat": 4,
 "nbformat_minor": 5
}
