{
 "cells": [
  {
   "cell_type": "code",
   "execution_count": 1,
   "id": "2a8a1a5d-2efb-458c-bb9d-3e485528a7d1",
   "metadata": {},
   "outputs": [],
   "source": [
    "import numpy as np\n",
    "from scipy import linalg"
   ]
  },
  {
   "cell_type": "markdown",
   "id": "66965321-0a4f-445c-8c41-72efb6392d11",
   "metadata": {},
   "source": [
    "# 1. Pseudoinverse (Moore-Penrose inverse) (```linalg.pinv```)"
   ]
  },
  {
   "cell_type": "markdown",
   "id": "7d9c6352-7de5-464a-87f5-3d5ecaf88f9f",
   "metadata": {},
   "source": [
    "$$\n",
    "A =\n",
    "\\begin{bmatrix}\n",
    "1 & -1 \\\\\n",
    "-2 & 2 \\\\\n",
    "2 & -2\n",
    "\\end{bmatrix}, \\quad\n",
    "U = \n",
    "\\begin{bmatrix}\n",
    "-0.3333 & -0.6667 & -0.6667 \\\\\n",
    " 0.6667 & 0.6667 & 0.3333 \\\\\n",
    " -0.6667 & 0.3333 & 0.6667\n",
    "\\end{bmatrix}, \\quad\n",
    "\\Sigma = \n",
    "\\begin{bmatrix}\n",
    "4.2426 & 0 \\\\\n",
    " 0 & 0  \\\\\n",
    " 0 & 0\n",
    "\\end{bmatrix}, \\quad\n",
    "V^\\top = \n",
    "\\begin{bmatrix}\n",
    "-0.7071 & 0.7071 \\\\\n",
    " 0.7071 & 0.7071  \\\\\n",
    "\\end{bmatrix}\n",
    "$$"
   ]
  },
  {
   "cell_type": "markdown",
   "id": "7ddc461a-1dd8-40a9-bb15-3a48f8dfe529",
   "metadata": {},
   "source": [
    "\\begin{align*}\n",
    "&A = U \\Sigma V^\\top &\\text{(SVD)} \\\\\n",
    "&A = U_r D V_r^\\top &\\text{(Reduced SVD)} \\\\\n",
    "&A^+ = V_r D^{-1} U_r^\\top &\\text{(Pseudoinverse)} \\\\\n",
    "\\end{align*}"
   ]
  },
  {
   "cell_type": "markdown",
   "id": "2de40733-e170-42aa-837b-cedac5a76b43",
   "metadata": {},
   "source": [
    "Implication of Pseudoinverse:\n",
    "\n",
    "$$\n",
    "A \\mathbf{x} = \\mathbf{b} \\; \\Rightarrow \\; A^+ \\mathbf{b}: \\text{ least-squares solution}\n",
    "$$"
   ]
  },
  {
   "cell_type": "markdown",
   "id": "508e09b5-1734-4d9b-a6a5-9ae426da6d3b",
   "metadata": {},
   "source": [
    "```python\n",
    "# Use SVD internally\n",
    "pinv_A = linalg.pinv(A)\n",
    "```"
   ]
  },
  {
   "cell_type": "code",
   "execution_count": 2,
   "id": "9b51fb7a-b7b6-4ec5-bc9a-467862ed4938",
   "metadata": {},
   "outputs": [
    {
     "name": "stdout",
     "output_type": "stream",
     "text": [
      "[[ 0.05555556 -0.11111111  0.11111111]\n",
      " [-0.05555556  0.11111111 -0.11111111]]\n"
     ]
    }
   ],
   "source": [
    "A = np.array([\n",
    "    [1, -1],\n",
    "    [-2, 2],\n",
    "    [2, -2],\n",
    "], dtype=np.float64)\n",
    "\n",
    "\"\"\" Compute pseudoinverse with linalg.pinv \"\"\"\n",
    "\n",
    "pinv_A = linalg.pinv(A)\n",
    "print(pinv_A)"
   ]
  },
  {
   "cell_type": "code",
   "execution_count": 3,
   "id": "cd4acc1e-7d82-4125-b6ec-732b71deb633",
   "metadata": {},
   "outputs": [
    {
     "name": "stdout",
     "output_type": "stream",
     "text": [
      "[[ 0.05555556 -0.11111111  0.11111111]\n",
      " [-0.05555556  0.11111111 -0.11111111]]\n"
     ]
    }
   ],
   "source": [
    "\"\"\" Compute pseudoinverse with svd functions \"\"\"\n",
    "\n",
    "# SVD\n",
    "U, s, VT = linalg.svd(A, compute_uv=True)\n",
    "\n",
    "# A = U_r Sigma_r VT_r\n",
    "r = s.shape[0] - sum(np.allclose(lx, 0) for lx in s) \n",
    "\n",
    "Ur = U[:, :r]\n",
    "Vr = VT[:r, :].T\n",
    "D = np.diag(s[:r]) \n",
    "\n",
    "pinv_A_2 = Vr@linalg.inv(D)@Ur.T\n",
    "print(pinv_A_2)"
   ]
  },
  {
   "cell_type": "code",
   "execution_count": 4,
   "id": "54aad490-c9e8-4be2-8e37-d64d2b16ce06",
   "metadata": {},
   "outputs": [
    {
     "name": "stdout",
     "output_type": "stream",
     "text": [
      "True\n"
     ]
    }
   ],
   "source": [
    "print(np.allclose(pinv_A, pinv_A_2))"
   ]
  },
  {
   "cell_type": "markdown",
   "id": "23d09f69-57d4-4eba-90d7-723dbcd8a395",
   "metadata": {},
   "source": [
    "## 1.1 When you want to disregard small singluar values..."
   ]
  },
  {
   "cell_type": "markdown",
   "id": "92373860-a6b4-4a0c-a245-85767e0542d9",
   "metadata": {},
   "source": [
    "singluar values smaller than (val * $\\sigma_{\\max}$) are ignored: \n",
    "\n",
    "```python\n",
    "# Use SVD internally\n",
    "pinv_A = linalg.pinv(A, rcond=val) \n",
    "```\n",
    "\n",
    "If you use default setting, val $\\approx$ 2.22e-16\n",
    "\n",
    "```python\n",
    "# Use SVD internally\n",
    "pinv_A = linalg.pinv(A, rcond=None) # default\n",
    "```"
   ]
  },
  {
   "cell_type": "markdown",
   "id": "e4851bae-221b-44d7-9d5e-0f3ee8c74f75",
   "metadata": {},
   "source": [
    "> Ramark. ```rcond=``` in ```linalg.orth``` and ```linalg.null_space``` works the same way."
   ]
  },
  {
   "cell_type": "markdown",
   "id": "afeaad21-def4-4437-af88-3ec645d74b0c",
   "metadata": {},
   "source": [
    "# 2. Least-Squares Solution (```linalg.lstsq```)"
   ]
  },
  {
   "cell_type": "markdown",
   "id": "556bc732-505f-436b-8c98-d46bd75b849a",
   "metadata": {},
   "source": [
    "$$\n",
    "A \\mathbf{x} = \\mathbf{b}\n",
    "$$"
   ]
  },
  {
   "cell_type": "markdown",
   "id": "507d48ad-a6cf-4608-b09e-e4c84c30457d",
   "metadata": {},
   "source": [
    "```python\n",
    "# cond=val -> disregarding singluar values lower than val\n",
    "# internally, use SVD functions\n",
    "x_hat, res, rank, s = linalg.lstsq(A, b, cond=None) # default\n",
    "```"
   ]
  },
  {
   "cell_type": "markdown",
   "id": "a2cb88e4-887a-4562-9dee-c6bc458c9c05",
   "metadata": {},
   "source": [
    "* ```x_hat``` : solution\n",
    "* ```res``` : residual value ($l_2$ norm) - if rank(A) < n (rank deficient) or m < n (undetermined), empty value is returned\n",
    "* ```rank``` : rank(A)\n",
    "* ```s``` : 1D Array of singluar values"
   ]
  },
  {
   "cell_type": "markdown",
   "id": "87eafbfb-eb37-46ad-8cbe-747f6c1241bf",
   "metadata": {},
   "source": [
    "If returned, ```res``` is:\n",
    "$$\n",
    "\\|\\mathbf{b} - A \\hat{\\mathbf{x}}\\|\n",
    "$$"
   ]
  },
  {
   "cell_type": "markdown",
   "id": "5432283e-55af-4aa6-a350-43674ea3bca0",
   "metadata": {},
   "source": [
    "Additional Note."
   ]
  },
  {
   "cell_type": "markdown",
   "id": "6d1b0eb1-9052-4392-9939-353a4c8aca4f",
   "metadata": {},
   "source": [
    "```linalg.lstsq``` does not solve by:\n",
    "\n",
    "$$\n",
    "V_r D^{-1} U_r^\\top \\mathbf{b}\n",
    "$$\n",
    "\n",
    "Instead, it solves\n",
    "\n",
    "$$\n",
    "D V_r^\\top \\hat{\\mathbf{x}} = U_r^\\top \\mathbf{b}\n",
    "$$\n",
    "\n",
    "because explicitly computing inverse matrix, $D^{-1}$ is costly. So, using ```x_hat = pinv_A @ b``` is not advised."
   ]
  },
  {
   "cell_type": "markdown",
   "id": "d179c6d6-bfaf-42f4-a9e2-0a28d151b1de",
   "metadata": {},
   "source": [
    "Example,"
   ]
  },
  {
   "cell_type": "markdown",
   "id": "a8223e20-ef82-4bc5-b97f-8c3ea3f974dc",
   "metadata": {},
   "source": [
    "$$\n",
    "A = \n",
    "\\begin{bmatrix}\n",
    "1 & 3 & 4 \\\\\n",
    "-4 & 2 & -6 \\\\\n",
    "-3 & -2 & -7\n",
    "\\end{bmatrix} \\; \\text{(singluar matrix)}, \\quad\n",
    "\\mathbf{b} =\n",
    "\\begin{bmatrix} \n",
    "1 \\\\\n",
    "1 \\\\\n",
    "1 \\\\\n",
    "\\end{bmatrix}\n",
    "$$"
   ]
  },
  {
   "cell_type": "markdown",
   "id": "bbc92fe5-1987-472c-a642-ffa2f92e5bed",
   "metadata": {},
   "source": [
    "$$\n",
    "A \\mathbf{x} = \\mathbf{b}\n",
    "$$"
   ]
  },
  {
   "cell_type": "code",
   "execution_count": 5,
   "id": "a07c11bc-7642-46e9-b1df-f922f41ec8a0",
   "metadata": {},
   "outputs": [],
   "source": [
    "A = np.array([\n",
    "    [1, 3, 4],\n",
    "    [-4, 2, -6],\n",
    "    [-3, -2, -7]\n",
    "])\n",
    "\n",
    "b = np.array([1, 1, 1])"
   ]
  },
  {
   "cell_type": "code",
   "execution_count": 6,
   "id": "c0185c8c-49dd-4f7e-9e8d-1700cc23bd1c",
   "metadata": {},
   "outputs": [
    {
     "ename": "LinAlgError",
     "evalue": "singular matrix",
     "output_type": "error",
     "traceback": [
      "\u001b[1;31m---------------------------------------------------------------------------\u001b[0m",
      "\u001b[1;31mLinAlgError\u001b[0m                               Traceback (most recent call last)",
      "Cell \u001b[1;32mIn[6], line 2\u001b[0m\n\u001b[0;32m      1\u001b[0m \u001b[38;5;124;03m\"\"\" error, A is singular matrix \"\"\"\u001b[39;00m\n\u001b[1;32m----> 2\u001b[0m linalg\u001b[38;5;241m.\u001b[39minv(A)\n",
      "File \u001b[1;32m~\\anaconda3\\envs\\LinAlg\\Lib\\site-packages\\scipy\\linalg\\_basic.py:1163\u001b[0m, in \u001b[0;36minv\u001b[1;34m(a, overwrite_a, check_finite)\u001b[0m\n\u001b[0;32m   1161\u001b[0m     inv_a, info \u001b[38;5;241m=\u001b[39m getri(lu, piv, lwork\u001b[38;5;241m=\u001b[39mlwork, overwrite_lu\u001b[38;5;241m=\u001b[39m\u001b[38;5;241m1\u001b[39m)\n\u001b[0;32m   1162\u001b[0m \u001b[38;5;28;01mif\u001b[39;00m info \u001b[38;5;241m>\u001b[39m \u001b[38;5;241m0\u001b[39m:\n\u001b[1;32m-> 1163\u001b[0m     \u001b[38;5;28;01mraise\u001b[39;00m LinAlgError(\u001b[38;5;124m\"\u001b[39m\u001b[38;5;124msingular matrix\u001b[39m\u001b[38;5;124m\"\u001b[39m)\n\u001b[0;32m   1164\u001b[0m \u001b[38;5;28;01mif\u001b[39;00m info \u001b[38;5;241m<\u001b[39m \u001b[38;5;241m0\u001b[39m:\n\u001b[0;32m   1165\u001b[0m     \u001b[38;5;28;01mraise\u001b[39;00m \u001b[38;5;167;01mValueError\u001b[39;00m(\u001b[38;5;124m'\u001b[39m\u001b[38;5;124millegal value in \u001b[39m\u001b[38;5;132;01m%d\u001b[39;00m\u001b[38;5;124m-th argument of internal \u001b[39m\u001b[38;5;124m'\u001b[39m\n\u001b[0;32m   1166\u001b[0m                      \u001b[38;5;124m'\u001b[39m\u001b[38;5;124mgetrf|getri\u001b[39m\u001b[38;5;124m'\u001b[39m \u001b[38;5;241m%\u001b[39m \u001b[38;5;241m-\u001b[39minfo)\n",
      "\u001b[1;31mLinAlgError\u001b[0m: singular matrix"
     ]
    }
   ],
   "source": [
    "\"\"\" error, A is singular matrix \"\"\"\n",
    "linalg.inv(A)"
   ]
  },
  {
   "cell_type": "code",
   "execution_count": 7,
   "id": "86712132-10be-422a-912c-da46dca092de",
   "metadata": {},
   "outputs": [
    {
     "name": "stdout",
     "output_type": "stream",
     "text": [
      "[-0.12345679  0.2345679  -0.0617284 ]\n"
     ]
    }
   ],
   "source": [
    "x_hat, res, rank, s = linalg.lstsq(A, b, cond=None)\n",
    "\n",
    "print(x_hat)"
   ]
  },
  {
   "cell_type": "code",
   "execution_count": 8,
   "id": "1237a2e1-a66e-4905-9dfc-a7fa9219dc9f",
   "metadata": {},
   "outputs": [
    {
     "data": {
      "text/plain": [
       "array([0.33333333, 1.33333333, 0.33333333])"
      ]
     },
     "execution_count": 8,
     "metadata": {},
     "output_type": "execute_result"
    }
   ],
   "source": [
    "A @ x_hat"
   ]
  },
  {
   "cell_type": "code",
   "execution_count": 9,
   "id": "3171df51-d376-4ff9-8b12-28384f599fc5",
   "metadata": {},
   "outputs": [
    {
     "data": {
      "text/plain": [
       "array([], dtype=float64)"
      ]
     },
     "execution_count": 9,
     "metadata": {},
     "output_type": "execute_result"
    }
   ],
   "source": [
    "res # because rank is deficient"
   ]
  },
  {
   "cell_type": "code",
   "execution_count": 10,
   "id": "487e6c7a-fa29-4520-839d-9db0d79d7037",
   "metadata": {},
   "outputs": [
    {
     "data": {
      "text/plain": [
       "2"
      ]
     },
     "execution_count": 10,
     "metadata": {},
     "output_type": "execute_result"
    }
   ],
   "source": [
    "rank # rank deficient"
   ]
  },
  {
   "cell_type": "markdown",
   "id": "1e0c6835-60d1-46db-8323-399a6ed98875",
   "metadata": {},
   "source": [
    "## 2.1 Solving multiple problems"
   ]
  },
  {
   "cell_type": "markdown",
   "id": "4e493931-cd03-465b-b4ed-12600e7412be",
   "metadata": {},
   "source": [
    "$$\n",
    "A X = B, \\quad B = [\\mathbf{b}_1 \\; \\mathbf{b}_2 \\; \\cdots \\; \\mathbf{b}_k], \\; X = [\\mathbf{x}_1 \\; \\mathbf{x}_2 \\; \\cdots \\; \\mathbf{x}_k]\n",
    "$$"
   ]
  },
  {
   "cell_type": "markdown",
   "id": "e3789e7c-7ba7-4e3b-9cda-337bf97d1646",
   "metadata": {},
   "source": [
    "$$\n",
    "A \\in \\mathbf{R}^{M \\times N}\n",
    "$$\n",
    "$$\n",
    "B \\in \\mathbf{R}^{M \\times k}\n",
    "$$\n",
    "$$\n",
    "\\hat{X} \\in \\mathbf{R}^{N \\times k}\n",
    "$$"
   ]
  },
  {
   "cell_type": "markdown",
   "id": "833e3e88-da25-405f-8030-45c6bd98749e",
   "metadata": {},
   "source": [
    "```python\n",
    "# cond=val -> disregarding singluar values lower than val\n",
    "# internally, use SVD functions\n",
    "X_hat, res, rank, s = linalg.lstsq(A, B) \n",
    "```"
   ]
  },
  {
   "cell_type": "markdown",
   "id": "61406b8f-9c4e-439a-85ea-aefaa37642dd",
   "metadata": {},
   "source": [
    "If returned, ```res``` is 1D array of:\n",
    "$$\n",
    "\\|\\mathbf{b}_1 - A \\hat{\\mathbf{x}}_1\\|, \\; \\|\\mathbf{b}_2 - A \\hat{\\mathbf{x}}_2\\|, \\; \\cdots, \\; \\|\\mathbf{b}_k - A \\hat{\\mathbf{x}}_k\\|\n",
    "$$"
   ]
  },
  {
   "cell_type": "markdown",
   "id": "807ecc9c-a76c-46e0-b8b1-848810eb962c",
   "metadata": {},
   "source": [
    "# 3. Data Fitting"
   ]
  },
  {
   "cell_type": "markdown",
   "id": "5b3bcfea-65fa-4624-a404-58a2191bf020",
   "metadata": {},
   "source": [
    "**Practice 1**"
   ]
  },
  {
   "cell_type": "markdown",
   "id": "b68b9872-541f-4e1a-9155-e6ed2ed44bc0",
   "metadata": {},
   "source": [
    "Model Specification:\n",
    "$$\n",
    "y = \\beta_0 + \\beta_1 x + \\beta_2 x^2\n",
    "$$"
   ]
  },
  {
   "cell_type": "markdown",
   "id": "143a07ca-cdc2-4924-ab78-ad9239e917be",
   "metadata": {},
   "source": [
    "$$\n",
    "X =\n",
    "\\begin{bmatrix}\n",
    "1 & x_1 & x_1^2 \\\\\n",
    "1 & x_2 & x_2^2 \\\\\n",
    "\\vdots  & \\vdots & \\vdots \\\\\n",
    "1 & x_n & x_n^2\n",
    "\\end{bmatrix}, \\;\n",
    "\\mathbf{\\beta} =\n",
    "\\begin{bmatrix}\n",
    "\\beta_0 \\\\\n",
    "\\beta_1 \\\\\n",
    "\\beta_2\n",
    "\\end{bmatrix}, \\;\n",
    "\\mathbf{y} =\n",
    "\\begin{bmatrix}\n",
    "y_1 \\\\\n",
    "y_2 \\\\\n",
    "\\vdots \\\\\n",
    "y_n\n",
    "\\end{bmatrix}\n",
    "$$"
   ]
  },
  {
   "cell_type": "markdown",
   "id": "8fd61ecb-35b5-4af2-9888-f96b96b3b9bf",
   "metadata": {},
   "source": [
    "$$\n",
    "\\hat{\\mathbf{y}} = X \\mathbf{\\beta}\n",
    "$$"
   ]
  },
  {
   "cell_type": "code",
   "execution_count": 11,
   "id": "45e2e777-b5f3-48dc-8251-7fa65cd18635",
   "metadata": {},
   "outputs": [],
   "source": [
    "\"\"\" sample \"\"\"\n",
    "x = np.array([1, 2.5, 3.5, 4, 5, 7, 8.5])\n",
    "y = np.array([0.3, 1.1, 1.5, 2.0, 3.2, 6.6, 8.6])"
   ]
  },
  {
   "cell_type": "code",
   "execution_count": 12,
   "id": "1b4720c8-6321-4e1c-a6bd-e6c00094b7ab",
   "metadata": {},
   "outputs": [],
   "source": [
    "\"\"\" construct X \"\"\"\n",
    "x2 = x**2\n",
    "one = np.ones((len(x),))\n",
    "XT = np.vstack((one, x, x2))\n",
    "X = XT.T"
   ]
  },
  {
   "cell_type": "code",
   "execution_count": 13,
   "id": "917345dd-eede-474d-81d8-e4a8d3203389",
   "metadata": {},
   "outputs": [],
   "source": [
    "\"\"\" beta_hat \"\"\"\n",
    "beta, res, rank, s = linalg.lstsq(X, y)"
   ]
  },
  {
   "cell_type": "code",
   "execution_count": 14,
   "id": "175d21e5-1e32-42e4-8d6d-4eb604ffee14",
   "metadata": {},
   "outputs": [],
   "source": [
    "import matplotlib.pyplot as plt"
   ]
  },
  {
   "cell_type": "code",
   "execution_count": 15,
   "id": "f804581f-b1a0-41f4-ac64-630d6b3ca1d5",
   "metadata": {},
   "outputs": [
    {
     "data": {
      "image/png": "[encoded data removed]",
      "text/plain": [
       "<Figure size 640x480 with 1 Axes>"
      ]
     },
     "metadata": {},
     "output_type": "display_data"
    }
   ],
   "source": [
    "\"\"\" plot \"\"\"\n",
    "\n",
    "\n",
    "xp = np.linspace(0, 10, 1000) # 1D array # x-axis data grid\n",
    "yp = beta[0] + beta[1] * xp + beta[2] * (xp**2)\n",
    "\n",
    "plt.figure(1)\n",
    "plt.clf()\n",
    "\n",
    "plt.plot(x, y, 'o') # given data\n",
    "plt.plot(xp, yp)\n",
    "\n",
    "plt.xlabel('x')\n",
    "plt.ylabel('y')\n",
    "\n",
    "plt.show()"
   ]
  },
  {
   "cell_type": "markdown",
   "id": "c307dbba-bc9b-41e2-84e3-6269dea39247",
   "metadata": {},
   "source": [
    "**Practice 2**"
   ]
  },
  {
   "cell_type": "markdown",
   "id": "db1ebb9b-50b7-4ccd-9705-97cb54eaf5a5",
   "metadata": {},
   "source": [
    "Model Specification:\n",
    "$$\n",
    "y = \\beta_0 + \\beta_1 f_1(x) + \\cdots + \\beta_k f_k(x)\n",
    "$$"
   ]
  },
  {
   "cell_type": "markdown",
   "id": "21482187-4182-4483-b8b2-0a02eca2cbcd",
   "metadata": {},
   "source": [
    "$$\n",
    "X =\n",
    "\\begin{bmatrix}\n",
    "1 & f_1(x_1) & \\cdots &  f_k(x_1) \\\\\n",
    "1 & f_1(x_2) & \\cdots &  f_k(x_2) \\\\\n",
    "\\vdots  & \\vdots & \\vdots & \\vdots \\\\\n",
    "1 & f_1(x_n) & \\cdots &  f_k(x_n) \\\\\n",
    "\\end{bmatrix}, \\;\n",
    "\\mathbf{\\beta} =\n",
    "\\begin{bmatrix}\n",
    "\\beta_0 \\\\\n",
    "\\beta_1 \\\\\n",
    "\\beta_2 \\\\\n",
    "\\vdots \\\\\n",
    "\\beta_2 \\\\\n",
    "\\end{bmatrix}, \\;\n",
    "\\mathbf{y} =\n",
    "\\begin{bmatrix}\n",
    "y_1 \\\\\n",
    "y_2 \\\\\n",
    "\\vdots \\\\\n",
    "y_n\n",
    "\\end{bmatrix}\n",
    "$$"
   ]
  },
  {
   "cell_type": "markdown",
   "id": "c88d10a3-0317-4333-8276-b1c4e67ed04c",
   "metadata": {},
   "source": [
    "$$\n",
    "\\hat{\\mathbf{y}} = X \\mathbf{\\beta}\n",
    "$$"
   ]
  },
  {
   "cell_type": "markdown",
   "id": "0f8f5fd3-303e-4477-a94a-852d604b275e",
   "metadata": {},
   "source": [
    "$$\n",
    "k = 3, \\; f_1(x) = \\exp(x), \\; f_2(x) = \\cos(x), \\; f_3(x) = \\ln(x)\n",
    "$$"
   ]
  },
  {
   "cell_type": "code",
   "execution_count": 16,
   "id": "ec7cd5a2-4334-40ad-8dd4-74a27104f6fb",
   "metadata": {},
   "outputs": [],
   "source": [
    "# 100 samples\n",
    "data = np.genfromtxt('least_square_data.txt', dtype=np.float64, delimiter=',')"
   ]
  },
  {
   "cell_type": "code",
   "execution_count": 17,
   "id": "dec5dbca-effb-4b69-9f6b-a8cc4a27a6ee",
   "metadata": {},
   "outputs": [
    {
     "name": "stdout",
     "output_type": "stream",
     "text": [
      "(100, 2)\n"
     ]
    }
   ],
   "source": [
    "print(data.shape)"
   ]
  },
  {
   "cell_type": "code",
   "execution_count": 18,
   "id": "7144669d-763c-453e-bfb4-c3c20776ffbf",
   "metadata": {},
   "outputs": [],
   "source": [
    "x = data[:,0]\n",
    "y = data[:,1]"
   ]
  },
  {
   "cell_type": "code",
   "execution_count": 19,
   "id": "7ca18856-cbb8-4621-aee8-a80b8d24a286",
   "metadata": {},
   "outputs": [],
   "source": [
    "n = len(x)"
   ]
  },
  {
   "cell_type": "code",
   "execution_count": 20,
   "id": "1f2170a2-ae53-49c3-89f4-5d8cfa653192",
   "metadata": {},
   "outputs": [],
   "source": [
    "# constant\n",
    "one = np.ones((n, ))\n",
    "\n",
    "# f_1(x), f_2(x), f_3(x)\n",
    "f1x = np.exp(x)\n",
    "f2x = np.cos(x)\n",
    "f3x = np.log(x)\n",
    "\n",
    "# construct X\n",
    "X = np.vstack((one, f1x, f2x, f3x)).T "
   ]
  },
  {
   "cell_type": "code",
   "execution_count": 21,
   "id": "6d45aa76-b534-4e04-b5d6-58485173efaf",
   "metadata": {},
   "outputs": [],
   "source": [
    "\"\"\" beta_hat \"\"\"\n",
    "beta, res, rank, s = linalg.lstsq(X, y)"
   ]
  },
  {
   "cell_type": "code",
   "execution_count": 22,
   "id": "eb309e1f-479e-4818-9c30-e6a3dd4de73f",
   "metadata": {},
   "outputs": [
    {
     "data": {
      "image/png": "[encoded data removed]",
      "text/plain": [
       "<Figure size 640x480 with 1 Axes>"
      ]
     },
     "metadata": {},
     "output_type": "display_data"
    }
   ],
   "source": [
    "\"\"\" plot \"\"\"\n",
    "\n",
    "\n",
    "xp = np.linspace(1e-2, 3, 201) # 1D array # x-axis data grid\n",
    "yp = beta[0] + beta[1] * np.exp(xp) + beta[2] * np.cos(xp) + beta[3] * np.log(xp)\n",
    "\n",
    "plt.figure(1)\n",
    "plt.clf()\n",
    "\n",
    "plt.plot(x, y, 'o') # given data\n",
    "plt.plot(xp, yp)\n",
    "\n",
    "plt.xlabel('x')\n",
    "plt.ylabel('y')\n",
    "\n",
    "plt.show()"
   ]
  }
 ],
 "metadata": {
  "kernelspec": {
   "display_name": "Python 3 (ipykernel)",
   "language": "python",
   "name": "python3"
  },
  "language_info": {
   "codemirror_mode": {
    "name": "ipython",
    "version": 3
   },
   "file_extension": ".py",
   "mimetype": "text/x-python",
   "name": "python",
   "nbconvert_exporter": "python",
   "pygments_lexer": "ipython3",
   "version": "3.11.11"
  }
 },
 "nbformat": 4,
 "nbformat_minor": 5
}
