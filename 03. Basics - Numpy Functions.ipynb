{
 "cells": [
  {
   "cell_type": "markdown",
   "id": "001683b1-ff82-4f7d-b206-74a44c6416a3",
   "metadata": {},
   "source": [
    "# Basic Numpy Functions"
   ]
  },
  {
   "cell_type": "code",
   "execution_count": 1,
   "id": "6215e1b8-4dfc-49dc-a23d-b5aaa41a44c3",
   "metadata": {},
   "outputs": [],
   "source": [
    "import numpy as np"
   ]
  },
  {
   "cell_type": "markdown",
   "id": "43d3e07b-8cae-43f3-a74e-d04667b6d171",
   "metadata": {},
   "source": [
    "# 1. Identity Matrix"
   ]
  },
  {
   "cell_type": "markdown",
   "id": "7bbeab68-2882-411c-a567-d7c940613c93",
   "metadata": {},
   "source": [
    "## 1.1 np.eye"
   ]
  },
  {
   "cell_type": "markdown",
   "id": "564e2180-371f-442f-a196-0f3bc455725f",
   "metadata": {},
   "source": [
    "**np.eye** - identity matrix with adjusting features (shifting)"
   ]
  },
  {
   "cell_type": "markdown",
   "id": "a456319a-b0c3-46cc-8aab-e16c8ac05019",
   "metadata": {},
   "source": [
    "```python\n",
    "a = np.eye(2, 3, k = 1, dtype = ...)\n",
    "```\n",
    "first argument  : # of row\\\n",
    "second argument : # of col (default: same as # of row)\\\n",
    "thrid argument  : shifts  (default: k = 0)\\\n",
    "fourth argument : np.float64, np.complex128 "
   ]
  },
  {
   "cell_type": "markdown",
   "id": "48891bf4-abd4-4118-b15e-4b975315a1c1",
   "metadata": {},
   "source": [
    "```python\n",
    "np.eye(2)\n",
    "```\n",
    "* 2 x 2 identity matrix\n",
    "\n",
    "```python\n",
    "np.eye(2, 3)\n",
    "```\n",
    "* 2 x 3 matrix containing 2 x 2 identity submatrix\n",
    "\n",
    "```python\n",
    "np.eye(2, 3, k = 1)\n",
    "```\n",
    "* 2 x 3 matrix containing 2 x 2 identity submatrix\n",
    "* shift the diagonal upward (if positive) or downward (if negative)"
   ]
  },
  {
   "cell_type": "markdown",
   "id": "c1a3fba0-278d-406c-b4a7-8ec74bb157c8",
   "metadata": {},
   "source": [
    "example:"
   ]
  },
  {
   "cell_type": "code",
   "execution_count": 2,
   "id": "9670677a-d817-4409-94d6-d385d0b54167",
   "metadata": {},
   "outputs": [],
   "source": [
    "a = np.eye(4, 5, k = 0, dtype = np.float64)"
   ]
  },
  {
   "cell_type": "code",
   "execution_count": 3,
   "id": "9d7a0c13-b16c-42ec-8f22-4b0aa25abe90",
   "metadata": {},
   "outputs": [
    {
     "name": "stdout",
     "output_type": "stream",
     "text": [
      "[[1. 0. 0. 0. 0.]\n",
      " [0. 1. 0. 0. 0.]\n",
      " [0. 0. 1. 0. 0.]\n",
      " [0. 0. 0. 1. 0.]]\n"
     ]
    }
   ],
   "source": [
    "print(a)"
   ]
  },
  {
   "cell_type": "code",
   "execution_count": 4,
   "id": "6767ff03-b6d6-486b-8e4b-24f400d7b544",
   "metadata": {},
   "outputs": [],
   "source": [
    "a = np.eye(4, 5, k = 1, dtype = np.float64)"
   ]
  },
  {
   "cell_type": "code",
   "execution_count": 5,
   "id": "e8ce8ac7-bcf8-4727-8245-f3b821986e93",
   "metadata": {},
   "outputs": [
    {
     "name": "stdout",
     "output_type": "stream",
     "text": [
      "[[0. 1. 0. 0. 0.]\n",
      " [0. 0. 1. 0. 0.]\n",
      " [0. 0. 0. 1. 0.]\n",
      " [0. 0. 0. 0. 1.]]\n"
     ]
    }
   ],
   "source": [
    "print(a)"
   ]
  },
  {
   "cell_type": "code",
   "execution_count": 6,
   "id": "1588de92-7a0a-42c4-8eb1-b17fc373d160",
   "metadata": {},
   "outputs": [],
   "source": [
    "a = np.eye(4, 5, k = -1, dtype = np.float64)"
   ]
  },
  {
   "cell_type": "code",
   "execution_count": 7,
   "id": "f6a7bf15-5c6f-434c-8dfc-2b0d648560bf",
   "metadata": {},
   "outputs": [
    {
     "name": "stdout",
     "output_type": "stream",
     "text": [
      "[[0. 0. 0. 0. 0.]\n",
      " [1. 0. 0. 0. 0.]\n",
      " [0. 1. 0. 0. 0.]\n",
      " [0. 0. 1. 0. 0.]]\n"
     ]
    }
   ],
   "source": [
    "print(a)"
   ]
  },
  {
   "cell_type": "markdown",
   "id": "1f531dec-68a6-42ed-b120-31803581420a",
   "metadata": {},
   "source": [
    "## 1.2 np.identity"
   ]
  },
  {
   "cell_type": "markdown",
   "id": "3e7839e2-39a0-4cd8-aa35-029e3dcadac8",
   "metadata": {},
   "source": [
    "**np.identity** - identity matrix"
   ]
  },
  {
   "cell_type": "markdown",
   "id": "39495d0a-e593-46ae-8717-240b6cdad52c",
   "metadata": {},
   "source": [
    "```python\n",
    "a = np.identity(2, dtype = ...)\n",
    "```\n",
    "first argument  : # of row and col (symmetric)\\\n",
    "second argument : np.float64, np.complex128 \n",
    "\n",
    "Note : Basically same with np.eye with one argument and the data type argument"
   ]
  },
  {
   "cell_type": "code",
   "execution_count": 8,
   "id": "6beeee91-a21d-4af2-b00b-401fff00bce8",
   "metadata": {},
   "outputs": [
    {
     "name": "stdout",
     "output_type": "stream",
     "text": [
      "[[1. 0. 0.]\n",
      " [0. 1. 0.]\n",
      " [0. 0. 1.]]\n"
     ]
    }
   ],
   "source": [
    "a = np.identity(3)\n",
    "print(a)"
   ]
  },
  {
   "cell_type": "code",
   "execution_count": 9,
   "id": "bb748c7c-97d8-422f-bdd4-9d694f75758d",
   "metadata": {},
   "outputs": [
    {
     "name": "stdout",
     "output_type": "stream",
     "text": [
      "[[1. 0. 0. 0. 0.]\n",
      " [0. 1. 0. 0. 0.]\n",
      " [0. 0. 1. 0. 0.]\n",
      " [0. 0. 0. 1. 0.]\n",
      " [0. 0. 0. 0. 1.]]\n"
     ]
    }
   ],
   "source": [
    "a = np.identity(5)\n",
    "print(a)"
   ]
  },
  {
   "cell_type": "markdown",
   "id": "a34efef1-fa4e-47b8-9185-b71a9227ec5d",
   "metadata": {},
   "source": [
    "# 2. Triangular Matrix"
   ]
  },
  {
   "cell_type": "markdown",
   "id": "6de1a410-e033-47e9-8faf-bba1594170c5",
   "metadata": {},
   "source": [
    "## np.tri"
   ]
  },
  {
   "cell_type": "markdown",
   "id": "5e9632b1-beae-47cc-a364-0b80fc8fb639",
   "metadata": {},
   "source": [
    "**np.tri** - lower triangular matrix with adjusting features (shifting)"
   ]
  },
  {
   "cell_type": "markdown",
   "id": "baa0eb8c-4f9f-4789-9e29-b93250091180",
   "metadata": {},
   "source": [
    "```python\n",
    "a = np.tri(2, 3, k = 1, dtype = ...)\n",
    "```\n",
    "\n",
    "first argument  : # of row\\\n",
    "second argument : # of col (default: same as # of row)\\\n",
    "thrid argument  : shifts  (default: k = 0)\\\n",
    "fourth argument : np.float64, np.complex128 "
   ]
  },
  {
   "cell_type": "markdown",
   "id": "a6f3d151-ac62-4743-95ca-596665c7585b",
   "metadata": {},
   "source": [
    "Some examples. Let's try out 5 x 5 lower triangular matrix"
   ]
  },
  {
   "cell_type": "code",
   "execution_count": 10,
   "id": "1de3c5ae-a323-47b5-a650-2a46626a2897",
   "metadata": {},
   "outputs": [
    {
     "name": "stdout",
     "output_type": "stream",
     "text": [
      "[[1. 0. 0. 0. 0.]\n",
      " [1. 1. 0. 0. 0.]\n",
      " [1. 1. 1. 0. 0.]\n",
      " [1. 1. 1. 1. 0.]\n",
      " [1. 1. 1. 1. 1.]]\n"
     ]
    }
   ],
   "source": [
    "a = np.tri(5)\n",
    "print(a)"
   ]
  },
  {
   "cell_type": "markdown",
   "id": "119c7bc1-f808-42ab-8df9-e7201c87a38c",
   "metadata": {},
   "source": [
    "If explicitly write all default arguments, it is as follows:"
   ]
  },
  {
   "cell_type": "code",
   "execution_count": 11,
   "id": "c1773c28-ff0d-4467-bc72-fb7d9c2fb99b",
   "metadata": {},
   "outputs": [
    {
     "name": "stdout",
     "output_type": "stream",
     "text": [
      "[[1. 0. 0. 0. 0.]\n",
      " [1. 1. 0. 0. 0.]\n",
      " [1. 1. 1. 0. 0.]\n",
      " [1. 1. 1. 1. 0.]\n",
      " [1. 1. 1. 1. 1.]]\n"
     ]
    }
   ],
   "source": [
    "a = np.tri(5, 5, k = 0, dtype = np.float64)\n",
    "print(a)"
   ]
  },
  {
   "cell_type": "markdown",
   "id": "62f71939-77fe-47c2-bb79-853ae9f37c06",
   "metadata": {},
   "source": [
    "The same goes for nonsymmetric matrices:"
   ]
  },
  {
   "cell_type": "code",
   "execution_count": 12,
   "id": "8592407d-5761-4140-ba62-829e593aedbf",
   "metadata": {},
   "outputs": [
    {
     "name": "stdout",
     "output_type": "stream",
     "text": [
      "[[1. 0. 0. 0. 0.]\n",
      " [1. 1. 0. 0. 0.]\n",
      " [1. 1. 1. 0. 0.]\n",
      " [1. 1. 1. 1. 0.]\n",
      " [1. 1. 1. 1. 1.]\n",
      " [1. 1. 1. 1. 1.]\n",
      " [1. 1. 1. 1. 1.]]\n"
     ]
    }
   ],
   "source": [
    "a = np.tri(7, 5, k = 0, dtype = np.float64)\n",
    "print(a)"
   ]
  },
  {
   "cell_type": "code",
   "execution_count": 13,
   "id": "004569be-a335-4020-97e8-fc6bd765a415",
   "metadata": {},
   "outputs": [
    {
     "name": "stdout",
     "output_type": "stream",
     "text": [
      "[[1. 0. 0. 0. 0. 0. 0.]\n",
      " [1. 1. 0. 0. 0. 0. 0.]\n",
      " [1. 1. 1. 0. 0. 0. 0.]\n",
      " [1. 1. 1. 1. 0. 0. 0.]\n",
      " [1. 1. 1. 1. 1. 0. 0.]]\n"
     ]
    }
   ],
   "source": [
    "a = np.tri(5, 7, k = 0, dtype = np.float64)\n",
    "print(a)"
   ]
  },
  {
   "cell_type": "markdown",
   "id": "ce9072bf-3793-42c4-b3ab-a280fdfb1c30",
   "metadata": {},
   "source": [
    "Shifts"
   ]
  },
  {
   "cell_type": "code",
   "execution_count": 14,
   "id": "f061bba1-42cf-4fa3-b41c-7ac5364775b1",
   "metadata": {},
   "outputs": [
    {
     "name": "stdout",
     "output_type": "stream",
     "text": [
      "[[1. 1. 1. 0. 0. 0. 0.]\n",
      " [1. 1. 1. 1. 0. 0. 0.]\n",
      " [1. 1. 1. 1. 1. 0. 0.]\n",
      " [1. 1. 1. 1. 1. 1. 0.]\n",
      " [1. 1. 1. 1. 1. 1. 1.]]\n"
     ]
    }
   ],
   "source": [
    "a = np.tri(5, 7, k = 2, dtype = np.float64)\n",
    "print(a)"
   ]
  },
  {
   "cell_type": "code",
   "execution_count": 15,
   "id": "944991d8-f273-47f7-97cb-b79bc7001a0f",
   "metadata": {},
   "outputs": [
    {
     "name": "stdout",
     "output_type": "stream",
     "text": [
      "[[0. 0. 0. 0. 0. 0. 0.]\n",
      " [0. 0. 0. 0. 0. 0. 0.]\n",
      " [1. 0. 0. 0. 0. 0. 0.]\n",
      " [1. 1. 0. 0. 0. 0. 0.]\n",
      " [1. 1. 1. 0. 0. 0. 0.]]\n"
     ]
    }
   ],
   "source": [
    "a = np.tri(5, 7, k = -2, dtype = np.float64)\n",
    "print(a)"
   ]
  },
  {
   "cell_type": "markdown",
   "id": "14568784-c33c-4d6d-8ec9-dca03a0982e2",
   "metadata": {},
   "source": [
    "# 3. Zero Matrix, One Matrix, Full Matrix, Random Matrix"
   ]
  },
  {
   "cell_type": "markdown",
   "id": "e2d925bf-12a2-4541-800f-1277747bdd72",
   "metadata": {},
   "source": [
    "## 3.1 np.zeros"
   ]
  },
  {
   "cell_type": "markdown",
   "id": "80936a95-4ddf-4f95-b190-c19894961c8f",
   "metadata": {},
   "source": [
    "**np.zeros** - zero matrix or zero vector"
   ]
  },
  {
   "cell_type": "markdown",
   "id": "5a80c2d8-ab3d-4255-8e3a-0aa0b616b325",
   "metadata": {},
   "source": [
    "```python\n",
    "a = np.zeros(shape)\n",
    "```\n",
    "argument  : dimension of the matrix - tuple (row, col)\n",
    "* if the argument is given as simple integer, it returns a zero vector of that size"
   ]
  },
  {
   "cell_type": "code",
   "execution_count": 16,
   "id": "2cfade46-1586-4aa2-a1b5-4980a227f564",
   "metadata": {},
   "outputs": [
    {
     "name": "stdout",
     "output_type": "stream",
     "text": [
      "[[0. 0. 0.]\n",
      " [0. 0. 0.]]\n"
     ]
    }
   ],
   "source": [
    "a = np.zeros((2, 3))\n",
    "print(a)"
   ]
  },
  {
   "cell_type": "code",
   "execution_count": 17,
   "id": "fe92f512-ce31-41c0-8224-54ec734b4532",
   "metadata": {},
   "outputs": [
    {
     "name": "stdout",
     "output_type": "stream",
     "text": [
      "[0. 0. 0.]\n"
     ]
    }
   ],
   "source": [
    "a = np.zeros(3)\n",
    "print(a)"
   ]
  },
  {
   "cell_type": "markdown",
   "id": "ca7215c6-75a3-42be-b14a-378f286a7f4b",
   "metadata": {},
   "source": [
    "## 3.2 np.ones"
   ]
  },
  {
   "cell_type": "markdown",
   "id": "97bbaa4f-c1b9-4b89-85c8-c19a3d181a06",
   "metadata": {},
   "source": [
    "```python\n",
    "a = np.ones(shape, dtype = ...)\n",
    "```\n",
    "argument  : dimension of the matrix - tuple (row, col)\n",
    "* if the argument is given as simple integer, it returns a 'one' vector of that size"
   ]
  },
  {
   "cell_type": "code",
   "execution_count": 18,
   "id": "b1a93a91-0d3b-428d-aa5c-1a2e5282b7fb",
   "metadata": {},
   "outputs": [
    {
     "name": "stdout",
     "output_type": "stream",
     "text": [
      "[[1. 1. 1.]\n",
      " [1. 1. 1.]]\n"
     ]
    }
   ],
   "source": [
    "a = np.ones((2, 3))\n",
    "print(a)"
   ]
  },
  {
   "cell_type": "code",
   "execution_count": 19,
   "id": "862e781d-20f6-44c5-95fb-f295c52ad246",
   "metadata": {},
   "outputs": [
    {
     "name": "stdout",
     "output_type": "stream",
     "text": [
      "[1. 1. 1.]\n"
     ]
    }
   ],
   "source": [
    "a = np.ones(3)\n",
    "print(a)"
   ]
  },
  {
   "cell_type": "markdown",
   "id": "70100aeb-39a8-43c4-bc96-c34e0ce0b1a8",
   "metadata": {},
   "source": [
    "**Note. data type**"
   ]
  },
  {
   "cell_type": "code",
   "execution_count": 20,
   "id": "48b5d15b-cc71-4644-be0f-81287c3b6aed",
   "metadata": {},
   "outputs": [
    {
     "name": "stdout",
     "output_type": "stream",
     "text": [
      "[[0.+0.j 0.+0.j 0.+0.j]\n",
      " [0.+0.j 0.+0.j 0.+0.j]]\n"
     ]
    }
   ],
   "source": [
    "a = np.zeros((2, 3), dtype = np.complex128)\n",
    "print(a)"
   ]
  },
  {
   "cell_type": "code",
   "execution_count": 21,
   "id": "1889b3f6-a20d-4b17-8d0d-9a106be42b45",
   "metadata": {},
   "outputs": [
    {
     "name": "stdout",
     "output_type": "stream",
     "text": [
      "[[1.+0.j 1.+0.j 1.+0.j]\n",
      " [1.+0.j 1.+0.j 1.+0.j]]\n"
     ]
    }
   ],
   "source": [
    "a = np.ones((2, 3), dtype = np.complex128)\n",
    "print(a)"
   ]
  },
  {
   "cell_type": "markdown",
   "id": "e4696609-d870-4d57-b905-5bcc08550994",
   "metadata": {},
   "source": [
    "## 3.3 np.full"
   ]
  },
  {
   "cell_type": "markdown",
   "id": "5222945d-af1d-402c-86f9-3ded9b3c5efc",
   "metadata": {},
   "source": [
    "```python\n",
    "a = np.full(shape, value, dtype = ...)\n",
    "```\n",
    "first argument  : dimension of the matrix - tuple (row, col)\n",
    "* if the argument is given as simple integer, it returns a 'one' vector of that size\n",
    "\n",
    "second argument : the value to fill the matrix / vector"
   ]
  },
  {
   "cell_type": "code",
   "execution_count": 22,
   "id": "523065d3-1029-4dbd-96c8-c54ea7e0fcd8",
   "metadata": {},
   "outputs": [
    {
     "name": "stdout",
     "output_type": "stream",
     "text": [
      "[[3.+3.j 3.+3.j 3.+3.j]\n",
      " [3.+3.j 3.+3.j 3.+3.j]]\n"
     ]
    }
   ],
   "source": [
    "a = np.full((2, 3), 3 + 3j, dtype = np.complex128)\n",
    "print(a)"
   ]
  },
  {
   "cell_type": "code",
   "execution_count": 23,
   "id": "b5c5462b-2a08-4d84-944c-c56a1bcb3064",
   "metadata": {},
   "outputs": [
    {
     "name": "stdout",
     "output_type": "stream",
     "text": [
      "[[3. 3. 3.]\n",
      " [3. 3. 3.]]\n"
     ]
    }
   ],
   "source": [
    "a = np.full((2, 3), 3, dtype = np.float64)\n",
    "print(a)"
   ]
  },
  {
   "cell_type": "markdown",
   "id": "e04667ce-f375-4f64-810c-685659e53d09",
   "metadata": {},
   "source": [
    "## 3.4 np.random.rand"
   ]
  },
  {
   "cell_type": "markdown",
   "id": "bbca4b88-f591-4881-ac9b-12ec2de360bc",
   "metadata": {},
   "source": [
    "```python\n",
    "a = np.random.rand(row, col)\n",
    "```\n",
    "first argument  : row \n",
    "second argument : col\n",
    "\n",
    "* note that unlike np.ones, np.zeros, np.full, it is not tuple argument.\n",
    "* random values between 0 and 1\n",
    "* NO data type argument"
   ]
  },
  {
   "cell_type": "code",
   "execution_count": 24,
   "id": "32f805d7-da5f-44d7-a7fa-1af17d18c76d",
   "metadata": {},
   "outputs": [
    {
     "name": "stdout",
     "output_type": "stream",
     "text": [
      "[[0.2130835  0.44752622 0.36140122 0.39324883 0.86994058]\n",
      " [0.28795633 0.45619178 0.48016131 0.93486167 0.9894533 ]\n",
      " [0.18992026 0.05421964 0.54935182 0.18228335 0.84254462]\n",
      " [0.49557464 0.08062889 0.80207078 0.9230117  0.8094167 ]]\n"
     ]
    }
   ],
   "source": [
    "a = np.random.rand(4, 5)\n",
    "print(a)"
   ]
  },
  {
   "cell_type": "code",
   "execution_count": 25,
   "id": "5b90d7dd-05d4-4931-8204-c7a011abb6da",
   "metadata": {},
   "outputs": [
    {
     "name": "stdout",
     "output_type": "stream",
     "text": [
      "[[0.35772435 0.54259464 0.90193907 0.99638594 0.67260354]\n",
      " [0.16295924 0.6404327  0.85938747 0.54727466 0.09318642]\n",
      " [0.30758178 0.99130734 0.07917783 0.40583471 0.85757235]\n",
      " [0.23860649 0.40110159 0.88732974 0.00369012 0.20180654]]\n"
     ]
    }
   ],
   "source": [
    "a = np.random.rand(4, 5)\n",
    "print(a) # diff vals"
   ]
  },
  {
   "cell_type": "markdown",
   "id": "90f054d4-5c70-4328-aad3-7445fc693e70",
   "metadata": {},
   "source": [
    "# Practice 1"
   ]
  },
  {
   "cell_type": "markdown",
   "id": "352c32f6-190b-4dce-a434-2e6e2634bda0",
   "metadata": {},
   "source": [
    "create 10 x 10 identity matrix"
   ]
  },
  {
   "cell_type": "markdown",
   "id": "65267844-07fa-4734-b220-709afb6946e0",
   "metadata": {},
   "source": [
    "Option 1. np.eye"
   ]
  },
  {
   "cell_type": "code",
   "execution_count": 26,
   "id": "71d048a5-0340-4640-be27-b3a1c72a6f5a",
   "metadata": {},
   "outputs": [
    {
     "name": "stdout",
     "output_type": "stream",
     "text": [
      "[[1. 0. 0. 0. 0. 0. 0. 0. 0. 0.]\n",
      " [0. 1. 0. 0. 0. 0. 0. 0. 0. 0.]\n",
      " [0. 0. 1. 0. 0. 0. 0. 0. 0. 0.]\n",
      " [0. 0. 0. 1. 0. 0. 0. 0. 0. 0.]\n",
      " [0. 0. 0. 0. 1. 0. 0. 0. 0. 0.]\n",
      " [0. 0. 0. 0. 0. 1. 0. 0. 0. 0.]\n",
      " [0. 0. 0. 0. 0. 0. 1. 0. 0. 0.]\n",
      " [0. 0. 0. 0. 0. 0. 0. 1. 0. 0.]\n",
      " [0. 0. 0. 0. 0. 0. 0. 0. 1. 0.]\n",
      " [0. 0. 0. 0. 0. 0. 0. 0. 0. 1.]]\n"
     ]
    }
   ],
   "source": [
    "print(np.eye(10))"
   ]
  },
  {
   "cell_type": "code",
   "execution_count": 27,
   "id": "09ea1c19-bcb4-4833-a365-3801c757117e",
   "metadata": {},
   "outputs": [
    {
     "name": "stdout",
     "output_type": "stream",
     "text": [
      "[[1. 0. 0. 0. 0. 0. 0. 0. 0. 0.]\n",
      " [0. 1. 0. 0. 0. 0. 0. 0. 0. 0.]\n",
      " [0. 0. 1. 0. 0. 0. 0. 0. 0. 0.]\n",
      " [0. 0. 0. 1. 0. 0. 0. 0. 0. 0.]\n",
      " [0. 0. 0. 0. 1. 0. 0. 0. 0. 0.]\n",
      " [0. 0. 0. 0. 0. 1. 0. 0. 0. 0.]\n",
      " [0. 0. 0. 0. 0. 0. 1. 0. 0. 0.]\n",
      " [0. 0. 0. 0. 0. 0. 0. 1. 0. 0.]\n",
      " [0. 0. 0. 0. 0. 0. 0. 0. 1. 0.]\n",
      " [0. 0. 0. 0. 0. 0. 0. 0. 0. 1.]]\n"
     ]
    }
   ],
   "source": [
    "print(np.eye(10, 10, k = 0, dtype = np.float64))"
   ]
  },
  {
   "cell_type": "markdown",
   "id": "dbd1d330-7440-4eb1-ae97-29c240956fc1",
   "metadata": {},
   "source": [
    "Option 2. np.identity"
   ]
  },
  {
   "cell_type": "code",
   "execution_count": 28,
   "id": "a48d6b3c-fbee-4b9a-9ce7-1dbcde18d0e5",
   "metadata": {},
   "outputs": [
    {
     "name": "stdout",
     "output_type": "stream",
     "text": [
      "[[1. 0. 0. 0. 0. 0. 0. 0. 0. 0.]\n",
      " [0. 1. 0. 0. 0. 0. 0. 0. 0. 0.]\n",
      " [0. 0. 1. 0. 0. 0. 0. 0. 0. 0.]\n",
      " [0. 0. 0. 1. 0. 0. 0. 0. 0. 0.]\n",
      " [0. 0. 0. 0. 1. 0. 0. 0. 0. 0.]\n",
      " [0. 0. 0. 0. 0. 1. 0. 0. 0. 0.]\n",
      " [0. 0. 0. 0. 0. 0. 1. 0. 0. 0.]\n",
      " [0. 0. 0. 0. 0. 0. 0. 1. 0. 0.]\n",
      " [0. 0. 0. 0. 0. 0. 0. 0. 1. 0.]\n",
      " [0. 0. 0. 0. 0. 0. 0. 0. 0. 1.]]\n"
     ]
    }
   ],
   "source": [
    "print(np.identity(10))"
   ]
  },
  {
   "cell_type": "code",
   "execution_count": 29,
   "id": "9495b6e1-5d0b-4b3a-a7ff-45c3517aa961",
   "metadata": {},
   "outputs": [
    {
     "name": "stdout",
     "output_type": "stream",
     "text": [
      "[[1. 0. 0. 0. 0. 0. 0. 0. 0. 0.]\n",
      " [0. 1. 0. 0. 0. 0. 0. 0. 0. 0.]\n",
      " [0. 0. 1. 0. 0. 0. 0. 0. 0. 0.]\n",
      " [0. 0. 0. 1. 0. 0. 0. 0. 0. 0.]\n",
      " [0. 0. 0. 0. 1. 0. 0. 0. 0. 0.]\n",
      " [0. 0. 0. 0. 0. 1. 0. 0. 0. 0.]\n",
      " [0. 0. 0. 0. 0. 0. 1. 0. 0. 0.]\n",
      " [0. 0. 0. 0. 0. 0. 0. 1. 0. 0.]\n",
      " [0. 0. 0. 0. 0. 0. 0. 0. 1. 0.]\n",
      " [0. 0. 0. 0. 0. 0. 0. 0. 0. 1.]]\n"
     ]
    }
   ],
   "source": [
    "print(np.identity(10, dtype = np.float64))"
   ]
  },
  {
   "cell_type": "markdown",
   "id": "53cff01b-2ca2-4202-88d9-11038ad908f3",
   "metadata": {},
   "source": [
    "# Practice 2"
   ]
  },
  {
   "cell_type": "markdown",
   "id": "db184112-d43e-42fd-8c79-67f00c89b86c",
   "metadata": {},
   "source": [
    "Use np.random.rand to create a 3 x 3 matrix where the real part is 0 and the imaginary part is 0i to 1i."
   ]
  },
  {
   "cell_type": "code",
   "execution_count": 30,
   "id": "f5ee4cbe-676f-49c3-8528-32db31697d0c",
   "metadata": {},
   "outputs": [
    {
     "name": "stdout",
     "output_type": "stream",
     "text": [
      "[[0.+0.j 0.+0.j 0.+0.j]\n",
      " [0.+0.j 0.+0.j 0.+0.j]\n",
      " [0.+0.j 0.+0.j 0.+0.j]]\n"
     ]
    }
   ],
   "source": [
    "a = np.zeros((3, 3), dtype = np.complex128)\n",
    "print(a)\n",
    "# np.full((3, 3), 0, dtype = np.complex128)"
   ]
  },
  {
   "cell_type": "code",
   "execution_count": 31,
   "id": "e6ad234f-a0a3-4400-b5d0-168c1fe51f78",
   "metadata": {},
   "outputs": [],
   "source": [
    "a2 = np.full((3, 3), 0, dtype = np.complex128)"
   ]
  },
  {
   "cell_type": "code",
   "execution_count": 32,
   "id": "cca56521-7217-4a0a-b5ad-1b3072559f84",
   "metadata": {},
   "outputs": [],
   "source": [
    "b = np.random.rand(3, 3)\n",
    "b = b * 1j"
   ]
  },
  {
   "cell_type": "code",
   "execution_count": 33,
   "id": "487e900e-ca33-4c47-92e7-0b5b8b401bf2",
   "metadata": {},
   "outputs": [
    {
     "name": "stdout",
     "output_type": "stream",
     "text": [
      "[[0.+0.46817455j 0.+0.13021709j 0.+0.78173909j]\n",
      " [0.+0.32767727j 0.+0.11425092j 0.+0.85962753j]\n",
      " [0.+0.49275149j 0.+0.46746113j 0.+0.37687065j]]\n"
     ]
    }
   ],
   "source": [
    "print(a + b)"
   ]
  },
  {
   "cell_type": "code",
   "execution_count": 34,
   "id": "58a06dab-164d-4c4d-bdb8-b5b6a0527d6f",
   "metadata": {},
   "outputs": [
    {
     "name": "stdout",
     "output_type": "stream",
     "text": [
      "[[0.+0.46817455j 0.+0.13021709j 0.+0.78173909j]\n",
      " [0.+0.32767727j 0.+0.11425092j 0.+0.85962753j]\n",
      " [0.+0.49275149j 0.+0.46746113j 0.+0.37687065j]]\n"
     ]
    }
   ],
   "source": [
    "print(a2 + b) # same deal"
   ]
  }
 ],
 "metadata": {
  "kernelspec": {
   "display_name": "Python 3 (ipykernel)",
   "language": "python",
   "name": "python3"
  },
  "language_info": {
   "codemirror_mode": {
    "name": "ipython",
    "version": 3
   },
   "file_extension": ".py",
   "mimetype": "text/x-python",
   "name": "python",
   "nbconvert_exporter": "python",
   "pygments_lexer": "ipython3",
   "version": "3.11.11"
  }
 },
 "nbformat": 4,
 "nbformat_minor": 5
}
