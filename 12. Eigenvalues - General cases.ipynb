{
 "cells": [
  {
   "cell_type": "code",
   "execution_count": 1,
   "id": "1539228b-2e88-4252-be7b-630ac9ba348a",
   "metadata": {},
   "outputs": [],
   "source": [
    "import numpy as np\n",
    "from scipy import linalg"
   ]
  },
  {
   "cell_type": "markdown",
   "id": "0ba47012-1de6-4a15-918b-8a0621d79b44",
   "metadata": {},
   "source": [
    "# 1. Eigenvalues and Eigenvectors"
   ]
  },
  {
   "cell_type": "markdown",
   "id": "a33e77ab-6b30-46bc-8177-226707803108",
   "metadata": {},
   "source": [
    "Eigenvalue problems and Generalized eigenvalue problems; in this document, we focus on the orginal eigenvalue problems. Also, left eigenvectors are out of the scop of this document.\n",
    "\n",
    "$$\n",
    "A \\mathbf{x} = \\lambda \\mathbf{x}, \\quad A \\mathbf{x} = \\lambda M \\mathbf{x}\n",
    "$$\n",
    "\n"
   ]
  },
  {
   "cell_type": "markdown",
   "id": "847f964d-f879-45e0-bcd9-ed900aa6f8fb",
   "metadata": {},
   "source": [
    "```python\n",
    "eigvals, eigvecs = linalg.eig(A)    # for eigenvalue problems\n",
    "eigvals, eigvecs = linalg.eig(A, M) # for generalized eigenvalue problems\n",
    "```\n",
    "* ```eigval``` - 1D array (vector)\n",
    "* ```eigvecs``` - 2D array with each eigvec as a columnvector\n",
    "* corresponding Lapack function\n",
    "  1. geev (eigenvalue problems)\n",
    "  2. ggev (generalized eigenvalue problems)"
   ]
  },
  {
   "cell_type": "markdown",
   "id": "65547f21-718d-4c41-acfb-d25260cea7ab",
   "metadata": {},
   "source": [
    "How ```geev``` is structured?\n",
    "\n",
    "1) balancing (gebal) - to reduce the norm\n",
    "2) upper Hessenberg (gehrd) - using Householder method\n",
    "3) real orthogonal matrix from Hessenberg (orghr) or complex unitary matrix from Hessenberg (unghr)\n",
    "4) Schur factorization, QR algorithm (hseqr)\n",
    "\n",
    "To elaborate on 3),\n",
    "The Hessenberg matrix, $H$ is similar to $A$,\n",
    "\n",
    "$$\n",
    "A = U^{\\top}HU\n",
    "$$\n",
    "\n",
    "The orthogonal matrix or complex unitary matrix refers to $U$.\n",
    "\n",
    "To elaborate on 4),\n",
    "as we seen in the previous document, QR factorization happens multiple times. If we refer to all the $Q_k$s as $Q_1, Q_2, \\cdots Q_k, \\quad$ $UQ_0Q_1 \\cdots Q_k$ becomes the eigenvector matrix."
   ]
  },
  {
   "cell_type": "markdown",
   "id": "6a1f2c02-7eb8-4772-9c5b-910a69b767a7",
   "metadata": {},
   "source": [
    "Example"
   ]
  },
  {
   "cell_type": "markdown",
   "id": "f7e9bff6-8d30-4a76-9c66-dec596cceeaf",
   "metadata": {},
   "source": [
    "$$\n",
    "A = \\begin{bmatrix} 0 & -1 \\\\ 1 & 0 \\end{bmatrix}\n",
    "$$"
   ]
  },
  {
   "cell_type": "markdown",
   "id": "364742b9-5751-41f8-913a-dd798df03d54",
   "metadata": {},
   "source": [
    "\\begin{align*}\n",
    "\\lambda_1 = i, \\quad \\mathbf{v}_1 = \\begin{bmatrix} 1 \\\\ -i \\end{bmatrix} \\\\\n",
    "\\lambda_2 = -i, \\quad \\mathbf{v}_2 = \\begin{bmatrix} 1 \\\\ i \\end{bmatrix}\n",
    "\\end{align*}"
   ]
  },
  {
   "cell_type": "markdown",
   "id": "dc3ecea8-f6dd-4a7b-81a5-3ecee46fcae7",
   "metadata": {},
   "source": [
    "(For the sake of simplicity, I did not normalized the vectors but actual results would be normalized ones.)\n",
    "\n",
    "```eigvals = [1j, -1j]```, \n",
    "```eigvecs = [[1, 1], [-1j, 1j]]```, ```v1 = eigvecs[:, 0]```, ```v2 = eigvecs[:, 1]```"
   ]
  },
  {
   "cell_type": "markdown",
   "id": "f834d504-890b-4e16-ad8b-537361480f0c",
   "metadata": {},
   "source": [
    "Double-check?"
   ]
  },
  {
   "cell_type": "markdown",
   "id": "e4e23e3d-5806-49b2-9cbe-ff710a0a8e72",
   "metadata": {},
   "source": [
    "$$\n",
    "A \\begin{bmatrix} \\mathbf{v}_1 & \\mathbf{v}_2 \\end{bmatrix} =\n",
    "\\begin{bmatrix} \\mathbf{v}_1 & \\mathbf{v}_2 \\end{bmatrix}\n",
    "\\begin{bmatrix} \\lambda_1 & 0 \\\\ 0 & \\lambda_2 \\end{bmatrix}\n",
    "=\n",
    "\\begin{bmatrix} \\lambda_1 \\mathbf{v}_1 & \\lambda_2 \\mathbf{v}_2 \\end{bmatrix}\n",
    "$$"
   ]
  },
  {
   "cell_type": "markdown",
   "id": "45681810-ae1f-4f04-a5cb-5ff112ceb954",
   "metadata": {},
   "source": [
    "```python\n",
    "#LHS\n",
    "A @ eigvecs\n",
    "\n",
    "#RHS\n",
    "eigvecs @ np.diag(eigvals)\n",
    "\n",
    "#RHS\n",
    "eicvecs * eigvals # computational advantage\n",
    "```"
   ]
  },
  {
   "cell_type": "markdown",
   "id": "128f767e-1abe-445c-afee-51a8d271e569",
   "metadata": {},
   "source": [
    "Or simply, one can check the following equation:"
   ]
  },
  {
   "cell_type": "markdown",
   "id": "68dc8e70-b958-4d7f-9c40-bd3b03243060",
   "metadata": {},
   "source": [
    "$$\n",
    "A \\mathbf{v}_1 = \\lambda_1 \\mathbf{v}_1\n",
    "$$"
   ]
  },
  {
   "cell_type": "markdown",
   "id": "0ce831c0-9d2b-405e-9fcf-fe6565755b99",
   "metadata": {},
   "source": [
    "```python\n",
    "#LHS\n",
    "A @ eigvecs[:,0]\n",
    "\n",
    "#RHS\n",
    "eigvals[0] * eigvecs[:,0]\n",
    "```"
   ]
  },
  {
   "cell_type": "code",
   "execution_count": 11,
   "id": "a722b89f-4a7d-47ae-bd7d-280ec798cc94",
   "metadata": {},
   "outputs": [
    {
     "name": "stdout",
     "output_type": "stream",
     "text": [
      "[[ 0 -1]\n",
      " [ 1  0]]\n"
     ]
    }
   ],
   "source": [
    "A = np.array([\n",
    "[0, -1],\n",
    "[1, 0]\n",
    "])\n",
    "print(A)"
   ]
  },
  {
   "cell_type": "code",
   "execution_count": 3,
   "id": "d90d6702-dc33-4297-bb26-fb73a1fbbe8e",
   "metadata": {},
   "outputs": [
    {
     "name": "stdout",
     "output_type": "stream",
     "text": [
      "[0.+1.j 0.-1.j]\n",
      "\n",
      "[[0.70710678+0.j         0.70710678-0.j        ]\n",
      " [0.        -0.70710678j 0.        +0.70710678j]]\n"
     ]
    }
   ],
   "source": [
    "eigvals, eigvecs = linalg.eig(A)\n",
    "print(eigvals)\n",
    "print()\n",
    "print(eigvecs)"
   ]
  },
  {
   "cell_type": "code",
   "execution_count": 4,
   "id": "39f7e1f4-fe8f-4668-b64a-098c7771b5e0",
   "metadata": {},
   "outputs": [
    {
     "data": {
      "text/plain": [
       "True"
      ]
     },
     "execution_count": 4,
     "metadata": {},
     "output_type": "execute_result"
    }
   ],
   "source": [
    "# double-check\n",
    "\n",
    "np.allclose(A @ eigvecs, eigvecs * eigvals)"
   ]
  },
  {
   "cell_type": "code",
   "execution_count": 5,
   "id": "350d2be3-5987-41de-b02b-15b5e13ff9d2",
   "metadata": {},
   "outputs": [
    {
     "name": "stdout",
     "output_type": "stream",
     "text": [
      "0.9999999999999999\n",
      "\n",
      "True\n"
     ]
    }
   ],
   "source": [
    "# the result is normalized vectors\n",
    "\n",
    "v1 = eigvecs[:, 0]\n",
    "print(linalg.norm(v1))\n",
    "print()\n",
    "print(np.allclose(1, linalg.norm(v1)))"
   ]
  },
  {
   "cell_type": "markdown",
   "id": "dbf7697b-db69-4f4b-a615-0c05c90e070a",
   "metadata": {},
   "source": [
    "## 1.1 Eigenvalues Only"
   ]
  },
  {
   "cell_type": "markdown",
   "id": "1b947dde-9713-40a5-81fb-a0a7fb6ddaad",
   "metadata": {},
   "source": [
    "```python\n",
    "eigvals = linalg.eig(A, right = False)    # for eigenvalue problems\n",
    "eigvals = linalg.eig(A, M, right = False) # for generalized eigenvalue problems\n",
    "```"
   ]
  },
  {
   "cell_type": "code",
   "execution_count": 13,
   "id": "b0367ec0-4c31-4b51-be78-0b981d918064",
   "metadata": {},
   "outputs": [
    {
     "name": "stdout",
     "output_type": "stream",
     "text": [
      "[[ 0 -1]\n",
      " [ 1  0]]\n"
     ]
    }
   ],
   "source": [
    "A = np.array([\n",
    "[0, -1],\n",
    "[1, 0]\n",
    "])\n",
    "print(A)"
   ]
  },
  {
   "cell_type": "code",
   "execution_count": 14,
   "id": "5b39d4b8-6f3e-4a0b-93ec-67a328948fad",
   "metadata": {},
   "outputs": [
    {
     "name": "stdout",
     "output_type": "stream",
     "text": [
      "[0.+1.j 0.-1.j]\n"
     ]
    }
   ],
   "source": [
    "eigvals = linalg.eig(A, right = False)\n",
    "print(eigvals)"
   ]
  },
  {
   "cell_type": "markdown",
   "id": "7dced82d-f947-4840-b2d9-7febf98abd1f",
   "metadata": {},
   "source": [
    "# 2. For symmetric / Hermitian Matrices"
   ]
  },
  {
   "cell_type": "markdown",
   "id": "9731a87a-69b0-4dd2-9ffc-486095a54f07",
   "metadata": {},
   "source": [
    "Eigenvalue problems and Generalized eigenvalue problems; now $A$ is either **symmetric or Hermitian matrix** and $M$ is **positive definite** matrix. All eigenvalues are **real**.\n",
    " \n",
    "$$\n",
    "A \\mathbf{x} = \\lambda \\mathbf{x}, \\quad A \\mathbf{x} = \\lambda M \\mathbf{x}\n",
    "$$\n",
    "\n"
   ]
  },
  {
   "cell_type": "markdown",
   "id": "2916c5a9-9b3a-42cc-85d6-088fb055f6df",
   "metadata": {},
   "source": [
    "```python\n",
    "eigvals, eigvecs = linalg.eigh(A)    # for eigenvalue problems\n",
    "eigvals, eigvecs = linalg.eigh(A, M) # for generalized eigenvalue problems\n",
    "```\n",
    "* ```eigval``` - 1D array (vector)\n",
    "* ```eigvecs``` - 2D array with each eigvec as a columnvector\n",
    "* corresponding Lapack function\n",
    "  1. syevr (symmetric)\n",
    "  2. heevr (Hermitian)\n",
    "  3. sygvd (symmetric, generalized)\n",
    "  4. hegvd (Hermitian, generalized)"
   ]
  },
  {
   "cell_type": "markdown",
   "id": "ff14cec4-8644-4732-9236-a310947e350b",
   "metadata": {},
   "source": [
    "How the Lapack functions are structured? (for generalized problems, they are structured differently. Not covered in this document)\n",
    "\n",
    "1) reduction to tridiagonal form using Householder method - sytrd, hetrd\n",
    "2) Instead of QR algorithm, in this case use dqds algorithm and Relatively Robust Representations (rrr method) - stemr, ormtr, unmtr"
   ]
  },
  {
   "cell_type": "markdown",
   "id": "b964f5b5-0ff6-4b8d-8d7b-a7b7e85be22f",
   "metadata": {},
   "source": [
    "(Focus on how to use the functions instead.)"
   ]
  },
  {
   "cell_type": "markdown",
   "id": "4c3580b8-7b2e-4e86-9998-e41f976a93bb",
   "metadata": {},
   "source": [
    "## 2.1 Eigenvalues Only"
   ]
  },
  {
   "cell_type": "markdown",
   "id": "40c0c95e-3de0-4c67-bbf5-062beb0bd942",
   "metadata": {},
   "source": [
    "```python\n",
    "eigvals = linalg.eigh(A, eigvals_only = False)    # for eigenvalue problems\n",
    "eigvals = linalg.eigh(A, M, eigvals_only = False) # for generalized eigenvalue problems\n",
    "```"
   ]
  },
  {
   "cell_type": "markdown",
   "id": "0cc6db99-a87f-4640-b37f-578bffe2cdb3",
   "metadata": {},
   "source": [
    "Example"
   ]
  },
  {
   "cell_type": "markdown",
   "id": "724ce14e-6fb9-4f71-9e2a-cc637c1e855b",
   "metadata": {},
   "source": [
    "$$\n",
    "A =\n",
    "\\begin{bmatrix}\n",
    "6 & 3 & 1 & 5 \\\\\n",
    "3 & 0 & 5 & 1 \\\\\n",
    "1 & 5 & 6 & 2 \\\\\n",
    "5 & 1 & 2 & 2\n",
    "\\end{bmatrix}\n",
    "$$"
   ]
  },
  {
   "cell_type": "code",
   "execution_count": 15,
   "id": "d5466e83-bcc2-4e81-8fc3-775000fa26e6",
   "metadata": {},
   "outputs": [
    {
     "name": "stdout",
     "output_type": "stream",
     "text": [
      "[[6 3 1 5]\n",
      " [3 0 5 1]\n",
      " [1 5 6 2]\n",
      " [5 1 2 2]]\n"
     ]
    }
   ],
   "source": [
    "A = np.array([\n",
    "    [6, 3, 1, 5],\n",
    "    [3, 0, 5, 1],\n",
    "    [1, 5, 6, 2],\n",
    "    [5, 1, 2, 2]\n",
    "])\n",
    "\n",
    "print(A)"
   ]
  },
  {
   "cell_type": "code",
   "execution_count": 16,
   "id": "788a4bd1-9edb-4c35-a3d0-295564103185",
   "metadata": {},
   "outputs": [],
   "source": [
    "eigvals, eigvecs = linalg.eigh(A)"
   ]
  },
  {
   "cell_type": "code",
   "execution_count": 17,
   "id": "28a438ec-b40e-44ac-be29-dfce44194e71",
   "metadata": {},
   "outputs": [
    {
     "name": "stdout",
     "output_type": "stream",
     "text": [
      "[-3.74637491 -0.76263923  6.08502336 12.42399079]\n",
      "\n",
      "[[ 0.35986577 -0.40700525  0.58177024 -0.60529888]\n",
      " [-0.76481823 -0.44157496 -0.24929195 -0.39738916]\n",
      " [ 0.42255936  0.15465567 -0.7128596  -0.53791859]\n",
      " [-0.32709828  0.78449978  0.3020399  -0.43166968]]\n"
     ]
    }
   ],
   "source": [
    "print(eigvals)\n",
    "print()\n",
    "print(eigvecs)"
   ]
  },
  {
   "cell_type": "code",
   "execution_count": 18,
   "id": "fce3b5d5-8d08-4a00-bffd-976995ec0583",
   "metadata": {},
   "outputs": [
    {
     "name": "stdout",
     "output_type": "stream",
     "text": [
      "[-3.74637491 -0.76263923  6.08502336 12.42399079]\n"
     ]
    }
   ],
   "source": [
    "eigvals = linalg.eigh(A, eigvals_only = True)\n",
    "print(eigvals)"
   ]
  },
  {
   "cell_type": "code",
   "execution_count": 19,
   "id": "cf9fd8ee-2c7f-4e21-add1-402f9f8575f2",
   "metadata": {},
   "outputs": [
    {
     "data": {
      "text/plain": [
       "True"
      ]
     },
     "execution_count": 19,
     "metadata": {},
     "output_type": "execute_result"
    }
   ],
   "source": [
    "# double-check\n",
    "\n",
    "np.allclose(A @ eigvecs, eigvecs * eigvals)"
   ]
  },
  {
   "cell_type": "markdown",
   "id": "53e48c58-b9d2-4a87-bd9f-163b6a8c3ba2",
   "metadata": {},
   "source": [
    "## 2.2 Computational Costs: ```eigh``` vs ```eig```"
   ]
  },
  {
   "cell_type": "code",
   "execution_count": 20,
   "id": "fc41a8ff-6871-49fe-849d-97fd5f89604a",
   "metadata": {},
   "outputs": [],
   "source": [
    "import timeit"
   ]
  },
  {
   "cell_type": "code",
   "execution_count": 43,
   "id": "4ec240a9-98b8-4953-a59d-839964ca654a",
   "metadata": {},
   "outputs": [],
   "source": [
    "A = np.random.rand(1000, 1000)\n",
    "A = (A + A.T) # symmetric matrix"
   ]
  },
  {
   "cell_type": "code",
   "execution_count": 44,
   "id": "f7921ffc-cd28-435b-8fca-7b32703599b8",
   "metadata": {},
   "outputs": [
    {
     "name": "stdout",
     "output_type": "stream",
     "text": [
      "0.2566898000004585\n"
     ]
    }
   ],
   "source": [
    "# eigh\n",
    "\n",
    "start = timeit.default_timer()\n",
    "eigvals, eigvecs = linalg.eigh(A)\n",
    "end = timeit.default_timer()\n",
    "comp_time = end - start\n",
    "print(comp_time)"
   ]
  },
  {
   "cell_type": "code",
   "execution_count": 45,
   "id": "25cf4e9c-54f9-49db-a059-2c243c830f5d",
   "metadata": {},
   "outputs": [
    {
     "name": "stdout",
     "output_type": "stream",
     "text": [
      "0.6802019999995537\n"
     ]
    }
   ],
   "source": [
    "# eig\n",
    "\n",
    "start = timeit.default_timer()\n",
    "eigvals, eigvecs = linalg.eig(A)\n",
    "end = timeit.default_timer()\n",
    "comp_time = end - start\n",
    "print(comp_time)"
   ]
  },
  {
   "cell_type": "markdown",
   "id": "9a306971-6d82-4c31-8fcd-d6d3dbc6724f",
   "metadata": {},
   "source": [
    "## 2.3 Is there a way to use QR algorithm?"
   ]
  },
  {
   "cell_type": "markdown",
   "id": "b36bfeb3-3bf5-4515-a417-1d0f34dde360",
   "metadata": {},
   "source": [
    "Lapack: syev, heev"
   ]
  },
  {
   "cell_type": "markdown",
   "id": "b5729f94-6ceb-413f-9719-dd22cd570abf",
   "metadata": {},
   "source": [
    "You can build a custom function using the above Lapack function.\n",
    "In building the such function, use \n",
    "\n",
    "```python\n",
    "linalg.get_lapack_func\n",
    "```"
   ]
  },
  {
   "cell_type": "markdown",
   "id": "1ede37f8-5e3a-4d12-ad55-23f0d13c4352",
   "metadata": {},
   "source": [
    "But actually, for ```linalg.eigh``` is usually faster and more stable."
   ]
  },
  {
   "cell_type": "markdown",
   "id": "0f31d6b0-862c-4262-af0f-f6f4a8ec1a2f",
   "metadata": {},
   "source": [
    "# Practice"
   ]
  },
  {
   "cell_type": "markdown",
   "id": "3e27c33f-e4f0-445e-92a9-e714e4caa0e5",
   "metadata": {},
   "source": [
    "\\begin{bmatrix}\n",
    "2 & 1 & 1 &  &  &  \\\\\n",
    "1 & 2 & 1 & 1 &  &  \\\\\n",
    "1 & 1 & 2 & 1 & 1 &  \\\\\n",
    " & 1 & 1 & \\ddots & \\ddots &  \\\\\n",
    " &  & 1 & \\ddots & 2 & 1 \\\\\n",
    " &  &  & 1 & 1 & 2\n",
    "\\end{bmatrix}"
   ]
  },
  {
   "cell_type": "markdown",
   "id": "c784a52c-94d2-4e8c-9bc7-e9068691c395",
   "metadata": {},
   "source": [
    "1. Make the matrix using numpy functions\n",
    "2. Get eigenvalues and eigenvectors with ```eig``` and ```eigh``` and compare the time"
   ]
  },
  {
   "cell_type": "code",
   "execution_count": 49,
   "id": "46e62f65-c390-49af-b324-f0dffede9c41",
   "metadata": {},
   "outputs": [
    {
     "name": "stdout",
     "output_type": "stream",
     "text": [
      "[[2. 1. 1. ... 0. 0. 0.]\n",
      " [1. 2. 1. ... 0. 0. 0.]\n",
      " [1. 1. 2. ... 0. 0. 0.]\n",
      " ...\n",
      " [0. 0. 0. ... 2. 1. 1.]\n",
      " [0. 0. 0. ... 1. 2. 1.]\n",
      " [0. 0. 0. ... 1. 1. 2.]]\n"
     ]
    }
   ],
   "source": [
    "A = 2 * np.eye(1000) + np.eye(1000, k = 1) + np.eye(1000, k = 2) + np.eye(1000, k = -1) + np.eye(1000, k = -2)\n",
    "print(A)"
   ]
  },
  {
   "cell_type": "code",
   "execution_count": 50,
   "id": "88199bc0-3fc7-484a-91f2-fa997891a079",
   "metadata": {},
   "outputs": [
    {
     "name": "stdout",
     "output_type": "stream",
     "text": [
      "0.19478009999875212\n"
     ]
    }
   ],
   "source": [
    "# eigh\n",
    "\n",
    "start = timeit.default_timer()\n",
    "eigvals, eigvecs = linalg.eigh(A)\n",
    "end = timeit.default_timer()\n",
    "comp_time = end - start\n",
    "print(comp_time)"
   ]
  },
  {
   "cell_type": "code",
   "execution_count": 51,
   "id": "7ecf1188-56c5-4a74-ab09-2bd98b8a2b34",
   "metadata": {},
   "outputs": [
    {
     "name": "stdout",
     "output_type": "stream",
     "text": [
      "0.7200082000017574\n"
     ]
    }
   ],
   "source": [
    "# eig\n",
    "\n",
    "start = timeit.default_timer()\n",
    "eigvals, eigvecs = linalg.eig(A)\n",
    "end = timeit.default_timer()\n",
    "comp_time = end - start\n",
    "print(comp_time)"
   ]
  }
 ],
 "metadata": {
  "kernelspec": {
   "display_name": "Python 3 (ipykernel)",
   "language": "python",
   "name": "python3"
  },
  "language_info": {
   "codemirror_mode": {
    "name": "ipython",
    "version": 3
   },
   "file_extension": ".py",
   "mimetype": "text/x-python",
   "name": "python",
   "nbconvert_exporter": "python",
   "pygments_lexer": "ipython3",
   "version": "3.11.11"
  }
 },
 "nbformat": 4,
 "nbformat_minor": 5
}
