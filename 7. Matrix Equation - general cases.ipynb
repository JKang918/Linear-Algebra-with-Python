{
 "cells": [
  {
   "cell_type": "code",
   "execution_count": 1,
   "id": "1539228b-2e88-4252-be7b-630ac9ba348a",
   "metadata": {},
   "outputs": [],
   "source": [
    "import numpy as np\n",
    "from scipy import linalg"
   ]
  },
  {
   "cell_type": "markdown",
   "id": "0ba47012-1de6-4a15-918b-8a0621d79b44",
   "metadata": {},
   "source": [
    "# 1. Determinant"
   ]
  },
  {
   "cell_type": "markdown",
   "id": "847f964d-f879-45e0-bcd9-ed900aa6f8fb",
   "metadata": {},
   "source": [
    "```python\n",
    "det = linalg.det(A)\n",
    "```\n",
    "\n",
    "* applied algorithm: LU decompoition\n",
    "* corresponding Lapack function\n",
    "  1. zgetrf (z means complex128)\n",
    "  2. dgetrf (d means float64)"
   ]
  },
  {
   "cell_type": "markdown",
   "id": "4d6387c3-59a2-494e-86a7-73d67a439ca2",
   "metadata": {},
   "source": [
    "$$\n",
    "\\text{Matrix 1: }\n",
    "\\begin{bmatrix}\n",
    "1 & 5 & 0 \\\\\n",
    "2 & 4 & -1 \\\\\n",
    "0 & -2 & 0\n",
    "\\end{bmatrix}, \\quad \\text{determinant} = -2\n",
    "$$\n",
    "\n",
    "$$\n",
    "\\text{Matrix 2: }\n",
    "\\begin{bmatrix}\n",
    "1 & -4 & 2 \\\\\n",
    "-2 & 8 & -9 \\\\\n",
    "-1 & 7 & 0\n",
    "\\end{bmatrix}, \\quad \\text{determinant} = 15\n",
    "$$"
   ]
  },
  {
   "cell_type": "code",
   "execution_count": 2,
   "id": "c8ca5c4f-2237-4bd9-894a-deac473255ce",
   "metadata": {},
   "outputs": [],
   "source": [
    "A1 = np.array([\n",
    "    [1, 5, 0],\n",
    "    [2, 4, -1],\n",
    "    [0, -2, 0]\n",
    "], dtype = np.float64)\n",
    "\n",
    "A2 = np.array([\n",
    "    [1, -4, 2],\n",
    "    [-2, 8, -9],\n",
    "    [-1, 7, 0]\n",
    "], dtype = np.float64)"
   ]
  },
  {
   "cell_type": "code",
   "execution_count": 3,
   "id": "c2ff0c06-4039-43b9-bb07-90db1560787f",
   "metadata": {},
   "outputs": [
    {
     "name": "stdout",
     "output_type": "stream",
     "text": [
      "det1:  -2.0\n",
      "\n",
      "det2:  15.0\n"
     ]
    }
   ],
   "source": [
    "# determinant\n",
    "\n",
    "det1 = linalg.det(A1)\n",
    "print(\"det1: \", det1)\n",
    "print()\n",
    "det2 = linalg.det(A2)\n",
    "print(\"det2: \", det2)"
   ]
  },
  {
   "cell_type": "markdown",
   "id": "01060c00-7a49-4bf1-a170-d8c1744f1b1f",
   "metadata": {},
   "source": [
    "# 2. Inverse Matrix"
   ]
  },
  {
   "cell_type": "markdown",
   "id": "287aa335-c576-4df7-baad-9704de609bed",
   "metadata": {},
   "source": [
    "```python\n",
    "inv_A = linalg.inv(A)\n",
    "```\n",
    "\n",
    "* Note. refrain from computing an inverse if the purpose is to solve $A\\mathbf{x} = \\mathbf{b}$ (backward error problem)\n",
    "* if $A$ is singular, error will occur\n",
    "* even when $A$ is not singular, due to numerical methodical issues, it might display error as being singular\n",
    "* applied algorithm: LU decompoition; solve $LUA^{-1} = 1, \\quad \\text{backsubstitution}$\n",
    "* corresponding Lapack function\n",
    "  1. getrf (LU decomposition)\n",
    "  2. getri (when the matrix is triangular)"
   ]
  },
  {
   "cell_type": "markdown",
   "id": "9a445f53-2c4f-47bd-9bc7-cca65f8a216f",
   "metadata": {},
   "source": [
    "$$\n",
    "A = \n",
    "\\begin{bmatrix}\n",
    "1 & 2 & 1 \\\\\n",
    "2 & 1 & 3 \\\\\n",
    "1 & 3 & 1\n",
    "\\end{bmatrix}, \\quad\n",
    "A^{-1} = \n",
    "\\begin{bmatrix}\n",
    "8 & -1 & -5 \\\\\n",
    "-1 & 0 & 1 \\\\\n",
    "-5 & 1 & 3\n",
    "\\end{bmatrix}\n",
    "$$"
   ]
  },
  {
   "cell_type": "code",
   "execution_count": 4,
   "id": "9cd3f9b0-a8fe-41ef-8658-9804fbdbf600",
   "metadata": {},
   "outputs": [],
   "source": [
    "A = np.array([\n",
    "    [1, 2, 1],\n",
    "    [2, 1, 3],\n",
    "    [1, 3, 1]\n",
    "], dtype = np.float64)"
   ]
  },
  {
   "cell_type": "code",
   "execution_count": 5,
   "id": "6be82822-074c-4b08-8b74-981c57b691eb",
   "metadata": {},
   "outputs": [
    {
     "name": "stdout",
     "output_type": "stream",
     "text": [
      "[[ 8. -1. -5.]\n",
      " [-1.  0.  1.]\n",
      " [-5.  1.  3.]]\n"
     ]
    }
   ],
   "source": [
    "inv_A = linalg.inv(A)\n",
    "print(inv_A)"
   ]
  },
  {
   "cell_type": "markdown",
   "id": "2ccf0518-cab6-4b2e-95db-caf0dc959e5e",
   "metadata": {},
   "source": [
    "# 3. Solving $A\\mathbf{x} = \\mathbf{b}$"
   ]
  },
  {
   "cell_type": "markdown",
   "id": "908c545d-e5b7-4712-ae5f-5a42788d6f34",
   "metadata": {},
   "source": [
    "## 3.1 General Cases - general, symmetric, Hermitian, positive definte"
   ]
  },
  {
   "cell_type": "markdown",
   "id": "44affd76-5ffc-40f7-b129-ab8d8a594670",
   "metadata": {},
   "source": [
    "```python\n",
    "x = linalg.slove(A, b, assume_a = \"gen\")\n",
    "```\n",
    "\n",
    "* ```assume_a = \"gen\"``` is default (designating the characteristic of $A$)\n",
    "  1. ```\"gen\"``` - general case $\\rightarrow$ LU decomposition $\\rightarrow$ Lapack - gesv \n",
    "  2. ```\"sym\"``` - symmetric (complex symmetric also, note that this is not Hermitian) case $\\rightarrow$ diagonal pivoting $\\rightarrow$ Lapack - sysv\n",
    "  3. ```\"her\"``` - Hermitian matrix case $\\rightarrow$ diagonal pivoting $\\rightarrow$ Lapack - hesv\n",
    "  4. ```\"pos\"``` - positive definite matrix case $\\rightarrow$ Cholesky decomposition $\\rightarrow$ Lapack - posv\n",
    "    * **(!!!)** even if the wrong argument is given, ```linalg.slove``` does not show error message!\n",
    "    * Therefore if you have no idea about the characteristic of the matrix, use \"gen\""
   ]
  },
  {
   "cell_type": "markdown",
   "id": "47579031-13f6-4584-b11f-dca44551253a",
   "metadata": {},
   "source": [
    "$$\n",
    "\\mathbf{b} = \n",
    "\\begin{bmatrix}\n",
    "1 \\\\\n",
    "1 \\\\\n",
    "1\n",
    "\\end{bmatrix}, \\quad\n",
    "A_{\\text{singular}} = \n",
    "\\begin{bmatrix}\n",
    "1 & 3 & 4 \\\\\n",
    "-4 & 2 & -6 \\\\\n",
    "-3 & -2 & -7\n",
    "\\end{bmatrix}, \\quad\n",
    "A_{\\text{gen}} =\n",
    "\\begin{bmatrix}\n",
    "0 & 1 & 2 \\\\\n",
    "1 & 0 & 3 \\\\\n",
    "4 & -3 & 8\n",
    "\\end{bmatrix}, \\quad\n",
    "A_{\\text{sym}} =\n",
    "\\begin{bmatrix}\n",
    "1 & 2 & 1 \\\\\n",
    "2 & 1 & 3 \\\\\n",
    "1 & 3 & 1\n",
    "\\end{bmatrix}\n",
    "$$\n",
    "\n",
    "$$\n",
    "A_{\\text{sym (complex)}} =\n",
    "\\begin{bmatrix}\n",
    "1 & 2 - i & 1 + 2i \\\\\n",
    "2 - i & 1 & 3 \\\\\n",
    "1 + 2i & 3 & 1\n",
    "\\end{bmatrix}, \\quad\n",
    "A_{\\text{her}} =\n",
    "\\begin{bmatrix}\n",
    "1 & 2 + i & 1 - 2i \\\\\n",
    "2 - i & 1 & 3 \\\\\n",
    "1 + 2i & 3 & 1\n",
    "\\end{bmatrix}, \\quad\n",
    "A_{\\text{pos}} =\n",
    "\\begin{bmatrix}\n",
    "2 & -1 & 0 \\\\\n",
    "-1 & 2 & -1 \\\\\n",
    "0 & -1 & 2\n",
    "\\end{bmatrix}\n",
    "$$"
   ]
  },
  {
   "cell_type": "code",
   "execution_count": 6,
   "id": "a1e5fda4-0283-44e5-9510-861777e31772",
   "metadata": {},
   "outputs": [],
   "source": [
    "# Vector b\n",
    "b = np.ones(3)\n",
    "\n",
    "# Singular matrix\n",
    "A_sing = np.array([\n",
    "    [1, 3, 4],\n",
    "    [-4, 2, -6],\n",
    "    [-3, -2, -7]\n",
    "])\n",
    "\n",
    "# General matrix\n",
    "A_gen = np.array([\n",
    "    [0, 1, 2],\n",
    "    [1, 0, 3],\n",
    "    [4, -3, 8]\n",
    "])\n",
    "\n",
    "# Symmetric matrix\n",
    "A_sym = np.array([\n",
    "    [1, 2, 1],\n",
    "    [2, 1, 3],\n",
    "    [1, 3, 1]\n",
    "])\n",
    "\n",
    "# Symmetric (complex) matrix\n",
    "A_sym_c = np.array([\n",
    "    [1, 2 - 1j, 1 + 2j],\n",
    "    [2 - 1j, 1, 3],\n",
    "    [1 + 2j, 3, 1]\n",
    "])\n",
    "\n",
    "# Hermitian matrix\n",
    "A_her = np.array([\n",
    "    [1, 2 + 1j, 1 - 2j],\n",
    "    [2 - 1j, 1, 3],\n",
    "    [1 + 2j, 3, 1]\n",
    "])\n",
    "\n",
    "# Positive definite matrix\n",
    "A_pos = np.array([\n",
    "    [2, -1, 0],\n",
    "    [-1, 2, -1],\n",
    "    [0, -1, 2]\n",
    "])"
   ]
  },
  {
   "cell_type": "markdown",
   "id": "d498aaa3-a450-42d4-855d-4b6bbb68e3c1",
   "metadata": {},
   "source": [
    "Case 1. Singular Matrix $\\rightarrow$ error"
   ]
  },
  {
   "cell_type": "code",
   "execution_count": 7,
   "id": "5d84fe69-d046-4ab7-b9ce-c837357fe45f",
   "metadata": {},
   "outputs": [
    {
     "ename": "LinAlgError",
     "evalue": "Matrix is singular.",
     "output_type": "error",
     "traceback": [
      "\u001b[1;31m---------------------------------------------------------------------------\u001b[0m",
      "\u001b[1;31mLinAlgError\u001b[0m                               Traceback (most recent call last)",
      "Cell \u001b[1;32mIn[7], line 1\u001b[0m\n\u001b[1;32m----> 1\u001b[0m x \u001b[38;5;241m=\u001b[39m linalg\u001b[38;5;241m.\u001b[39msolve(A_sing, b)\n",
      "File \u001b[1;32m~\\anaconda3\\envs\\LinAlg\\Lib\\site-packages\\scipy\\linalg\\_basic.py:265\u001b[0m, in \u001b[0;36msolve\u001b[1;34m(a, b, lower, overwrite_a, overwrite_b, check_finite, assume_a, transposed)\u001b[0m\n\u001b[0;32m    262\u001b[0m gecon, getrf, getrs \u001b[38;5;241m=\u001b[39m get_lapack_funcs((\u001b[38;5;124m'\u001b[39m\u001b[38;5;124mgecon\u001b[39m\u001b[38;5;124m'\u001b[39m, \u001b[38;5;124m'\u001b[39m\u001b[38;5;124mgetrf\u001b[39m\u001b[38;5;124m'\u001b[39m, \u001b[38;5;124m'\u001b[39m\u001b[38;5;124mgetrs\u001b[39m\u001b[38;5;124m'\u001b[39m),\n\u001b[0;32m    263\u001b[0m                                        (a1, b1))\n\u001b[0;32m    264\u001b[0m lu, ipvt, info \u001b[38;5;241m=\u001b[39m getrf(a1, overwrite_a\u001b[38;5;241m=\u001b[39moverwrite_a)\n\u001b[1;32m--> 265\u001b[0m _solve_check(n, info)\n\u001b[0;32m    266\u001b[0m x, info \u001b[38;5;241m=\u001b[39m getrs(lu, ipvt, b1,\n\u001b[0;32m    267\u001b[0m                 trans\u001b[38;5;241m=\u001b[39mtrans, overwrite_b\u001b[38;5;241m=\u001b[39moverwrite_b)\n\u001b[0;32m    268\u001b[0m _solve_check(n, info)\n",
      "File \u001b[1;32m~\\anaconda3\\envs\\LinAlg\\Lib\\site-packages\\scipy\\linalg\\_basic.py:42\u001b[0m, in \u001b[0;36m_solve_check\u001b[1;34m(n, info, lamch, rcond)\u001b[0m\n\u001b[0;32m     40\u001b[0m     \u001b[38;5;28;01mraise\u001b[39;00m \u001b[38;5;167;01mValueError\u001b[39;00m(\u001b[38;5;124mf\u001b[39m\u001b[38;5;124m'\u001b[39m\u001b[38;5;124mLAPACK reported an illegal value in \u001b[39m\u001b[38;5;132;01m{\u001b[39;00m\u001b[38;5;241m-\u001b[39minfo\u001b[38;5;132;01m}\u001b[39;00m\u001b[38;5;124m-th argument.\u001b[39m\u001b[38;5;124m'\u001b[39m)\n\u001b[0;32m     41\u001b[0m \u001b[38;5;28;01melif\u001b[39;00m \u001b[38;5;241m0\u001b[39m \u001b[38;5;241m<\u001b[39m info:\n\u001b[1;32m---> 42\u001b[0m     \u001b[38;5;28;01mraise\u001b[39;00m LinAlgError(\u001b[38;5;124m'\u001b[39m\u001b[38;5;124mMatrix is singular.\u001b[39m\u001b[38;5;124m'\u001b[39m)\n\u001b[0;32m     44\u001b[0m \u001b[38;5;28;01mif\u001b[39;00m lamch \u001b[38;5;129;01mis\u001b[39;00m \u001b[38;5;28;01mNone\u001b[39;00m:\n\u001b[0;32m     45\u001b[0m     \u001b[38;5;28;01mreturn\u001b[39;00m\n",
      "\u001b[1;31mLinAlgError\u001b[0m: Matrix is singular."
     ]
    }
   ],
   "source": [
    "x = linalg.solve(A_sing, b) # singular"
   ]
  },
  {
   "cell_type": "markdown",
   "id": "0d21806b-76a5-4224-90d9-c3c69b92c31a",
   "metadata": {},
   "source": [
    "Case 2. general case"
   ]
  },
  {
   "cell_type": "code",
   "execution_count": 8,
   "id": "0a01e0cf-0920-412b-9434-1f0a11ef6d89",
   "metadata": {},
   "outputs": [],
   "source": [
    "x = linalg.solve(A_gen, b) "
   ]
  },
  {
   "cell_type": "code",
   "execution_count": 9,
   "id": "0c8c47d0-9c72-464f-ae18-830578dd3ddf",
   "metadata": {},
   "outputs": [
    {
     "data": {
      "text/plain": [
       "array([0., 0., 0.])"
      ]
     },
     "execution_count": 9,
     "metadata": {},
     "output_type": "execute_result"
    }
   ],
   "source": [
    "# check for numeric error\n",
    "A_gen @ x - b"
   ]
  },
  {
   "cell_type": "markdown",
   "id": "b8cbe38e-a47a-4d68-aa55-2a7b4b7e4557",
   "metadata": {},
   "source": [
    "Case 3. symmetric matrix"
   ]
  },
  {
   "cell_type": "code",
   "execution_count": 10,
   "id": "2f8f3c69-1946-4893-bca2-bb1421f2db76",
   "metadata": {},
   "outputs": [
    {
     "data": {
      "text/plain": [
       "array([0., 0., 0.])"
      ]
     },
     "execution_count": 10,
     "metadata": {},
     "output_type": "execute_result"
    }
   ],
   "source": [
    "# \"gen\"\n",
    "x = linalg.solve(A_sym, b) \n",
    "\n",
    "# check for numeric error\n",
    "A_sym @ x - b"
   ]
  },
  {
   "cell_type": "code",
   "execution_count": 11,
   "id": "ae10e448-9077-4a46-8ae2-3ea786e1282d",
   "metadata": {},
   "outputs": [
    {
     "data": {
      "text/plain": [
       "array([0., 0., 0.])"
      ]
     },
     "execution_count": 11,
     "metadata": {},
     "output_type": "execute_result"
    }
   ],
   "source": [
    "# \"sym\"\n",
    "x = linalg.solve(A_sym, b, assume_a = \"sym\") \n",
    "\n",
    "# check for numeric error\n",
    "A_sym @ x - b"
   ]
  },
  {
   "cell_type": "code",
   "execution_count": 12,
   "id": "27f14b7a-b904-4ef1-a6db-5a217db57e3f",
   "metadata": {},
   "outputs": [
    {
     "ename": "LinAlgError",
     "evalue": "Matrix is singular.",
     "output_type": "error",
     "traceback": [
      "\u001b[1;31m---------------------------------------------------------------------------\u001b[0m",
      "\u001b[1;31mLinAlgError\u001b[0m                               Traceback (most recent call last)",
      "Cell \u001b[1;32mIn[12], line 2\u001b[0m\n\u001b[0;32m      1\u001b[0m \u001b[38;5;66;03m# \"pos\" # WRONG\u001b[39;00m\n\u001b[1;32m----> 2\u001b[0m x \u001b[38;5;241m=\u001b[39m linalg\u001b[38;5;241m.\u001b[39msolve(A_sym, b, assume_a \u001b[38;5;241m=\u001b[39m \u001b[38;5;124m\"\u001b[39m\u001b[38;5;124mpos\u001b[39m\u001b[38;5;124m\"\u001b[39m) \n\u001b[0;32m      4\u001b[0m \u001b[38;5;66;03m# check for numeric error\u001b[39;00m\n\u001b[0;32m      5\u001b[0m A_sym \u001b[38;5;241m@\u001b[39m x \u001b[38;5;241m-\u001b[39m b\n",
      "File \u001b[1;32m~\\anaconda3\\envs\\LinAlg\\Lib\\site-packages\\scipy\\linalg\\_basic.py:337\u001b[0m, in \u001b[0;36msolve\u001b[1;34m(a, b, lower, overwrite_a, overwrite_b, check_finite, assume_a, transposed)\u001b[0m\n\u001b[0;32m    332\u001b[0m     pocon, posv \u001b[38;5;241m=\u001b[39m get_lapack_funcs((\u001b[38;5;124m'\u001b[39m\u001b[38;5;124mpocon\u001b[39m\u001b[38;5;124m'\u001b[39m, \u001b[38;5;124m'\u001b[39m\u001b[38;5;124mposv\u001b[39m\u001b[38;5;124m'\u001b[39m),\n\u001b[0;32m    333\u001b[0m                                    (a1, b1))\n\u001b[0;32m    334\u001b[0m     lu, x, info \u001b[38;5;241m=\u001b[39m posv(a1, b1, lower\u001b[38;5;241m=\u001b[39mlower,\n\u001b[0;32m    335\u001b[0m                        overwrite_a\u001b[38;5;241m=\u001b[39moverwrite_a,\n\u001b[0;32m    336\u001b[0m                        overwrite_b\u001b[38;5;241m=\u001b[39moverwrite_b)\n\u001b[1;32m--> 337\u001b[0m     _solve_check(n, info)\n\u001b[0;32m    338\u001b[0m     rcond, info \u001b[38;5;241m=\u001b[39m pocon(lu, anorm)\n\u001b[0;32m    340\u001b[0m _solve_check(n, info, lamch, rcond)\n",
      "File \u001b[1;32m~\\anaconda3\\envs\\LinAlg\\Lib\\site-packages\\scipy\\linalg\\_basic.py:42\u001b[0m, in \u001b[0;36m_solve_check\u001b[1;34m(n, info, lamch, rcond)\u001b[0m\n\u001b[0;32m     40\u001b[0m     \u001b[38;5;28;01mraise\u001b[39;00m \u001b[38;5;167;01mValueError\u001b[39;00m(\u001b[38;5;124mf\u001b[39m\u001b[38;5;124m'\u001b[39m\u001b[38;5;124mLAPACK reported an illegal value in \u001b[39m\u001b[38;5;132;01m{\u001b[39;00m\u001b[38;5;241m-\u001b[39minfo\u001b[38;5;132;01m}\u001b[39;00m\u001b[38;5;124m-th argument.\u001b[39m\u001b[38;5;124m'\u001b[39m)\n\u001b[0;32m     41\u001b[0m \u001b[38;5;28;01melif\u001b[39;00m \u001b[38;5;241m0\u001b[39m \u001b[38;5;241m<\u001b[39m info:\n\u001b[1;32m---> 42\u001b[0m     \u001b[38;5;28;01mraise\u001b[39;00m LinAlgError(\u001b[38;5;124m'\u001b[39m\u001b[38;5;124mMatrix is singular.\u001b[39m\u001b[38;5;124m'\u001b[39m)\n\u001b[0;32m     44\u001b[0m \u001b[38;5;28;01mif\u001b[39;00m lamch \u001b[38;5;129;01mis\u001b[39;00m \u001b[38;5;28;01mNone\u001b[39;00m:\n\u001b[0;32m     45\u001b[0m     \u001b[38;5;28;01mreturn\u001b[39;00m\n",
      "\u001b[1;31mLinAlgError\u001b[0m: Matrix is singular."
     ]
    }
   ],
   "source": [
    "# \"pos\" # WRONG\n",
    "x = linalg.solve(A_sym, b, assume_a = \"pos\") \n",
    "\n",
    "# check for numeric error\n",
    "A_sym @ x - b"
   ]
  },
  {
   "cell_type": "markdown",
   "id": "22862953-cb62-4230-bc8d-fa89cfbf663b",
   "metadata": {},
   "source": [
    "Case 4. complex symmetric matrix"
   ]
  },
  {
   "cell_type": "code",
   "execution_count": 13,
   "id": "9e11f1cd-8ad1-4f35-b74b-0c71d6f5b2c1",
   "metadata": {},
   "outputs": [
    {
     "data": {
      "text/plain": [
       "array([0.00000000e+00+5.55111512e-17j, 2.22044605e-16+1.94289029e-16j,\n",
       "       0.00000000e+00+1.24900090e-16j])"
      ]
     },
     "execution_count": 13,
     "metadata": {},
     "output_type": "execute_result"
    }
   ],
   "source": [
    "# \"sym\"\n",
    "x = linalg.solve(A_sym_c, b, assume_a = \"sym\") \n",
    "\n",
    "# check for numeric error # very small! (, which is good)\n",
    "A_sym_c @ x - b"
   ]
  },
  {
   "cell_type": "code",
   "execution_count": 14,
   "id": "82351452-0c0f-4d22-bed3-c5764890dfb0",
   "metadata": {},
   "outputs": [
    {
     "data": {
      "text/plain": [
       "array([0.-5.55111512e-17j, 0.+0.00000000e+00j, 0.+0.00000000e+00j])"
      ]
     },
     "execution_count": 14,
     "metadata": {},
     "output_type": "execute_result"
    }
   ],
   "source": [
    "# \"gen\" # not ideal but ok\n",
    "x = linalg.solve(A_sym_c, b, assume_a = \"gen\") \n",
    "\n",
    "# check for numeric error # very small! (, which is good)\n",
    "A_sym_c @ x - b"
   ]
  },
  {
   "cell_type": "markdown",
   "id": "9b318e69-240b-416b-a9cc-76e6d0a406b5",
   "metadata": {},
   "source": [
    "Case 5. Hermitian matrix"
   ]
  },
  {
   "cell_type": "code",
   "execution_count": 15,
   "id": "62391d56-aaa7-4531-bb47-c2762351eafb",
   "metadata": {},
   "outputs": [
    {
     "data": {
      "text/plain": [
       "array([ 0.00000000e+00+0.00000000e+00j, -4.44089210e-16+1.94289029e-16j,\n",
       "        2.22044605e-16-1.66533454e-16j])"
      ]
     },
     "execution_count": 15,
     "metadata": {},
     "output_type": "execute_result"
    }
   ],
   "source": [
    "# \"her\"\n",
    "x = linalg.solve(A_her, b, assume_a = \"her\") \n",
    "\n",
    "# check for numeric error # very small! (, which is good)\n",
    "A_her @ x - b"
   ]
  },
  {
   "cell_type": "code",
   "execution_count": 16,
   "id": "a0159d7b-34a1-4780-8cc4-c4454277417d",
   "metadata": {},
   "outputs": [
    {
     "data": {
      "text/plain": [
       "array([0.-5.55111512e-17j, 0.+0.00000000e+00j, 0.+0.00000000e+00j])"
      ]
     },
     "execution_count": 16,
     "metadata": {},
     "output_type": "execute_result"
    }
   ],
   "source": [
    "# \"gen\" # not optimal but ok\n",
    "x = linalg.solve(A_her, b, assume_a = \"gen\") \n",
    "\n",
    "# check for numeric error # very small! (, which is good)\n",
    "A_her @ x - b"
   ]
  },
  {
   "cell_type": "markdown",
   "id": "8d68a98f-89f8-407a-a1c6-6fcf5516a353",
   "metadata": {},
   "source": [
    "Case 6. positive definite matrix"
   ]
  },
  {
   "cell_type": "code",
   "execution_count": 17,
   "id": "16c78d09-befb-4408-b1a0-e10d7b4e50ae",
   "metadata": {},
   "outputs": [
    {
     "data": {
      "text/plain": [
       "array([-8.88178420e-16,  1.55431223e-15, -4.44089210e-16])"
      ]
     },
     "execution_count": 17,
     "metadata": {},
     "output_type": "execute_result"
    }
   ],
   "source": [
    "# \"pos\"\n",
    "x = linalg.solve(A_pos, b, assume_a = \"pos\") \n",
    "\n",
    "# check for numeric error # very small! (, which is good)\n",
    "A_pos @ x - b"
   ]
  },
  {
   "cell_type": "code",
   "execution_count": 18,
   "id": "f17afc18-6ce3-4b43-b11e-cb54f88d951a",
   "metadata": {},
   "outputs": [
    {
     "data": {
      "text/plain": [
       "array([ 0.00000000e+00,  2.22044605e-16, -4.44089210e-16])"
      ]
     },
     "execution_count": 18,
     "metadata": {},
     "output_type": "execute_result"
    }
   ],
   "source": [
    "# \"gen\" # not ideal but ok\n",
    "x = linalg.solve(A_pos, b, assume_a = \"gen\") \n",
    "\n",
    "# check for numeric error # very small! (, which is good)\n",
    "A_pos @ x - b"
   ]
  },
  {
   "cell_type": "markdown",
   "id": "bc6f76bf-83cf-49ed-b279-6c2243e9d6a5",
   "metadata": {},
   "source": [
    "## 3.2 Triangular Matrix Solver"
   ]
  },
  {
   "cell_type": "markdown",
   "id": "e96a7309-d5de-4d6d-b2b5-021e3864dc7c",
   "metadata": {},
   "source": [
    "```python\n",
    "x = linalg.slove_triangular(A, b, lower = False)\n",
    "```\n",
    "\n",
    "* algorithm: backsubstitution\n",
    "* upper triangular is default\n",
    "* Lapack - trtrs"
   ]
  },
  {
   "cell_type": "markdown",
   "id": "5b3183d3-c160-4473-b7b7-46cae76b24f3",
   "metadata": {},
   "source": [
    "$$\n",
    "A = \n",
    "\\begin{bmatrix}\n",
    "1 & 0 & 0 & 0 \\\\\n",
    "1 & 4 & 0 & 0 \\\\\n",
    "5 & 0 & 1 & 0 \\\\\n",
    "8 & 1 & -2 & 2\n",
    "\\end{bmatrix}, \\quad\n",
    "b = \n",
    "\\begin{bmatrix}\n",
    "1 \\\\\n",
    "2 \\\\\n",
    "3 \\\\\n",
    "4\n",
    "\\end{bmatrix}\n",
    "$$"
   ]
  },
  {
   "cell_type": "code",
   "execution_count": 19,
   "id": "ee803fc9-54df-4998-b3fd-fafd91e84ac3",
   "metadata": {},
   "outputs": [],
   "source": [
    "# Define matrix A\n",
    "A = np.array([\n",
    "    [1, 0, 0, 0],\n",
    "    [1, 4, 0, 0],\n",
    "    [5, 0, 1, 0],\n",
    "    [8, 1, -2, 2]\n",
    "], dtype = np.float64)\n",
    "\n",
    "# Define vector b\n",
    "b = np.array([1, 2, 3, 4], dtype = np.float64)"
   ]
  },
  {
   "cell_type": "code",
   "execution_count": 20,
   "id": "017e0aa6-7901-4993-8e48-2131118da525",
   "metadata": {},
   "outputs": [],
   "source": [
    "x = linalg.solve_triangular(A, b, lower = True)"
   ]
  },
  {
   "cell_type": "code",
   "execution_count": 21,
   "id": "34777835-a133-457a-b2d1-dd13265d416c",
   "metadata": {},
   "outputs": [
    {
     "data": {
      "text/plain": [
       "array([0., 0., 0., 0.])"
      ]
     },
     "execution_count": 21,
     "metadata": {},
     "output_type": "execute_result"
    }
   ],
   "source": [
    "# check for numeric error # very small! (, which is good)\n",
    "A @ x - b"
   ]
  },
  {
   "cell_type": "markdown",
   "id": "c6df616d-1617-4ffc-a9b6-5ba34285746d",
   "metadata": {},
   "source": [
    "# 4. Systemic Way to Check for Numeric Accuracy"
   ]
  },
  {
   "cell_type": "markdown",
   "id": "2c88fd73-8f87-470d-a470-b2f74ff1e120",
   "metadata": {},
   "source": [
    "```python\n",
    "bool_close = np.allclose(A@x, b)\n",
    "bool_close = np.allclose(A@x - b, np.zeros(((b.shape[0],)))\n",
    "bool_close = np.allclose(A@x - b, np.zeros((b.size))\n",
    "```\n",
    "\n",
    "```np.allclose``` criteria:\n",
    "$$\n",
    "|x - y| \\leq \\left( \\varepsilon_1 + \\varepsilon_2 |y| \\right)\n",
    "$$\n",
    "\n",
    "- $\\varepsilon_1 = 10^{-8}$: absolute difference  \n",
    "- $\\varepsilon_2 = 10^{-5}$: relative difference"
   ]
  },
  {
   "cell_type": "markdown",
   "id": "356d7a82-73f0-4446-9bb2-93dbe1c17c07",
   "metadata": {},
   "source": [
    "$$\n",
    "A_{\\text{pos}} =\n",
    "\\begin{bmatrix}\n",
    "2 & -1 & 0 \\\\\n",
    "-1 & 2 & -1 \\\\\n",
    "0 & -1 & 2\n",
    "\\end{bmatrix}, \\quad\n",
    "\\mathbf{b} =\n",
    "\\begin{bmatrix}\n",
    "1 \\\\\n",
    "1 \\\\\n",
    "1\n",
    "\\end{bmatrix}\n",
    "$$"
   ]
  },
  {
   "cell_type": "code",
   "execution_count": 22,
   "id": "5f17a998-defd-4f88-a51d-667932864a21",
   "metadata": {},
   "outputs": [],
   "source": [
    "A = np.array([\n",
    "    [2, -1, 0],\n",
    "    [-1, 2, -1],\n",
    "    [0, -1, 2]\n",
    "])\n",
    "\n",
    "b = np.array([1, 1, 1])"
   ]
  },
  {
   "cell_type": "code",
   "execution_count": 23,
   "id": "e36cda35-1e2a-458f-8f9d-dbe5e1b99483",
   "metadata": {},
   "outputs": [],
   "source": [
    "x = linalg.solve(A, b, assume_a = \"pos\")"
   ]
  },
  {
   "cell_type": "markdown",
   "id": "f6671269-1ef9-41db-bf1a-86977130f84f",
   "metadata": {},
   "source": [
    "You can check the absolute difference manually"
   ]
  },
  {
   "cell_type": "code",
   "execution_count": 24,
   "id": "9670dba7-790d-47af-9703-de65abd301da",
   "metadata": {},
   "outputs": [
    {
     "data": {
      "text/plain": [
       "array([-8.88178420e-16,  1.55431223e-15, -4.44089210e-16])"
      ]
     },
     "execution_count": 24,
     "metadata": {},
     "output_type": "execute_result"
    }
   ],
   "source": [
    "A@x - b"
   ]
  },
  {
   "cell_type": "markdown",
   "id": "8a1e3e81-6074-48a2-b391-c11b10b9903d",
   "metadata": {},
   "source": [
    "Or you can use ```np.allclose```"
   ]
  },
  {
   "cell_type": "code",
   "execution_count": 25,
   "id": "0040f895-4bb7-4bde-a789-f78047a35bfb",
   "metadata": {},
   "outputs": [],
   "source": [
    "zr = np.zeros(3, dtype = np.float64)"
   ]
  },
  {
   "cell_type": "code",
   "execution_count": 26,
   "id": "804aaf19-3c78-49de-a6d5-f00f79d843ce",
   "metadata": {},
   "outputs": [
    {
     "name": "stdout",
     "output_type": "stream",
     "text": [
      "True\n"
     ]
    }
   ],
   "source": [
    "bool_close = np.allclose(A@x - b, zr)\n",
    "print(bool_close)"
   ]
  },
  {
   "cell_type": "markdown",
   "id": "f2203779-0072-4e63-9632-79291dcc8ef1",
   "metadata": {},
   "source": [
    "# Practice 1."
   ]
  },
  {
   "cell_type": "markdown",
   "id": "aab2ea38-5dd7-4ddb-be4d-74ab06f8674a",
   "metadata": {},
   "source": [
    "$$\n",
    "A =\n",
    "\\begin{bmatrix}\n",
    "1 & \\frac{1}{2} & \\frac{1}{3} & \\cdots & \\frac{1}{9} & \\frac{1}{10} \\\\\n",
    "\\frac{1}{2} & \\frac{1}{3} & \\frac{1}{4} & \\cdots & \\frac{1}{10} & \\frac{1}{11} \\\\\n",
    "\\frac{1}{3} & \\frac{1}{4} & \\frac{1}{5} & \\cdots & \\frac{1}{11} & \\frac{1}{12} \\\\\n",
    "\\vdots & \\vdots & \\vdots & \\ddots & \\vdots & \\vdots \\\\\n",
    "\\frac{1}{9} & \\frac{1}{10} & \\frac{1}{11} & \\cdots & \\frac{1}{17} & \\frac{1}{18} \\\\\n",
    "\\frac{1}{10} & \\frac{1}{11} & \\frac{1}{12} & \\cdots & \\frac{1}{18} & \\frac{1}{19}\n",
    "\\end{bmatrix}\n",
    "$$"
   ]
  },
  {
   "cell_type": "markdown",
   "id": "d67dd92c-9f36-42cd-beee-2776351171e3",
   "metadata": {},
   "source": [
    "You can create 10 x 10 Hilbert matrix with ```linalg.hilbert(10)```\n",
    "\n",
    "1. Define A\n",
    "2. Compute inv_A\n",
    "3. x1 = inv_A @ b (b is size 10 random vector)\n",
    "4. x2 with ```linalg.solve``` (gen)\n",
    "5. A@x1 - b\n",
    "6. A@x2 - b\n",
    "7. A@x1 - b, A@x2 - b $\\rightarrow$ compare them with zero vectors with ```np.allclose```\n",
    "\n",
    "(Hilbert matrices are known to be difficult to solve using numerical methods - \"ill-conditioned\")"
   ]
  },
  {
   "cell_type": "code",
   "execution_count": 27,
   "id": "b7a51c79-3bed-4ca5-b287-537cce18640e",
   "metadata": {},
   "outputs": [],
   "source": [
    "A = linalg.hilbert(10)\n",
    "b = np.random.rand(10)"
   ]
  },
  {
   "cell_type": "code",
   "execution_count": 28,
   "id": "5cd45328-7fef-4881-ab1a-bfe76e100103",
   "metadata": {},
   "outputs": [],
   "source": [
    "inv_A = linalg.inv(A)"
   ]
  },
  {
   "cell_type": "code",
   "execution_count": 29,
   "id": "d34ec1ea-ec15-4067-8a97-f50d2f7068d3",
   "metadata": {},
   "outputs": [],
   "source": [
    "x1 = inv_A @ b\n",
    "x2 = linalg.solve(A, b, assume_a = \"gen\")"
   ]
  },
  {
   "cell_type": "code",
   "execution_count": 30,
   "id": "ba9e7dbc-c6f5-4350-8751-2cf65bb3abe6",
   "metadata": {},
   "outputs": [
    {
     "data": {
      "text/plain": [
       "array([ 7.82620030e-05,  5.36797948e-06, -3.64331512e-05, -5.32287173e-05,\n",
       "       -9.73738462e-05, -9.68858811e-05, -9.63069908e-05, -8.60768432e-05,\n",
       "       -6.34982371e-05, -7.19347468e-05])"
      ]
     },
     "execution_count": 30,
     "metadata": {},
     "output_type": "execute_result"
    }
   ],
   "source": [
    "A@x1 - b"
   ]
  },
  {
   "cell_type": "code",
   "execution_count": 31,
   "id": "7ba7c347-95e6-4aa7-b36a-96d8239be92b",
   "metadata": {},
   "outputs": [
    {
     "data": {
      "text/plain": [
       "array([-3.61789150e-05,  5.36797948e-06,  2.46020050e-05,  7.80643890e-06,\n",
       "       -9.63580906e-06, -1.29625412e-05, -1.61983482e-05, -2.15350337e-06,\n",
       "       -1.39071726e-05, -7.08489325e-06])"
      ]
     },
     "execution_count": 31,
     "metadata": {},
     "output_type": "execute_result"
    }
   ],
   "source": [
    "A@x2 - b"
   ]
  },
  {
   "cell_type": "code",
   "execution_count": 32,
   "id": "ef538bfe-5b53-42fa-995d-09bbb78413ab",
   "metadata": {},
   "outputs": [
    {
     "data": {
      "text/plain": [
       "False"
      ]
     },
     "execution_count": 32,
     "metadata": {},
     "output_type": "execute_result"
    }
   ],
   "source": [
    "np.allclose(A@x1 - b, A@x2 - b) # False!"
   ]
  }
 ],
 "metadata": {
  "kernelspec": {
   "display_name": "Python 3 (ipykernel)",
   "language": "python",
   "name": "python3"
  },
  "language_info": {
   "codemirror_mode": {
    "name": "ipython",
    "version": 3
   },
   "file_extension": ".py",
   "mimetype": "text/x-python",
   "name": "python",
   "nbconvert_exporter": "python",
   "pygments_lexer": "ipython3",
   "version": "3.11.11"
  }
 },
 "nbformat": 4,
 "nbformat_minor": 5
}
